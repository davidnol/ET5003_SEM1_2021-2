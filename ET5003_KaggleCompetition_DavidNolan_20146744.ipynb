{
  "nbformat": 4,
  "nbformat_minor": 0,
  "metadata": {
    "colab": {
      "name": "ET5003_KaggleCompetition_DavidNolan_20146744.ipynb",
      "provenance": [],
      "collapsed_sections": [],
      "include_colab_link": true
    },
    "kernelspec": {
      "name": "python3",
      "display_name": "Python 3"
    },
    "language_info": {
      "name": "python"
    }
  },
  "cells": [
    {
      "cell_type": "markdown",
      "metadata": {
        "id": "view-in-github",
        "colab_type": "text"
      },
      "source": [
        "<a href=\"https://colab.research.google.com/github/davidnol/ET5003_SEM1_2021-2/blob/main/ET5003_KaggleCompetition_DavidNolan_20146744.ipynb\" target=\"_parent\"><img src=\"https://colab.research.google.com/assets/colab-badge.svg\" alt=\"Open In Colab\"/></a>"
      ]
    },
    {
      "cell_type": "markdown",
      "metadata": {
        "id": "930vlW5BrOtq"
      },
      "source": [
        "<div>\n",
        "<img src=\"https://drive.google.com/uc?export=view&id=1vK33e_EqaHgBHcbRV_m38hx6IkG0blK_\" width=\"350\"/>\n",
        "</div> \n",
        "\n",
        "#**Artificial Intelligence - MSc**\n",
        "##ET5003 - MACHINE LEARNING APPLICATIONS \n",
        "\n",
        "###Instructor: Enrique Naredo\n",
        "###ET5003_KaggleCompetition"
      ]
    },
    {
      "cell_type": "code",
      "metadata": {
        "id": "LqXD_IwUQuBF",
        "cellView": "form"
      },
      "source": [
        "#@title Current Date\n",
        "Today = '2021-10-05' #@param {type:\"date\"}\n"
      ],
      "execution_count": 1,
      "outputs": []
    },
    {
      "cell_type": "markdown",
      "metadata": {
        "id": "_A0Z6S-r6DpA"
      },
      "source": [
        "# INTRODUCTION"
      ]
    },
    {
      "cell_type": "markdown",
      "metadata": {
        "id": "d2vlkUAJ7Pz7"
      },
      "source": [
        "Your introduction here."
      ]
    },
    {
      "cell_type": "markdown",
      "metadata": {
        "id": "aajlS0WCJ8pm"
      },
      "source": [
        "***The goal is to use advanced Machine Learning methods to predict House price.***"
      ]
    },
    {
      "cell_type": "markdown",
      "metadata": {
        "id": "Wg7VCbX77eAA"
      },
      "source": [
        "## Imports"
      ]
    },
    {
      "cell_type": "code",
      "metadata": {
        "id": "iFFLThrpwibd"
      },
      "source": [
        "# Suppressing Warnings:\n",
        "import warnings\n",
        "warnings.filterwarnings(\"ignore\")"
      ],
      "execution_count": 2,
      "outputs": []
    },
    {
      "cell_type": "code",
      "metadata": {
        "id": "k96-GLUGE2ux"
      },
      "source": [
        "# standard libraries\n",
        "import pandas as pd\n",
        "import numpy as np\n",
        "import matplotlib.pyplot as plt\n",
        "%matplotlib inline"
      ],
      "execution_count": 3,
      "outputs": []
    },
    {
      "cell_type": "code",
      "metadata": {
        "id": "sYPJU_Y6O6Dq"
      },
      "source": [
        "# to plot\n",
        "import matplotlib.colors\n",
        "from mpl_toolkits.mplot3d import Axes3D\n",
        "\n",
        "# to generate classification, regression and clustering datasets\n",
        "import sklearn.datasets as dt\n",
        "\n",
        "# to create data frames\n",
        "from pandas import DataFrame\n",
        "\n",
        "# to generate data from an existing dataset\n",
        "from sklearn.neighbors import KernelDensity\n",
        "from sklearn.model_selection import GridSearchCV"
      ],
      "execution_count": 4,
      "outputs": []
    },
    {
      "cell_type": "code",
      "metadata": {
        "id": "mxMYIOx1FONV"
      },
      "source": [
        "# Scikit-learn is an open source machine learning library \n",
        "# that supports supervised and unsupervised learning\n",
        "# https://scikit-learn.org/stable/\n",
        "from sklearn.model_selection import train_test_split\n",
        "from sklearn.feature_extraction.text import CountVectorizer\n",
        "from sklearn.naive_bayes import MultinomialNB\n",
        "from sklearn.metrics import accuracy_score, confusion_matrix\n",
        "from sklearn.feature_extraction.text import TfidfVectorizer"
      ],
      "execution_count": 5,
      "outputs": []
    },
    {
      "cell_type": "code",
      "metadata": {
        "id": "YLlFHWx4j7W6"
      },
      "source": [
        "# Regular expression operations\n",
        "#https://docs.python.org/3/library/re.html\n",
        "import re \n",
        "\n",
        "# Natural Language Toolkit\n",
        "# https://www.nltk.org/install.html\n",
        "import nltk\n",
        "\n",
        "# Stemming maps different forms of the same word to a common “stem” \n",
        "# https://pypi.org/project/snowballstemmer/\n",
        "from nltk.stem import SnowballStemmer\n",
        "\n",
        "# https://www.nltk.org/book/ch02.html\n",
        "from nltk.corpus import stopwords\n",
        "\n",
        "# https://scikit-learn.org/stable/modules/generated/sklearn.preprocessing.StandardScaler.html\n",
        "from sklearn.preprocessing import StandardScaler"
      ],
      "execution_count": 6,
      "outputs": []
    },
    {
      "cell_type": "code",
      "metadata": {
        "colab": {
          "base_uri": "https://localhost:8080/"
        },
        "id": "5cfDHD9BXh0s",
        "outputId": "d1f4e0c1-9898-46d8-bcf7-59477eb9e6fa"
      },
      "source": [
        "!pip install gpy"
      ],
      "execution_count": 7,
      "outputs": [
        {
          "output_type": "stream",
          "name": "stdout",
          "text": [
            "Requirement already satisfied: gpy in /usr/local/lib/python3.7/dist-packages (1.10.0)\n",
            "Requirement already satisfied: cython>=0.29 in /usr/local/lib/python3.7/dist-packages (from gpy) (0.29.24)\n",
            "Requirement already satisfied: paramz>=0.9.0 in /usr/local/lib/python3.7/dist-packages (from gpy) (0.9.5)\n",
            "Requirement already satisfied: numpy>=1.7 in /usr/local/lib/python3.7/dist-packages (from gpy) (1.19.5)\n",
            "Requirement already satisfied: six in /usr/local/lib/python3.7/dist-packages (from gpy) (1.15.0)\n",
            "Requirement already satisfied: scipy>=1.3.0 in /usr/local/lib/python3.7/dist-packages (from gpy) (1.4.1)\n",
            "Requirement already satisfied: decorator>=4.0.10 in /usr/local/lib/python3.7/dist-packages (from paramz>=0.9.0->gpy) (4.4.2)\n"
          ]
        }
      ]
    },
    {
      "cell_type": "code",
      "metadata": {
        "id": "SwGh2bagw4kg"
      },
      "source": [
        "import GPy as GPy\n",
        "import numpy as np\n",
        "import pylab as pb\n",
        "import pymc3 as pm\n",
        "import arviz as az\n",
        "import seaborn as sns\n",
        "from scipy import stats\n",
        "from imblearn.combine import SMOTETomek "
      ],
      "execution_count": 8,
      "outputs": []
    },
    {
      "cell_type": "code",
      "metadata": {
        "id": "6MUJdlxSPSMM"
      },
      "source": [
        "# Define the seed so that results can be reproduced\n",
        "seed = 11\n",
        "rand_state = 11\n",
        "\n",
        "# Define the color maps for plots\n",
        "color_map = plt.cm.get_cmap('RdYlBu')\n",
        "color_map_discrete = matplotlib.colors.LinearSegmentedColormap.from_list(\"\", [\"red\",\"cyan\",\"magenta\",\"blue\"])"
      ],
      "execution_count": 9,
      "outputs": []
    },
    {
      "cell_type": "markdown",
      "metadata": {
        "id": "WL91ShB19RPw"
      },
      "source": [
        "# DATASET"
      ]
    },
    {
      "cell_type": "markdown",
      "metadata": {
        "id": "ESg5DGKWJSOf"
      },
      "source": [
        "Extract from this [paper](https://ieeexplore.ieee.org/document/9300074):\n",
        "\n",
        "* House prices are a significant impression of the economy, and its value ranges are of great concerns for the clients and property dealers. \n",
        "\n",
        "* Housing price escalate every year that eventually reinforced the need of strategy or technique that could predict house prices in future. \n",
        "\n",
        "* There are certain factors that influence house prices including physical conditions, locations, number of bedrooms and others.\n"
      ]
    },
    {
      "cell_type": "markdown",
      "metadata": {
        "id": "a8Y2pf50FlYL"
      },
      "source": [
        "1. [Download the dataset](https://github.com/UL-CS6134/CS6134_SEM1_2021-2/tree/main/Week-5). \n",
        "\n",
        "2. Upload the dataset into your folder.\n",
        "\n"
      ]
    },
    {
      "cell_type": "markdown",
      "metadata": {
        "id": "FMkdCQEmKTof"
      },
      "source": [
        "The challenge is to predict the final price of each house."
      ]
    },
    {
      "cell_type": "code",
      "metadata": {
        "colab": {
          "base_uri": "https://localhost:8080/"
        },
        "id": "1j9eMIK1iZYV",
        "outputId": "5dec9604-6171-4f5f-c898-aa31763dff81"
      },
      "source": [
        "RunningInCOLAB = 'google.colab' in str(get_ipython())\n",
        "\n",
        "if RunningInCOLAB:\n",
        "    from google.colab import drive\n",
        "    drive.mount('/content/drive')\n",
        "    \n",
        "    # Path, copy the path from your Drive\n",
        "    Path = '/content/drive/MyDrive/Colab Notebooks/DavidNolan/'\n",
        "    \n",
        "else:\n",
        "    Path = \"./Data/\"\n",
        "\n",
        "# House price data from csv files\n",
        "train_data = Path + 'HousePrice_Train.csv'\n",
        "test_data = Path + 'HousePrice_Test.csv'\n",
        "\n",
        "df_train = pd.read_csv(train_data)\n",
        "print(\"Training data {}\".format(df_train.shape))\n",
        "\n",
        "# Test data\n",
        "df_test = pd.read_csv(test_data)\n",
        "print(\"Test data {}\".format(df_test.shape))"
      ],
      "execution_count": 10,
      "outputs": [
        {
          "output_type": "stream",
          "name": "stdout",
          "text": [
            "Drive already mounted at /content/drive; to attempt to forcibly remount, call drive.mount(\"/content/drive\", force_remount=True).\n",
            "Training data (1638, 14)\n",
            "Test data (702, 13)\n"
          ]
        }
      ]
    },
    {
      "cell_type": "code",
      "metadata": {
        "colab": {
          "base_uri": "https://localhost:8080/",
          "height": 391
        },
        "id": "hiDsmbXqr1L4",
        "outputId": "eac665c3-85cc-4444-ec9b-512d96e9341f"
      },
      "source": [
        "df_train.head()"
      ],
      "execution_count": 11,
      "outputs": [
        {
          "output_type": "execute_result",
          "data": {
            "text/html": [
              "<div>\n",
              "<style scoped>\n",
              "    .dataframe tbody tr th:only-of-type {\n",
              "        vertical-align: middle;\n",
              "    }\n",
              "\n",
              "    .dataframe tbody tr th {\n",
              "        vertical-align: top;\n",
              "    }\n",
              "\n",
              "    .dataframe thead th {\n",
              "        text-align: right;\n",
              "    }\n",
              "</style>\n",
              "<table border=\"1\" class=\"dataframe\">\n",
              "  <thead>\n",
              "    <tr style=\"text-align: right;\">\n",
              "      <th></th>\n",
              "      <th>Index</th>\n",
              "      <th>ID</th>\n",
              "      <th>Location</th>\n",
              "      <th>Num_Bathrooms</th>\n",
              "      <th>Num_Beds</th>\n",
              "      <th>BER_class</th>\n",
              "      <th>Description</th>\n",
              "      <th>Services</th>\n",
              "      <th>Features</th>\n",
              "      <th>Latitude</th>\n",
              "      <th>Longitude</th>\n",
              "      <th>Type</th>\n",
              "      <th>Surface</th>\n",
              "      <th>Price</th>\n",
              "    </tr>\n",
              "  </thead>\n",
              "  <tbody>\n",
              "    <tr>\n",
              "      <th>0</th>\n",
              "      <td>1</td>\n",
              "      <td>12409116</td>\n",
              "      <td>Ongar</td>\n",
              "      <td>2</td>\n",
              "      <td>2</td>\n",
              "      <td>C3</td>\n",
              "      <td>DNG are delighted to present to the market no....</td>\n",
              "      <td>NaN</td>\n",
              "      <td>None</td>\n",
              "      <td>53.396659</td>\n",
              "      <td>-6.438791</td>\n",
              "      <td>apartment</td>\n",
              "      <td>67.00</td>\n",
              "      <td>195000</td>\n",
              "    </tr>\n",
              "    <tr>\n",
              "      <th>1</th>\n",
              "      <td>2</td>\n",
              "      <td>12320330</td>\n",
              "      <td>North Strand</td>\n",
              "      <td>1</td>\n",
              "      <td>2</td>\n",
              "      <td>D1</td>\n",
              "      <td>13 Northbrook Terrace is a charming red brick ...</td>\n",
              "      <td>NaN</td>\n",
              "      <td>Bight and Spacious interior\\nNumerous original...</td>\n",
              "      <td>53.357129</td>\n",
              "      <td>-6.239779</td>\n",
              "      <td>terraced</td>\n",
              "      <td>95.97</td>\n",
              "      <td>425000</td>\n",
              "    </tr>\n",
              "    <tr>\n",
              "      <th>2</th>\n",
              "      <td>3</td>\n",
              "      <td>12405953</td>\n",
              "      <td>Stepaside</td>\n",
              "      <td>3</td>\n",
              "      <td>3</td>\n",
              "      <td>A3</td>\n",
              "      <td>Welcome to No. 6 Cotter Close, an immaculately...</td>\n",
              "      <td>NaN</td>\n",
              "      <td>Special Features\\nLarge rear garden\\nGenerous ...</td>\n",
              "      <td>53.266468</td>\n",
              "      <td>-6.222771</td>\n",
              "      <td>semi-detached</td>\n",
              "      <td>107.00</td>\n",
              "      <td>535000</td>\n",
              "    </tr>\n",
              "    <tr>\n",
              "      <th>3</th>\n",
              "      <td>4</td>\n",
              "      <td>12202582</td>\n",
              "      <td>Cabinteely</td>\n",
              "      <td>1</td>\n",
              "      <td>3</td>\n",
              "      <td>E1</td>\n",
              "      <td>Welcome to 3 Sycamore Walk!\\n\\r\\nEnjoying a pr...</td>\n",
              "      <td>NaN</td>\n",
              "      <td>Wonderful 3 bed detached bungalow.     \\nAccom...</td>\n",
              "      <td>53.261600</td>\n",
              "      <td>-6.166738</td>\n",
              "      <td>detached</td>\n",
              "      <td>81.00</td>\n",
              "      <td>499000</td>\n",
              "    </tr>\n",
              "    <tr>\n",
              "      <th>4</th>\n",
              "      <td>5</td>\n",
              "      <td>12299336</td>\n",
              "      <td>Lusk</td>\n",
              "      <td>3</td>\n",
              "      <td>4</td>\n",
              "      <td>D1</td>\n",
              "      <td>'Four Seasons' comes to the market as a wonder...</td>\n",
              "      <td>NaN</td>\n",
              "      <td>Detached Property      \\nDouble Glazed Windows...</td>\n",
              "      <td>53.550731</td>\n",
              "      <td>-6.121415</td>\n",
              "      <td>detached</td>\n",
              "      <td>153.00</td>\n",
              "      <td>510000</td>\n",
              "    </tr>\n",
              "  </tbody>\n",
              "</table>\n",
              "</div>"
            ],
            "text/plain": [
              "   Index        ID      Location  ...           Type  Surface   Price\n",
              "0      1  12409116         Ongar  ...      apartment    67.00  195000\n",
              "1      2  12320330  North Strand  ...       terraced    95.97  425000\n",
              "2      3  12405953     Stepaside  ...  semi-detached   107.00  535000\n",
              "3      4  12202582    Cabinteely  ...       detached    81.00  499000\n",
              "4      5  12299336          Lusk  ...       detached   153.00  510000\n",
              "\n",
              "[5 rows x 14 columns]"
            ]
          },
          "metadata": {},
          "execution_count": 11
        }
      ]
    },
    {
      "cell_type": "code",
      "metadata": {
        "colab": {
          "base_uri": "https://localhost:8080/",
          "height": 530
        },
        "id": "4eYNLp7Sr1dF",
        "outputId": "e38b2fb3-58ee-4de5-cf2c-89593be4dbc6"
      },
      "source": [
        "df_train.tail()"
      ],
      "execution_count": 12,
      "outputs": [
        {
          "output_type": "execute_result",
          "data": {
            "text/html": [
              "<div>\n",
              "<style scoped>\n",
              "    .dataframe tbody tr th:only-of-type {\n",
              "        vertical-align: middle;\n",
              "    }\n",
              "\n",
              "    .dataframe tbody tr th {\n",
              "        vertical-align: top;\n",
              "    }\n",
              "\n",
              "    .dataframe thead th {\n",
              "        text-align: right;\n",
              "    }\n",
              "</style>\n",
              "<table border=\"1\" class=\"dataframe\">\n",
              "  <thead>\n",
              "    <tr style=\"text-align: right;\">\n",
              "      <th></th>\n",
              "      <th>Index</th>\n",
              "      <th>ID</th>\n",
              "      <th>Location</th>\n",
              "      <th>Num_Bathrooms</th>\n",
              "      <th>Num_Beds</th>\n",
              "      <th>BER_class</th>\n",
              "      <th>Description</th>\n",
              "      <th>Services</th>\n",
              "      <th>Features</th>\n",
              "      <th>Latitude</th>\n",
              "      <th>Longitude</th>\n",
              "      <th>Type</th>\n",
              "      <th>Surface</th>\n",
              "      <th>Price</th>\n",
              "    </tr>\n",
              "  </thead>\n",
              "  <tbody>\n",
              "    <tr>\n",
              "      <th>1633</th>\n",
              "      <td>1634</td>\n",
              "      <td>12424903</td>\n",
              "      <td>Blackrock</td>\n",
              "      <td>1</td>\n",
              "      <td>2</td>\n",
              "      <td>C2</td>\n",
              "      <td>Built in c.1930 38 Stradbrook Road is a deligh...</td>\n",
              "      <td>Parking,Gas Fired Central Heating,Alarm,Wheelc...</td>\n",
              "      <td>Extremely convenient location \\nWheelchair acc...</td>\n",
              "      <td>53.292767</td>\n",
              "      <td>-6.166668</td>\n",
              "      <td>bungalow</td>\n",
              "      <td>64.00</td>\n",
              "      <td>500000</td>\n",
              "    </tr>\n",
              "    <tr>\n",
              "      <th>1634</th>\n",
              "      <td>1635</td>\n",
              "      <td>12383142</td>\n",
              "      <td>Blackrock</td>\n",
              "      <td>3</td>\n",
              "      <td>5</td>\n",
              "      <td>C1</td>\n",
              "      <td>An impressive three-story family home superbly...</td>\n",
              "      <td>NaN</td>\n",
              "      <td>Gas fired central heating with underfloor heat...</td>\n",
              "      <td>53.284975</td>\n",
              "      <td>-6.178685</td>\n",
              "      <td>detached</td>\n",
              "      <td>175.96</td>\n",
              "      <td>795000</td>\n",
              "    </tr>\n",
              "    <tr>\n",
              "      <th>1635</th>\n",
              "      <td>1636</td>\n",
              "      <td>12426975</td>\n",
              "      <td>Lucan</td>\n",
              "      <td>2</td>\n",
              "      <td>3</td>\n",
              "      <td>A3</td>\n",
              "      <td>DNG Lucan's leading estate agents are delighte...</td>\n",
              "      <td>NaN</td>\n",
              "      <td>None</td>\n",
              "      <td>53.351667</td>\n",
              "      <td>-6.435278</td>\n",
              "      <td>semi-detached</td>\n",
              "      <td>98.00</td>\n",
              "      <td>340000</td>\n",
              "    </tr>\n",
              "    <tr>\n",
              "      <th>1636</th>\n",
              "      <td>1637</td>\n",
              "      <td>12198921</td>\n",
              "      <td>Sandymount</td>\n",
              "      <td>8</td>\n",
              "      <td>8</td>\n",
              "      <td>D2</td>\n",
              "      <td>Holyrood Castle is a most distinctive 19th cen...</td>\n",
              "      <td>NaN</td>\n",
              "      <td>None</td>\n",
              "      <td>53.328997</td>\n",
              "      <td>-6.221030</td>\n",
              "      <td>detached</td>\n",
              "      <td>507.00</td>\n",
              "      <td>2500000</td>\n",
              "    </tr>\n",
              "    <tr>\n",
              "      <th>1637</th>\n",
              "      <td>1638</td>\n",
              "      <td>12314237</td>\n",
              "      <td>Shankill</td>\n",
              "      <td>2</td>\n",
              "      <td>2</td>\n",
              "      <td>E1</td>\n",
              "      <td>A superb opportunity awaits to acquire this be...</td>\n",
              "      <td>NaN</td>\n",
              "      <td>Turn key condition\\nWood burning stove\\nSlider...</td>\n",
              "      <td>53.231438</td>\n",
              "      <td>-6.125022</td>\n",
              "      <td>semi-detached</td>\n",
              "      <td>50.00</td>\n",
              "      <td>370000</td>\n",
              "    </tr>\n",
              "  </tbody>\n",
              "</table>\n",
              "</div>"
            ],
            "text/plain": [
              "      Index        ID    Location  ...           Type  Surface    Price\n",
              "1633   1634  12424903   Blackrock  ...       bungalow    64.00   500000\n",
              "1634   1635  12383142   Blackrock  ...       detached   175.96   795000\n",
              "1635   1636  12426975       Lucan  ...  semi-detached    98.00   340000\n",
              "1636   1637  12198921  Sandymount  ...       detached   507.00  2500000\n",
              "1637   1638  12314237    Shankill  ...  semi-detached    50.00   370000\n",
              "\n",
              "[5 rows x 14 columns]"
            ]
          },
          "metadata": {},
          "execution_count": 12
        }
      ]
    },
    {
      "cell_type": "code",
      "metadata": {
        "colab": {
          "base_uri": "https://localhost:8080/",
          "height": 297
        },
        "id": "VDonr4RPr1hk",
        "outputId": "a3390b47-d79c-4350-df25-da516bb7e240"
      },
      "source": [
        "df_train.describe()"
      ],
      "execution_count": 13,
      "outputs": [
        {
          "output_type": "execute_result",
          "data": {
            "text/html": [
              "<div>\n",
              "<style scoped>\n",
              "    .dataframe tbody tr th:only-of-type {\n",
              "        vertical-align: middle;\n",
              "    }\n",
              "\n",
              "    .dataframe tbody tr th {\n",
              "        vertical-align: top;\n",
              "    }\n",
              "\n",
              "    .dataframe thead th {\n",
              "        text-align: right;\n",
              "    }\n",
              "</style>\n",
              "<table border=\"1\" class=\"dataframe\">\n",
              "  <thead>\n",
              "    <tr style=\"text-align: right;\">\n",
              "      <th></th>\n",
              "      <th>Index</th>\n",
              "      <th>ID</th>\n",
              "      <th>Num_Bathrooms</th>\n",
              "      <th>Num_Beds</th>\n",
              "      <th>Latitude</th>\n",
              "      <th>Longitude</th>\n",
              "      <th>Surface</th>\n",
              "      <th>Price</th>\n",
              "    </tr>\n",
              "  </thead>\n",
              "  <tbody>\n",
              "    <tr>\n",
              "      <th>count</th>\n",
              "      <td>1638.000000</td>\n",
              "      <td>1.638000e+03</td>\n",
              "      <td>1638.000000</td>\n",
              "      <td>1638.000000</td>\n",
              "      <td>1638.000000</td>\n",
              "      <td>1638.000000</td>\n",
              "      <td>1638.000000</td>\n",
              "      <td>1.638000e+03</td>\n",
              "    </tr>\n",
              "    <tr>\n",
              "      <th>mean</th>\n",
              "      <td>819.500000</td>\n",
              "      <td>1.231930e+07</td>\n",
              "      <td>2.054335</td>\n",
              "      <td>3.043346</td>\n",
              "      <td>53.350473</td>\n",
              "      <td>-6.255086</td>\n",
              "      <td>169.540695</td>\n",
              "      <td>5.547196e+05</td>\n",
              "    </tr>\n",
              "    <tr>\n",
              "      <th>std</th>\n",
              "      <td>472.994186</td>\n",
              "      <td>1.447540e+05</td>\n",
              "      <td>1.241259</td>\n",
              "      <td>1.379650</td>\n",
              "      <td>0.076832</td>\n",
              "      <td>0.144430</td>\n",
              "      <td>1791.793934</td>\n",
              "      <td>5.652032e+05</td>\n",
              "    </tr>\n",
              "    <tr>\n",
              "      <th>min</th>\n",
              "      <td>1.000000</td>\n",
              "      <td>1.118567e+07</td>\n",
              "      <td>1.000000</td>\n",
              "      <td>1.000000</td>\n",
              "      <td>52.501856</td>\n",
              "      <td>-6.497000</td>\n",
              "      <td>3.400000</td>\n",
              "      <td>1.999500e+04</td>\n",
              "    </tr>\n",
              "    <tr>\n",
              "      <th>25%</th>\n",
              "      <td>410.250000</td>\n",
              "      <td>1.228104e+07</td>\n",
              "      <td>1.000000</td>\n",
              "      <td>2.000000</td>\n",
              "      <td>53.294261</td>\n",
              "      <td>-6.309613</td>\n",
              "      <td>73.000000</td>\n",
              "      <td>2.950000e+05</td>\n",
              "    </tr>\n",
              "    <tr>\n",
              "      <th>50%</th>\n",
              "      <td>819.500000</td>\n",
              "      <td>1.238055e+07</td>\n",
              "      <td>2.000000</td>\n",
              "      <td>3.000000</td>\n",
              "      <td>53.341386</td>\n",
              "      <td>-6.247780</td>\n",
              "      <td>97.050000</td>\n",
              "      <td>3.950000e+05</td>\n",
              "    </tr>\n",
              "    <tr>\n",
              "      <th>75%</th>\n",
              "      <td>1228.750000</td>\n",
              "      <td>1.240548e+07</td>\n",
              "      <td>3.000000</td>\n",
              "      <td>4.000000</td>\n",
              "      <td>53.382031</td>\n",
              "      <td>-6.193982</td>\n",
              "      <td>135.000000</td>\n",
              "      <td>5.950000e+05</td>\n",
              "    </tr>\n",
              "    <tr>\n",
              "      <th>max</th>\n",
              "      <td>1638.000000</td>\n",
              "      <td>1.242836e+07</td>\n",
              "      <td>18.000000</td>\n",
              "      <td>27.000000</td>\n",
              "      <td>53.630588</td>\n",
              "      <td>-1.744995</td>\n",
              "      <td>72236.387140</td>\n",
              "      <td>8.900000e+06</td>\n",
              "    </tr>\n",
              "  </tbody>\n",
              "</table>\n",
              "</div>"
            ],
            "text/plain": [
              "             Index            ID  ...       Surface         Price\n",
              "count  1638.000000  1.638000e+03  ...   1638.000000  1.638000e+03\n",
              "mean    819.500000  1.231930e+07  ...    169.540695  5.547196e+05\n",
              "std     472.994186  1.447540e+05  ...   1791.793934  5.652032e+05\n",
              "min       1.000000  1.118567e+07  ...      3.400000  1.999500e+04\n",
              "25%     410.250000  1.228104e+07  ...     73.000000  2.950000e+05\n",
              "50%     819.500000  1.238055e+07  ...     97.050000  3.950000e+05\n",
              "75%    1228.750000  1.240548e+07  ...    135.000000  5.950000e+05\n",
              "max    1638.000000  1.242836e+07  ...  72236.387140  8.900000e+06\n",
              "\n",
              "[8 rows x 8 columns]"
            ]
          },
          "metadata": {},
          "execution_count": 13
        }
      ]
    },
    {
      "cell_type": "code",
      "metadata": {
        "colab": {
          "base_uri": "https://localhost:8080/"
        },
        "id": "Pxdir8Tbv7ko",
        "outputId": "cf7c0009-e523-4e1a-c101-3f99afb0097b"
      },
      "source": [
        "# Find the number of nulls/NaNs in the dataset as a percentage to see if any columns need to be considered for removal\n",
        "print(\"Read of missing values as percentage of data set\")\n",
        "df_train.isna().sum()*100/len(df_train)"
      ],
      "execution_count": 14,
      "outputs": [
        {
          "output_type": "stream",
          "name": "stdout",
          "text": [
            "Read of missing values as percentage of data set\n"
          ]
        },
        {
          "output_type": "execute_result",
          "data": {
            "text/plain": [
              "Index             0.000000\n",
              "ID                0.000000\n",
              "Location          0.000000\n",
              "Num_Bathrooms     0.000000\n",
              "Num_Beds          0.000000\n",
              "BER_class        15.323565\n",
              "Description       0.000000\n",
              "Services         64.774115\n",
              "Features          0.000000\n",
              "Latitude          0.000000\n",
              "Longitude         0.000000\n",
              "Type              0.000000\n",
              "Surface           0.000000\n",
              "Price             0.000000\n",
              "dtype: float64"
            ]
          },
          "metadata": {},
          "execution_count": 14
        }
      ]
    },
    {
      "cell_type": "code",
      "metadata": {
        "colab": {
          "base_uri": "https://localhost:8080/"
        },
        "id": "3ju-AFfJr1l7",
        "outputId": "a56c44cd-8843-40e0-d2f1-5f49b895ce2d"
      },
      "source": [
        "# Look for missing values\n",
        "df_train.isna().sum()"
      ],
      "execution_count": 15,
      "outputs": [
        {
          "output_type": "execute_result",
          "data": {
            "text/plain": [
              "Index               0\n",
              "ID                  0\n",
              "Location            0\n",
              "Num_Bathrooms       0\n",
              "Num_Beds            0\n",
              "BER_class         251\n",
              "Description         0\n",
              "Services         1061\n",
              "Features            0\n",
              "Latitude            0\n",
              "Longitude           0\n",
              "Type                0\n",
              "Surface             0\n",
              "Price               0\n",
              "dtype: int64"
            ]
          },
          "metadata": {},
          "execution_count": 15
        }
      ]
    },
    {
      "cell_type": "code",
      "metadata": {
        "id": "5Ak3OenntCU5"
      },
      "source": [
        "df_train = df_train.drop(['Services'], axis=1)\n",
        "df_test = df_test.drop(['Services'], axis=1)"
      ],
      "execution_count": 16,
      "outputs": []
    },
    {
      "cell_type": "code",
      "metadata": {
        "colab": {
          "base_uri": "https://localhost:8080/",
          "height": 323
        },
        "id": "78vhqNfetCZM",
        "outputId": "baff0a71-eb7b-4607-b964-429629e23638"
      },
      "source": [
        "df_train.head()"
      ],
      "execution_count": 17,
      "outputs": [
        {
          "output_type": "execute_result",
          "data": {
            "text/html": [
              "<div>\n",
              "<style scoped>\n",
              "    .dataframe tbody tr th:only-of-type {\n",
              "        vertical-align: middle;\n",
              "    }\n",
              "\n",
              "    .dataframe tbody tr th {\n",
              "        vertical-align: top;\n",
              "    }\n",
              "\n",
              "    .dataframe thead th {\n",
              "        text-align: right;\n",
              "    }\n",
              "</style>\n",
              "<table border=\"1\" class=\"dataframe\">\n",
              "  <thead>\n",
              "    <tr style=\"text-align: right;\">\n",
              "      <th></th>\n",
              "      <th>Index</th>\n",
              "      <th>ID</th>\n",
              "      <th>Location</th>\n",
              "      <th>Num_Bathrooms</th>\n",
              "      <th>Num_Beds</th>\n",
              "      <th>BER_class</th>\n",
              "      <th>Description</th>\n",
              "      <th>Features</th>\n",
              "      <th>Latitude</th>\n",
              "      <th>Longitude</th>\n",
              "      <th>Type</th>\n",
              "      <th>Surface</th>\n",
              "      <th>Price</th>\n",
              "    </tr>\n",
              "  </thead>\n",
              "  <tbody>\n",
              "    <tr>\n",
              "      <th>0</th>\n",
              "      <td>1</td>\n",
              "      <td>12409116</td>\n",
              "      <td>Ongar</td>\n",
              "      <td>2</td>\n",
              "      <td>2</td>\n",
              "      <td>C3</td>\n",
              "      <td>DNG are delighted to present to the market no....</td>\n",
              "      <td>None</td>\n",
              "      <td>53.396659</td>\n",
              "      <td>-6.438791</td>\n",
              "      <td>apartment</td>\n",
              "      <td>67.00</td>\n",
              "      <td>195000</td>\n",
              "    </tr>\n",
              "    <tr>\n",
              "      <th>1</th>\n",
              "      <td>2</td>\n",
              "      <td>12320330</td>\n",
              "      <td>North Strand</td>\n",
              "      <td>1</td>\n",
              "      <td>2</td>\n",
              "      <td>D1</td>\n",
              "      <td>13 Northbrook Terrace is a charming red brick ...</td>\n",
              "      <td>Bight and Spacious interior\\nNumerous original...</td>\n",
              "      <td>53.357129</td>\n",
              "      <td>-6.239779</td>\n",
              "      <td>terraced</td>\n",
              "      <td>95.97</td>\n",
              "      <td>425000</td>\n",
              "    </tr>\n",
              "    <tr>\n",
              "      <th>2</th>\n",
              "      <td>3</td>\n",
              "      <td>12405953</td>\n",
              "      <td>Stepaside</td>\n",
              "      <td>3</td>\n",
              "      <td>3</td>\n",
              "      <td>A3</td>\n",
              "      <td>Welcome to No. 6 Cotter Close, an immaculately...</td>\n",
              "      <td>Special Features\\nLarge rear garden\\nGenerous ...</td>\n",
              "      <td>53.266468</td>\n",
              "      <td>-6.222771</td>\n",
              "      <td>semi-detached</td>\n",
              "      <td>107.00</td>\n",
              "      <td>535000</td>\n",
              "    </tr>\n",
              "    <tr>\n",
              "      <th>3</th>\n",
              "      <td>4</td>\n",
              "      <td>12202582</td>\n",
              "      <td>Cabinteely</td>\n",
              "      <td>1</td>\n",
              "      <td>3</td>\n",
              "      <td>E1</td>\n",
              "      <td>Welcome to 3 Sycamore Walk!\\n\\r\\nEnjoying a pr...</td>\n",
              "      <td>Wonderful 3 bed detached bungalow.     \\nAccom...</td>\n",
              "      <td>53.261600</td>\n",
              "      <td>-6.166738</td>\n",
              "      <td>detached</td>\n",
              "      <td>81.00</td>\n",
              "      <td>499000</td>\n",
              "    </tr>\n",
              "    <tr>\n",
              "      <th>4</th>\n",
              "      <td>5</td>\n",
              "      <td>12299336</td>\n",
              "      <td>Lusk</td>\n",
              "      <td>3</td>\n",
              "      <td>4</td>\n",
              "      <td>D1</td>\n",
              "      <td>'Four Seasons' comes to the market as a wonder...</td>\n",
              "      <td>Detached Property      \\nDouble Glazed Windows...</td>\n",
              "      <td>53.550731</td>\n",
              "      <td>-6.121415</td>\n",
              "      <td>detached</td>\n",
              "      <td>153.00</td>\n",
              "      <td>510000</td>\n",
              "    </tr>\n",
              "  </tbody>\n",
              "</table>\n",
              "</div>"
            ],
            "text/plain": [
              "   Index        ID      Location  ...           Type  Surface   Price\n",
              "0      1  12409116         Ongar  ...      apartment    67.00  195000\n",
              "1      2  12320330  North Strand  ...       terraced    95.97  425000\n",
              "2      3  12405953     Stepaside  ...  semi-detached   107.00  535000\n",
              "3      4  12202582    Cabinteely  ...       detached    81.00  499000\n",
              "4      5  12299336          Lusk  ...       detached   153.00  510000\n",
              "\n",
              "[5 rows x 13 columns]"
            ]
          },
          "metadata": {},
          "execution_count": 17
        }
      ]
    },
    {
      "cell_type": "code",
      "metadata": {
        "colab": {
          "base_uri": "https://localhost:8080/"
        },
        "id": "jZDK0Wamt7VW",
        "outputId": "67231dec-f377-4dbe-eb81-8037b0c31792"
      },
      "source": [
        "df_train['BER_class'].unique()"
      ],
      "execution_count": 18,
      "outputs": [
        {
          "output_type": "execute_result",
          "data": {
            "text/plain": [
              "array(['C3', 'D1', 'A3', 'E1', nan, 'G', 'E2', 'C2',\n",
              "       'SINo666of2006exempt', 'F', 'B2', 'C1', 'D2', 'B3', 'B1', 'A2',\n",
              "       'A1'], dtype=object)"
            ]
          },
          "metadata": {},
          "execution_count": 18
        }
      ]
    },
    {
      "cell_type": "code",
      "metadata": {
        "colab": {
          "base_uri": "https://localhost:8080/"
        },
        "id": "lEigkoO-t7X5",
        "outputId": "6290ce40-bcc9-477a-d543-96b8419e74f0"
      },
      "source": [
        "df_test['BER_class'].unique()"
      ],
      "execution_count": 19,
      "outputs": [
        {
          "output_type": "execute_result",
          "data": {
            "text/plain": [
              "array(['C2', 'E1', 'G', 'A2', 'F', 'C3', nan, 'D1', 'B2', 'D2', 'E2',\n",
              "       'C1', 'B3', 'A3', 'B1', 'SINo666of2006exempt'], dtype=object)"
            ]
          },
          "metadata": {},
          "execution_count": 19
        }
      ]
    },
    {
      "cell_type": "code",
      "metadata": {
        "colab": {
          "base_uri": "https://localhost:8080/"
        },
        "id": "54t2AsMSt7bs",
        "outputId": "4b016f13-1bb8-47ba-da2d-0228ddc4980a"
      },
      "source": [
        "df_test.isna().sum()"
      ],
      "execution_count": 20,
      "outputs": [
        {
          "output_type": "execute_result",
          "data": {
            "text/plain": [
              "Index              0\n",
              "ID                 0\n",
              "Location           0\n",
              "Num_Bathrooms      0\n",
              "Num_Beds           0\n",
              "BER_class        108\n",
              "Description        0\n",
              "Features           0\n",
              "Latitude           0\n",
              "Longitude          0\n",
              "Type               0\n",
              "Surface            0\n",
              "dtype: int64"
            ]
          },
          "metadata": {},
          "execution_count": 20
        }
      ]
    },
    {
      "cell_type": "code",
      "metadata": {
        "id": "CGzGrJXRt7dY"
      },
      "source": [
        "#Fill in for missing BER_class values\n",
        "df_train = df_train.fillna('none')\n",
        "df_test = df_test.fillna('none')"
      ],
      "execution_count": 21,
      "outputs": []
    },
    {
      "cell_type": "code",
      "metadata": {
        "colab": {
          "base_uri": "https://localhost:8080/"
        },
        "id": "rOzuxVmwt7f9",
        "outputId": "cfcf6d5c-3c58-4222-c27b-4c859a8636e2"
      },
      "source": [
        "df_train.isna().sum()"
      ],
      "execution_count": 22,
      "outputs": [
        {
          "output_type": "execute_result",
          "data": {
            "text/plain": [
              "Index            0\n",
              "ID               0\n",
              "Location         0\n",
              "Num_Bathrooms    0\n",
              "Num_Beds         0\n",
              "BER_class        0\n",
              "Description      0\n",
              "Features         0\n",
              "Latitude         0\n",
              "Longitude        0\n",
              "Type             0\n",
              "Surface          0\n",
              "Price            0\n",
              "dtype: int64"
            ]
          },
          "metadata": {},
          "execution_count": 22
        }
      ]
    },
    {
      "cell_type": "code",
      "metadata": {
        "colab": {
          "base_uri": "https://localhost:8080/"
        },
        "id": "d0a-Bi35t7ii",
        "outputId": "43d37eab-3acd-47e4-e1eb-941840b366b7"
      },
      "source": [
        "df_test.isna().sum()"
      ],
      "execution_count": 23,
      "outputs": [
        {
          "output_type": "execute_result",
          "data": {
            "text/plain": [
              "Index            0\n",
              "ID               0\n",
              "Location         0\n",
              "Num_Bathrooms    0\n",
              "Num_Beds         0\n",
              "BER_class        0\n",
              "Description      0\n",
              "Features         0\n",
              "Latitude         0\n",
              "Longitude        0\n",
              "Type             0\n",
              "Surface          0\n",
              "dtype: int64"
            ]
          },
          "metadata": {},
          "execution_count": 23
        }
      ]
    },
    {
      "cell_type": "code",
      "metadata": {
        "colab": {
          "base_uri": "https://localhost:8080/"
        },
        "id": "rjxWEb8avdTn",
        "outputId": "147c506a-d067-43a9-c3c9-9c7e1e13f8b8"
      },
      "source": [
        "df_train['Num_Beds'].value_counts()"
      ],
      "execution_count": 24,
      "outputs": [
        {
          "output_type": "execute_result",
          "data": {
            "text/plain": [
              "3     558\n",
              "2     464\n",
              "4     348\n",
              "1     114\n",
              "5     107\n",
              "6      29\n",
              "7      11\n",
              "15      2\n",
              "9       2\n",
              "8       2\n",
              "27      1\n",
              "Name: Num_Beds, dtype: int64"
            ]
          },
          "metadata": {},
          "execution_count": 24
        }
      ]
    },
    {
      "cell_type": "code",
      "metadata": {
        "colab": {
          "base_uri": "https://localhost:8080/"
        },
        "id": "I1O-4NSNw7tj",
        "outputId": "c84a7d22-cecc-4787-9818-7b8e6d3081c4"
      },
      "source": [
        "df_train['Num_Bathrooms'].value_counts()"
      ],
      "execution_count": 25,
      "outputs": [
        {
          "output_type": "execute_result",
          "data": {
            "text/plain": [
              "1     603\n",
              "2     584\n",
              "3     327\n",
              "4      76\n",
              "5      24\n",
              "6      11\n",
              "7       6\n",
              "8       3\n",
              "15      2\n",
              "18      1\n",
              "9       1\n",
              "Name: Num_Bathrooms, dtype: int64"
            ]
          },
          "metadata": {},
          "execution_count": 25
        }
      ]
    },
    {
      "cell_type": "code",
      "metadata": {
        "colab": {
          "base_uri": "https://localhost:8080/"
        },
        "id": "1bEGsZa9vdWw",
        "outputId": "266d9a4b-5eee-49b3-e202-4ab5eceef0aa"
      },
      "source": [
        "df_train['BER_class'].value_counts()"
      ],
      "execution_count": 26,
      "outputs": [
        {
          "output_type": "execute_result",
          "data": {
            "text/plain": [
              "none                   251\n",
              "D1                     182\n",
              "D2                     173\n",
              "C3                     154\n",
              "C2                     144\n",
              "C1                     133\n",
              "E1                     110\n",
              "G                      103\n",
              "E2                     101\n",
              "F                       89\n",
              "B3                      78\n",
              "B2                      48\n",
              "A3                      37\n",
              "SINo666of2006exempt     15\n",
              "A2                      12\n",
              "B1                       7\n",
              "A1                       1\n",
              "Name: BER_class, dtype: int64"
            ]
          },
          "metadata": {},
          "execution_count": 26
        }
      ]
    },
    {
      "cell_type": "code",
      "metadata": {
        "colab": {
          "base_uri": "https://localhost:8080/"
        },
        "id": "HvlQIqc9wbqg",
        "outputId": "71ffc4e3-1df0-41d6-bfcd-15f22fa0f96a"
      },
      "source": [
        "df_train['Type'].value_counts()"
      ],
      "execution_count": 27,
      "outputs": [
        {
          "output_type": "execute_result",
          "data": {
            "text/plain": [
              "semi-detached     458\n",
              "apartment         431\n",
              "terraced          299\n",
              "detached          234\n",
              "end-of-terrace    118\n",
              "bungalow           48\n",
              "duplex             33\n",
              "townhouse          14\n",
              "studio              2\n",
              "site                1\n",
              "Name: Type, dtype: int64"
            ]
          },
          "metadata": {},
          "execution_count": 27
        }
      ]
    },
    {
      "cell_type": "code",
      "metadata": {
        "id": "68j4_F_0wbs9"
      },
      "source": [
        "# Drop ID\n",
        "drop_features = ['ID']\n",
        "\n",
        "df_train_new = df_train.drop(drop_features, axis=1)\n",
        "df_test_new = df_test.drop(drop_features, axis=1)"
      ],
      "execution_count": 28,
      "outputs": []
    },
    {
      "cell_type": "code",
      "metadata": {
        "colab": {
          "base_uri": "https://localhost:8080/",
          "height": 289
        },
        "id": "8SbcpGhOwbva",
        "outputId": "a61c0e43-da8e-48b0-e155-ea9d93b50054"
      },
      "source": [
        "df_train_new.head()"
      ],
      "execution_count": 29,
      "outputs": [
        {
          "output_type": "execute_result",
          "data": {
            "text/html": [
              "<div>\n",
              "<style scoped>\n",
              "    .dataframe tbody tr th:only-of-type {\n",
              "        vertical-align: middle;\n",
              "    }\n",
              "\n",
              "    .dataframe tbody tr th {\n",
              "        vertical-align: top;\n",
              "    }\n",
              "\n",
              "    .dataframe thead th {\n",
              "        text-align: right;\n",
              "    }\n",
              "</style>\n",
              "<table border=\"1\" class=\"dataframe\">\n",
              "  <thead>\n",
              "    <tr style=\"text-align: right;\">\n",
              "      <th></th>\n",
              "      <th>Index</th>\n",
              "      <th>Location</th>\n",
              "      <th>Num_Bathrooms</th>\n",
              "      <th>Num_Beds</th>\n",
              "      <th>BER_class</th>\n",
              "      <th>Description</th>\n",
              "      <th>Features</th>\n",
              "      <th>Latitude</th>\n",
              "      <th>Longitude</th>\n",
              "      <th>Type</th>\n",
              "      <th>Surface</th>\n",
              "      <th>Price</th>\n",
              "    </tr>\n",
              "  </thead>\n",
              "  <tbody>\n",
              "    <tr>\n",
              "      <th>0</th>\n",
              "      <td>1</td>\n",
              "      <td>Ongar</td>\n",
              "      <td>2</td>\n",
              "      <td>2</td>\n",
              "      <td>C3</td>\n",
              "      <td>DNG are delighted to present to the market no....</td>\n",
              "      <td>None</td>\n",
              "      <td>53.396659</td>\n",
              "      <td>-6.438791</td>\n",
              "      <td>apartment</td>\n",
              "      <td>67.00</td>\n",
              "      <td>195000</td>\n",
              "    </tr>\n",
              "    <tr>\n",
              "      <th>1</th>\n",
              "      <td>2</td>\n",
              "      <td>North Strand</td>\n",
              "      <td>1</td>\n",
              "      <td>2</td>\n",
              "      <td>D1</td>\n",
              "      <td>13 Northbrook Terrace is a charming red brick ...</td>\n",
              "      <td>Bight and Spacious interior\\nNumerous original...</td>\n",
              "      <td>53.357129</td>\n",
              "      <td>-6.239779</td>\n",
              "      <td>terraced</td>\n",
              "      <td>95.97</td>\n",
              "      <td>425000</td>\n",
              "    </tr>\n",
              "    <tr>\n",
              "      <th>2</th>\n",
              "      <td>3</td>\n",
              "      <td>Stepaside</td>\n",
              "      <td>3</td>\n",
              "      <td>3</td>\n",
              "      <td>A3</td>\n",
              "      <td>Welcome to No. 6 Cotter Close, an immaculately...</td>\n",
              "      <td>Special Features\\nLarge rear garden\\nGenerous ...</td>\n",
              "      <td>53.266468</td>\n",
              "      <td>-6.222771</td>\n",
              "      <td>semi-detached</td>\n",
              "      <td>107.00</td>\n",
              "      <td>535000</td>\n",
              "    </tr>\n",
              "    <tr>\n",
              "      <th>3</th>\n",
              "      <td>4</td>\n",
              "      <td>Cabinteely</td>\n",
              "      <td>1</td>\n",
              "      <td>3</td>\n",
              "      <td>E1</td>\n",
              "      <td>Welcome to 3 Sycamore Walk!\\n\\r\\nEnjoying a pr...</td>\n",
              "      <td>Wonderful 3 bed detached bungalow.     \\nAccom...</td>\n",
              "      <td>53.261600</td>\n",
              "      <td>-6.166738</td>\n",
              "      <td>detached</td>\n",
              "      <td>81.00</td>\n",
              "      <td>499000</td>\n",
              "    </tr>\n",
              "    <tr>\n",
              "      <th>4</th>\n",
              "      <td>5</td>\n",
              "      <td>Lusk</td>\n",
              "      <td>3</td>\n",
              "      <td>4</td>\n",
              "      <td>D1</td>\n",
              "      <td>'Four Seasons' comes to the market as a wonder...</td>\n",
              "      <td>Detached Property      \\nDouble Glazed Windows...</td>\n",
              "      <td>53.550731</td>\n",
              "      <td>-6.121415</td>\n",
              "      <td>detached</td>\n",
              "      <td>153.00</td>\n",
              "      <td>510000</td>\n",
              "    </tr>\n",
              "  </tbody>\n",
              "</table>\n",
              "</div>"
            ],
            "text/plain": [
              "   Index      Location  Num_Bathrooms  ...           Type Surface   Price\n",
              "0      1         Ongar              2  ...      apartment   67.00  195000\n",
              "1      2  North Strand              1  ...       terraced   95.97  425000\n",
              "2      3     Stepaside              3  ...  semi-detached  107.00  535000\n",
              "3      4    Cabinteely              1  ...       detached   81.00  499000\n",
              "4      5          Lusk              3  ...       detached  153.00  510000\n",
              "\n",
              "[5 rows x 12 columns]"
            ]
          },
          "metadata": {},
          "execution_count": 29
        }
      ]
    },
    {
      "cell_type": "code",
      "metadata": {
        "id": "Sbv8bmrvvdaI"
      },
      "source": [
        "# Replace all ber values with equivalant decimal values. Ignore Nan.\n",
        "#df_train_new.dropna(subset=['BER_class'], inplace=True)\n",
        "#ber_features = df_train_new['BER_class'].sort_values().unique()\n",
        "\n",
        "#new_ber_values = np.arange(1, len(ber_features) + 1).tolist()\n",
        "\n",
        "#df_train_new['BER_class'].replace(to_replace=ber_features,\n",
        "#                                      value=new_ber_values,\n",
        "#                                      inplace=True)\n",
        "\n",
        "#df_test_new.dropna(subset=['BER_class'], inplace=True)\n",
        "#df_test_new['BER_class'].replace(to_replace=ber_features,\n",
        "#                                      value=new_ber_values,\n",
        "#                                      inplace=True)"
      ],
      "execution_count": 30,
      "outputs": []
    },
    {
      "cell_type": "code",
      "metadata": {
        "colab": {
          "base_uri": "https://localhost:8080/",
          "height": 289
        },
        "id": "sLf-KIvPz6_Q",
        "outputId": "7e6c5c3a-6840-4a2e-82d4-0a6e5bbc6ba1"
      },
      "source": [
        "df_train_new.head()"
      ],
      "execution_count": 31,
      "outputs": [
        {
          "output_type": "execute_result",
          "data": {
            "text/html": [
              "<div>\n",
              "<style scoped>\n",
              "    .dataframe tbody tr th:only-of-type {\n",
              "        vertical-align: middle;\n",
              "    }\n",
              "\n",
              "    .dataframe tbody tr th {\n",
              "        vertical-align: top;\n",
              "    }\n",
              "\n",
              "    .dataframe thead th {\n",
              "        text-align: right;\n",
              "    }\n",
              "</style>\n",
              "<table border=\"1\" class=\"dataframe\">\n",
              "  <thead>\n",
              "    <tr style=\"text-align: right;\">\n",
              "      <th></th>\n",
              "      <th>Index</th>\n",
              "      <th>Location</th>\n",
              "      <th>Num_Bathrooms</th>\n",
              "      <th>Num_Beds</th>\n",
              "      <th>BER_class</th>\n",
              "      <th>Description</th>\n",
              "      <th>Features</th>\n",
              "      <th>Latitude</th>\n",
              "      <th>Longitude</th>\n",
              "      <th>Type</th>\n",
              "      <th>Surface</th>\n",
              "      <th>Price</th>\n",
              "    </tr>\n",
              "  </thead>\n",
              "  <tbody>\n",
              "    <tr>\n",
              "      <th>0</th>\n",
              "      <td>1</td>\n",
              "      <td>Ongar</td>\n",
              "      <td>2</td>\n",
              "      <td>2</td>\n",
              "      <td>C3</td>\n",
              "      <td>DNG are delighted to present to the market no....</td>\n",
              "      <td>None</td>\n",
              "      <td>53.396659</td>\n",
              "      <td>-6.438791</td>\n",
              "      <td>apartment</td>\n",
              "      <td>67.00</td>\n",
              "      <td>195000</td>\n",
              "    </tr>\n",
              "    <tr>\n",
              "      <th>1</th>\n",
              "      <td>2</td>\n",
              "      <td>North Strand</td>\n",
              "      <td>1</td>\n",
              "      <td>2</td>\n",
              "      <td>D1</td>\n",
              "      <td>13 Northbrook Terrace is a charming red brick ...</td>\n",
              "      <td>Bight and Spacious interior\\nNumerous original...</td>\n",
              "      <td>53.357129</td>\n",
              "      <td>-6.239779</td>\n",
              "      <td>terraced</td>\n",
              "      <td>95.97</td>\n",
              "      <td>425000</td>\n",
              "    </tr>\n",
              "    <tr>\n",
              "      <th>2</th>\n",
              "      <td>3</td>\n",
              "      <td>Stepaside</td>\n",
              "      <td>3</td>\n",
              "      <td>3</td>\n",
              "      <td>A3</td>\n",
              "      <td>Welcome to No. 6 Cotter Close, an immaculately...</td>\n",
              "      <td>Special Features\\nLarge rear garden\\nGenerous ...</td>\n",
              "      <td>53.266468</td>\n",
              "      <td>-6.222771</td>\n",
              "      <td>semi-detached</td>\n",
              "      <td>107.00</td>\n",
              "      <td>535000</td>\n",
              "    </tr>\n",
              "    <tr>\n",
              "      <th>3</th>\n",
              "      <td>4</td>\n",
              "      <td>Cabinteely</td>\n",
              "      <td>1</td>\n",
              "      <td>3</td>\n",
              "      <td>E1</td>\n",
              "      <td>Welcome to 3 Sycamore Walk!\\n\\r\\nEnjoying a pr...</td>\n",
              "      <td>Wonderful 3 bed detached bungalow.     \\nAccom...</td>\n",
              "      <td>53.261600</td>\n",
              "      <td>-6.166738</td>\n",
              "      <td>detached</td>\n",
              "      <td>81.00</td>\n",
              "      <td>499000</td>\n",
              "    </tr>\n",
              "    <tr>\n",
              "      <th>4</th>\n",
              "      <td>5</td>\n",
              "      <td>Lusk</td>\n",
              "      <td>3</td>\n",
              "      <td>4</td>\n",
              "      <td>D1</td>\n",
              "      <td>'Four Seasons' comes to the market as a wonder...</td>\n",
              "      <td>Detached Property      \\nDouble Glazed Windows...</td>\n",
              "      <td>53.550731</td>\n",
              "      <td>-6.121415</td>\n",
              "      <td>detached</td>\n",
              "      <td>153.00</td>\n",
              "      <td>510000</td>\n",
              "    </tr>\n",
              "  </tbody>\n",
              "</table>\n",
              "</div>"
            ],
            "text/plain": [
              "   Index      Location  Num_Bathrooms  ...           Type Surface   Price\n",
              "0      1         Ongar              2  ...      apartment   67.00  195000\n",
              "1      2  North Strand              1  ...       terraced   95.97  425000\n",
              "2      3     Stepaside              3  ...  semi-detached  107.00  535000\n",
              "3      4    Cabinteely              1  ...       detached   81.00  499000\n",
              "4      5          Lusk              3  ...       detached  153.00  510000\n",
              "\n",
              "[5 rows x 12 columns]"
            ]
          },
          "metadata": {},
          "execution_count": 31
        }
      ]
    },
    {
      "cell_type": "code",
      "metadata": {
        "colab": {
          "base_uri": "https://localhost:8080/",
          "height": 289
        },
        "id": "LV1Q3P4M4aTP",
        "outputId": "6dd07b75-6fb5-4bec-e90b-f333fae527f9"
      },
      "source": [
        "df_train_new.tail()"
      ],
      "execution_count": 32,
      "outputs": [
        {
          "output_type": "execute_result",
          "data": {
            "text/html": [
              "<div>\n",
              "<style scoped>\n",
              "    .dataframe tbody tr th:only-of-type {\n",
              "        vertical-align: middle;\n",
              "    }\n",
              "\n",
              "    .dataframe tbody tr th {\n",
              "        vertical-align: top;\n",
              "    }\n",
              "\n",
              "    .dataframe thead th {\n",
              "        text-align: right;\n",
              "    }\n",
              "</style>\n",
              "<table border=\"1\" class=\"dataframe\">\n",
              "  <thead>\n",
              "    <tr style=\"text-align: right;\">\n",
              "      <th></th>\n",
              "      <th>Index</th>\n",
              "      <th>Location</th>\n",
              "      <th>Num_Bathrooms</th>\n",
              "      <th>Num_Beds</th>\n",
              "      <th>BER_class</th>\n",
              "      <th>Description</th>\n",
              "      <th>Features</th>\n",
              "      <th>Latitude</th>\n",
              "      <th>Longitude</th>\n",
              "      <th>Type</th>\n",
              "      <th>Surface</th>\n",
              "      <th>Price</th>\n",
              "    </tr>\n",
              "  </thead>\n",
              "  <tbody>\n",
              "    <tr>\n",
              "      <th>1633</th>\n",
              "      <td>1634</td>\n",
              "      <td>Blackrock</td>\n",
              "      <td>1</td>\n",
              "      <td>2</td>\n",
              "      <td>C2</td>\n",
              "      <td>Built in c.1930 38 Stradbrook Road is a deligh...</td>\n",
              "      <td>Extremely convenient location \\nWheelchair acc...</td>\n",
              "      <td>53.292767</td>\n",
              "      <td>-6.166668</td>\n",
              "      <td>bungalow</td>\n",
              "      <td>64.00</td>\n",
              "      <td>500000</td>\n",
              "    </tr>\n",
              "    <tr>\n",
              "      <th>1634</th>\n",
              "      <td>1635</td>\n",
              "      <td>Blackrock</td>\n",
              "      <td>3</td>\n",
              "      <td>5</td>\n",
              "      <td>C1</td>\n",
              "      <td>An impressive three-story family home superbly...</td>\n",
              "      <td>Gas fired central heating with underfloor heat...</td>\n",
              "      <td>53.284975</td>\n",
              "      <td>-6.178685</td>\n",
              "      <td>detached</td>\n",
              "      <td>175.96</td>\n",
              "      <td>795000</td>\n",
              "    </tr>\n",
              "    <tr>\n",
              "      <th>1635</th>\n",
              "      <td>1636</td>\n",
              "      <td>Lucan</td>\n",
              "      <td>2</td>\n",
              "      <td>3</td>\n",
              "      <td>A3</td>\n",
              "      <td>DNG Lucan's leading estate agents are delighte...</td>\n",
              "      <td>None</td>\n",
              "      <td>53.351667</td>\n",
              "      <td>-6.435278</td>\n",
              "      <td>semi-detached</td>\n",
              "      <td>98.00</td>\n",
              "      <td>340000</td>\n",
              "    </tr>\n",
              "    <tr>\n",
              "      <th>1636</th>\n",
              "      <td>1637</td>\n",
              "      <td>Sandymount</td>\n",
              "      <td>8</td>\n",
              "      <td>8</td>\n",
              "      <td>D2</td>\n",
              "      <td>Holyrood Castle is a most distinctive 19th cen...</td>\n",
              "      <td>None</td>\n",
              "      <td>53.328997</td>\n",
              "      <td>-6.221030</td>\n",
              "      <td>detached</td>\n",
              "      <td>507.00</td>\n",
              "      <td>2500000</td>\n",
              "    </tr>\n",
              "    <tr>\n",
              "      <th>1637</th>\n",
              "      <td>1638</td>\n",
              "      <td>Shankill</td>\n",
              "      <td>2</td>\n",
              "      <td>2</td>\n",
              "      <td>E1</td>\n",
              "      <td>A superb opportunity awaits to acquire this be...</td>\n",
              "      <td>Turn key condition\\nWood burning stove\\nSlider...</td>\n",
              "      <td>53.231438</td>\n",
              "      <td>-6.125022</td>\n",
              "      <td>semi-detached</td>\n",
              "      <td>50.00</td>\n",
              "      <td>370000</td>\n",
              "    </tr>\n",
              "  </tbody>\n",
              "</table>\n",
              "</div>"
            ],
            "text/plain": [
              "      Index    Location  Num_Bathrooms  ...           Type Surface    Price\n",
              "1633   1634   Blackrock              1  ...       bungalow   64.00   500000\n",
              "1634   1635   Blackrock              3  ...       detached  175.96   795000\n",
              "1635   1636       Lucan              2  ...  semi-detached   98.00   340000\n",
              "1636   1637  Sandymount              8  ...       detached  507.00  2500000\n",
              "1637   1638    Shankill              2  ...  semi-detached   50.00   370000\n",
              "\n",
              "[5 rows x 12 columns]"
            ]
          },
          "metadata": {},
          "execution_count": 32
        }
      ]
    },
    {
      "cell_type": "code",
      "metadata": {
        "id": "MhXGs3RIz7T9"
      },
      "source": [
        "# Replace property type\n",
        "#replace_ptype_features = ['apartment', 'studio', 'duplex', 'townhouse', 'terraced', 'end-of-terrace',\n",
        "#                          'semi-detached', 'detached', 'bungalow', 'site' ]\n",
        "\n",
        "#replace_values = np.arange(1, len(replace_ptype_features) + 1).tolist()\n",
        "\n",
        "# Apply basic conversion to the property type\n",
        "#df_train_new['Type'].replace(to_replace=replace_ptype_features,\n",
        "#                                      value=replace_values,\n",
        "#                                      inplace=True)\n",
        "\n",
        "#df_test_new['Type'].replace(to_replace=replace_ptype_features,\n",
        "#                                      value=replace_values,\n",
        "#                                      inplace=True)\n",
        "# Remove columns with 0 - causes problems for the scalers used below\n",
        "#df_train_new = df_train_new[(df_train_new.Num_Beds>0)]\n",
        "\n",
        "# Also drops all sites - this is intended\n",
        "#df_train_new = df_train_new[(df_train_new.Num_Bathrooms>0)]\n",
        "\n",
        "#df_train_new = df_train_new[(df_train_new.Price>0)]"
      ],
      "execution_count": 33,
      "outputs": []
    },
    {
      "cell_type": "code",
      "metadata": {
        "colab": {
          "base_uri": "https://localhost:8080/",
          "height": 289
        },
        "id": "sln5ugfQ0PHd",
        "outputId": "ced73771-8efe-4a4e-d65c-bd150f726e9a"
      },
      "source": [
        "df_train_new.head()"
      ],
      "execution_count": 34,
      "outputs": [
        {
          "output_type": "execute_result",
          "data": {
            "text/html": [
              "<div>\n",
              "<style scoped>\n",
              "    .dataframe tbody tr th:only-of-type {\n",
              "        vertical-align: middle;\n",
              "    }\n",
              "\n",
              "    .dataframe tbody tr th {\n",
              "        vertical-align: top;\n",
              "    }\n",
              "\n",
              "    .dataframe thead th {\n",
              "        text-align: right;\n",
              "    }\n",
              "</style>\n",
              "<table border=\"1\" class=\"dataframe\">\n",
              "  <thead>\n",
              "    <tr style=\"text-align: right;\">\n",
              "      <th></th>\n",
              "      <th>Index</th>\n",
              "      <th>Location</th>\n",
              "      <th>Num_Bathrooms</th>\n",
              "      <th>Num_Beds</th>\n",
              "      <th>BER_class</th>\n",
              "      <th>Description</th>\n",
              "      <th>Features</th>\n",
              "      <th>Latitude</th>\n",
              "      <th>Longitude</th>\n",
              "      <th>Type</th>\n",
              "      <th>Surface</th>\n",
              "      <th>Price</th>\n",
              "    </tr>\n",
              "  </thead>\n",
              "  <tbody>\n",
              "    <tr>\n",
              "      <th>0</th>\n",
              "      <td>1</td>\n",
              "      <td>Ongar</td>\n",
              "      <td>2</td>\n",
              "      <td>2</td>\n",
              "      <td>C3</td>\n",
              "      <td>DNG are delighted to present to the market no....</td>\n",
              "      <td>None</td>\n",
              "      <td>53.396659</td>\n",
              "      <td>-6.438791</td>\n",
              "      <td>apartment</td>\n",
              "      <td>67.00</td>\n",
              "      <td>195000</td>\n",
              "    </tr>\n",
              "    <tr>\n",
              "      <th>1</th>\n",
              "      <td>2</td>\n",
              "      <td>North Strand</td>\n",
              "      <td>1</td>\n",
              "      <td>2</td>\n",
              "      <td>D1</td>\n",
              "      <td>13 Northbrook Terrace is a charming red brick ...</td>\n",
              "      <td>Bight and Spacious interior\\nNumerous original...</td>\n",
              "      <td>53.357129</td>\n",
              "      <td>-6.239779</td>\n",
              "      <td>terraced</td>\n",
              "      <td>95.97</td>\n",
              "      <td>425000</td>\n",
              "    </tr>\n",
              "    <tr>\n",
              "      <th>2</th>\n",
              "      <td>3</td>\n",
              "      <td>Stepaside</td>\n",
              "      <td>3</td>\n",
              "      <td>3</td>\n",
              "      <td>A3</td>\n",
              "      <td>Welcome to No. 6 Cotter Close, an immaculately...</td>\n",
              "      <td>Special Features\\nLarge rear garden\\nGenerous ...</td>\n",
              "      <td>53.266468</td>\n",
              "      <td>-6.222771</td>\n",
              "      <td>semi-detached</td>\n",
              "      <td>107.00</td>\n",
              "      <td>535000</td>\n",
              "    </tr>\n",
              "    <tr>\n",
              "      <th>3</th>\n",
              "      <td>4</td>\n",
              "      <td>Cabinteely</td>\n",
              "      <td>1</td>\n",
              "      <td>3</td>\n",
              "      <td>E1</td>\n",
              "      <td>Welcome to 3 Sycamore Walk!\\n\\r\\nEnjoying a pr...</td>\n",
              "      <td>Wonderful 3 bed detached bungalow.     \\nAccom...</td>\n",
              "      <td>53.261600</td>\n",
              "      <td>-6.166738</td>\n",
              "      <td>detached</td>\n",
              "      <td>81.00</td>\n",
              "      <td>499000</td>\n",
              "    </tr>\n",
              "    <tr>\n",
              "      <th>4</th>\n",
              "      <td>5</td>\n",
              "      <td>Lusk</td>\n",
              "      <td>3</td>\n",
              "      <td>4</td>\n",
              "      <td>D1</td>\n",
              "      <td>'Four Seasons' comes to the market as a wonder...</td>\n",
              "      <td>Detached Property      \\nDouble Glazed Windows...</td>\n",
              "      <td>53.550731</td>\n",
              "      <td>-6.121415</td>\n",
              "      <td>detached</td>\n",
              "      <td>153.00</td>\n",
              "      <td>510000</td>\n",
              "    </tr>\n",
              "  </tbody>\n",
              "</table>\n",
              "</div>"
            ],
            "text/plain": [
              "   Index      Location  Num_Bathrooms  ...           Type Surface   Price\n",
              "0      1         Ongar              2  ...      apartment   67.00  195000\n",
              "1      2  North Strand              1  ...       terraced   95.97  425000\n",
              "2      3     Stepaside              3  ...  semi-detached  107.00  535000\n",
              "3      4    Cabinteely              1  ...       detached   81.00  499000\n",
              "4      5          Lusk              3  ...       detached  153.00  510000\n",
              "\n",
              "[5 rows x 12 columns]"
            ]
          },
          "metadata": {},
          "execution_count": 34
        }
      ]
    },
    {
      "cell_type": "code",
      "metadata": {
        "colab": {
          "base_uri": "https://localhost:8080/",
          "height": 528
        },
        "id": "yqeSLCQ70PKm",
        "outputId": "8e96a8d4-b636-4be1-9c82-8d8fb6641546"
      },
      "source": [
        "# Check relationships between numerical variables\n",
        "import seaborn as sns\n",
        "df_train_new[['Num_Bathrooms','Num_Beds','Price','Surface']].dropna()\n",
        "\n",
        "sns.set(font_scale=1.4)\n",
        "plt.figure(figsize=(20, 8))\n",
        "plt.title('Correlation Matrix')\n",
        "sns.heatmap(df_train_new[['Num_Bathrooms','Num_Beds','BER_class','Type','Price','Surface']].corr(),linewidths=0.01,\n",
        "            square=True,annot=True)"
      ],
      "execution_count": 35,
      "outputs": [
        {
          "output_type": "execute_result",
          "data": {
            "text/plain": [
              "<matplotlib.axes._subplots.AxesSubplot at 0x7ff7ad09e410>"
            ]
          },
          "metadata": {},
          "execution_count": 35
        },
        {
          "output_type": "display_data",
          "data": {
            "image/png": "[encoded data removed]",
            "text/plain": [
              "<Figure size 1440x576 with 2 Axes>"
            ]
          },
          "metadata": {}
        }
      ]
    },
    {
      "cell_type": "markdown",
      "metadata": {
        "id": "tCsssEXq6-iL"
      },
      "source": [
        "Correlation of 0.73 between number of beds and number of bathrooms. 0.54 for number of beds and price."
      ]
    },
    {
      "cell_type": "code",
      "metadata": {
        "colab": {
          "base_uri": "https://localhost:8080/"
        },
        "id": "6P9r5K6W0POI",
        "outputId": "8d9d2e96-15f8-4f97-fa90-4ade0550cb76"
      },
      "source": [
        "# First filter out those rows which\n",
        "# do not contain any data\n",
        "df_train_new = df_train_new.dropna(how = 'any')\n",
        "df_train_new.drop(df_train_new[df_train_new['Num_Beds'] == 0].index, inplace = True)\n",
        "df_train_new.drop(df_train_new[df_train_new['Num_Bathrooms'] == 0].index, inplace = True)\n",
        "print(df_train_new.select_dtypes(exclude=['object']).isna().sum())"
      ],
      "execution_count": 36,
      "outputs": [
        {
          "output_type": "stream",
          "name": "stdout",
          "text": [
            "Index            0\n",
            "Num_Bathrooms    0\n",
            "Num_Beds         0\n",
            "Latitude         0\n",
            "Longitude        0\n",
            "Surface          0\n",
            "Price            0\n",
            "dtype: int64\n"
          ]
        }
      ]
    },
    {
      "cell_type": "code",
      "metadata": {
        "id": "xRX7jXw37ke_"
      },
      "source": [
        "# Function to Detection Outlier on one-dimentional datasets.\n",
        "def remove_outliers(dframe, feature):\n",
        "    '''Function to Detect / Remove Outliers'''\n",
        "  \n",
        "    #define a list to accumlate anomalies\n",
        "    anomalies = []\n",
        "    \n",
        "    # Set upper and lower limit to 3 standard deviation\n",
        "    random_data_std = np.std(dframe[feature])\n",
        "    random_data_mean = np.mean(dframe[feature])\n",
        "    anomaly_cut_off = random_data_std * 3\n",
        "    \n",
        "    lower_limit  = random_data_mean - anomaly_cut_off \n",
        "    upper_limit = random_data_mean + anomaly_cut_off\n",
        "    \n",
        "    dframe = dframe.drop(dframe[(dframe[feature] < lower_limit) | (dframe[feature] > upper_limit)].index)\n",
        "\n",
        "    return dframe\n",
        "\n",
        "def plot_box_hist(dframe, features):\n",
        "    '''Function to plot Box / Histogram pair for any feature'''\n",
        "    no_feats = len(features)\n",
        "  \n",
        "    figH = plt.figure(figsize=(30,no_feats*5))\n",
        "\n",
        "    for i in range(0, no_feats): \n",
        "        ax1 = figH.add_subplot(no_feats, 2, (i*2)+1)\n",
        "        ax1.set_title(\"Boxplot of \"+features[i])\n",
        "        dframe.boxplot(column=[features[i]])\n",
        "\n",
        "        ax2 = figH.add_subplot(no_feats, 2, (i*2)+2)\n",
        "        ax2.set_title(\"Histogram of \"+features[i])\n",
        "        dframe[features[i]].hist(bins=20)\n",
        "\n",
        "    plt.show()"
      ],
      "execution_count": 37,
      "outputs": []
    },
    {
      "cell_type": "code",
      "metadata": {
        "colab": {
          "base_uri": "https://localhost:8080/",
          "height": 993
        },
        "id": "r_FsCJ_E7kmh",
        "outputId": "264f2e19-8b99-4b1d-f244-c59fb1e283a2"
      },
      "source": [
        "#Select features to include in plots\n",
        "include_featues = ['Num_Beds','Num_Bathrooms']\n",
        "\n",
        "#run print function\n",
        "print(\"Analysis of outliers\")\n",
        "plot_box_hist(df_train_new, include_featues)\n",
        "print(df_train_new.shape)\n",
        "\n",
        "print(\"After outliers have been removed\")\n",
        "for i in range(0, len(include_featues)): \n",
        "    df_train_new = remove_outliers(df_train_new,include_featues[i])\n",
        "\n",
        "#run print function\n",
        "plot_box_hist(df_train_new, include_featues)\n",
        "print(df_train_new.shape)"
      ],
      "execution_count": 38,
      "outputs": [
        {
          "output_type": "stream",
          "name": "stdout",
          "text": [
            "Analysis of outliers\n"
          ]
        },
        {
          "output_type": "display_data",
          "data": {
            "image/png": "[encoded data removed]",
            "text/plain": [
              "<Figure size 2160x720 with 4 Axes>"
            ]
          },
          "metadata": {}
        },
        {
          "output_type": "stream",
          "name": "stdout",
          "text": [
            "(1638, 12)\n",
            "After outliers have been removed\n"
          ]
        },
        {
          "output_type": "display_data",
          "data": {
            "image/png": "[encoded data removed]",
            "text/plain": [
              "<Figure size 2160x720 with 4 Axes>"
            ]
          },
          "metadata": {}
        },
        {
          "output_type": "stream",
          "name": "stdout",
          "text": [
            "(1613, 12)\n"
          ]
        }
      ]
    },
    {
      "cell_type": "code",
      "metadata": {
        "colab": {
          "base_uri": "https://localhost:8080/",
          "height": 984
        },
        "id": "0_JzvC7l7kpL",
        "outputId": "c981ba55-65ea-4665-9670-c0a0b57022b4"
      },
      "source": [
        "#Select features to include in plots\n",
        "include_featues = ['Latitude','Longitude']\n",
        "\n",
        "#run print function\n",
        "print(\"Analysis of outliers\")\n",
        "plot_box_hist(df_train_new, include_featues)\n",
        "print(df_train_new.shape)\n",
        "\n",
        "print(\"After outliers have been removed\")\n",
        "for i in range(0, len(include_featues)): \n",
        "    df_train_new = remove_outliers(df_train_new,include_featues[i])\n",
        "\n",
        "#run print function\n",
        "plot_box_hist(df_train_new, include_featues)\n",
        "print(df_train_new.shape)\n"
      ],
      "execution_count": 39,
      "outputs": [
        {
          "output_type": "stream",
          "name": "stdout",
          "text": [
            "Analysis of outliers\n"
          ]
        },
        {
          "output_type": "display_data",
          "data": {
            "image/png": "[encoded data removed]",
            "text/plain": [
              "<Figure size 2160x720 with 4 Axes>"
            ]
          },
          "metadata": {}
        },
        {
          "output_type": "stream",
          "name": "stdout",
          "text": [
            "(1613, 12)\n",
            "After outliers have been removed\n"
          ]
        },
        {
          "output_type": "display_data",
          "data": {
            "image/png": "[encoded data removed]",
            "text/plain": [
              "<Figure size 2160x720 with 4 Axes>"
            ]
          },
          "metadata": {}
        },
        {
          "output_type": "stream",
          "name": "stdout",
          "text": [
            "(1572, 12)\n"
          ]
        }
      ]
    },
    {
      "cell_type": "code",
      "metadata": {
        "id": "Mywb2F-N74dv"
      },
      "source": [
        "# Drop  location inconsistent with county Dublin\n",
        "InconsistentLongitude = df_train_new[df_train_new['Longitude'] > -6].index\n",
        "df_train_new.drop(InconsistentLongitude, inplace=True)"
      ],
      "execution_count": 40,
      "outputs": []
    },
    {
      "cell_type": "code",
      "metadata": {
        "colab": {
          "base_uri": "https://localhost:8080/",
          "height": 981
        },
        "id": "188UKLmO74pE",
        "outputId": "3a875f89-689c-4d25-887e-29502147c7d9"
      },
      "source": [
        "#Select features to include in plots\n",
        "include_featues = ['Latitude','Longitude']\n",
        "\n",
        "#run print function\n",
        "print(\"Analysis of outliers\")\n",
        "plot_box_hist(df_train_new, include_featues)\n",
        "print(df_train_new.shape)\n",
        "\n",
        "print(\"After outliers have been removed\")\n",
        "for i in range(0, len(include_featues)): \n",
        "    df_train_new = remove_outliers(df_train_new,include_featues[i])\n",
        "\n",
        "#run print function\n",
        "plot_box_hist(df_train_new, include_featues)\n",
        "print(df_train_new.shape)"
      ],
      "execution_count": 41,
      "outputs": [
        {
          "output_type": "stream",
          "name": "stdout",
          "text": [
            "Analysis of outliers\n"
          ]
        },
        {
          "output_type": "display_data",
          "data": {
            "image/png": "[encoded data removed]",
            "text/plain": [
              "<Figure size 2160x720 with 4 Axes>"
            ]
          },
          "metadata": {}
        },
        {
          "output_type": "stream",
          "name": "stdout",
          "text": [
            "(1572, 12)\n",
            "After outliers have been removed\n"
          ]
        },
        {
          "output_type": "display_data",
          "data": {
            "image/png": "[encoded data removed]",
            "text/plain": [
              "<Figure size 2160x720 with 4 Axes>"
            ]
          },
          "metadata": {}
        },
        {
          "output_type": "stream",
          "name": "stdout",
          "text": [
            "(1551, 12)\n"
          ]
        }
      ]
    },
    {
      "cell_type": "code",
      "metadata": {
        "colab": {
          "base_uri": "https://localhost:8080/",
          "height": 289
        },
        "id": "l2O2NM5w7krs",
        "outputId": "9400c4ce-37e9-430f-e88a-ad307d4900ce"
      },
      "source": [
        "# show first data frame rows \n",
        "df_train_new.head()"
      ],
      "execution_count": 42,
      "outputs": [
        {
          "output_type": "execute_result",
          "data": {
            "text/html": [
              "<div>\n",
              "<style scoped>\n",
              "    .dataframe tbody tr th:only-of-type {\n",
              "        vertical-align: middle;\n",
              "    }\n",
              "\n",
              "    .dataframe tbody tr th {\n",
              "        vertical-align: top;\n",
              "    }\n",
              "\n",
              "    .dataframe thead th {\n",
              "        text-align: right;\n",
              "    }\n",
              "</style>\n",
              "<table border=\"1\" class=\"dataframe\">\n",
              "  <thead>\n",
              "    <tr style=\"text-align: right;\">\n",
              "      <th></th>\n",
              "      <th>Index</th>\n",
              "      <th>Location</th>\n",
              "      <th>Num_Bathrooms</th>\n",
              "      <th>Num_Beds</th>\n",
              "      <th>BER_class</th>\n",
              "      <th>Description</th>\n",
              "      <th>Features</th>\n",
              "      <th>Latitude</th>\n",
              "      <th>Longitude</th>\n",
              "      <th>Type</th>\n",
              "      <th>Surface</th>\n",
              "      <th>Price</th>\n",
              "    </tr>\n",
              "  </thead>\n",
              "  <tbody>\n",
              "    <tr>\n",
              "      <th>0</th>\n",
              "      <td>1</td>\n",
              "      <td>Ongar</td>\n",
              "      <td>2</td>\n",
              "      <td>2</td>\n",
              "      <td>C3</td>\n",
              "      <td>DNG are delighted to present to the market no....</td>\n",
              "      <td>None</td>\n",
              "      <td>53.396659</td>\n",
              "      <td>-6.438791</td>\n",
              "      <td>apartment</td>\n",
              "      <td>67.00</td>\n",
              "      <td>195000</td>\n",
              "    </tr>\n",
              "    <tr>\n",
              "      <th>1</th>\n",
              "      <td>2</td>\n",
              "      <td>North Strand</td>\n",
              "      <td>1</td>\n",
              "      <td>2</td>\n",
              "      <td>D1</td>\n",
              "      <td>13 Northbrook Terrace is a charming red brick ...</td>\n",
              "      <td>Bight and Spacious interior\\nNumerous original...</td>\n",
              "      <td>53.357129</td>\n",
              "      <td>-6.239779</td>\n",
              "      <td>terraced</td>\n",
              "      <td>95.97</td>\n",
              "      <td>425000</td>\n",
              "    </tr>\n",
              "    <tr>\n",
              "      <th>2</th>\n",
              "      <td>3</td>\n",
              "      <td>Stepaside</td>\n",
              "      <td>3</td>\n",
              "      <td>3</td>\n",
              "      <td>A3</td>\n",
              "      <td>Welcome to No. 6 Cotter Close, an immaculately...</td>\n",
              "      <td>Special Features\\nLarge rear garden\\nGenerous ...</td>\n",
              "      <td>53.266468</td>\n",
              "      <td>-6.222771</td>\n",
              "      <td>semi-detached</td>\n",
              "      <td>107.00</td>\n",
              "      <td>535000</td>\n",
              "    </tr>\n",
              "    <tr>\n",
              "      <th>3</th>\n",
              "      <td>4</td>\n",
              "      <td>Cabinteely</td>\n",
              "      <td>1</td>\n",
              "      <td>3</td>\n",
              "      <td>E1</td>\n",
              "      <td>Welcome to 3 Sycamore Walk!\\n\\r\\nEnjoying a pr...</td>\n",
              "      <td>Wonderful 3 bed detached bungalow.     \\nAccom...</td>\n",
              "      <td>53.261600</td>\n",
              "      <td>-6.166738</td>\n",
              "      <td>detached</td>\n",
              "      <td>81.00</td>\n",
              "      <td>499000</td>\n",
              "    </tr>\n",
              "    <tr>\n",
              "      <th>5</th>\n",
              "      <td>6</td>\n",
              "      <td>Glasnevin</td>\n",
              "      <td>1</td>\n",
              "      <td>3</td>\n",
              "      <td>E1</td>\n",
              "      <td>Property Team Lappin Estates take great pleasu...</td>\n",
              "      <td>None</td>\n",
              "      <td>53.380367</td>\n",
              "      <td>-6.279310</td>\n",
              "      <td>terraced</td>\n",
              "      <td>140.00</td>\n",
              "      <td>360000</td>\n",
              "    </tr>\n",
              "  </tbody>\n",
              "</table>\n",
              "</div>"
            ],
            "text/plain": [
              "   Index      Location  Num_Bathrooms  ...           Type Surface   Price\n",
              "0      1         Ongar              2  ...      apartment   67.00  195000\n",
              "1      2  North Strand              1  ...       terraced   95.97  425000\n",
              "2      3     Stepaside              3  ...  semi-detached  107.00  535000\n",
              "3      4    Cabinteely              1  ...       detached   81.00  499000\n",
              "5      6     Glasnevin              1  ...       terraced  140.00  360000\n",
              "\n",
              "[5 rows x 12 columns]"
            ]
          },
          "metadata": {},
          "execution_count": 42
        }
      ]
    },
    {
      "cell_type": "code",
      "metadata": {
        "colab": {
          "base_uri": "https://localhost:8080/",
          "height": 289
        },
        "id": "dAQ8uHsz8eep",
        "outputId": "3fd734ef-e0d2-4eb2-cc34-bf7c8ac76975"
      },
      "source": [
        "# show first data frame rows \n",
        "df_test_new.head()"
      ],
      "execution_count": 43,
      "outputs": [
        {
          "output_type": "execute_result",
          "data": {
            "text/html": [
              "<div>\n",
              "<style scoped>\n",
              "    .dataframe tbody tr th:only-of-type {\n",
              "        vertical-align: middle;\n",
              "    }\n",
              "\n",
              "    .dataframe tbody tr th {\n",
              "        vertical-align: top;\n",
              "    }\n",
              "\n",
              "    .dataframe thead th {\n",
              "        text-align: right;\n",
              "    }\n",
              "</style>\n",
              "<table border=\"1\" class=\"dataframe\">\n",
              "  <thead>\n",
              "    <tr style=\"text-align: right;\">\n",
              "      <th></th>\n",
              "      <th>Index</th>\n",
              "      <th>Location</th>\n",
              "      <th>Num_Bathrooms</th>\n",
              "      <th>Num_Beds</th>\n",
              "      <th>BER_class</th>\n",
              "      <th>Description</th>\n",
              "      <th>Features</th>\n",
              "      <th>Latitude</th>\n",
              "      <th>Longitude</th>\n",
              "      <th>Type</th>\n",
              "      <th>Surface</th>\n",
              "    </tr>\n",
              "  </thead>\n",
              "  <tbody>\n",
              "    <tr>\n",
              "      <th>0</th>\n",
              "      <td>1639</td>\n",
              "      <td>Milltown</td>\n",
              "      <td>2</td>\n",
              "      <td>2</td>\n",
              "      <td>C2</td>\n",
              "      <td>OMD Estate Agents are delighted to present thi...</td>\n",
              "      <td>Designated parking spaces\\nPresented in pristi...</td>\n",
              "      <td>53.316269</td>\n",
              "      <td>-6.243391</td>\n",
              "      <td>townhouse</td>\n",
              "      <td>65.0</td>\n",
              "    </tr>\n",
              "    <tr>\n",
              "      <th>1</th>\n",
              "      <td>1640</td>\n",
              "      <td>Glasnevin</td>\n",
              "      <td>2</td>\n",
              "      <td>5</td>\n",
              "      <td>E1</td>\n",
              "      <td>Welcome to Saint Anthony No.214 Glasnevin Aven...</td>\n",
              "      <td>Modern Worcester Gas Boiler\\nSingle Glazed Win...</td>\n",
              "      <td>53.390769</td>\n",
              "      <td>-6.281936</td>\n",
              "      <td>semi-detached</td>\n",
              "      <td>142.0</td>\n",
              "    </tr>\n",
              "    <tr>\n",
              "      <th>2</th>\n",
              "      <td>1641</td>\n",
              "      <td>Dalkey</td>\n",
              "      <td>1</td>\n",
              "      <td>2</td>\n",
              "      <td>G</td>\n",
              "      <td>Located in this ever popular road, on grounds ...</td>\n",
              "      <td>2 BEDROOM DETACHED HOUSE ON  1/5th ACRE\\nOIL F...</td>\n",
              "      <td>53.272486</td>\n",
              "      <td>-6.108675</td>\n",
              "      <td>detached</td>\n",
              "      <td>80.0</td>\n",
              "    </tr>\n",
              "    <tr>\n",
              "      <th>3</th>\n",
              "      <td>1642</td>\n",
              "      <td>Raheny</td>\n",
              "      <td>4</td>\n",
              "      <td>4</td>\n",
              "      <td>A2</td>\n",
              "      <td>DNG are delighted to represent the sale of thi...</td>\n",
              "      <td>Detached House\\nSouth Facing Garden\\nOff Stree...</td>\n",
              "      <td>53.376932</td>\n",
              "      <td>-6.185334</td>\n",
              "      <td>detached</td>\n",
              "      <td>209.0</td>\n",
              "    </tr>\n",
              "    <tr>\n",
              "      <th>4</th>\n",
              "      <td>1643</td>\n",
              "      <td>Crumlin</td>\n",
              "      <td>2</td>\n",
              "      <td>3</td>\n",
              "      <td>F</td>\n",
              "      <td>A unique opportunity to acquire this red brick...</td>\n",
              "      <td>Red brick end of terrace property \\nC. 108sqm ...</td>\n",
              "      <td>53.327208</td>\n",
              "      <td>-6.308938</td>\n",
              "      <td>end-of-terrace</td>\n",
              "      <td>108.0</td>\n",
              "    </tr>\n",
              "  </tbody>\n",
              "</table>\n",
              "</div>"
            ],
            "text/plain": [
              "   Index   Location  Num_Bathrooms  ...  Longitude            Type Surface\n",
              "0   1639   Milltown              2  ...  -6.243391       townhouse    65.0\n",
              "1   1640  Glasnevin              2  ...  -6.281936   semi-detached   142.0\n",
              "2   1641     Dalkey              1  ...  -6.108675        detached    80.0\n",
              "3   1642     Raheny              4  ...  -6.185334        detached   209.0\n",
              "4   1643    Crumlin              2  ...  -6.308938  end-of-terrace   108.0\n",
              "\n",
              "[5 rows x 11 columns]"
            ]
          },
          "metadata": {},
          "execution_count": 43
        }
      ]
    },
    {
      "cell_type": "code",
      "metadata": {
        "colab": {
          "base_uri": "https://localhost:8080/"
        },
        "id": "avEyxHkT8ehR",
        "outputId": "4d0f7511-3c1d-45dc-cbab-88d2f0d4d55c"
      },
      "source": [
        "print('Orginal train shape') \n",
        "print(df_train.shape)\n",
        "print('New train shape')\n",
        "print(df_train_new.shape)\n",
        "print('Orginal test shape') \n",
        "print(df_test.shape)\n",
        "print('New test shape') \n",
        "print(df_test_new.shape)"
      ],
      "execution_count": 44,
      "outputs": [
        {
          "output_type": "stream",
          "name": "stdout",
          "text": [
            "Orginal train shape\n",
            "(1638, 13)\n",
            "New train shape\n",
            "(1551, 12)\n",
            "Orginal test shape\n",
            "(702, 12)\n",
            "New test shape\n",
            "(702, 11)\n"
          ]
        }
      ]
    },
    {
      "cell_type": "markdown",
      "metadata": {
        "id": "Ycl7NRjM-5G1"
      },
      "source": [
        "# Preprocessing the textual features"
      ]
    },
    {
      "cell_type": "code",
      "metadata": {
        "colab": {
          "base_uri": "https://localhost:8080/"
        },
        "id": "Ki-sbK24AfNN",
        "outputId": "9911bab2-fe26-43b8-e7f1-2004d4c0ce56"
      },
      "source": [
        "import nltk\n",
        "nltk.download('stopwords')"
      ],
      "execution_count": 45,
      "outputs": [
        {
          "output_type": "stream",
          "name": "stdout",
          "text": [
            "[nltk_data] Downloading package stopwords to /root/nltk_data...\n",
            "[nltk_data]   Package stopwords is already up-to-date!\n"
          ]
        },
        {
          "output_type": "execute_result",
          "data": {
            "text/plain": [
              "True"
            ]
          },
          "metadata": {},
          "execution_count": 45
        }
      ]
    },
    {
      "cell_type": "code",
      "metadata": {
        "id": "_3vuaJ-3-z0I"
      },
      "source": [
        "# Using SnowballStemmer to remove stopwords and stemming\n",
        "stemmer = SnowballStemmer('english', ignore_stopwords=False)"
      ],
      "execution_count": 46,
      "outputs": []
    },
    {
      "cell_type": "code",
      "metadata": {
        "id": "XQjuPAzi-z-A"
      },
      "source": [
        "# Downloading a stopwords reference to filter out these words from the dataset\n",
        "stop = set(stopwords.words('english'))"
      ],
      "execution_count": 47,
      "outputs": []
    },
    {
      "cell_type": "code",
      "metadata": {
        "id": "MdjFoy_Q_Baw"
      },
      "source": [
        "text_features = ['Location', 'Description', 'Features', 'BER_class', 'Type']\n",
        "index_list = df_train_new['Index']\n",
        "index_list_test = df_test_new['Index']"
      ],
      "execution_count": 48,
      "outputs": []
    },
    {
      "cell_type": "code",
      "metadata": {
        "id": "HVf4Evr6-0Af"
      },
      "source": [
        "# Preprocessing training and test features\n",
        "for i in text_features:\n",
        "    # Removing numbers and single letters from the dataset, except for BER rating\n",
        "    if i != 'BER_class':\n",
        "        df_train_new[i] = df_train_new[i].str.replace(\"[^a-zA-Z#]\", \" \")\n",
        "        df_test_new[i] = df_test_new[i].str.replace(\"[^a-zA-Z#]\", \" \")\n",
        "    # Removing single letters\n",
        "    df_train_new[i] = df_train_new[i].apply(lambda x: ' '.join([w for w in x.split() if len(w)>1]))\n",
        "    df_test_new[i] = df_test_new[i].apply(lambda x: ' '.join([w for w in x.split() if len(w)>1]))\n",
        "    \n",
        "    # Make all text lower case\n",
        "    df_train_new[i] = df_train_new[i].apply(lambda x: x.lower())\n",
        "    df_test_new[i] = df_test_new[i].apply(lambda x: x.lower())\n",
        "    \n",
        "    # Detokenisation\n",
        "    tokens = df_train_new[i].apply(lambda x: x.split())\n",
        "    tokens_test = df_test_new[i].apply(lambda x: x.split())\n",
        "    \n",
        "    # remove stop-words\n",
        "    tokens = tokens.apply(lambda x: [item for item in x if item not in stop])\n",
        "    tokens_test = tokens_test.apply(lambda x: [item for item in x if item not in stop])\n",
        "    \n",
        "    # Remove tokens\n",
        "    no_tokens = []\n",
        "    no_tokens_test = []\n",
        "    \n",
        "    for j in index_list-1:\n",
        "        t = ' '.join(tokens[j])\n",
        "        no_tokens.append(t)\n",
        "        \n",
        "    for k in index_list_test-1639:\n",
        "        t = ' '.join(tokens_test[k])\n",
        "        no_tokens_test.append(t)\n",
        "    \n",
        "    # Replace feature with the de-tokenised text\n",
        "    df_train_new[i] = no_tokens\n",
        "    df_test_new[i] = no_tokens_test"
      ],
      "execution_count": 49,
      "outputs": []
    },
    {
      "cell_type": "markdown",
      "metadata": {
        "id": "2PMoPLlUJ1Ly"
      },
      "source": [
        "## Training & Test Data"
      ]
    },
    {
      "cell_type": "code",
      "metadata": {
        "id": "C7wnOB3w9Y9b"
      },
      "source": [
        "# Seperating the predictor variable from the data set\n",
        "X = df_train_new.loc[:, df_train_new.columns != 'Price']\n",
        "y = df_train_new['Price']"
      ],
      "execution_count": 50,
      "outputs": []
    },
    {
      "cell_type": "code",
      "metadata": {
        "id": "xX0ecqTv9Y_-"
      },
      "source": [
        "# training: 70% (0.7), test: 30% (0.3) \n",
        "# you could try any other combination \n",
        "# but consider 50% of training as the low boundary\n",
        "X_train,X_val,y_train,y_val = train_test_split(X, y, test_size=0.3)"
      ],
      "execution_count": 51,
      "outputs": []
    },
    {
      "cell_type": "code",
      "metadata": {
        "id": "jIas1CIl9ZCs"
      },
      "source": [
        "# Converting to np arrays\n",
        "X_train = X_train.to_numpy()\n",
        "X_val = X_val.to_numpy()\n",
        "y_train = y_train.to_numpy()\n",
        "y_val = y_val.to_numpy()\n",
        "X_test = df_test_new.to_numpy()"
      ],
      "execution_count": 52,
      "outputs": []
    },
    {
      "cell_type": "markdown",
      "metadata": {
        "id": "G5oRiZxo2gpN"
      },
      "source": [
        "# NATURAL LANGUAGE PROCESSING"
      ]
    },
    {
      "cell_type": "markdown",
      "metadata": {
        "id": "e8s0Wi3a8yjN"
      },
      "source": [
        "Natural language processing ([NLP](https://en.wikipedia.org/wiki/Natural_language_processing)) is a subfield of linguistics, computer science, and artificial intelligence.\n",
        "\n",
        "* NLP concerned with the interactions between computers and human language.\n",
        "* In particular how to program computers to process and analyze large amounts of natural language data. \n",
        "* The goal is a computer capable of \"understanding\" the contents of documents.\n",
        "* Including the contextual nuances of the language within them. \n",
        "* The technology can then accurately extract information and insights contained in the documents.\n",
        "* As well as categorize and organize the documents themselves. "
      ]
    },
    {
      "cell_type": "markdown",
      "metadata": {
        "id": "oValFP-z2gpN"
      },
      "source": [
        "Your comments, explanation, and references here."
      ]
    },
    {
      "cell_type": "code",
      "metadata": {
        "id": "e_WND6NP2gpN"
      },
      "source": [
        "# TfidVectorizer\n",
        "vectorizer = TfidfVectorizer(stop_words='english', max_features= 500, max_df=0.5, smooth_idf=True)"
      ],
      "execution_count": 53,
      "outputs": []
    },
    {
      "cell_type": "code",
      "metadata": {
        "id": "JtKRtj-6KLp6"
      },
      "source": [
        "# NLP is only applicable to the features Location, Description and Features\n",
        "\n",
        "# Features to store just the textual information\n",
        "X_train_nlp = []\n",
        "X_val_nlp = []\n",
        "X_test_nlp = []\n",
        "\n",
        "for i in range(len(X_train)):\n",
        "    X_train_nlp.append([X_train[i][1], X_train[i][4], X_train[i][5], X_train[i][6], X_train[i][9]])\n",
        "    \n",
        "for i in range(len(X_val)):\n",
        "    X_val_nlp.append([X_val[i][1], X_val[i][4], X_val[i][5], X_val[i][6], X_val[i][9]])\n",
        "    \n",
        "for i in range(len(X_test)):\n",
        "    X_test_nlp.append([X_test[i][1], X_test[i][4], X_test[i][5], X_test[i][6], X_test[i][9]])"
      ],
      "execution_count": 54,
      "outputs": []
    },
    {
      "cell_type": "code",
      "metadata": {
        "id": "-KIxtU12KLsq"
      },
      "source": [
        "# Joining all words for all features for each entry into one string\n",
        "for i in range(len(X_train_nlp)):\n",
        "    temp = ' '.join(X_train_nlp[i])\n",
        "    X_train_nlp[i] = temp\n",
        "\n",
        "for i in range(len(X_val_nlp)):\n",
        "    temp = ' '.join(X_val_nlp[i])\n",
        "    X_val_nlp[i] = temp\n",
        "    \n",
        "for i in range(len(X_test_nlp)):\n",
        "    temp = ' '.join(X_test_nlp[i])\n",
        "    X_test_nlp[i] = temp"
      ],
      "execution_count": 55,
      "outputs": []
    },
    {
      "cell_type": "code",
      "metadata": {
        "id": "1BH778u1KLvi"
      },
      "source": [
        "# Running TfidVectorizer on the input data\n",
        "X_train_nlp = vectorizer.fit_transform(X_train_nlp)\n",
        "X_val_nlp = vectorizer.fit_transform(X_val_nlp)\n",
        "X_test_nlp = vectorizer.fit_transform(X_test_nlp)"
      ],
      "execution_count": 56,
      "outputs": []
    },
    {
      "cell_type": "code",
      "metadata": {
        "colab": {
          "base_uri": "https://localhost:8080/"
        },
        "id": "yJtrqkxuKLx4",
        "outputId": "34143245-cc7b-4a6f-d350-3383cc442bce"
      },
      "source": [
        "# create a model\n",
        "MNB = MultinomialNB()\n",
        "\n",
        "# fit to data\n",
        "MNB.fit(X_train_nlp, y_train)"
      ],
      "execution_count": 57,
      "outputs": [
        {
          "output_type": "execute_result",
          "data": {
            "text/plain": [
              "MultinomialNB(alpha=1.0, class_prior=None, fit_prior=True)"
            ]
          },
          "metadata": {},
          "execution_count": 57
        }
      ]
    },
    {
      "cell_type": "code",
      "metadata": {
        "id": "Ispfbkc-KL0B"
      },
      "source": [
        "y_pred_train = MNB.predict(X_train_nlp)\n",
        "#print('Training prediction\\t', y_pred_train)\n",
        "\n",
        "y_pred_val = MNB.predict(X_val_nlp)\n",
        "#print('Validation prediction\\t\\t', y_pred_val)\n",
        "\n",
        "y_pred_test = MNB.predict(X_test_nlp)\n",
        "#print('Test prediction\\t\\t', y_pred_test)"
      ],
      "execution_count": 58,
      "outputs": []
    },
    {
      "cell_type": "code",
      "metadata": {
        "colab": {
          "base_uri": "https://localhost:8080/"
        },
        "id": "E3VPXo1cKkr3",
        "outputId": "5dbfec00-317b-488e-a9da-1f32cbcbd6b9"
      },
      "source": [
        "# Determine accuracy on the training set\n",
        "print(\"Training Accuracy: \"+str(accuracy_score(y_train, y_pred_train)))\n",
        "\n",
        "# Determine accuracy on the validation set\n",
        "print(\"Validation Accuracy: \"+str(accuracy_score(y_val, y_pred_val)))"
      ],
      "execution_count": 59,
      "outputs": [
        {
          "output_type": "stream",
          "name": "stdout",
          "text": [
            "Training Accuracy: 0.19170506912442398\n",
            "Validation Accuracy: 0.017167381974248927\n"
          ]
        }
      ]
    },
    {
      "cell_type": "code",
      "metadata": {
        "id": "DKMvEvsxKkut"
      },
      "source": [
        "index = df_test['Index'].to_numpy()\n",
        "nlp_prediction = pd.DataFrame({'Index': index, 'Price': y_pred_test}, columns=['Index', 'Price'])\n",
        "nlp_prediction.to_csv(\"ET5003_Kaggle_David_Nolan_20146744.csv\",index=False)"
      ],
      "execution_count": 60,
      "outputs": []
    },
    {
      "cell_type": "markdown",
      "metadata": {
        "id": "bJFJQxAS9HZK"
      },
      "source": [
        "# PIECEWISE REGRESSION"
      ]
    },
    {
      "cell_type": "markdown",
      "metadata": {
        "id": "QkRchZtf6IV-"
      },
      "source": [
        "**Piecewise regression**, extract from [Wikipedia](https://en.wikipedia.org/wiki/Segmented_regression):\n",
        "\n",
        "Segmented regression, also known as piecewise regression or broken-stick regression, is a method in regression analysis in which the independent variable is partitioned into intervals and a separate line segment is fit to each interval. \n",
        "\n",
        "* Segmented regression analysis can also be performed on \n",
        "multivariate data by partitioning the various independent variables. \n",
        "* Segmented regression is useful when the independent variables, clustered into different groups, exhibit different relationships between the variables in these regions. \n",
        "\n",
        "* The boundaries between the segments are breakpoints.\n",
        "\n",
        "* Segmented linear regression is segmented regression whereby the relations in the intervals are obtained by linear regression. "
      ]
    },
    {
      "cell_type": "markdown",
      "metadata": {
        "id": "po84zvge2NS7"
      },
      "source": [
        "Your comments, explanation, and references here."
      ]
    },
    {
      "cell_type": "code",
      "metadata": {
        "id": "pXX7Mq2Y2NrK"
      },
      "source": [
        "# Drop the Text Based Features, Low Value Features that I dont plan to use for NLP\n",
        "drop_features = ['Index','Location', 'Description', 'Features']\n",
        "\n",
        "df_train_new = df_train.drop(drop_features, axis=1)\n",
        "df_test_new = df_test.drop(drop_features, axis=1)"
      ],
      "execution_count": 61,
      "outputs": []
    },
    {
      "cell_type": "code",
      "metadata": {
        "colab": {
          "base_uri": "https://localhost:8080/",
          "height": 204
        },
        "id": "_vMKwjSFC13C",
        "outputId": "f56d24d2-b224-4924-cacd-96ad16e25d88"
      },
      "source": [
        "df_train_new.head()"
      ],
      "execution_count": 62,
      "outputs": [
        {
          "output_type": "execute_result",
          "data": {
            "text/html": [
              "<div>\n",
              "<style scoped>\n",
              "    .dataframe tbody tr th:only-of-type {\n",
              "        vertical-align: middle;\n",
              "    }\n",
              "\n",
              "    .dataframe tbody tr th {\n",
              "        vertical-align: top;\n",
              "    }\n",
              "\n",
              "    .dataframe thead th {\n",
              "        text-align: right;\n",
              "    }\n",
              "</style>\n",
              "<table border=\"1\" class=\"dataframe\">\n",
              "  <thead>\n",
              "    <tr style=\"text-align: right;\">\n",
              "      <th></th>\n",
              "      <th>ID</th>\n",
              "      <th>Num_Bathrooms</th>\n",
              "      <th>Num_Beds</th>\n",
              "      <th>BER_class</th>\n",
              "      <th>Latitude</th>\n",
              "      <th>Longitude</th>\n",
              "      <th>Type</th>\n",
              "      <th>Surface</th>\n",
              "      <th>Price</th>\n",
              "    </tr>\n",
              "  </thead>\n",
              "  <tbody>\n",
              "    <tr>\n",
              "      <th>0</th>\n",
              "      <td>12409116</td>\n",
              "      <td>2</td>\n",
              "      <td>2</td>\n",
              "      <td>C3</td>\n",
              "      <td>53.396659</td>\n",
              "      <td>-6.438791</td>\n",
              "      <td>apartment</td>\n",
              "      <td>67.00</td>\n",
              "      <td>195000</td>\n",
              "    </tr>\n",
              "    <tr>\n",
              "      <th>1</th>\n",
              "      <td>12320330</td>\n",
              "      <td>1</td>\n",
              "      <td>2</td>\n",
              "      <td>D1</td>\n",
              "      <td>53.357129</td>\n",
              "      <td>-6.239779</td>\n",
              "      <td>terraced</td>\n",
              "      <td>95.97</td>\n",
              "      <td>425000</td>\n",
              "    </tr>\n",
              "    <tr>\n",
              "      <th>2</th>\n",
              "      <td>12405953</td>\n",
              "      <td>3</td>\n",
              "      <td>3</td>\n",
              "      <td>A3</td>\n",
              "      <td>53.266468</td>\n",
              "      <td>-6.222771</td>\n",
              "      <td>semi-detached</td>\n",
              "      <td>107.00</td>\n",
              "      <td>535000</td>\n",
              "    </tr>\n",
              "    <tr>\n",
              "      <th>3</th>\n",
              "      <td>12202582</td>\n",
              "      <td>1</td>\n",
              "      <td>3</td>\n",
              "      <td>E1</td>\n",
              "      <td>53.261600</td>\n",
              "      <td>-6.166738</td>\n",
              "      <td>detached</td>\n",
              "      <td>81.00</td>\n",
              "      <td>499000</td>\n",
              "    </tr>\n",
              "    <tr>\n",
              "      <th>4</th>\n",
              "      <td>12299336</td>\n",
              "      <td>3</td>\n",
              "      <td>4</td>\n",
              "      <td>D1</td>\n",
              "      <td>53.550731</td>\n",
              "      <td>-6.121415</td>\n",
              "      <td>detached</td>\n",
              "      <td>153.00</td>\n",
              "      <td>510000</td>\n",
              "    </tr>\n",
              "  </tbody>\n",
              "</table>\n",
              "</div>"
            ],
            "text/plain": [
              "         ID  Num_Bathrooms  Num_Beds  ...           Type  Surface   Price\n",
              "0  12409116              2         2  ...      apartment    67.00  195000\n",
              "1  12320330              1         2  ...       terraced    95.97  425000\n",
              "2  12405953              3         3  ...  semi-detached   107.00  535000\n",
              "3  12202582              1         3  ...       detached    81.00  499000\n",
              "4  12299336              3         4  ...       detached   153.00  510000\n",
              "\n",
              "[5 rows x 9 columns]"
            ]
          },
          "metadata": {},
          "execution_count": 62
        }
      ]
    },
    {
      "cell_type": "code",
      "metadata": {
        "id": "-xsVeBQSC1_A"
      },
      "source": [
        "# Replace all ber values with equivalant decimal values. Ignore Nan.\n",
        "df_train_new.dropna(subset=['BER_class'], inplace=True)\n",
        "ber_features = df_train_new['BER_class'].sort_values().unique()\n",
        "\n",
        "new_ber_values = np.arange(1, len(ber_features) + 1).tolist()\n",
        "\n",
        "df_train_new['BER_class'].replace(to_replace=ber_features,\n",
        "                                      value=new_ber_values,\n",
        "                                      inplace=True)\n",
        "\n",
        "df_test_new.dropna(subset=['BER_class'], inplace=True)\n",
        "df_test_new['BER_class'].replace(to_replace=ber_features,\n",
        "                                      value=new_ber_values,\n",
        "                                      inplace=True)"
      ],
      "execution_count": 63,
      "outputs": []
    },
    {
      "cell_type": "code",
      "metadata": {
        "colab": {
          "base_uri": "https://localhost:8080/",
          "height": 204
        },
        "id": "kKQTZY6MC2Dl",
        "outputId": "61cbfbb2-7610-4a56-fd46-153d1531c6db"
      },
      "source": [
        "df_train_new.head()"
      ],
      "execution_count": 64,
      "outputs": [
        {
          "output_type": "execute_result",
          "data": {
            "text/html": [
              "<div>\n",
              "<style scoped>\n",
              "    .dataframe tbody tr th:only-of-type {\n",
              "        vertical-align: middle;\n",
              "    }\n",
              "\n",
              "    .dataframe tbody tr th {\n",
              "        vertical-align: top;\n",
              "    }\n",
              "\n",
              "    .dataframe thead th {\n",
              "        text-align: right;\n",
              "    }\n",
              "</style>\n",
              "<table border=\"1\" class=\"dataframe\">\n",
              "  <thead>\n",
              "    <tr style=\"text-align: right;\">\n",
              "      <th></th>\n",
              "      <th>ID</th>\n",
              "      <th>Num_Bathrooms</th>\n",
              "      <th>Num_Beds</th>\n",
              "      <th>BER_class</th>\n",
              "      <th>Latitude</th>\n",
              "      <th>Longitude</th>\n",
              "      <th>Type</th>\n",
              "      <th>Surface</th>\n",
              "      <th>Price</th>\n",
              "    </tr>\n",
              "  </thead>\n",
              "  <tbody>\n",
              "    <tr>\n",
              "      <th>0</th>\n",
              "      <td>12409116</td>\n",
              "      <td>2</td>\n",
              "      <td>2</td>\n",
              "      <td>9</td>\n",
              "      <td>53.396659</td>\n",
              "      <td>-6.438791</td>\n",
              "      <td>apartment</td>\n",
              "      <td>67.00</td>\n",
              "      <td>195000</td>\n",
              "    </tr>\n",
              "    <tr>\n",
              "      <th>1</th>\n",
              "      <td>12320330</td>\n",
              "      <td>1</td>\n",
              "      <td>2</td>\n",
              "      <td>10</td>\n",
              "      <td>53.357129</td>\n",
              "      <td>-6.239779</td>\n",
              "      <td>terraced</td>\n",
              "      <td>95.97</td>\n",
              "      <td>425000</td>\n",
              "    </tr>\n",
              "    <tr>\n",
              "      <th>2</th>\n",
              "      <td>12405953</td>\n",
              "      <td>3</td>\n",
              "      <td>3</td>\n",
              "      <td>3</td>\n",
              "      <td>53.266468</td>\n",
              "      <td>-6.222771</td>\n",
              "      <td>semi-detached</td>\n",
              "      <td>107.00</td>\n",
              "      <td>535000</td>\n",
              "    </tr>\n",
              "    <tr>\n",
              "      <th>3</th>\n",
              "      <td>12202582</td>\n",
              "      <td>1</td>\n",
              "      <td>3</td>\n",
              "      <td>12</td>\n",
              "      <td>53.261600</td>\n",
              "      <td>-6.166738</td>\n",
              "      <td>detached</td>\n",
              "      <td>81.00</td>\n",
              "      <td>499000</td>\n",
              "    </tr>\n",
              "    <tr>\n",
              "      <th>4</th>\n",
              "      <td>12299336</td>\n",
              "      <td>3</td>\n",
              "      <td>4</td>\n",
              "      <td>10</td>\n",
              "      <td>53.550731</td>\n",
              "      <td>-6.121415</td>\n",
              "      <td>detached</td>\n",
              "      <td>153.00</td>\n",
              "      <td>510000</td>\n",
              "    </tr>\n",
              "  </tbody>\n",
              "</table>\n",
              "</div>"
            ],
            "text/plain": [
              "         ID  Num_Bathrooms  Num_Beds  ...           Type  Surface   Price\n",
              "0  12409116              2         2  ...      apartment    67.00  195000\n",
              "1  12320330              1         2  ...       terraced    95.97  425000\n",
              "2  12405953              3         3  ...  semi-detached   107.00  535000\n",
              "3  12202582              1         3  ...       detached    81.00  499000\n",
              "4  12299336              3         4  ...       detached   153.00  510000\n",
              "\n",
              "[5 rows x 9 columns]"
            ]
          },
          "metadata": {},
          "execution_count": 64
        }
      ]
    },
    {
      "cell_type": "code",
      "metadata": {
        "id": "l_C7YlNNC2Ky"
      },
      "source": [
        "df_train_new = df_train_new.drop(['ID'], axis=1)\n",
        "df_test_new = df_test_new.drop(['ID'], axis=1)"
      ],
      "execution_count": 65,
      "outputs": []
    },
    {
      "cell_type": "code",
      "metadata": {
        "id": "47O-Y6P3DzlR"
      },
      "source": [
        "# Replace property type\n",
        "replace_ptype_features = ['apartment', 'studio', 'duplex', 'townhouse', 'terraced', 'end-of-terrace',\n",
        "                          'semi-detached', 'detached', 'bungalow', 'site' ]\n",
        "\n",
        "replace_values = np.arange(1, len(replace_ptype_features) + 1).tolist()\n",
        "\n",
        "# Apply basic conversion to the property type\n",
        "df_train_new['Type'].replace(to_replace=replace_ptype_features,\n",
        "                                      value=replace_values,\n",
        "                                      inplace=True)\n",
        "\n",
        "df_test_new['Type'].replace(to_replace=replace_ptype_features,\n",
        "                                      value=replace_values,\n",
        "                                      inplace=True)\n",
        "# Remove columns with 0 - causes problems for the scalers used below\n",
        "df_train_new = df_train_new[(df_train_new.Num_Beds>0)]\n",
        "\n",
        "# Also drops all sites - this is intended\n",
        "df_train_new = df_train_new[(df_train_new.Num_Bathrooms>0)]\n",
        "\n",
        "df_train_new = df_train_new[(df_train_new.Price>0)]"
      ],
      "execution_count": 66,
      "outputs": []
    },
    {
      "cell_type": "code",
      "metadata": {
        "colab": {
          "base_uri": "https://localhost:8080/",
          "height": 204
        },
        "id": "ZMnl1NkDDznt",
        "outputId": "a093eb6e-163c-4ea2-ce3e-baead03b30c5"
      },
      "source": [
        "df_train_new.head()"
      ],
      "execution_count": 67,
      "outputs": [
        {
          "output_type": "execute_result",
          "data": {
            "text/html": [
              "<div>\n",
              "<style scoped>\n",
              "    .dataframe tbody tr th:only-of-type {\n",
              "        vertical-align: middle;\n",
              "    }\n",
              "\n",
              "    .dataframe tbody tr th {\n",
              "        vertical-align: top;\n",
              "    }\n",
              "\n",
              "    .dataframe thead th {\n",
              "        text-align: right;\n",
              "    }\n",
              "</style>\n",
              "<table border=\"1\" class=\"dataframe\">\n",
              "  <thead>\n",
              "    <tr style=\"text-align: right;\">\n",
              "      <th></th>\n",
              "      <th>Num_Bathrooms</th>\n",
              "      <th>Num_Beds</th>\n",
              "      <th>BER_class</th>\n",
              "      <th>Latitude</th>\n",
              "      <th>Longitude</th>\n",
              "      <th>Type</th>\n",
              "      <th>Surface</th>\n",
              "      <th>Price</th>\n",
              "    </tr>\n",
              "  </thead>\n",
              "  <tbody>\n",
              "    <tr>\n",
              "      <th>0</th>\n",
              "      <td>2</td>\n",
              "      <td>2</td>\n",
              "      <td>9</td>\n",
              "      <td>53.396659</td>\n",
              "      <td>-6.438791</td>\n",
              "      <td>1</td>\n",
              "      <td>67.00</td>\n",
              "      <td>195000</td>\n",
              "    </tr>\n",
              "    <tr>\n",
              "      <th>1</th>\n",
              "      <td>1</td>\n",
              "      <td>2</td>\n",
              "      <td>10</td>\n",
              "      <td>53.357129</td>\n",
              "      <td>-6.239779</td>\n",
              "      <td>5</td>\n",
              "      <td>95.97</td>\n",
              "      <td>425000</td>\n",
              "    </tr>\n",
              "    <tr>\n",
              "      <th>2</th>\n",
              "      <td>3</td>\n",
              "      <td>3</td>\n",
              "      <td>3</td>\n",
              "      <td>53.266468</td>\n",
              "      <td>-6.222771</td>\n",
              "      <td>7</td>\n",
              "      <td>107.00</td>\n",
              "      <td>535000</td>\n",
              "    </tr>\n",
              "    <tr>\n",
              "      <th>3</th>\n",
              "      <td>1</td>\n",
              "      <td>3</td>\n",
              "      <td>12</td>\n",
              "      <td>53.261600</td>\n",
              "      <td>-6.166738</td>\n",
              "      <td>8</td>\n",
              "      <td>81.00</td>\n",
              "      <td>499000</td>\n",
              "    </tr>\n",
              "    <tr>\n",
              "      <th>4</th>\n",
              "      <td>3</td>\n",
              "      <td>4</td>\n",
              "      <td>10</td>\n",
              "      <td>53.550731</td>\n",
              "      <td>-6.121415</td>\n",
              "      <td>8</td>\n",
              "      <td>153.00</td>\n",
              "      <td>510000</td>\n",
              "    </tr>\n",
              "  </tbody>\n",
              "</table>\n",
              "</div>"
            ],
            "text/plain": [
              "   Num_Bathrooms  Num_Beds  BER_class  ...  Type  Surface   Price\n",
              "0              2         2          9  ...     1    67.00  195000\n",
              "1              1         2         10  ...     5    95.97  425000\n",
              "2              3         3          3  ...     7   107.00  535000\n",
              "3              1         3         12  ...     8    81.00  499000\n",
              "4              3         4         10  ...     8   153.00  510000\n",
              "\n",
              "[5 rows x 8 columns]"
            ]
          },
          "metadata": {},
          "execution_count": 67
        }
      ]
    },
    {
      "cell_type": "code",
      "metadata": {
        "id": "74a-tdB6Wo4D"
      },
      "source": [
        ""
      ],
      "execution_count": 67,
      "outputs": []
    },
    {
      "cell_type": "code",
      "metadata": {
        "id": "1rmyuGtzDzrE"
      },
      "source": [
        "# split data into training and test\n",
        "from sklearn.model_selection import train_test_split\n",
        "\n",
        "# training: 70% (0.7), test: 30% (0.3) \n",
        "# you could try any other combination \n",
        "# but consider 50% of training as the low boundary\n",
        "X = df_train_new.drop(\"Price\",axis=1)\n",
        "y = df_train_new[\"Price\"]\n",
        "X_train,X_test,y_train,y_test = train_test_split(X, y, test_size=0.3)"
      ],
      "execution_count": 68,
      "outputs": []
    },
    {
      "cell_type": "code",
      "metadata": {
        "id": "DeILmcu9GvMk"
      },
      "source": [
        "# select some features columns just for the baseline model\n",
        "# assume not all of the features are informative or useful\n",
        "\n",
        "featrain = ['Num_Beds','Num_Bathrooms', 'Latitude','Longitude']\n",
        "\n",
        "# dropna: remove missing values\n",
        "df_subset_train = df_train_new[featrain].dropna(axis=0)\n",
        "\n",
        "# Test data\n",
        "featest = ['Num_Beds','Num_Bathrooms', 'Latitude','Longitude']\n",
        "df_subset_test = df_test_new[featest].dropna(axis=0)"
      ],
      "execution_count": 69,
      "outputs": []
    },
    {
      "cell_type": "code",
      "metadata": {
        "colab": {
          "base_uri": "https://localhost:8080/"
        },
        "id": "EEoiUAmlGvPD",
        "outputId": "e90d7561-7c4e-4b96-ffae-9d126974bc38"
      },
      "source": [
        "print('Number of nan in df_subset_train dataset: ',df_subset_train.isnull().sum().sum())\n",
        "print('Number of nan in df_subset_test dataset: ',df_subset_test.isnull().sum().sum())"
      ],
      "execution_count": 70,
      "outputs": [
        {
          "output_type": "stream",
          "name": "stdout",
          "text": [
            "Number of nan in df_subset_train dataset:  0\n",
            "Number of nan in df_subset_test dataset:  0\n"
          ]
        }
      ]
    },
    {
      "cell_type": "code",
      "metadata": {
        "id": "WvvIqiNlKiy4"
      },
      "source": [
        "# train set, input columns\n",
        "Xs_train = X_train\n",
        "# train set, output column, cost\n",
        "ys_train = y_train.values.reshape(-1,1) \n",
        "\n",
        "# test set, input columns\n",
        "Xs_test = df_test_new.iloc[:,0:].values "
      ],
      "execution_count": 98,
      "outputs": []
    },
    {
      "cell_type": "code",
      "metadata": {
        "id": "XEOnhCTVHGp1"
      },
      "source": [
        "# StandardScaler() will normalize the features i.e. each column of X, \n",
        "# so, each column/feature/variable will have μ = 0 and σ = 1\n",
        "sc = StandardScaler()\n",
        "\n",
        "# Xss_train = np.hstack([Xs_train,Xs_train[:,[2]]**2])\n",
        "xscaler = sc.fit(Xs_train)\n",
        "Xn_train = xscaler.transform(Xs_train)\n",
        "\n",
        "#Xss_test = np.hstack([Xs_test,Xs_test[:,[2]]**2])\n",
        "Xn_test = xscaler.transform(Xs_test)\n",
        "\n",
        "ylog = np.log(ys_train.astype('float'))\n",
        "yscaler = StandardScaler().fit(ylog)\n",
        "yn_train = yscaler.transform(ylog)"
      ],
      "execution_count": 99,
      "outputs": []
    },
    {
      "cell_type": "code",
      "metadata": {
        "id": "s0UKJ3nsHMqc"
      },
      "source": [
        "# model\n",
        "with pm.Model() as model:\n",
        "    #prior over the parameters of linear regression\n",
        "    alpha = pm.Normal('alpha', mu=0, sigma=30)\n",
        "    #we have one beta for each column of Xn\n",
        "    beta = pm.Normal('beta', mu=0, sigma=30, shape=Xn_train.shape[1])\n",
        "    #prior over the variance of the noise\n",
        "    sigma = pm.HalfCauchy('sigma_n', 5)\n",
        "    #linear regression model in matrix form\n",
        "    mu = alpha + pm.math.dot(beta, Xn_train.T)\n",
        "    #likelihood, be sure that observed is a 1d vector\n",
        "    like = pm.Normal('like', mu=mu, sigma=sigma, observed=yn_train[:,0])"
      ],
      "execution_count": 100,
      "outputs": []
    },
    {
      "cell_type": "code",
      "metadata": {
        "colab": {
          "base_uri": "https://localhost:8080/",
          "height": 310
        },
        "id": "bJIXhFntHMs3",
        "outputId": "5295eef3-dff2-4d6f-91c1-d3f66251f672"
      },
      "source": [
        "#number of iterations of the algorithms\n",
        "iter = 50000 \n",
        "\n",
        "# run the model\n",
        "with model:\n",
        "    approximation = pm.fit(iter,method='advi')\n",
        "    \n",
        "# check the convergence\n",
        "plt.plot(approximation.hist);"
      ],
      "execution_count": 101,
      "outputs": [
        {
          "output_type": "display_data",
          "data": {
            "text/html": [
              "\n",
              "    <div>\n",
              "        <style>\n",
              "            /* Turns off some styling */\n",
              "            progress {\n",
              "                /* gets rid of default border in Firefox and Opera. */\n",
              "                border: none;\n",
              "                /* Needs to be in here for Safari polyfill so background images work as expected. */\n",
              "                background-size: auto;\n",
              "            }\n",
              "            .progress-bar-interrupted, .progress-bar-interrupted::-webkit-progress-bar {\n",
              "                background: #F44336;\n",
              "            }\n",
              "        </style>\n",
              "      <progress value='50000' class='' max='50000' style='width:300px; height:20px; vertical-align: middle;'></progress>\n",
              "      100.00% [50000/50000 00:05<00:00 Average Loss = 1,321.8]\n",
              "    </div>\n",
              "    "
            ],
            "text/plain": [
              "<IPython.core.display.HTML object>"
            ]
          },
          "metadata": {}
        },
        {
          "output_type": "stream",
          "name": "stderr",
          "text": [
            "Finished [100%]: Average Loss = 1,321.8\n"
          ]
        },
        {
          "output_type": "display_data",
          "data": {
            "image/png": "[encoded data removed]",
            "text/plain": [
              "<Figure size 432x288 with 1 Axes>"
            ]
          },
          "metadata": {}
        }
      ]
    },
    {
      "cell_type": "code",
      "metadata": {
        "colab": {
          "base_uri": "https://localhost:8080/"
        },
        "id": "gbjxnmKFWyqq",
        "outputId": "cabc46eb-53b4-4bf1-af77-1f11957bd1aa"
      },
      "source": [
        "print('Orginal train shape') \n",
        "print(df_train.shape)\n",
        "print('New train shape')\n",
        "print(df_train_new.shape)\n",
        "print('Orginal test shape') \n",
        "print(df_test.shape)\n",
        "print('New test shape') \n",
        "print(df_test_new.shape)"
      ],
      "execution_count": 75,
      "outputs": [
        {
          "output_type": "stream",
          "name": "stdout",
          "text": [
            "Orginal train shape\n",
            "(1638, 13)\n",
            "New train shape\n",
            "(1638, 8)\n",
            "Orginal test shape\n",
            "(702, 12)\n",
            "New test shape\n",
            "(702, 7)\n"
          ]
        }
      ]
    },
    {
      "cell_type": "code",
      "metadata": {
        "id": "KxodGYwFHGs0"
      },
      "source": [
        "# samples from the posterior\n",
        "posterior = approximation.sample(5000)"
      ],
      "execution_count": 76,
      "outputs": []
    },
    {
      "cell_type": "code",
      "metadata": {
        "colab": {
          "base_uri": "https://localhost:8080/",
          "height": 392
        },
        "id": "72ZW4tTdMx9A",
        "outputId": "8ce16e8e-21b1-4477-b4c2-6b54320e811f"
      },
      "source": [
        "# prediction\n",
        "ll=np.mean(posterior['alpha']) + np.dot(np.mean(posterior['beta'],axis=0), Xn_test.T)\n",
        "y_pred_BLR = np.exp(yscaler.inverse_transform(ll.reshape(-1,1)))[:,0]\n",
        "print(\"MAE = \",(np.mean(abs(y_pred_BLR - y_test))))\n",
        "print(\"MAPE = \",(np.mean(abs(y_pred_BLR - y_test) / y_test)))\n"
      ],
      "execution_count": 77,
      "outputs": [
        {
          "output_type": "error",
          "ename": "ValueError",
          "evalue": "ignored",
          "traceback": [
            "\u001b[0;31m---------------------------------------------------------------------------\u001b[0m",
            "\u001b[0;31mValueError\u001b[0m                                Traceback (most recent call last)",
            "\u001b[0;32m<ipython-input-77-076b09b21227>\u001b[0m in \u001b[0;36m<module>\u001b[0;34m()\u001b[0m\n\u001b[1;32m      2\u001b[0m \u001b[0mll\u001b[0m\u001b[0;34m=\u001b[0m\u001b[0mnp\u001b[0m\u001b[0;34m.\u001b[0m\u001b[0mmean\u001b[0m\u001b[0;34m(\u001b[0m\u001b[0mposterior\u001b[0m\u001b[0;34m[\u001b[0m\u001b[0;34m'alpha'\u001b[0m\u001b[0;34m]\u001b[0m\u001b[0;34m)\u001b[0m \u001b[0;34m+\u001b[0m \u001b[0mnp\u001b[0m\u001b[0;34m.\u001b[0m\u001b[0mdot\u001b[0m\u001b[0;34m(\u001b[0m\u001b[0mnp\u001b[0m\u001b[0;34m.\u001b[0m\u001b[0mmean\u001b[0m\u001b[0;34m(\u001b[0m\u001b[0mposterior\u001b[0m\u001b[0;34m[\u001b[0m\u001b[0;34m'beta'\u001b[0m\u001b[0;34m]\u001b[0m\u001b[0;34m,\u001b[0m\u001b[0maxis\u001b[0m\u001b[0;34m=\u001b[0m\u001b[0;36m0\u001b[0m\u001b[0;34m)\u001b[0m\u001b[0;34m,\u001b[0m \u001b[0mXn_test\u001b[0m\u001b[0;34m.\u001b[0m\u001b[0mT\u001b[0m\u001b[0;34m)\u001b[0m\u001b[0;34m\u001b[0m\u001b[0;34m\u001b[0m\u001b[0m\n\u001b[1;32m      3\u001b[0m \u001b[0my_pred_BLR\u001b[0m \u001b[0;34m=\u001b[0m \u001b[0mnp\u001b[0m\u001b[0;34m.\u001b[0m\u001b[0mexp\u001b[0m\u001b[0;34m(\u001b[0m\u001b[0myscaler\u001b[0m\u001b[0;34m.\u001b[0m\u001b[0minverse_transform\u001b[0m\u001b[0;34m(\u001b[0m\u001b[0mll\u001b[0m\u001b[0;34m.\u001b[0m\u001b[0mreshape\u001b[0m\u001b[0;34m(\u001b[0m\u001b[0;34m-\u001b[0m\u001b[0;36m1\u001b[0m\u001b[0;34m,\u001b[0m\u001b[0;36m1\u001b[0m\u001b[0;34m)\u001b[0m\u001b[0;34m)\u001b[0m\u001b[0;34m)\u001b[0m\u001b[0;34m[\u001b[0m\u001b[0;34m:\u001b[0m\u001b[0;34m,\u001b[0m\u001b[0;36m0\u001b[0m\u001b[0;34m]\u001b[0m\u001b[0;34m\u001b[0m\u001b[0;34m\u001b[0m\u001b[0m\n\u001b[0;32m----> 4\u001b[0;31m \u001b[0mprint\u001b[0m\u001b[0;34m(\u001b[0m\u001b[0;34m\"MAE = \"\u001b[0m\u001b[0;34m,\u001b[0m\u001b[0;34m(\u001b[0m\u001b[0mnp\u001b[0m\u001b[0;34m.\u001b[0m\u001b[0mmean\u001b[0m\u001b[0;34m(\u001b[0m\u001b[0mabs\u001b[0m\u001b[0;34m(\u001b[0m\u001b[0my_pred_BLR\u001b[0m \u001b[0;34m-\u001b[0m \u001b[0my_test\u001b[0m\u001b[0;34m)\u001b[0m\u001b[0;34m)\u001b[0m\u001b[0;34m)\u001b[0m\u001b[0;34m)\u001b[0m\u001b[0;34m\u001b[0m\u001b[0;34m\u001b[0m\u001b[0m\n\u001b[0m\u001b[1;32m      5\u001b[0m \u001b[0mprint\u001b[0m\u001b[0;34m(\u001b[0m\u001b[0;34m\"MAPE = \"\u001b[0m\u001b[0;34m,\u001b[0m\u001b[0;34m(\u001b[0m\u001b[0mnp\u001b[0m\u001b[0;34m.\u001b[0m\u001b[0mmean\u001b[0m\u001b[0;34m(\u001b[0m\u001b[0mabs\u001b[0m\u001b[0;34m(\u001b[0m\u001b[0my_pred_BLR\u001b[0m \u001b[0;34m-\u001b[0m \u001b[0my_test\u001b[0m\u001b[0;34m)\u001b[0m \u001b[0;34m/\u001b[0m \u001b[0my_test\u001b[0m\u001b[0;34m)\u001b[0m\u001b[0;34m)\u001b[0m\u001b[0;34m)\u001b[0m\u001b[0;34m\u001b[0m\u001b[0;34m\u001b[0m\u001b[0m\n",
            "\u001b[0;32m/usr/local/lib/python3.7/dist-packages/pandas/core/series.py\u001b[0m in \u001b[0;36m__array_ufunc__\u001b[0;34m(self, ufunc, method, *inputs, **kwargs)\u001b[0m\n\u001b[1;32m    681\u001b[0m         \u001b[0;31m# for binary ops, use our custom dunder methods\u001b[0m\u001b[0;34m\u001b[0m\u001b[0;34m\u001b[0m\u001b[0;34m\u001b[0m\u001b[0m\n\u001b[1;32m    682\u001b[0m         result = ops.maybe_dispatch_ufunc_to_dunder_op(\n\u001b[0;32m--> 683\u001b[0;31m             \u001b[0mself\u001b[0m\u001b[0;34m,\u001b[0m \u001b[0mufunc\u001b[0m\u001b[0;34m,\u001b[0m \u001b[0mmethod\u001b[0m\u001b[0;34m,\u001b[0m \u001b[0;34m*\u001b[0m\u001b[0minputs\u001b[0m\u001b[0;34m,\u001b[0m \u001b[0;34m**\u001b[0m\u001b[0mkwargs\u001b[0m\u001b[0;34m\u001b[0m\u001b[0;34m\u001b[0m\u001b[0m\n\u001b[0m\u001b[1;32m    684\u001b[0m         )\n\u001b[1;32m    685\u001b[0m         \u001b[0;32mif\u001b[0m \u001b[0mresult\u001b[0m \u001b[0;32mis\u001b[0m \u001b[0;32mnot\u001b[0m \u001b[0mNotImplemented\u001b[0m\u001b[0;34m:\u001b[0m\u001b[0;34m\u001b[0m\u001b[0;34m\u001b[0m\u001b[0m\n",
            "\u001b[0;32mpandas/_libs/ops_dispatch.pyx\u001b[0m in \u001b[0;36mpandas._libs.ops_dispatch.maybe_dispatch_ufunc_to_dunder_op\u001b[0;34m()\u001b[0m\n",
            "\u001b[0;32m/usr/local/lib/python3.7/dist-packages/pandas/core/ops/common.py\u001b[0m in \u001b[0;36mnew_method\u001b[0;34m(self, other)\u001b[0m\n\u001b[1;32m     63\u001b[0m         \u001b[0mother\u001b[0m \u001b[0;34m=\u001b[0m \u001b[0mitem_from_zerodim\u001b[0m\u001b[0;34m(\u001b[0m\u001b[0mother\u001b[0m\u001b[0;34m)\u001b[0m\u001b[0;34m\u001b[0m\u001b[0;34m\u001b[0m\u001b[0m\n\u001b[1;32m     64\u001b[0m \u001b[0;34m\u001b[0m\u001b[0m\n\u001b[0;32m---> 65\u001b[0;31m         \u001b[0;32mreturn\u001b[0m \u001b[0mmethod\u001b[0m\u001b[0;34m(\u001b[0m\u001b[0mself\u001b[0m\u001b[0;34m,\u001b[0m \u001b[0mother\u001b[0m\u001b[0;34m)\u001b[0m\u001b[0;34m\u001b[0m\u001b[0;34m\u001b[0m\u001b[0m\n\u001b[0m\u001b[1;32m     66\u001b[0m \u001b[0;34m\u001b[0m\u001b[0m\n\u001b[1;32m     67\u001b[0m     \u001b[0;32mreturn\u001b[0m \u001b[0mnew_method\u001b[0m\u001b[0;34m\u001b[0m\u001b[0;34m\u001b[0m\u001b[0m\n",
            "\u001b[0;32m/usr/local/lib/python3.7/dist-packages/pandas/core/ops/__init__.py\u001b[0m in \u001b[0;36mwrapper\u001b[0;34m(left, right)\u001b[0m\n\u001b[1;32m    341\u001b[0m         \u001b[0mlvalues\u001b[0m \u001b[0;34m=\u001b[0m \u001b[0mextract_array\u001b[0m\u001b[0;34m(\u001b[0m\u001b[0mleft\u001b[0m\u001b[0;34m,\u001b[0m \u001b[0mextract_numpy\u001b[0m\u001b[0;34m=\u001b[0m\u001b[0;32mTrue\u001b[0m\u001b[0;34m)\u001b[0m\u001b[0;34m\u001b[0m\u001b[0;34m\u001b[0m\u001b[0m\n\u001b[1;32m    342\u001b[0m         \u001b[0mrvalues\u001b[0m \u001b[0;34m=\u001b[0m \u001b[0mextract_array\u001b[0m\u001b[0;34m(\u001b[0m\u001b[0mright\u001b[0m\u001b[0;34m,\u001b[0m \u001b[0mextract_numpy\u001b[0m\u001b[0;34m=\u001b[0m\u001b[0;32mTrue\u001b[0m\u001b[0;34m)\u001b[0m\u001b[0;34m\u001b[0m\u001b[0;34m\u001b[0m\u001b[0m\n\u001b[0;32m--> 343\u001b[0;31m         \u001b[0mresult\u001b[0m \u001b[0;34m=\u001b[0m \u001b[0marithmetic_op\u001b[0m\u001b[0;34m(\u001b[0m\u001b[0mlvalues\u001b[0m\u001b[0;34m,\u001b[0m \u001b[0mrvalues\u001b[0m\u001b[0;34m,\u001b[0m \u001b[0mop\u001b[0m\u001b[0;34m)\u001b[0m\u001b[0;34m\u001b[0m\u001b[0;34m\u001b[0m\u001b[0m\n\u001b[0m\u001b[1;32m    344\u001b[0m \u001b[0;34m\u001b[0m\u001b[0m\n\u001b[1;32m    345\u001b[0m         \u001b[0;32mreturn\u001b[0m \u001b[0mleft\u001b[0m\u001b[0;34m.\u001b[0m\u001b[0m_construct_result\u001b[0m\u001b[0;34m(\u001b[0m\u001b[0mresult\u001b[0m\u001b[0;34m,\u001b[0m \u001b[0mname\u001b[0m\u001b[0;34m=\u001b[0m\u001b[0mres_name\u001b[0m\u001b[0;34m)\u001b[0m\u001b[0;34m\u001b[0m\u001b[0;34m\u001b[0m\u001b[0m\n",
            "\u001b[0;32m/usr/local/lib/python3.7/dist-packages/pandas/core/ops/array_ops.py\u001b[0m in \u001b[0;36marithmetic_op\u001b[0;34m(left, right, op)\u001b[0m\n\u001b[1;32m    188\u001b[0m     \u001b[0;32melse\u001b[0m\u001b[0;34m:\u001b[0m\u001b[0;34m\u001b[0m\u001b[0;34m\u001b[0m\u001b[0m\n\u001b[1;32m    189\u001b[0m         \u001b[0;32mwith\u001b[0m \u001b[0mnp\u001b[0m\u001b[0;34m.\u001b[0m\u001b[0merrstate\u001b[0m\u001b[0;34m(\u001b[0m\u001b[0mall\u001b[0m\u001b[0;34m=\u001b[0m\u001b[0;34m\"ignore\"\u001b[0m\u001b[0;34m)\u001b[0m\u001b[0;34m:\u001b[0m\u001b[0;34m\u001b[0m\u001b[0;34m\u001b[0m\u001b[0m\n\u001b[0;32m--> 190\u001b[0;31m             \u001b[0mres_values\u001b[0m \u001b[0;34m=\u001b[0m \u001b[0mna_arithmetic_op\u001b[0m\u001b[0;34m(\u001b[0m\u001b[0mlvalues\u001b[0m\u001b[0;34m,\u001b[0m \u001b[0mrvalues\u001b[0m\u001b[0;34m,\u001b[0m \u001b[0mop\u001b[0m\u001b[0;34m)\u001b[0m\u001b[0;34m\u001b[0m\u001b[0;34m\u001b[0m\u001b[0m\n\u001b[0m\u001b[1;32m    191\u001b[0m \u001b[0;34m\u001b[0m\u001b[0m\n\u001b[1;32m    192\u001b[0m     \u001b[0;32mreturn\u001b[0m \u001b[0mres_values\u001b[0m\u001b[0;34m\u001b[0m\u001b[0;34m\u001b[0m\u001b[0m\n",
            "\u001b[0;32m/usr/local/lib/python3.7/dist-packages/pandas/core/ops/array_ops.py\u001b[0m in \u001b[0;36mna_arithmetic_op\u001b[0;34m(left, right, op, is_cmp)\u001b[0m\n\u001b[1;32m    141\u001b[0m \u001b[0;34m\u001b[0m\u001b[0m\n\u001b[1;32m    142\u001b[0m     \u001b[0;32mtry\u001b[0m\u001b[0;34m:\u001b[0m\u001b[0;34m\u001b[0m\u001b[0;34m\u001b[0m\u001b[0m\n\u001b[0;32m--> 143\u001b[0;31m         \u001b[0mresult\u001b[0m \u001b[0;34m=\u001b[0m \u001b[0mexpressions\u001b[0m\u001b[0;34m.\u001b[0m\u001b[0mevaluate\u001b[0m\u001b[0;34m(\u001b[0m\u001b[0mop\u001b[0m\u001b[0;34m,\u001b[0m \u001b[0mleft\u001b[0m\u001b[0;34m,\u001b[0m \u001b[0mright\u001b[0m\u001b[0;34m)\u001b[0m\u001b[0;34m\u001b[0m\u001b[0;34m\u001b[0m\u001b[0m\n\u001b[0m\u001b[1;32m    144\u001b[0m     \u001b[0;32mexcept\u001b[0m \u001b[0mTypeError\u001b[0m\u001b[0;34m:\u001b[0m\u001b[0;34m\u001b[0m\u001b[0;34m\u001b[0m\u001b[0m\n\u001b[1;32m    145\u001b[0m         \u001b[0;32mif\u001b[0m \u001b[0mis_cmp\u001b[0m\u001b[0;34m:\u001b[0m\u001b[0;34m\u001b[0m\u001b[0;34m\u001b[0m\u001b[0m\n",
            "\u001b[0;32m/usr/local/lib/python3.7/dist-packages/pandas/core/computation/expressions.py\u001b[0m in \u001b[0;36mevaluate\u001b[0;34m(op, a, b, use_numexpr)\u001b[0m\n\u001b[1;32m    231\u001b[0m         \u001b[0muse_numexpr\u001b[0m \u001b[0;34m=\u001b[0m \u001b[0muse_numexpr\u001b[0m \u001b[0;32mand\u001b[0m \u001b[0m_bool_arith_check\u001b[0m\u001b[0;34m(\u001b[0m\u001b[0mop_str\u001b[0m\u001b[0;34m,\u001b[0m \u001b[0ma\u001b[0m\u001b[0;34m,\u001b[0m \u001b[0mb\u001b[0m\u001b[0;34m)\u001b[0m\u001b[0;34m\u001b[0m\u001b[0;34m\u001b[0m\u001b[0m\n\u001b[1;32m    232\u001b[0m         \u001b[0;32mif\u001b[0m \u001b[0muse_numexpr\u001b[0m\u001b[0;34m:\u001b[0m\u001b[0;34m\u001b[0m\u001b[0;34m\u001b[0m\u001b[0m\n\u001b[0;32m--> 233\u001b[0;31m             \u001b[0;32mreturn\u001b[0m \u001b[0m_evaluate\u001b[0m\u001b[0;34m(\u001b[0m\u001b[0mop\u001b[0m\u001b[0;34m,\u001b[0m \u001b[0mop_str\u001b[0m\u001b[0;34m,\u001b[0m \u001b[0ma\u001b[0m\u001b[0;34m,\u001b[0m \u001b[0mb\u001b[0m\u001b[0;34m)\u001b[0m  \u001b[0;31m# type: ignore\u001b[0m\u001b[0;34m\u001b[0m\u001b[0;34m\u001b[0m\u001b[0m\n\u001b[0m\u001b[1;32m    234\u001b[0m     \u001b[0;32mreturn\u001b[0m \u001b[0m_evaluate_standard\u001b[0m\u001b[0;34m(\u001b[0m\u001b[0mop\u001b[0m\u001b[0;34m,\u001b[0m \u001b[0mop_str\u001b[0m\u001b[0;34m,\u001b[0m \u001b[0ma\u001b[0m\u001b[0;34m,\u001b[0m \u001b[0mb\u001b[0m\u001b[0;34m)\u001b[0m\u001b[0;34m\u001b[0m\u001b[0;34m\u001b[0m\u001b[0m\n\u001b[1;32m    235\u001b[0m \u001b[0;34m\u001b[0m\u001b[0m\n",
            "\u001b[0;32m/usr/local/lib/python3.7/dist-packages/pandas/core/computation/expressions.py\u001b[0m in \u001b[0;36m_evaluate_numexpr\u001b[0;34m(op, op_str, a, b)\u001b[0m\n\u001b[1;32m    117\u001b[0m \u001b[0;34m\u001b[0m\u001b[0m\n\u001b[1;32m    118\u001b[0m     \u001b[0;32mif\u001b[0m \u001b[0mresult\u001b[0m \u001b[0;32mis\u001b[0m \u001b[0;32mNone\u001b[0m\u001b[0;34m:\u001b[0m\u001b[0;34m\u001b[0m\u001b[0;34m\u001b[0m\u001b[0m\n\u001b[0;32m--> 119\u001b[0;31m         \u001b[0mresult\u001b[0m \u001b[0;34m=\u001b[0m \u001b[0m_evaluate_standard\u001b[0m\u001b[0;34m(\u001b[0m\u001b[0mop\u001b[0m\u001b[0;34m,\u001b[0m \u001b[0mop_str\u001b[0m\u001b[0;34m,\u001b[0m \u001b[0ma\u001b[0m\u001b[0;34m,\u001b[0m \u001b[0mb\u001b[0m\u001b[0;34m)\u001b[0m\u001b[0;34m\u001b[0m\u001b[0;34m\u001b[0m\u001b[0m\n\u001b[0m\u001b[1;32m    120\u001b[0m \u001b[0;34m\u001b[0m\u001b[0m\n\u001b[1;32m    121\u001b[0m     \u001b[0;32mreturn\u001b[0m \u001b[0mresult\u001b[0m\u001b[0;34m\u001b[0m\u001b[0;34m\u001b[0m\u001b[0m\n",
            "\u001b[0;32m/usr/local/lib/python3.7/dist-packages/pandas/core/computation/expressions.py\u001b[0m in \u001b[0;36m_evaluate_standard\u001b[0;34m(op, op_str, a, b)\u001b[0m\n\u001b[1;32m     66\u001b[0m         \u001b[0m_store_test_result\u001b[0m\u001b[0;34m(\u001b[0m\u001b[0;32mFalse\u001b[0m\u001b[0;34m)\u001b[0m\u001b[0;34m\u001b[0m\u001b[0;34m\u001b[0m\u001b[0m\n\u001b[1;32m     67\u001b[0m     \u001b[0;32mwith\u001b[0m \u001b[0mnp\u001b[0m\u001b[0;34m.\u001b[0m\u001b[0merrstate\u001b[0m\u001b[0;34m(\u001b[0m\u001b[0mall\u001b[0m\u001b[0;34m=\u001b[0m\u001b[0;34m\"ignore\"\u001b[0m\u001b[0;34m)\u001b[0m\u001b[0;34m:\u001b[0m\u001b[0;34m\u001b[0m\u001b[0;34m\u001b[0m\u001b[0m\n\u001b[0;32m---> 68\u001b[0;31m         \u001b[0;32mreturn\u001b[0m \u001b[0mop\u001b[0m\u001b[0;34m(\u001b[0m\u001b[0ma\u001b[0m\u001b[0;34m,\u001b[0m \u001b[0mb\u001b[0m\u001b[0;34m)\u001b[0m\u001b[0;34m\u001b[0m\u001b[0;34m\u001b[0m\u001b[0m\n\u001b[0m\u001b[1;32m     69\u001b[0m \u001b[0;34m\u001b[0m\u001b[0m\n\u001b[1;32m     70\u001b[0m \u001b[0;34m\u001b[0m\u001b[0m\n",
            "\u001b[0;32m/usr/local/lib/python3.7/dist-packages/pandas/core/ops/roperator.py\u001b[0m in \u001b[0;36mrsub\u001b[0;34m(left, right)\u001b[0m\n\u001b[1;32m     11\u001b[0m \u001b[0;34m\u001b[0m\u001b[0m\n\u001b[1;32m     12\u001b[0m \u001b[0;32mdef\u001b[0m \u001b[0mrsub\u001b[0m\u001b[0;34m(\u001b[0m\u001b[0mleft\u001b[0m\u001b[0;34m,\u001b[0m \u001b[0mright\u001b[0m\u001b[0;34m)\u001b[0m\u001b[0;34m:\u001b[0m\u001b[0;34m\u001b[0m\u001b[0;34m\u001b[0m\u001b[0m\n\u001b[0;32m---> 13\u001b[0;31m     \u001b[0;32mreturn\u001b[0m \u001b[0mright\u001b[0m \u001b[0;34m-\u001b[0m \u001b[0mleft\u001b[0m\u001b[0;34m\u001b[0m\u001b[0;34m\u001b[0m\u001b[0m\n\u001b[0m\u001b[1;32m     14\u001b[0m \u001b[0;34m\u001b[0m\u001b[0m\n\u001b[1;32m     15\u001b[0m \u001b[0;34m\u001b[0m\u001b[0m\n",
            "\u001b[0;31mValueError\u001b[0m: operands could not be broadcast together with shapes (702,) (492,) "
          ]
        }
      ]
    },
    {
      "cell_type": "code",
      "metadata": {
        "colab": {
          "base_uri": "https://localhost:8080/",
          "height": 290
        },
        "id": "IOOMU1BPDzs4",
        "outputId": "6b34d217-ca6f-437d-ac8c-49405d8606a9"
      },
      "source": [
        "# training gaussian mixture model \n",
        "from sklearn.mixture import GaussianMixture\n",
        "gmm = GaussianMixture(n_components=4)\n",
        "ind=[2,3]\n",
        "\n",
        "X_ind = np.vstack([Xn_train[:,ind],Xn_test[:,ind]])\n",
        "# Gaussian Mixture\n",
        "gmm.fit(X_ind)\n",
        "\n",
        "# plot blue dots\n",
        "plt.scatter(X_ind[:,0],X_ind[:,1])\n",
        "# centroids:  orange dots\n",
        "plt.scatter(gmm.means_[:,0],gmm.means_[:,1])"
      ],
      "execution_count": 78,
      "outputs": [
        {
          "output_type": "execute_result",
          "data": {
            "text/plain": [
              "<matplotlib.collections.PathCollection at 0x7ff79264a650>"
            ]
          },
          "metadata": {},
          "execution_count": 78
        },
        {
          "output_type": "display_data",
          "data": {
            "image/png": "[encoded data removed]",
            "text/plain": [
              "<Figure size 432x288 with 1 Axes>"
            ]
          },
          "metadata": {}
        }
      ]
    },
    {
      "cell_type": "code",
      "metadata": {
        "colab": {
          "base_uri": "https://localhost:8080/"
        },
        "id": "jd1G0xvPHSl0",
        "outputId": "6e062a9d-2c2a-46c0-c4a5-55fae9fc0d02"
      },
      "source": [
        "# train clusters\n",
        "clusters_train = gmm.predict(Xn_train[:,ind])\n",
        "unique_train, counts_train = np.unique(clusters_train, return_counts=True)\n",
        "dict(zip(unique_train, counts_train))"
      ],
      "execution_count": 79,
      "outputs": [
        {
          "output_type": "execute_result",
          "data": {
            "text/plain": [
              "{0: 358, 1: 177, 2: 102, 3: 509}"
            ]
          },
          "metadata": {},
          "execution_count": 79
        }
      ]
    },
    {
      "cell_type": "code",
      "metadata": {
        "colab": {
          "base_uri": "https://localhost:8080/"
        },
        "id": "G-60RQXwHzkB",
        "outputId": "e08825ec-a808-4b82-c8a7-143b12dcb418"
      },
      "source": [
        "# test clusters\n",
        "clusters_test = gmm.predict(Xn_test[:,ind])\n",
        "unique_test, counts_test = np.unique(clusters_test, return_counts=True)\n",
        "dict(zip(unique_test, counts_test))"
      ],
      "execution_count": 80,
      "outputs": [
        {
          "output_type": "execute_result",
          "data": {
            "text/plain": [
              "{0: 231, 1: 108, 2: 62, 3: 301}"
            ]
          },
          "metadata": {},
          "execution_count": 80
        }
      ]
    },
    {
      "cell_type": "code",
      "metadata": {
        "id": "8hsWF66iHzm2"
      },
      "source": [
        "# cluster 0\n",
        "Xn0 = Xn_train[clusters_train==0,:]\n",
        "Xtestn0 = Xn_test[clusters_test==0,:]\n",
        "\n",
        "ylog0 = np.log(ys_train.astype('float')[clusters_train==0,:])\n",
        "yscaler0 = StandardScaler().fit(ylog0)\n",
        "yn0 = yscaler0.transform(ylog0)"
      ],
      "execution_count": 81,
      "outputs": []
    },
    {
      "cell_type": "code",
      "metadata": {
        "id": "u7G9YPryHzqZ"
      },
      "source": [
        "# cluster 1\n",
        "Xn1 = Xn_train[clusters_train==1,:]\n",
        "Xtestn1 = Xn_test[clusters_test==1,:]\n",
        "ylog1 = np.log(ys_train.astype('float')[clusters_train==1,:])\n",
        "yscaler1 = StandardScaler().fit(ylog1)\n",
        "yn1 = yscaler1.transform(ylog1)"
      ],
      "execution_count": 82,
      "outputs": []
    },
    {
      "cell_type": "code",
      "metadata": {
        "id": "xwHUp4SoHSom"
      },
      "source": [
        "# cluster 2\n",
        "Xn2 = Xn_train[clusters_train==2,:]\n",
        "Xtestn2 = Xn_test[clusters_test==2,:]\n",
        "ylog2 = np.log(ys_train.astype('float')[clusters_train==2,:])\n",
        "yscaler2 = StandardScaler().fit(ylog2)\n",
        "yn2 = yscaler2.transform(ylog2)"
      ],
      "execution_count": 83,
      "outputs": []
    },
    {
      "cell_type": "code",
      "metadata": {
        "id": "kymwyXXUH_jX"
      },
      "source": [
        "# cluster 3\n",
        "Xn3 = Xn_train[clusters_train==3,:]\n",
        "Xtestn3 = Xn_test[clusters_test==3,:]\n",
        "ylog3 = np.log(ys_train.astype('float')[clusters_train==3,:])\n",
        "yscaler3 = StandardScaler().fit(ylog3)\n",
        "yn3 = yscaler3.transform(ylog3)"
      ],
      "execution_count": 84,
      "outputs": []
    },
    {
      "cell_type": "code",
      "metadata": {
        "colab": {
          "base_uri": "https://localhost:8080/",
          "height": 54
        },
        "id": "Y4Bspm92IHZ_",
        "outputId": "5c35879d-4a72-4a4e-969d-7e2cc24bbab2"
      },
      "source": [
        "# model_0\n",
        "with pm.Model() as model_0:\n",
        "  # prior over the parameters of linear regression\n",
        "  alpha = pm.Normal('alpha', mu=0, sigma=30)\n",
        "  # we have a beta for each column of Xn0\n",
        "  beta = pm.Normal('beta', mu=0, sigma=30, shape=Xn0.shape[1])\n",
        "  # prior over the variance of the noise\n",
        "  sigma = pm.HalfCauchy('sigma_n', 5)\n",
        "  # linear regression relationship\n",
        "  #linear regression model in matrix form\n",
        "  mu = alpha + pm.math.dot(beta, Xn0.T)\n",
        "  # likelihood, be sure that observed is a 1d vector\n",
        "  like = pm.Normal('like', mu=mu, sigma=sigma, observed=yn0[:,0])\n",
        "\n",
        "with model_0:\n",
        "  # iterations of the algorithm\n",
        "  approximation = pm.fit(40000,method='advi')\n",
        "\n",
        "# samples from the posterior   \n",
        "posterior0 = approximation.sample(5000)"
      ],
      "execution_count": 85,
      "outputs": [
        {
          "output_type": "display_data",
          "data": {
            "text/html": [
              "\n",
              "    <div>\n",
              "        <style>\n",
              "            /* Turns off some styling */\n",
              "            progress {\n",
              "                /* gets rid of default border in Firefox and Opera. */\n",
              "                border: none;\n",
              "                /* Needs to be in here for Safari polyfill so background images work as expected. */\n",
              "                background-size: auto;\n",
              "            }\n",
              "            .progress-bar-interrupted, .progress-bar-interrupted::-webkit-progress-bar {\n",
              "                background: #F44336;\n",
              "            }\n",
              "        </style>\n",
              "      <progress value='40000' class='' max='40000' style='width:300px; height:20px; vertical-align: middle;'></progress>\n",
              "      100.00% [40000/40000 00:04<00:00 Average Loss = 277.52]\n",
              "    </div>\n",
              "    "
            ],
            "text/plain": [
              "<IPython.core.display.HTML object>"
            ]
          },
          "metadata": {}
        },
        {
          "output_type": "stream",
          "name": "stderr",
          "text": [
            "Finished [100%]: Average Loss = 277.54\n"
          ]
        }
      ]
    },
    {
      "cell_type": "code",
      "metadata": {
        "colab": {
          "base_uri": "https://localhost:8080/",
          "height": 54
        },
        "id": "vqvYIQ2BIHdy",
        "outputId": "a8d4fb0f-6214-4e34-85a0-7fab6810bac4"
      },
      "source": [
        "# model_1\n",
        "with pm.Model() as model_1:\n",
        "  # prior over the parameters of linear regression\n",
        "  alpha = pm.Normal('alpha', mu=0, sigma=30)\n",
        "  # we have a beta for each column of Xn\n",
        "  beta = pm.Normal('beta', mu=0, sigma=30, shape=Xn1.shape[1])\n",
        "  # prior over the variance of the noise\n",
        "  sigma = pm.HalfCauchy('sigma_n', 5)\n",
        "  # linear regression relationship\n",
        "  #linear regression model in matrix form\n",
        "  mu = alpha + pm.math.dot(beta, Xn1.T)\n",
        "  # likelihood, # \n",
        "  like = pm.Normal('like', mu=mu, sigma=sigma, observed=yn1[:,0])\n",
        "  \n",
        "with model_1:\n",
        "  # iterations of the algorithm\n",
        "  approximation = pm.fit(40000,method='advi')\n",
        "\n",
        "# samples from the posterior    \n",
        "posterior1 = approximation.sample(5000)"
      ],
      "execution_count": 86,
      "outputs": [
        {
          "output_type": "display_data",
          "data": {
            "text/html": [
              "\n",
              "    <div>\n",
              "        <style>\n",
              "            /* Turns off some styling */\n",
              "            progress {\n",
              "                /* gets rid of default border in Firefox and Opera. */\n",
              "                border: none;\n",
              "                /* Needs to be in here for Safari polyfill so background images work as expected. */\n",
              "                background-size: auto;\n",
              "            }\n",
              "            .progress-bar-interrupted, .progress-bar-interrupted::-webkit-progress-bar {\n",
              "                background: #F44336;\n",
              "            }\n",
              "        </style>\n",
              "      <progress value='40000' class='' max='40000' style='width:300px; height:20px; vertical-align: middle;'></progress>\n",
              "      100.00% [40000/40000 00:04<00:00 Average Loss = 233.86]\n",
              "    </div>\n",
              "    "
            ],
            "text/plain": [
              "<IPython.core.display.HTML object>"
            ]
          },
          "metadata": {}
        },
        {
          "output_type": "stream",
          "name": "stderr",
          "text": [
            "Finished [100%]: Average Loss = 233.89\n"
          ]
        }
      ]
    },
    {
      "cell_type": "code",
      "metadata": {
        "colab": {
          "base_uri": "https://localhost:8080/",
          "height": 54
        },
        "id": "rziEPCGXH_ly",
        "outputId": "25e328a2-ffb8-4b72-e14f-ab83cd800319"
      },
      "source": [
        "# model_2\n",
        "with pm.Model() as model_2:\n",
        "  # prior over the parameters of linear regression\n",
        "  alpha = pm.Normal('alpha', mu=0, sigma=30)\n",
        "  # we have a beta for each column of Xn\n",
        "  beta = pm.Normal('beta', mu=0, sigma=30, shape=Xn2.shape[1])\n",
        "  # prior over the variance of the noise\n",
        "  sigma = pm.HalfCauchy('sigma_n', 5)\n",
        "  # linear regression relationship\n",
        "  # linear regression model in matrix form\n",
        "  mu = alpha + pm.math.dot(beta, Xn2.T)\n",
        "  # likelihood, be sure that observed is a 1d vector\n",
        "  like = pm.Normal('like', mu=mu, sigma=sigma, observed=yn2[:,0])\n",
        "    \n",
        "with model_2:\n",
        "  # iterations of the algorithms\n",
        "  approximation = pm.fit(40000,method='advi')\n",
        "\n",
        "# samples from the posterior    \n",
        "posterior2 = approximation.sample(5000)"
      ],
      "execution_count": 87,
      "outputs": [
        {
          "output_type": "display_data",
          "data": {
            "text/html": [
              "\n",
              "    <div>\n",
              "        <style>\n",
              "            /* Turns off some styling */\n",
              "            progress {\n",
              "                /* gets rid of default border in Firefox and Opera. */\n",
              "                border: none;\n",
              "                /* Needs to be in here for Safari polyfill so background images work as expected. */\n",
              "                background-size: auto;\n",
              "            }\n",
              "            .progress-bar-interrupted, .progress-bar-interrupted::-webkit-progress-bar {\n",
              "                background: #F44336;\n",
              "            }\n",
              "        </style>\n",
              "      <progress value='40000' class='' max='40000' style='width:300px; height:20px; vertical-align: middle;'></progress>\n",
              "      100.00% [40000/40000 00:03<00:00 Average Loss = 155.58]\n",
              "    </div>\n",
              "    "
            ],
            "text/plain": [
              "<IPython.core.display.HTML object>"
            ]
          },
          "metadata": {}
        },
        {
          "output_type": "stream",
          "name": "stderr",
          "text": [
            "Finished [100%]: Average Loss = 155.59\n"
          ]
        }
      ]
    },
    {
      "cell_type": "code",
      "metadata": {
        "colab": {
          "base_uri": "https://localhost:8080/",
          "height": 54
        },
        "id": "-pXBLLxcIT4P",
        "outputId": "f29c1906-f960-41f8-96e9-3b376ab2a31e"
      },
      "source": [
        "# model_3\n",
        "with pm.Model() as model3:\n",
        "  # prior over the parameters of linear regression\n",
        "  alpha = pm.Normal('alpha', mu=0, sigma=30)\n",
        "  # we have a beta for each column of Xn\n",
        "  beta = pm.Normal('beta', mu=0, sigma=30, shape=Xn3.shape[1])\n",
        "  # prior over the variance of the noise\n",
        "  sigma = pm.HalfCauchy('sigma_n', 5)\n",
        "  # linear regression relationship\n",
        "  mu = alpha + pm.math.dot(beta, Xn3.T)#linear regression model in matrix form\n",
        "  # likelihood, be sure that observed is a 1d vector\n",
        "  like = pm.Normal('like', mu=mu, sigma=sigma, observed=yn3[:,0])\n",
        "    \n",
        "with model3:\n",
        "  # number of iterations of the algorithms\n",
        "  approximation = pm.fit(40000,method='advi')\n",
        "\n",
        "# samples from the posterior     \n",
        "posterior3 = approximation.sample(5000)"
      ],
      "execution_count": 88,
      "outputs": [
        {
          "output_type": "display_data",
          "data": {
            "text/html": [
              "\n",
              "    <div>\n",
              "        <style>\n",
              "            /* Turns off some styling */\n",
              "            progress {\n",
              "                /* gets rid of default border in Firefox and Opera. */\n",
              "                border: none;\n",
              "                /* Needs to be in here for Safari polyfill so background images work as expected. */\n",
              "                background-size: auto;\n",
              "            }\n",
              "            .progress-bar-interrupted, .progress-bar-interrupted::-webkit-progress-bar {\n",
              "                background: #F44336;\n",
              "            }\n",
              "        </style>\n",
              "      <progress value='40000' class='' max='40000' style='width:300px; height:20px; vertical-align: middle;'></progress>\n",
              "      100.00% [40000/40000 00:04<00:00 Average Loss = 499.81]\n",
              "    </div>\n",
              "    "
            ],
            "text/plain": [
              "<IPython.core.display.HTML object>"
            ]
          },
          "metadata": {}
        },
        {
          "output_type": "stream",
          "name": "stderr",
          "text": [
            "Finished [100%]: Average Loss = 499.8\n"
          ]
        }
      ]
    },
    {
      "cell_type": "code",
      "metadata": {
        "id": "5SaSvfxwIT61"
      },
      "source": [
        "# Posterior predictive checks (PPCs)\n",
        "def ppc(alpha,beta,sigma, X,  nsamples=500):\n",
        "    #we select nsamples random samples from the posterior\n",
        "    ind = np.random.randint(0,beta.shape[0],size=nsamples)\n",
        "    alphai = alpha[ind]\n",
        "    betai = beta[ind,:]\n",
        "    sigmai = sigma[ind]\n",
        "\n",
        "    Ypred = np.zeros((nsamples,X.shape[0]))\n",
        "    for i in range(X.shape[0]):\n",
        "        #we generate data from linear model\n",
        "        y_pred = alphai + np.dot(betai, X[i:i+1,:].T).T +np.random.randn(len(sigmai))*sigmai\n",
        "        Ypred[:,i]=y_pred[0,:]\n",
        "    return Ypred"
      ],
      "execution_count": 89,
      "outputs": []
    },
    {
      "cell_type": "code",
      "metadata": {
        "colab": {
          "base_uri": "https://localhost:8080/",
          "height": 295
        },
        "id": "m57Oln2UIT9C",
        "outputId": "34029357-7c7a-41aa-db1e-4ea7e688e105"
      },
      "source": [
        "#Simulation\n",
        "Ypred0 = yscaler0.inverse_transform(ppc(posterior0['alpha'],posterior0['beta'],posterior0['sigma_n'],Xn0,  nsamples=200))\n",
        "for i in range(Ypred0.shape[0]):\n",
        "    az.plot_dist( Ypred0[i,:],color='r',plot_kwargs={\"linewidth\": 0.2})\n",
        "az.plot_dist(Ypred0[i,:],color='r',plot_kwargs={\"linewidth\": 0.2}, label=\"prediction\")\n",
        "#plt.plot(np.linspace(-8,8,100),norm.pdf(np.linspace(-8,8,100),df=np.mean(posterior_1['nu'])))\n",
        "#plt.xlim([0,10e7])\n",
        "az.plot_dist(ylog0,label='true observations');\n",
        "plt.legend()\n",
        "plt.xlabel(\"log(y) - output variable\")\n",
        "plt.ylabel(\"density plot\");"
      ],
      "execution_count": 90,
      "outputs": [
        {
          "output_type": "display_data",
          "data": {
            "image/png": "[encoded data removed]",
            "text/plain": [
              "<Figure size 432x288 with 1 Axes>"
            ]
          },
          "metadata": {}
        }
      ]
    },
    {
      "cell_type": "code",
      "metadata": {
        "colab": {
          "base_uri": "https://localhost:8080/",
          "height": 298
        },
        "id": "ZbqCR512IT-g",
        "outputId": "850347f7-a76d-4c6c-c2c1-cf5e22a11fe3"
      },
      "source": [
        "#Simulation\n",
        "Ypred1 = yscaler1.inverse_transform(ppc(posterior1['alpha'],posterior1['beta'],posterior1['sigma_n'],Xn1,  nsamples=200))\n",
        "for i in range(Ypred1.shape[0]):\n",
        "    az.plot_dist( Ypred1[i,:],color='r',plot_kwargs={\"linewidth\": 0.2})\n",
        "az.plot_dist(Ypred1[i,:],color='r',plot_kwargs={\"linewidth\": 0.2}, label=\"prediction\")\n",
        "#plt.plot(np.linspace(-8,8,100),norm.pdf(np.linspace(-8,8,100),df=np.mean(posterior_1['nu'])))\n",
        "#plt.xlim([0,10e7])\n",
        "az.plot_dist(ylog1,label='true observations');\n",
        "plt.legend()\n",
        "plt.xlabel(\"log(y) - output variable\")\n",
        "plt.ylabel(\"density plot\");"
      ],
      "execution_count": 91,
      "outputs": [
        {
          "output_type": "display_data",
          "data": {
            "image/png": "[encoded data removed]",
            "text/plain": [
              "<Figure size 432x288 with 1 Axes>"
            ]
          },
          "metadata": {}
        }
      ]
    },
    {
      "cell_type": "code",
      "metadata": {
        "colab": {
          "base_uri": "https://localhost:8080/",
          "height": 315
        },
        "id": "V5muwIVTIUAe",
        "outputId": "7a46f3d3-ea8f-4ba9-c8bd-77b7c3373b03"
      },
      "source": [
        "#Simulation\n",
        "Ypred2 = yscaler2.inverse_transform(ppc(posterior2['alpha'],posterior2['beta'],posterior2['sigma_n'],Xn2,  nsamples=200))\n",
        "for i in range(Ypred2.shape[0]):\n",
        "    az.plot_dist( Ypred2[i,:],color='r',plot_kwargs={\"linewidth\": 0.2})\n",
        "az.plot_dist(Ypred2[i,:],color='r',plot_kwargs={\"linewidth\": 0.2}, label=\"prediction\")\n",
        "#plt.plot(np.linspace(-8,8,100),norm.pdf(np.linspace(-8,8,100),df=np.mean(posterior_1['nu'])))\n",
        "#plt.xlim([0,10e7])\n",
        "az.plot_dist(ylog2,label='true observations');\n",
        "plt.legend()\n",
        "plt.xlabel(\"log(y) - output variable\")\n",
        "plt.ylabel(\"density plot\")"
      ],
      "execution_count": 92,
      "outputs": [
        {
          "output_type": "execute_result",
          "data": {
            "text/plain": [
              "Text(0, 0.5, 'density plot')"
            ]
          },
          "metadata": {},
          "execution_count": 92
        },
        {
          "output_type": "display_data",
          "data": {
            "image/png": "[encoded data removed]",
            "text/plain": [
              "<Figure size 432x288 with 1 Axes>"
            ]
          },
          "metadata": {}
        }
      ]
    },
    {
      "cell_type": "code",
      "metadata": {
        "colab": {
          "base_uri": "https://localhost:8080/",
          "height": 295
        },
        "id": "XcGYRT5TIUCC",
        "outputId": "e7096798-ac15-4d2e-f9d9-e44d8f189940"
      },
      "source": [
        "#Simulation\n",
        "Ypred3 = yscaler3.inverse_transform(ppc(posterior3['alpha'],posterior3['beta'],posterior3['sigma_n'],Xn3,  nsamples=200))\n",
        "for i in range(Ypred3.shape[0]):\n",
        "    az.plot_dist( Ypred3[i,:],color='r',plot_kwargs={\"linewidth\": 0.2})\n",
        "az.plot_dist(Ypred3[i,:],color='r',plot_kwargs={\"linewidth\": 0.2}, label=\"prediction\")\n",
        "#plt.plot(np.linspace(-8,8,100),norm.pdf(np.linspace(-8,8,100),df=np.mean(posterior_1['nu'])))\n",
        "#plt.xlim([0,10e7])\n",
        "az.plot_dist(ylog3,label='true observations');\n",
        "plt.legend()\n",
        "plt.xlabel(\"log(y) - output variable\")\n",
        "plt.ylabel(\"density plot\");"
      ],
      "execution_count": 93,
      "outputs": [
        {
          "output_type": "display_data",
          "data": {
            "image/png": "[encoded data removed]",
            "text/plain": [
              "<Figure size 432x288 with 1 Axes>"
            ]
          },
          "metadata": {}
        }
      ]
    },
    {
      "cell_type": "code",
      "metadata": {
        "colab": {
          "base_uri": "https://localhost:8080/",
          "height": 295
        },
        "id": "71pgDwvwIs_w",
        "outputId": "34c24c8d-bb87-49f4-cfec-f823cf4ae31e"
      },
      "source": [
        "# posteriors\n",
        "Ypred0 = ppc(posterior0['alpha'],posterior0['beta'],posterior0['sigma_n'],Xn0,  nsamples=200)\n",
        "Ypred1 = ppc(posterior1['alpha'],posterior1['beta'],posterior1['sigma_n'],Xn1,  nsamples=200)\n",
        "Ypred2 = ppc(posterior2['alpha'],posterior2['beta'],posterior2['sigma_n'],Xn2,  nsamples=200)\n",
        "Ypred3 = ppc(posterior3['alpha'],posterior3['beta'],posterior3['sigma_n'],Xn3,  nsamples=200)\n",
        "\n",
        "# simulation\n",
        "Ypred = np.hstack([ yscaler0.inverse_transform(Ypred0),\n",
        "                 yscaler1.inverse_transform(Ypred1),\n",
        "                 yscaler2.inverse_transform(Ypred2),\n",
        "                 yscaler3.inverse_transform(Ypred3)])\n",
        "\n",
        "# prediction\n",
        "for i in range(Ypred.shape[0]):\n",
        "    az.plot_dist( Ypred[i,:],color='r',plot_kwargs={\"linewidth\": 0.2})\n",
        "\n",
        "# plot\n",
        "az.plot_dist(Ypred[i,:],color='r',plot_kwargs={\"linewidth\": 0.2}, label=\"prediction\")\n",
        "ylog=np.vstack([ylog0,ylog1,ylog2,ylog3])\n",
        "az.plot_dist(ylog,label='true observations');\n",
        "plt.legend()\n",
        "plt.xlabel(\"log(y) - output variable\")\n",
        "plt.ylabel(\"density plot\");"
      ],
      "execution_count": 94,
      "outputs": [
        {
          "output_type": "display_data",
          "data": {
            "image/png": "[encoded data removed]",
            "text/plain": [
              "<Figure size 432x288 with 1 Axes>"
            ]
          },
          "metadata": {}
        }
      ]
    },
    {
      "cell_type": "code",
      "metadata": {
        "colab": {
          "base_uri": "https://localhost:8080/",
          "height": 375
        },
        "id": "ggNOIzIeItC3",
        "outputId": "ed3e10fc-2fc9-40ae-f5cd-c995dcdc92ed"
      },
      "source": [
        "# cluster 0\n",
        "y_pred_BLR0 = np.exp(yscaler0.inverse_transform(np.mean(posterior0['alpha']) \n",
        "              + np.dot(np.mean(posterior0['beta'],axis=0), Xtestn0.T)))\n",
        "print(\"Size Cluster0\", np.sum(clusters_test==0), \", MAE Cluster0=\",\n",
        "      (np.mean(abs(y_pred_BLR0 - y_test[clusters_test==0]))))\n",
        "\n",
        "# cluster 1\n",
        "y_pred_BLR1 = np.exp(yscaler1.inverse_transform(np.mean(posterior1['alpha']) \n",
        "              + np.dot(np.mean(posterior1['beta'],axis=0), Xtestn1.T)))\n",
        "print(\"Size Cluster1\", np.sum(clusters_test==1), \", MAE Cluster1=\",\n",
        "      (np.mean(abs(y_pred_BLR1 - y_test[clusters_test==1]))))\n",
        "\n",
        "# cluster 2\n",
        "y_pred_BLR2 = np.exp(yscaler2.inverse_transform(np.mean(posterior2['alpha']) \n",
        "              + np.dot(np.mean(posterior2['beta'],axis=0), Xtestn2.T)))\n",
        "print(\"Size Cluster2\", np.sum(clusters_test==2), \", MAE Cluster2=\",\n",
        "      (np.mean(abs(y_pred_BLR2 - y_test[clusters_test==2]))))\n",
        "\n",
        "# cluster 3\n",
        "y_pred_BLR3 = np.exp(yscaler3.inverse_transform(np.mean(posterior3['alpha']) \n",
        "              + np.dot(np.mean(posterior3['beta'],axis=0), Xtestn3.T)))\n",
        "print(\"Size Cluster3\", np.sum(clusters_test==3), \", MAE Cluster3=\",\n",
        "      (np.mean(abs(y_pred_BLR3 - y_test[clusters_test==3]))))\n",
        "\n",
        "# joint\n",
        "joint=np.hstack([abs(y_pred_BLR0 - y_test[clusters_test==0]),\n",
        "                 abs(y_pred_BLR1 - y_test[clusters_test==1]),\n",
        "                 abs(y_pred_BLR2 - y_test[clusters_test==2]),\n",
        "                 abs(y_pred_BLR3 - y_test[clusters_test==3])])\n",
        "\n",
        "# MAE\n",
        "print(\"MAE=\",np.mean(joint))"
      ],
      "execution_count": 102,
      "outputs": [
        {
          "output_type": "error",
          "ename": "IndexError",
          "evalue": "ignored",
          "traceback": [
            "\u001b[0;31m---------------------------------------------------------------------------\u001b[0m",
            "\u001b[0;31mIndexError\u001b[0m                                Traceback (most recent call last)",
            "\u001b[0;32m<ipython-input-102-0b9dec02ffd4>\u001b[0m in \u001b[0;36m<module>\u001b[0;34m()\u001b[0m\n\u001b[1;32m      3\u001b[0m               + np.dot(np.mean(posterior0['beta'],axis=0), Xtestn0.T)))\n\u001b[1;32m      4\u001b[0m print(\"Size Cluster0\", np.sum(clusters_test==0), \", MAE Cluster0=\",\n\u001b[0;32m----> 5\u001b[0;31m       (np.mean(abs(y_pred_BLR0 - y_test[clusters_test==0]))))\n\u001b[0m\u001b[1;32m      6\u001b[0m \u001b[0;34m\u001b[0m\u001b[0m\n\u001b[1;32m      7\u001b[0m \u001b[0;31m# cluster 1\u001b[0m\u001b[0;34m\u001b[0m\u001b[0;34m\u001b[0m\u001b[0;34m\u001b[0m\u001b[0m\n",
            "\u001b[0;32m/usr/local/lib/python3.7/dist-packages/pandas/core/series.py\u001b[0m in \u001b[0;36m__getitem__\u001b[0;34m(self, key)\u001b[0m\n\u001b[1;32m    900\u001b[0m \u001b[0;34m\u001b[0m\u001b[0m\n\u001b[1;32m    901\u001b[0m         \u001b[0;32mif\u001b[0m \u001b[0mcom\u001b[0m\u001b[0;34m.\u001b[0m\u001b[0mis_bool_indexer\u001b[0m\u001b[0;34m(\u001b[0m\u001b[0mkey\u001b[0m\u001b[0;34m)\u001b[0m\u001b[0;34m:\u001b[0m\u001b[0;34m\u001b[0m\u001b[0;34m\u001b[0m\u001b[0m\n\u001b[0;32m--> 902\u001b[0;31m             \u001b[0mkey\u001b[0m \u001b[0;34m=\u001b[0m \u001b[0mcheck_bool_indexer\u001b[0m\u001b[0;34m(\u001b[0m\u001b[0mself\u001b[0m\u001b[0;34m.\u001b[0m\u001b[0mindex\u001b[0m\u001b[0;34m,\u001b[0m \u001b[0mkey\u001b[0m\u001b[0;34m)\u001b[0m\u001b[0;34m\u001b[0m\u001b[0;34m\u001b[0m\u001b[0m\n\u001b[0m\u001b[1;32m    903\u001b[0m             \u001b[0mkey\u001b[0m \u001b[0;34m=\u001b[0m \u001b[0mnp\u001b[0m\u001b[0;34m.\u001b[0m\u001b[0masarray\u001b[0m\u001b[0;34m(\u001b[0m\u001b[0mkey\u001b[0m\u001b[0;34m,\u001b[0m \u001b[0mdtype\u001b[0m\u001b[0;34m=\u001b[0m\u001b[0mbool\u001b[0m\u001b[0;34m)\u001b[0m\u001b[0;34m\u001b[0m\u001b[0;34m\u001b[0m\u001b[0m\n\u001b[1;32m    904\u001b[0m             \u001b[0;32mreturn\u001b[0m \u001b[0mself\u001b[0m\u001b[0;34m.\u001b[0m\u001b[0m_get_values\u001b[0m\u001b[0;34m(\u001b[0m\u001b[0mkey\u001b[0m\u001b[0;34m)\u001b[0m\u001b[0;34m\u001b[0m\u001b[0;34m\u001b[0m\u001b[0m\n",
            "\u001b[0;32m/usr/local/lib/python3.7/dist-packages/pandas/core/indexing.py\u001b[0m in \u001b[0;36mcheck_bool_indexer\u001b[0;34m(index, key)\u001b[0m\n\u001b[1;32m   2193\u001b[0m         \u001b[0;31m# key may contain nan elements, check_array_indexer needs bool array\u001b[0m\u001b[0;34m\u001b[0m\u001b[0;34m\u001b[0m\u001b[0;34m\u001b[0m\u001b[0m\n\u001b[1;32m   2194\u001b[0m         \u001b[0mresult\u001b[0m \u001b[0;34m=\u001b[0m \u001b[0mpd_array\u001b[0m\u001b[0;34m(\u001b[0m\u001b[0mresult\u001b[0m\u001b[0;34m,\u001b[0m \u001b[0mdtype\u001b[0m\u001b[0;34m=\u001b[0m\u001b[0mbool\u001b[0m\u001b[0;34m)\u001b[0m\u001b[0;34m\u001b[0m\u001b[0;34m\u001b[0m\u001b[0m\n\u001b[0;32m-> 2195\u001b[0;31m     \u001b[0;32mreturn\u001b[0m \u001b[0mcheck_array_indexer\u001b[0m\u001b[0;34m(\u001b[0m\u001b[0mindex\u001b[0m\u001b[0;34m,\u001b[0m \u001b[0mresult\u001b[0m\u001b[0;34m)\u001b[0m\u001b[0;34m\u001b[0m\u001b[0;34m\u001b[0m\u001b[0m\n\u001b[0m\u001b[1;32m   2196\u001b[0m \u001b[0;34m\u001b[0m\u001b[0m\n\u001b[1;32m   2197\u001b[0m \u001b[0;34m\u001b[0m\u001b[0m\n",
            "\u001b[0;32m/usr/local/lib/python3.7/dist-packages/pandas/core/indexers.py\u001b[0m in \u001b[0;36mcheck_array_indexer\u001b[0;34m(array, indexer)\u001b[0m\n\u001b[1;32m    469\u001b[0m         \u001b[0;32mif\u001b[0m \u001b[0mlen\u001b[0m\u001b[0;34m(\u001b[0m\u001b[0mindexer\u001b[0m\u001b[0;34m)\u001b[0m \u001b[0;34m!=\u001b[0m \u001b[0mlen\u001b[0m\u001b[0;34m(\u001b[0m\u001b[0marray\u001b[0m\u001b[0;34m)\u001b[0m\u001b[0;34m:\u001b[0m\u001b[0;34m\u001b[0m\u001b[0;34m\u001b[0m\u001b[0m\n\u001b[1;32m    470\u001b[0m             raise IndexError(\n\u001b[0;32m--> 471\u001b[0;31m                 \u001b[0;34mf\"Boolean index has wrong length: \"\u001b[0m\u001b[0;34m\u001b[0m\u001b[0;34m\u001b[0m\u001b[0m\n\u001b[0m\u001b[1;32m    472\u001b[0m                 \u001b[0;34mf\"{len(indexer)} instead of {len(array)}\"\u001b[0m\u001b[0;34m\u001b[0m\u001b[0;34m\u001b[0m\u001b[0m\n\u001b[1;32m    473\u001b[0m             )\n",
            "\u001b[0;31mIndexError\u001b[0m: Boolean index has wrong length: 702 instead of 492"
          ]
        }
      ]
    },
    {
      "cell_type": "code",
      "metadata": {
        "colab": {
          "base_uri": "https://localhost:8080/",
          "height": 295
        },
        "id": "NGFVC7rtItE_",
        "outputId": "5d36630e-6838-4ccf-b74c-132593472c96"
      },
      "source": [
        "## Posterior predictive checks (PPCs)\n",
        "\n",
        "num_samples2 = 200\n",
        "Ypred0 = ppc(posterior0['alpha'],posterior0['beta'],posterior0['sigma_n'],Xtestn0, nsamples=num_samples2)\n",
        "Ypred1 = ppc(posterior1['alpha'],posterior1['beta'],posterior1['sigma_n'],Xtestn1, nsamples=num_samples2)\n",
        "Ypred2 = ppc(posterior2['alpha'],posterior2['beta'],posterior2['sigma_n'],Xtestn2, nsamples=num_samples2)\n",
        "Ypred3 = ppc(posterior3['alpha'],posterior3['beta'],posterior3['sigma_n'],Xtestn3, nsamples=num_samples2)\n",
        "\n",
        "# Stack arrays in sequence horizontally (column wise)\n",
        "Ypred = np.hstack([yscaler0.inverse_transform(Ypred0),\n",
        "                 yscaler1.inverse_transform(Ypred1),\n",
        "                 yscaler2.inverse_transform(Ypred2),\n",
        "                 yscaler3.inverse_transform(Ypred3)])\n",
        "\n",
        "# plot prediction shape\n",
        "for i in range(Ypred.shape[0]):\n",
        "    az.plot_dist( Ypred[i,:],color='r',plot_kwargs={\"linewidth\": 0.2})\n",
        "# label\n",
        "az.plot_dist(Ypred[i,:],color='r',plot_kwargs={\"linewidth\": 0.2}, label=\"prediction\")\n",
        "\n",
        "# true observations\n",
        "az.plot_dist(np.log(y_test),label='true observations');\n",
        "plt.legend()\n",
        "plt.xlabel(\"log(y) - output variable\")\n",
        "plt.ylabel(\"density plot\");"
      ],
      "execution_count": 103,
      "outputs": [
        {
          "output_type": "display_data",
          "data": {
            "image/png": "[encoded data removed]",
            "text/plain": [
              "<Figure size 432x288 with 1 Axes>"
            ]
          },
          "metadata": {}
        }
      ]
    },
    {
      "cell_type": "markdown",
      "metadata": {
        "id": "_kFgkUA85_pn"
      },
      "source": [
        "# BAYESIAN NN"
      ]
    },
    {
      "cell_type": "markdown",
      "metadata": {
        "id": "ELer5PV37ftX"
      },
      "source": [
        "A [Bayesian network](https://en.wikipedia.org/wiki/Bayesian_network) (also known as a Bayes network, Bayes net, belief network, or decision network) is a probabilistic graphical model that represents a set of variables and their conditional dependencies via a directed acyclic graph (DAG). \n",
        "\n",
        "* Bayesian networks are ideal for taking an event that occurred and predicting the likelihood that any one of several possible known causes was the contributing factor. \n",
        "* For example, a Bayesian network could represent the probabilistic relationships between diseases and symptoms. \n",
        "* Given symptoms, the network can be used to compute the probabilities of the presence of various diseases."
      ]
    },
    {
      "cell_type": "markdown",
      "metadata": {
        "id": "z0kauv1L5_po"
      },
      "source": [
        "Your comments, explanation, and references here."
      ]
    },
    {
      "cell_type": "code",
      "metadata": {
        "id": "0smpwCET5_pp"
      },
      "source": [
        "import theano\n",
        "\n",
        "# add a column of ones to include an intercept in the model\n",
        "x1 = np.hstack([np.ones((X_train.shape[0],1)), X_train])\n",
        "\n",
        "\n",
        "floatX = theano.config.floatX\n",
        "\n",
        "l = 15\n",
        "# Initialize random weights between each layer\n",
        "# we do that to help the numerical algorithm that computes the posterior\n",
        "init_1 = np.random.randn(x1.shape[1], l).astype(floatX)\n",
        "init_out = np.random.randn(l).astype(floatX)\n",
        "\n",
        "# pymc3 model as neural_network\n",
        "with pm.Model() as neural_network:\n",
        "    # we convert the data in theano type so we can do dot products with the correct type.\n",
        "    ann_input = pm.Data('ann_input', x1)\n",
        "    ann_output = pm.Data('ann_output', yn_train)\n",
        "    # Priors \n",
        "    # Weights from input to hidden layer\n",
        "    weights_in_1 = pm.Normal('w_1', 0, sigma=10,\n",
        "                             shape=(x1.shape[1], l), testval=init_1)\n",
        "    # Weights from hidden layer to output\n",
        "    weights_2_out = pm.Normal('w_0', 0, sigma=10,\n",
        "                              shape=(l,),testval=init_out)\n",
        "\n",
        "    # Build neural-network using tanh activation function\n",
        "    # Inner layer\n",
        "    act_1 = pm.math.tanh(pm.math.dot(ann_input,weights_in_1))\n",
        "    # Linear layer, like in Linear regression\n",
        "    act_out = pm.Deterministic('act_out',pm.math.dot(act_1, weights_2_out))\n",
        "\n",
        "    # standard deviation of noise\n",
        "    sigma = pm.HalfCauchy('sigma',5)\n",
        "\n",
        "    # Normal likelihood\n",
        "    out = pm.Normal('out',\n",
        "                       act_out,\n",
        "                       sigma=sigma,\n",
        "                       observed=ann_output[:,0])"
      ],
      "execution_count": 104,
      "outputs": []
    },
    {
      "cell_type": "code",
      "metadata": {
        "colab": {
          "base_uri": "https://localhost:8080/",
          "height": 91
        },
        "id": "-HQDP7RHR0D-",
        "outputId": "e69f1b87-7fe1-45db-9299-014c5fa33f96"
      },
      "source": [
        "# Approximated inference\n",
        "param3 = 50000\n",
        "VI = 'advi'  \n",
        "OP = pm.adam \n",
        "LR = 0.001    \n",
        "\n",
        "with neural_network:\n",
        "    approx = pm.fit(param3, method=VI, obj_optimizer=pm.adam(learning_rate=LR))"
      ],
      "execution_count": 105,
      "outputs": [
        {
          "output_type": "stream",
          "name": "stderr",
          "text": [
            "WARNING (theano.tensor.blas): We did not find a dynamic library in the library_dir of the library we use for blas. If you use ATLAS, make sure to compile it with dynamics library.\n"
          ]
        },
        {
          "output_type": "display_data",
          "data": {
            "text/html": [
              "\n",
              "    <div>\n",
              "        <style>\n",
              "            /* Turns off some styling */\n",
              "            progress {\n",
              "                /* gets rid of default border in Firefox and Opera. */\n",
              "                border: none;\n",
              "                /* Needs to be in here for Safari polyfill so background images work as expected. */\n",
              "                background-size: auto;\n",
              "            }\n",
              "            .progress-bar-interrupted, .progress-bar-interrupted::-webkit-progress-bar {\n",
              "                background: #F44336;\n",
              "            }\n",
              "        </style>\n",
              "      <progress value='50000' class='' max='50000' style='width:300px; height:20px; vertical-align: middle;'></progress>\n",
              "      100.00% [50000/50000 00:36<00:00 Average Loss = 1,300.8]\n",
              "    </div>\n",
              "    "
            ],
            "text/plain": [
              "<IPython.core.display.HTML object>"
            ]
          },
          "metadata": {}
        },
        {
          "output_type": "stream",
          "name": "stderr",
          "text": [
            "Finished [100%]: Average Loss = 1,300.8\n"
          ]
        }
      ]
    },
    {
      "cell_type": "code",
      "metadata": {
        "colab": {
          "base_uri": "https://localhost:8080/",
          "height": 295
        },
        "id": "us28x1CuR0IV",
        "outputId": "884009d2-8ac6-45c9-bf42-0632dce020b8"
      },
      "source": [
        "# plot \n",
        "pb.plot(approx.hist, label='Variational Inference: '+ VI.upper(), alpha=.3)\n",
        "pb.legend(loc='upper right')\n",
        "pb.ylabel('ELBO')\n",
        "pb.xlabel('iteration');"
      ],
      "execution_count": 106,
      "outputs": [
        {
          "output_type": "display_data",
          "data": {
            "image/png": "[encoded data removed]",
            "text/plain": [
              "<Figure size 432x288 with 1 Axes>"
            ]
          },
          "metadata": {}
        }
      ]
    },
    {
      "cell_type": "code",
      "metadata": {
        "id": "aWP4qkXhR0Kt"
      },
      "source": [
        "# draw samples from variational posterior\n",
        "D = 300\n",
        "posterior = approx.sample(draws=D)"
      ],
      "execution_count": 107,
      "outputs": []
    },
    {
      "cell_type": "code",
      "metadata": {
        "id": "nzBtLMBUR0Ni"
      },
      "source": [
        "# add a column of ones to include an intercept in the model\n",
        "x2 = np.hstack([np.ones((X_test.shape[0],1)), X_test])\n",
        "\n",
        "y_pred = []\n",
        "for i in range(posterior['w_1'].shape[0]):\n",
        "    #inner layer\n",
        "    t1 = np.tanh(np.dot(posterior['w_1'][i,:,:].T,x2.T))\n",
        "    #outer layer\n",
        "    y_pred.append(np.dot(posterior['w_0'][i,:],t1))\n",
        "\n",
        "# predictions   \n",
        "y_pred = np.array(y_pred).mean(axis=0)"
      ],
      "execution_count": 108,
      "outputs": []
    },
    {
      "cell_type": "code",
      "metadata": {
        "colab": {
          "base_uri": "https://localhost:8080/"
        },
        "id": "zsGFdT4uR0Pp",
        "outputId": "5cec3094-6fd3-4785-e064-01243a227043"
      },
      "source": [
        "# prediction\n",
        "y_pred_BNN = np.exp(yscaler.inverse_transform(y_pred))\n",
        "print(\"MAE = \",(np.mean(abs(y_pred_BNN - y_test))))\n",
        "print(\"MAPE = \",(np.mean(abs(y_pred_BNN - y_test) / y_test)))\n",
        "\n",
        "from sklearn.metrics import mean_squared_error\n",
        "from math import sqrt\n",
        "\n",
        "rms = sqrt(mean_squared_error(y_test, y_pred_BNN))\n",
        "print(\"RMSE = \", rms)"
      ],
      "execution_count": 109,
      "outputs": [
        {
          "output_type": "stream",
          "name": "stdout",
          "text": [
            "MAE =  184634.36227227963\n",
            "MAPE =  0.26067031475634445\n",
            "RMSE =  547560.1574878787\n"
          ]
        }
      ]
    },
    {
      "cell_type": "markdown",
      "metadata": {
        "id": "f0GYCpwEM09T"
      },
      "source": [
        "# SUMMARY"
      ]
    },
    {
      "cell_type": "markdown",
      "metadata": {
        "id": "rBDzsZSJ7HZp"
      },
      "source": [
        "Your summary here."
      ]
    }
  ]
}