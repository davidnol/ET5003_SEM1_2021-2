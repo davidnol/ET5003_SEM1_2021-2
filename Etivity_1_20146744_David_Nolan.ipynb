{
  "nbformat": 4,
  "nbformat_minor": 0,
  "metadata": {
    "colab": {
      "name": "Etivity_1_20146744_David_Nolan.ipynb",
      "provenance": [],
      "collapsed_sections": [],
      "include_colab_link": true
    },
    "kernelspec": {
      "name": "python3",
      "display_name": "Python 3"
    },
    "language_info": {
      "name": "python"
    }
  },
  "cells": [
    {
      "cell_type": "markdown",
      "metadata": {
        "id": "view-in-github",
        "colab_type": "text"
      },
      "source": [
        "<a href=\"https://colab.research.google.com/github/davidnol/ET5003_SEM1_2021-2/blob/main/Etivity_1_20146744_David_Nolan.ipynb\" target=\"_parent\"><img src=\"https://colab.research.google.com/assets/colab-badge.svg\" alt=\"Open In Colab\"/></a>"
      ]
    },
    {
      "cell_type": "markdown",
      "metadata": {
        "id": "jxK1_8f1dvrc"
      },
      "source": [
        "<div>\n",
        "<img src=\"https://drive.google.com/uc?export=view&id=1vK33e_EqaHgBHcbRV_m38hx6IkG0blK_\" width=\"350\"/>\n",
        "</div> \n",
        "\n",
        "#**Artificial Intelligence - MSc**\n",
        "ET5003 - MACHINE LEARNING APPLICATIONS \n",
        "\n",
        "###Instructor: Enrique Naredo\n",
        "###ET5003_Etivity-1"
      ]
    },
    {
      "cell_type": "code",
      "metadata": {
        "id": "LqXD_IwUQuBF",
        "cellView": "form"
      },
      "source": [
        "#@title Current Date\n",
        "Today = '2021-09-13' #@param {type:\"date\"}\n"
      ],
      "execution_count": null,
      "outputs": []
    },
    {
      "cell_type": "code",
      "metadata": {
        "id": "uzDKau31OjVO",
        "cellView": "form"
      },
      "source": [
        "#@markdown ---\n",
        "#@markdown ### Enter your details here:\n",
        "Student_ID = \"20146744\" #@param {type:\"string\"}\n",
        "Student_full_name = \"David Nolan\" #@param {type:\"string\"}\n",
        "#@markdown ---"
      ],
      "execution_count": null,
      "outputs": []
    },
    {
      "cell_type": "code",
      "metadata": {
        "id": "r39xGZckTpKx",
        "cellView": "form"
      },
      "source": [
        "#@title Notebook information\n",
        "Notebook_type = 'Lab' #@param [\"Example\", \"Lab\", \"Practice\", \"Etivity\", \"Assignment\", \"Exam\"]\n",
        "Version = 'Draft' #@param [\"Draft\", \"Final\"] {type:\"raw\"}\n",
        "Submission = False #@param {type:\"boolean\"}"
      ],
      "execution_count": null,
      "outputs": []
    },
    {
      "cell_type": "markdown",
      "metadata": {
        "id": "80m304lUefG4"
      },
      "source": [
        "## MNIST dataset"
      ]
    },
    {
      "cell_type": "markdown",
      "metadata": {
        "id": "Bs8mHGcidHSa"
      },
      "source": [
        "\n",
        "\n",
        "The MNIST database  is a dataset of handwritten digits that has been and is extensively used in machine learning. There are $10$ classes, each image is $28\\times28$ pixels and, therefore, each input is $x_i\\in\\mathbb{R}^{784}$. "
      ]
    },
    {
      "cell_type": "markdown",
      "metadata": {
        "id": "ailycCq5epj2"
      },
      "source": [
        "## Task"
      ]
    },
    {
      "cell_type": "markdown",
      "metadata": {
        "id": "a-yNAxhUemjM"
      },
      "source": [
        "You have to extend the code to manage any arbitrary number of classes, in other words you have to implement a general-recipe multinomial logistic classifier and Bayesian multinomial logistic classifier.\n",
        "\n",
        "You must then select  3 digits at random and perform  the following task. \n",
        "\n",
        "1. Your goal is to use Bayesian multinomial logistic regression (as in the road-sign notebook) to solve this classification problem. \n",
        "\n",
        "2. You can downsize the training dataset (e.g., 40% training and 60%testing) if the computation of the posterior takes too much time in your computer.\n",
        "\n",
        "3. Use the posterior uncertainty to detect the instances (digits) in the test set that are hard to classify and remove them from the test-set.\n",
        "\n",
        "4. Then you need to compute again the accuracy of the general-recipe logistic regression on the remaining (non-difficult) instances and comment on the result.\n",
        "\n",
        "5. In practice, the task is to use uncertainty estimation to detect the difficult instances in the test-set. This is equivalent to refuse to classify all high-uncertainty instances or, in other words, when we are uncertain we say \"I don't know\" and we do not return any class. In this way, you will learn how uncertainty can be used to make safer decisions, by detecting the instances that are difficult to classify.\n"
      ]
    },
    {
      "cell_type": "markdown",
      "metadata": {
        "id": "nMRKRTQZe5fW"
      },
      "source": [
        "## Libraries"
      ]
    },
    {
      "cell_type": "code",
      "metadata": {
        "id": "IxusAui7AX_f"
      },
      "source": [
        "# Suppressing Warnings:\n",
        "import warnings\n",
        "warnings.filterwarnings(\"ignore\")"
      ],
      "execution_count": 2,
      "outputs": []
    },
    {
      "cell_type": "code",
      "metadata": {
        "id": "MQOfGMQpdHSb"
      },
      "source": [
        "# Import libraries\n",
        "from sklearn.linear_model import LogisticRegression\n",
        "from sklearn.metrics import accuracy_score\n",
        "from sklearn.model_selection import train_test_split\n",
        "import scipy.optimize as optimize\n",
        "from scipy.special import erf\n",
        "import pandas as pd\n",
        "import numpy as np\n",
        "import seaborn as sns\n",
        "from tqdm import tqdm\n",
        "from skimage.io import imread, imshow\n",
        "import matplotlib.image as mpimg\n",
        "import matplotlib.pyplot as plt\n",
        "import matplotlib\n",
        "%matplotlib inline\n",
        "import arviz as az\n",
        "from scipy.io import loadmat\n",
        "import pymc3 as pm\n",
        "import random\n",
        "from IPython.display import HTML\n",
        "import pickle\n",
        "import theano as tt\n",
        "import cv2\n",
        "from sklearn.utils import shuffle\n",
        "from skimage.color import rgb2gray"
      ],
      "execution_count": 3,
      "outputs": []
    },
    {
      "cell_type": "code",
      "metadata": {
        "id": "P5-qMSjpAQ-9"
      },
      "source": [
        "# Setting a seed:\n",
        "np.random.seed(123)"
      ],
      "execution_count": 4,
      "outputs": []
    },
    {
      "cell_type": "markdown",
      "metadata": {
        "id": "r4hSuwkUfVQb"
      },
      "source": [
        "## Dataset"
      ]
    },
    {
      "cell_type": "markdown",
      "metadata": {
        "id": "w99Pc66YdHSd"
      },
      "source": [
        "### Loading the MNIST dataset"
      ]
    },
    {
      "cell_type": "code",
      "metadata": {
        "colab": {
          "base_uri": "https://localhost:8080/"
        },
        "id": "CYFWAbXVzynp",
        "outputId": "0de57ba1-f829-4e73-9acf-12737bd96f7a"
      },
      "source": [
        "from google.colab import drive\n",
        "drive.mount('/content/drive')"
      ],
      "execution_count": 5,
      "outputs": [
        {
          "output_type": "stream",
          "name": "stdout",
          "text": [
            "Mounted at /content/drive\n"
          ]
        }
      ]
    },
    {
      "cell_type": "code",
      "metadata": {
        "colab": {
          "base_uri": "https://localhost:8080/"
        },
        "id": "g4rCnS4vdHSd",
        "outputId": "41b0624a-4189-4b89-8057-9ba9ad995e55"
      },
      "source": [
        "# Path, copy the path from your Drive\n",
        "Path = '/content/drive/MyDrive/Colab Notebooks/DavidNolan/MNIST dataset/'\n",
        "\n",
        "# MNIST Data\n",
        "train_data = Path + 'mnist_train.csv'\n",
        "test_data = Path + 'mnist_test.csv'\n",
        "\n",
        "# train data\n",
        "df_train = pd.read_csv(train_data)\n",
        "X_train = df_train.drop(\"label\",axis=1).values\n",
        "y_train = df_train.label.values\n",
        "print(X_train.shape)\n",
        "\n",
        "# test data\n",
        "df_test = pd.read_csv(test_data)\n",
        "X_test = df_test.drop(\"label\",axis=1).values\n",
        "y_test = df_test.label.values\n",
        "print(X_test.shape)"
      ],
      "execution_count": 6,
      "outputs": [
        {
          "output_type": "stream",
          "name": "stdout",
          "text": [
            "(60000, 784)\n",
            "(10000, 784)\n"
          ]
        }
      ]
    },
    {
      "cell_type": "code",
      "metadata": {
        "colab": {
          "base_uri": "https://localhost:8080/"
        },
        "id": "O2ubJ_WoAqBh",
        "outputId": "57f42c03-70be-4278-84dc-57d16ecf16fb"
      },
      "source": [
        "# Normalizing the Inputs:\n",
        "X_train = X_train/255\n",
        "X_test = X_test/255\n",
        "\n",
        "# Printing the new input range of values:\n",
        "minv = np.min(X_train)\n",
        "maxv = np.max(X_train)\n",
        "print(minv,maxv)"
      ],
      "execution_count": 7,
      "outputs": [
        {
          "output_type": "stream",
          "name": "stdout",
          "text": [
            "0.0 1.0\n"
          ]
        }
      ]
    },
    {
      "cell_type": "markdown",
      "metadata": {
        "id": "SR6HpkWndHSe"
      },
      "source": [
        "### Description of Data:"
      ]
    },
    {
      "cell_type": "code",
      "metadata": {
        "colab": {
          "base_uri": "https://localhost:8080/"
        },
        "id": "sibN1Vv1dHSf",
        "outputId": "adad56f0-15b6-4ee6-a69f-9ff1a0a2c197"
      },
      "source": [
        "# Number of examples\n",
        "n_train =  len(X_train)\n",
        "n_test =  len(X_test)\n",
        "\n",
        "# Shape of an traffic sign image\n",
        "image_shape = X_train.shape[1]\n",
        "\n",
        "# unique classes/labels in the training dataset.\n",
        "alltotal = set(y_train)\n",
        "n_classes = len(alltotal)\n",
        "\n",
        "print(\"Number of Training examples =\", n_train)\n",
        "print(\"Number of Test examples =\", n_test)\n",
        "print(\"Image input shape =\", image_shape)\n",
        "print(\"Number of classes =\", n_classes)"
      ],
      "execution_count": 8,
      "outputs": [
        {
          "output_type": "stream",
          "name": "stdout",
          "text": [
            "Number of Training examples = 60000\n",
            "Number of Test examples = 10000\n",
            "Image input shape = 784\n",
            "Number of classes = 10\n"
          ]
        }
      ]
    },
    {
      "cell_type": "markdown",
      "metadata": {
        "id": "6HQDSvrRKZF6"
      },
      "source": [
        "### Class Distribution:"
      ]
    },
    {
      "cell_type": "code",
      "metadata": {
        "id": "XG8GdlpBKdCt",
        "colab": {
          "base_uri": "https://localhost:8080/",
          "height": 295
        },
        "outputId": "1d5cb93a-ff79-4bb3-b834-3eb261cf4046"
      },
      "source": [
        "fig, ax = plt.subplots()\n",
        "ind = np.arange(n_classes)\n",
        "\n",
        "n, bins, patches = ax.hist(y_train, ec='black', align='mid')\n",
        "ax.set_xlabel('classes')\n",
        "ax.set_ylabel('counts')\n",
        "ax.set_title(r'Histogram of Digit images')\n",
        "plt.show()"
      ],
      "execution_count": 9,
      "outputs": [
        {
          "output_type": "display_data",
          "data": {
            "image/png": "[encoded data removed]",
            "text/plain": [
              "<Figure size 432x288 with 1 Axes>"
            ]
          },
          "metadata": {
            "needs_background": "light"
          }
        }
      ]
    },
    {
      "cell_type": "markdown",
      "metadata": {
        "id": "EyLWw3nsLCtk"
      },
      "source": [
        "## Downsampling"
      ]
    },
    {
      "cell_type": "markdown",
      "metadata": {
        "id": "2U1lFEwhLKBf"
      },
      "source": [
        "### Randomly selecting 3 of the 10 Digit Classes"
      ]
    },
    {
      "cell_type": "code",
      "metadata": {
        "id": "0EeRZZWdLRPT",
        "colab": {
          "base_uri": "https://localhost:8080/"
        },
        "outputId": "b702e535-c6e9-4fb4-ac84-26cde4e186e1"
      },
      "source": [
        "# We select the number of Classes we want:\n",
        "n_classes = 3\n",
        "\n",
        "# Empty list to append the random digit classes we select:\n",
        "classes = []\n",
        "\n",
        "# We select 3 digits at random and make sure they are unique:\n",
        "while len(classes) < 3:\n",
        "    \n",
        "    # Randomly drawing a digit from 0-9:\n",
        "    num2choose = np.random.randint(0,10)\n",
        "\n",
        "    # Append the digit if it's not already in our list of classes:\n",
        "    if num2choose not in classes: \n",
        "        classes.append(num2choose)\n",
        "        \n",
        "        \n",
        "# Sorting the Classes smallest to largest    \n",
        "classes.sort()\n",
        "# print classes selected\n",
        "classes"
      ],
      "execution_count": 10,
      "outputs": [
        {
          "output_type": "execute_result",
          "data": {
            "text/plain": [
              "[1, 2, 6]"
            ]
          },
          "metadata": {},
          "execution_count": 10
        }
      ]
    },
    {
      "cell_type": "code",
      "metadata": {
        "id": "2M8R5NqKMB_M"
      },
      "source": [
        "# The number of instances we'll keep for each of our 3 digits:\n",
        "inst_class = 1000\n",
        "\n",
        "inputs=[]\n",
        "labels=[]\n",
        "# Loop to randomly sample the instances for each digit:\n",
        "for r in classes:\n",
        "    imgs = X_train[np.where(y_train==r)[0],:]\n",
        "    inputs.append(imgs[np.random.permutation(imgs.shape[0]),:][0:inst_class,:])\n",
        "    labels.append(np.ones(inst_class)*r)\n",
        "    \n",
        "# Shaping inputs and labels in the right format    \n",
        "X_train = np.vstack(inputs).astype(np.float64)\n",
        "y_train = np.hstack(labels)"
      ],
      "execution_count": 11,
      "outputs": []
    },
    {
      "cell_type": "markdown",
      "metadata": {
        "id": "_6-YHrQQMicy"
      },
      "source": [
        "New Classes Distribution"
      ]
    },
    {
      "cell_type": "code",
      "metadata": {
        "id": "RA300COaMxWm",
        "colab": {
          "base_uri": "https://localhost:8080/",
          "height": 295
        },
        "outputId": "f0be2a16-721b-436f-fdf1-adefe4b161e2"
      },
      "source": [
        "# new histogram\n",
        "fig, ax = plt.subplots()\n",
        "ind = np.arange(n_classes)\n",
        "\n",
        "n, bins, patches = ax.hist(y_train, ec='black', align='mid')\n",
        "ax.set_xlabel('classes')\n",
        "ax.set_ylabel('counts')\n",
        "ax.set_title(r'Histogram of Digit images')\n",
        "plt.show()"
      ],
      "execution_count": 12,
      "outputs": [
        {
          "output_type": "display_data",
          "data": {
            "image/png": "[encoded data removed]",
            "text/plain": [
              "<Figure size 432x288 with 1 Axes>"
            ]
          },
          "metadata": {
            "needs_background": "light"
          }
        }
      ]
    },
    {
      "cell_type": "code",
      "metadata": {
        "id": "eFgP4xugMvJm"
      },
      "source": [
        "# plot digits\n",
        "def plot_digits(instances, images_per_row=5, **options):\n",
        "    size = 28\n",
        "    images_per_row = min(len(instances), images_per_row)\n",
        "    images = [instance.reshape(size,size) for instance in instances]\n",
        "    n_rows = (len(instances) - 1) // images_per_row + 1\n",
        "    row_images = []\n",
        "    n_empty = n_rows * images_per_row - len(instances)\n",
        "    images.append(np.zeros((size, size * n_empty)))\n",
        "    for row in range(n_rows):\n",
        "        rimages = images[row * images_per_row : (row + 1) * images_per_row]\n",
        "        row_images.append(np.concatenate(rimages, axis=1))\n",
        "    image = np.concatenate(row_images, axis=0)\n",
        "    plt.imshow(image,  cmap='gist_yarg', **options)\n",
        "    plt.axis(\"off\")"
      ],
      "execution_count": 13,
      "outputs": []
    },
    {
      "cell_type": "code",
      "metadata": {
        "id": "zeEG-LGOM4fJ",
        "colab": {
          "base_uri": "https://localhost:8080/",
          "height": 362
        },
        "outputId": "5b1cbd6d-f722-4fa1-901e-d4e05dd47b70"
      },
      "source": [
        "# Show a few instances from each Digit:\n",
        "plt.figure(figsize=(8,8))\n",
        "\n",
        "# Selecting a few label indices from each of the 3 classes to show:\n",
        "label_indices = random.sample(range(0, len(X_train)), 54)  # Generate 54 images, 9 per row \n",
        "\n",
        "# Plotting 'original' image\n",
        "plot_digits(X_train[label_indices,:],images_per_row=9)\n",
        "plt.title(\"Original\", fontsize=14)"
      ],
      "execution_count": 14,
      "outputs": [
        {
          "output_type": "execute_result",
          "data": {
            "text/plain": [
              "Text(0.5, 1.0, 'Original')"
            ]
          },
          "metadata": {},
          "execution_count": 14
        },
        {
          "output_type": "display_data",
          "data": {
            "image/png": "[encoded data removed]",
            "text/plain": [
              "<Figure size 576x576 with 1 Axes>"
            ]
          },
          "metadata": {
            "needs_background": "light"
          }
        }
      ]
    },
    {
      "cell_type": "markdown",
      "metadata": {
        "id": "FsAOnOcNNG_V"
      },
      "source": [
        "###  Splitting the Training data into both Training and Validation Sets:\n",
        "\n",
        "- Although this is the Training set, we can still set aside some samples (for instance 20%) of the 1,500 instances we have for Model Validation purposes.\n",
        "\n",
        "\n",
        "- With that Validation Set, we can then select the amount of Uncertainty we are happy with from our Model to use out of sample on other unseen data.\n",
        "\n",
        "\n",
        "- We can then test out how well our decision performs on the Test Set that we put aside earlier."
      ]
    },
    {
      "cell_type": "code",
      "metadata": {
        "id": "YdsmyVAtPXNn"
      },
      "source": [
        "### Split tha dataset in training and validation sets\n",
        "# choose the fraction of your validation data from the training set\n",
        "w = 0.20\n",
        "X_train, X_val, y_train, y_val = train_test_split(X_train, y_train, test_size=w, random_state=0)\n",
        " \n",
        "# Shuffling the training instaces around to randomize the order of inputs to the model:\n",
        "X_train, y_train = shuffle(X_train, y_train)"
      ],
      "execution_count": 15,
      "outputs": []
    },
    {
      "cell_type": "code",
      "metadata": {
        "id": "qXwJwP0iPxhi",
        "colab": {
          "base_uri": "https://localhost:8080/"
        },
        "outputId": "033561e9-444e-4354-f64a-08fb32013baf"
      },
      "source": [
        "# print shape of your validation and training set\n",
        "print('\\033[1m' + \"Shapes of training and validation sets\\n\")\n",
        "print(\"Shape of X training set: \",X_train.shape)\n",
        "print(\"Shape of X validation set: \",X_val.shape)\n",
        "print(\"Shape of Y training set: \",y_train.shape)\n",
        "print(\"Shape of Y validation set: \",y_val.shape)"
      ],
      "execution_count": 16,
      "outputs": [
        {
          "output_type": "stream",
          "name": "stdout",
          "text": [
            "\u001b[1mShapes of training and validation sets\n",
            "\n",
            "Shape of X training set:  (2400, 784)\n",
            "Shape of X validation set:  (600, 784)\n",
            "Shape of Y training set:  (2400,)\n",
            "Shape of Y validation set:  (600,)\n"
          ]
        }
      ]
    },
    {
      "cell_type": "markdown",
      "metadata": {
        "id": "aOroY1QoP8DY"
      },
      "source": [
        "### Encoding the Class labels for the Probabilistic ML Model:\n",
        "\n",
        "This is an example:\n",
        "\n",
        "- **[1,0,0]** for first digit\n",
        "- **[0,1,0]** for second digit\n",
        "- **[0,0,1]** for third digit"
      ]
    },
    {
      "cell_type": "markdown",
      "metadata": {
        "id": "rjUaqWTqQIcp"
      },
      "source": [
        "### General-Recipe ML"
      ]
    },
    {
      "cell_type": "code",
      "metadata": {
        "id": "QzgdivxfQNv5",
        "colab": {
          "base_uri": "https://localhost:8080/"
        },
        "outputId": "b3f5a92d-b06a-4c0b-b69f-6fb293fe5aa2"
      },
      "source": [
        "# model\n",
        "model_log = LogisticRegression(random_state=0, max_iter=2000, C=100, solver='lbfgs', multi_class='multinomial').fit(X_train, y_train)\n",
        "\n",
        "# Classification:\n",
        "y_pred_log = model_log.predict(X_val)\n",
        "y_pred_logi_prob = model_log.predict_proba(X_val)\n",
        "\n",
        "# Maybe taking the maximum probability \n",
        "# in any of the classes for each observation\n",
        "prob_classmax = np.max(y_pred_logi_prob,axis=1)\n",
        "\n",
        "# Computing the Accuracy:\n",
        "print(\"Accuracy=\", accuracy_score(y_pred_log,y_val))\n"
      ],
      "execution_count": 17,
      "outputs": [
        {
          "output_type": "stream",
          "name": "stdout",
          "text": [
            "Accuracy= 0.9633333333333334\n"
          ]
        }
      ]
    },
    {
      "cell_type": "code",
      "metadata": {
        "id": "_HJlgNC2KxCl",
        "colab": {
          "base_uri": "https://localhost:8080/"
        },
        "outputId": "4e92b8dc-35d4-43a7-eadd-43b0d92449a2"
      },
      "source": [
        "np.sort(prob_classmax)"
      ],
      "execution_count": 18,
      "outputs": [
        {
          "output_type": "execute_result",
          "data": {
            "text/plain": [
              "array([0.50835167, 0.51749738, 0.53722801, 0.5520974 , 0.55429245,\n",
              "       0.55897546, 0.56881155, 0.57984486, 0.65694107, 0.7121334 ,\n",
              "       0.72119546, 0.77757513, 0.78333559, 0.79342569, 0.81580448,\n",
              "       0.81873308, 0.81944657, 0.83879392, 0.87111664, 0.87886132,\n",
              "       0.90453583, 0.91781443, 0.92897542, 0.96140811, 0.96821994,\n",
              "       0.97073659, 0.97635687, 0.97761984, 0.97763929, 0.98004778,\n",
              "       0.98274927, 0.98333335, 0.98501929, 0.98589154, 0.98654463,\n",
              "       0.99094378, 0.99245053, 0.99293792, 0.99373004, 0.99410174,\n",
              "       0.99434584, 0.9945057 , 0.99550464, 0.99599396, 0.99608229,\n",
              "       0.99647545, 0.99653886, 0.99655019, 0.99679483, 0.99689091,\n",
              "       0.99778459, 0.9978579 , 0.9980243 , 0.99825417, 0.99829551,\n",
              "       0.99834623, 0.99835966, 0.99838462, 0.99865708, 0.99868163,\n",
              "       0.99875666, 0.99883322, 0.99885837, 0.9988881 , 0.99889799,\n",
              "       0.99894407, 0.99898788, 0.99905673, 0.99905873, 0.99909544,\n",
              "       0.99914841, 0.99918278, 0.9992519 , 0.99927587, 0.99928302,\n",
              "       0.99929616, 0.99929661, 0.99937259, 0.9994384 , 0.99944628,\n",
              "       0.99945295, 0.99950249, 0.99953539, 0.99955321, 0.99959595,\n",
              "       0.99960693, 0.99964178, 0.99971462, 0.99972039, 0.99972815,\n",
              "       0.99972899, 0.99972929, 0.99976071, 0.99979787, 0.99979948,\n",
              "       0.99980662, 0.99981374, 0.99982106, 0.99982272, 0.99982642,\n",
              "       0.99982786, 0.99983067, 0.99984558, 0.99984741, 0.99985747,\n",
              "       0.99985909, 0.99986445, 0.9998826 , 0.99988515, 0.99988758,\n",
              "       0.99988825, 0.99988916, 0.99989459, 0.9998951 , 0.99989539,\n",
              "       0.99990226, 0.99990487, 0.99990666, 0.99991174, 0.99991234,\n",
              "       0.9999155 , 0.99992168, 0.99992206, 0.99992254, 0.99992298,\n",
              "       0.99993086, 0.99993217, 0.99993295, 0.99993381, 0.99993463,\n",
              "       0.99993523, 0.99993531, 0.99993868, 0.99994014, 0.99994041,\n",
              "       0.99994329, 0.99994613, 0.99994954, 0.99995034, 0.9999512 ,\n",
              "       0.99995145, 0.9999515 , 0.99995205, 0.9999537 , 0.99995383,\n",
              "       0.99995456, 0.99995499, 0.99995858, 0.99995966, 0.99996053,\n",
              "       0.99996081, 0.99996091, 0.99996234, 0.99996265, 0.99996434,\n",
              "       0.99996452, 0.99996454, 0.99996523, 0.99996625, 0.99996647,\n",
              "       0.99996693, 0.99996732, 0.99996742, 0.99996783, 0.99996835,\n",
              "       0.99996946, 0.99997085, 0.99997148, 0.99997465, 0.99997483,\n",
              "       0.99997582, 0.99997697, 0.99997714, 0.99997778, 0.99997822,\n",
              "       0.99997853, 0.99997856, 0.99997991, 0.99998035, 0.99998042,\n",
              "       0.99998055, 0.99998077, 0.99998111, 0.99998144, 0.99998158,\n",
              "       0.99998333, 0.99998429, 0.99998452, 0.99998541, 0.99998579,\n",
              "       0.99998644, 0.99998646, 0.9999865 , 0.99998725, 0.99998728,\n",
              "       0.99998738, 0.99998792, 0.99998798, 0.99998812, 0.99998815,\n",
              "       0.99998836, 0.99998872, 0.99998899, 0.9999899 , 0.99999037,\n",
              "       0.99999052, 0.99999059, 0.99999109, 0.99999136, 0.99999142,\n",
              "       0.99999159, 0.99999196, 0.999992  , 0.9999921 , 0.99999222,\n",
              "       0.99999229, 0.99999238, 0.99999309, 0.99999312, 0.99999325,\n",
              "       0.9999934 , 0.99999344, 0.99999353, 0.99999387, 0.99999393,\n",
              "       0.99999411, 0.99999413, 0.99999414, 0.99999426, 0.99999429,\n",
              "       0.99999438, 0.99999452, 0.99999474, 0.99999486, 0.999995  ,\n",
              "       0.99999508, 0.99999518, 0.99999535, 0.99999544, 0.99999575,\n",
              "       0.99999592, 0.9999962 , 0.9999962 , 0.99999627, 0.99999627,\n",
              "       0.9999963 , 0.99999635, 0.99999652, 0.99999654, 0.99999659,\n",
              "       0.9999967 , 0.99999681, 0.99999682, 0.99999691, 0.99999692,\n",
              "       0.99999699, 0.99999718, 0.99999718, 0.99999734, 0.99999751,\n",
              "       0.99999755, 0.99999758, 0.9999976 , 0.99999761, 0.99999761,\n",
              "       0.99999762, 0.99999769, 0.99999778, 0.99999779, 0.99999784,\n",
              "       0.99999792, 0.99999792, 0.99999799, 0.99999802, 0.99999802,\n",
              "       0.9999982 , 0.99999824, 0.9999983 , 0.99999831, 0.99999832,\n",
              "       0.99999844, 0.99999847, 0.99999852, 0.99999854, 0.99999859,\n",
              "       0.9999986 , 0.99999866, 0.99999867, 0.99999873, 0.99999876,\n",
              "       0.99999879, 0.99999882, 0.99999884, 0.99999889, 0.9999989 ,\n",
              "       0.99999893, 0.99999895, 0.99999897, 0.99999898, 0.99999901,\n",
              "       0.99999905, 0.99999906, 0.9999991 , 0.99999912, 0.99999916,\n",
              "       0.99999918, 0.9999992 , 0.99999921, 0.99999924, 0.99999926,\n",
              "       0.99999927, 0.99999929, 0.9999993 , 0.9999993 , 0.99999937,\n",
              "       0.99999939, 0.99999942, 0.99999944, 0.99999945, 0.99999946,\n",
              "       0.99999947, 0.99999948, 0.9999995 , 0.9999995 , 0.99999951,\n",
              "       0.99999951, 0.99999954, 0.99999955, 0.99999956, 0.99999957,\n",
              "       0.99999958, 0.99999959, 0.99999959, 0.9999996 , 0.99999966,\n",
              "       0.99999966, 0.99999967, 0.99999968, 0.99999968, 0.99999968,\n",
              "       0.99999969, 0.99999971, 0.99999972, 0.99999974, 0.99999976,\n",
              "       0.99999976, 0.99999977, 0.99999978, 0.99999981, 0.99999982,\n",
              "       0.99999983, 0.99999983, 0.99999983, 0.99999983, 0.99999984,\n",
              "       0.99999984, 0.99999985, 0.99999985, 0.99999985, 0.99999985,\n",
              "       0.99999986, 0.99999986, 0.99999986, 0.99999987, 0.99999987,\n",
              "       0.99999987, 0.99999987, 0.99999988, 0.99999988, 0.99999989,\n",
              "       0.99999989, 0.9999999 , 0.9999999 , 0.9999999 , 0.9999999 ,\n",
              "       0.99999991, 0.99999991, 0.99999991, 0.99999991, 0.99999992,\n",
              "       0.99999992, 0.99999992, 0.99999993, 0.99999993, 0.99999993,\n",
              "       0.99999994, 0.99999994, 0.99999995, 0.99999995, 0.99999995,\n",
              "       0.99999995, 0.99999995, 0.99999995, 0.99999995, 0.99999995,\n",
              "       0.99999996, 0.99999996, 0.99999996, 0.99999996, 0.99999996,\n",
              "       0.99999996, 0.99999997, 0.99999997, 0.99999997, 0.99999997,\n",
              "       0.99999997, 0.99999997, 0.99999997, 0.99999997, 0.99999997,\n",
              "       0.99999997, 0.99999997, 0.99999997, 0.99999997, 0.99999998,\n",
              "       0.99999998, 0.99999998, 0.99999998, 0.99999998, 0.99999998,\n",
              "       0.99999998, 0.99999998, 0.99999998, 0.99999998, 0.99999998,\n",
              "       0.99999998, 0.99999998, 0.99999998, 0.99999998, 0.99999998,\n",
              "       0.99999998, 0.99999998, 0.99999998, 0.99999998, 0.99999999,\n",
              "       0.99999999, 0.99999999, 0.99999999, 0.99999999, 0.99999999,\n",
              "       0.99999999, 0.99999999, 0.99999999, 0.99999999, 0.99999999,\n",
              "       0.99999999, 0.99999999, 0.99999999, 0.99999999, 0.99999999,\n",
              "       0.99999999, 0.99999999, 0.99999999, 0.99999999, 0.99999999,\n",
              "       0.99999999, 0.99999999, 0.99999999, 0.99999999, 0.99999999,\n",
              "       0.99999999, 0.99999999, 0.99999999, 0.99999999, 0.99999999,\n",
              "       0.99999999, 1.        , 1.        , 1.        , 1.        ,\n",
              "       1.        , 1.        , 1.        , 1.        , 1.        ,\n",
              "       1.        , 1.        , 1.        , 1.        , 1.        ,\n",
              "       1.        , 1.        , 1.        , 1.        , 1.        ,\n",
              "       1.        , 1.        , 1.        , 1.        , 1.        ,\n",
              "       1.        , 1.        , 1.        , 1.        , 1.        ,\n",
              "       1.        , 1.        , 1.        , 1.        , 1.        ,\n",
              "       1.        , 1.        , 1.        , 1.        , 1.        ,\n",
              "       1.        , 1.        , 1.        , 1.        , 1.        ,\n",
              "       1.        , 1.        , 1.        , 1.        , 1.        ,\n",
              "       1.        , 1.        , 1.        , 1.        , 1.        ,\n",
              "       1.        , 1.        , 1.        , 1.        , 1.        ,\n",
              "       1.        , 1.        , 1.        , 1.        , 1.        ,\n",
              "       1.        , 1.        , 1.        , 1.        , 1.        ,\n",
              "       1.        , 1.        , 1.        , 1.        , 1.        ,\n",
              "       1.        , 1.        , 1.        , 1.        , 1.        ,\n",
              "       1.        , 1.        , 1.        , 1.        , 1.        ,\n",
              "       1.        , 1.        , 1.        , 1.        , 1.        ,\n",
              "       1.        , 1.        , 1.        , 1.        , 1.        ,\n",
              "       1.        , 1.        , 1.        , 1.        , 1.        ,\n",
              "       1.        , 1.        , 1.        , 1.        , 1.        ,\n",
              "       1.        , 1.        , 1.        , 1.        , 1.        ,\n",
              "       1.        , 1.        , 1.        , 1.        , 1.        ,\n",
              "       1.        , 1.        , 1.        , 1.        , 1.        ,\n",
              "       1.        , 1.        , 1.        , 1.        , 1.        ,\n",
              "       1.        , 1.        , 1.        , 1.        , 1.        ,\n",
              "       1.        , 1.        , 1.        , 1.        , 1.        ])"
            ]
          },
          "metadata": {},
          "execution_count": 18
        }
      ]
    },
    {
      "cell_type": "code",
      "metadata": {
        "colab": {
          "base_uri": "https://localhost:8080/"
        },
        "id": "sne8ytZCL6t3",
        "outputId": "5d54e31b-e94f-4818-e1dc-366917ea5f8d"
      },
      "source": [
        "# probability of general-recipe logistic regression in wrong instances\n",
        "prob_classmax[y_pred_log!=y_val]"
      ],
      "execution_count": 19,
      "outputs": [
        {
          "output_type": "execute_result",
          "data": {
            "text/plain": [
              "array([0.99982106, 0.55429245, 0.87886132, 0.81873308, 0.65694107,\n",
              "       0.5520974 , 0.99905873, 0.99996625, 0.9999155 , 0.53722801,\n",
              "       0.99094378, 0.98004778, 0.99992206, 0.99293792, 0.99835966,\n",
              "       0.55897546, 0.50835167, 0.81944657, 0.99875666, 0.91781443,\n",
              "       0.72119546, 0.78333559])"
            ]
          },
          "metadata": {},
          "execution_count": 19
        }
      ]
    },
    {
      "cell_type": "code",
      "metadata": {
        "colab": {
          "base_uri": "https://localhost:8080/"
        },
        "id": "aWEhbnx3L6_P",
        "outputId": "a3845a5a-a183-4663-d567-141568f5d3e7"
      },
      "source": [
        "np.array(y_pred_log)"
      ],
      "execution_count": 20,
      "outputs": [
        {
          "output_type": "execute_result",
          "data": {
            "text/plain": [
              "array([1., 2., 2., 6., 6., 6., 6., 1., 2., 6., 2., 1., 1., 1., 2., 6., 2.,\n",
              "       1., 2., 6., 6., 1., 2., 2., 6., 1., 2., 1., 2., 1., 6., 2., 6., 2.,\n",
              "       2., 1., 1., 2., 6., 2., 2., 1., 1., 1., 1., 1., 2., 2., 6., 1., 2.,\n",
              "       2., 1., 6., 1., 6., 6., 1., 6., 6., 6., 2., 6., 1., 6., 1., 2., 1.,\n",
              "       6., 2., 2., 2., 2., 6., 2., 1., 1., 2., 6., 2., 2., 1., 1., 6., 1.,\n",
              "       6., 1., 1., 2., 1., 2., 2., 1., 1., 1., 1., 1., 1., 1., 1., 6., 6.,\n",
              "       1., 2., 1., 1., 2., 2., 1., 6., 2., 2., 2., 6., 2., 2., 6., 2., 1.,\n",
              "       2., 6., 2., 6., 6., 1., 2., 2., 1., 6., 6., 2., 6., 6., 2., 1., 1.,\n",
              "       6., 2., 6., 1., 6., 1., 2., 6., 1., 6., 2., 6., 2., 6., 1., 2., 6.,\n",
              "       6., 1., 1., 2., 1., 1., 1., 2., 2., 1., 1., 6., 6., 2., 1., 2., 6.,\n",
              "       1., 6., 6., 1., 2., 1., 2., 1., 6., 6., 1., 2., 6., 2., 6., 1., 2.,\n",
              "       6., 6., 1., 6., 1., 1., 2., 2., 2., 1., 1., 1., 6., 1., 2., 1., 6.,\n",
              "       2., 2., 6., 1., 6., 2., 2., 1., 2., 2., 6., 6., 1., 1., 1., 6., 1.,\n",
              "       6., 6., 2., 6., 1., 2., 2., 1., 2., 6., 1., 1., 2., 2., 6., 6., 6.,\n",
              "       2., 6., 2., 1., 1., 1., 1., 6., 6., 2., 6., 2., 2., 2., 2., 6., 1.,\n",
              "       2., 6., 2., 1., 6., 6., 1., 1., 1., 1., 1., 1., 1., 6., 1., 6., 2.,\n",
              "       1., 6., 1., 6., 6., 1., 6., 2., 2., 2., 2., 6., 1., 2., 1., 1., 1.,\n",
              "       1., 2., 2., 1., 2., 2., 1., 6., 1., 1., 2., 1., 1., 1., 6., 1., 2.,\n",
              "       1., 1., 6., 1., 2., 6., 6., 6., 6., 1., 2., 6., 1., 2., 1., 6., 6.,\n",
              "       2., 2., 1., 2., 6., 2., 1., 6., 6., 1., 6., 1., 2., 2., 6., 1., 6.,\n",
              "       6., 1., 6., 6., 2., 1., 6., 1., 1., 2., 1., 6., 2., 1., 1., 2., 2.,\n",
              "       6., 1., 1., 1., 1., 2., 1., 2., 6., 1., 6., 1., 1., 1., 6., 1., 6.,\n",
              "       2., 2., 6., 2., 2., 1., 2., 2., 2., 2., 6., 6., 2., 2., 1., 2., 6.,\n",
              "       1., 1., 1., 1., 1., 1., 1., 2., 6., 1., 1., 1., 2., 2., 1., 2., 6.,\n",
              "       1., 6., 6., 1., 6., 1., 2., 6., 1., 1., 1., 1., 2., 1., 2., 6., 1.,\n",
              "       2., 6., 6., 6., 1., 2., 2., 2., 6., 1., 2., 2., 2., 1., 1., 2., 2.,\n",
              "       2., 1., 1., 2., 6., 1., 2., 2., 2., 1., 2., 1., 1., 1., 1., 1., 2.,\n",
              "       1., 1., 2., 2., 6., 6., 6., 1., 2., 1., 1., 2., 1., 1., 1., 2., 6.,\n",
              "       6., 2., 1., 2., 6., 1., 2., 2., 2., 2., 1., 6., 6., 2., 6., 2., 1.,\n",
              "       6., 1., 1., 2., 2., 6., 1., 6., 1., 2., 2., 1., 2., 2., 2., 1., 2.,\n",
              "       1., 1., 2., 2., 1., 6., 2., 1., 1., 1., 6., 2., 2., 1., 2., 1., 1.,\n",
              "       6., 1., 6., 6., 1., 1., 1., 6., 2., 2., 1., 6., 2., 6., 2., 6., 1.,\n",
              "       1., 2., 6., 1., 6., 2., 1., 2., 2., 2., 1., 1., 1., 1., 1., 1., 2.,\n",
              "       1., 6., 6., 2., 6., 1., 1., 1., 6., 6., 6., 2., 1., 1., 2., 1., 6.,\n",
              "       1., 1., 1., 6., 2., 6., 2., 6., 6., 6., 1., 1., 1., 1., 2., 1., 1.,\n",
              "       1., 2., 1., 1., 6.])"
            ]
          },
          "metadata": {},
          "execution_count": 20
        }
      ]
    },
    {
      "cell_type": "code",
      "metadata": {
        "colab": {
          "base_uri": "https://localhost:8080/"
        },
        "id": "liCCzjrllcdv",
        "outputId": "87983a22-dbb8-476a-8f81-5c5c4cb0affe"
      },
      "source": [
        "from sklearn.metrics import classification_report\n",
        "from sklearn.metrics import accuracy_score\n",
        "\n",
        "y_true = y_val\n",
        "y_pred = y_pred_log\n",
        "\n",
        "target_names = []\n",
        "for x in classes:\n",
        "  target_names.append(\"digit \"+str(x))\n",
        "\n",
        "print(classification_report(y_true, y_pred, target_names=target_names, digits=4))"
      ],
      "execution_count": 21,
      "outputs": [
        {
          "output_type": "stream",
          "name": "stdout",
          "text": [
            "              precision    recall  f1-score   support\n",
            "\n",
            "     digit 1     0.9707    0.9789    0.9748       237\n",
            "     digit 2     0.9333    0.9733    0.9529       187\n",
            "     digit 6     0.9880    0.9318    0.9591       176\n",
            "\n",
            "    accuracy                         0.9633       600\n",
            "   macro avg     0.9640    0.9613    0.9622       600\n",
            "weighted avg     0.9641    0.9633    0.9633       600\n",
            "\n"
          ]
        }
      ]
    },
    {
      "cell_type": "markdown",
      "metadata": {
        "id": "3uQG6JsOQxH5"
      },
      "source": [
        "### Probabilistic Multinomial Logistic Regression:"
      ]
    },
    {
      "cell_type": "markdown",
      "metadata": {
        "id": "irlmUNw7Q5YL"
      },
      "source": [
        "The Multinomial Logistic Regression has some parameters:\n",
        "\n",
        "- $\\alpha$, which is the intercept term:\n",
        "\n",
        "- $\\beta$, which is a vector of coefficients which give a weighting to the importance of each input feature:\n"
      ]
    },
    {
      "cell_type": "code",
      "metadata": {
        "id": "1o7mbKWmRhz5"
      },
      "source": [
        "import sklearn.preprocessing\n",
        "## We use LabelBinarizer to transfor classes into counts\n",
        "# neg_label=0, pos_label=1 \n",
        "y_2_bin = sklearn.preprocessing.LabelBinarizer().fit_transform(y_train.reshape(-1,1))\n",
        "nf = X_train.shape[1]\n",
        "# number of classes\n",
        "nc = len(classes)\n",
        "# floatX = float32\n",
        "floatX = tt.config.floatX\n",
        "\n",
        "init_b = np.random.randn(nf, nc-1).astype(floatX)\n",
        "init_a = np.random.randn(nc-1).astype(floatX)\n",
        "\n",
        "\n",
        "with pm.Model() as multi_logistic:\n",
        "    # Prior\n",
        "    β = pm.Normal('beta', 0, sigma=100, shape=(nf, nc-1), testval=init_b)\n",
        "    α = pm.Normal('alpha', 0, sigma=100, shape=(nc-1,), testval=init_a)\n",
        "    \n",
        "    # we need to consider nc-1 features because the model is not identifiable\n",
        "    # the softmax turns a vector into a probability that sums up to one\n",
        "    # therefore we add zeros to go back to dimension nc\n",
        "    # so that softmax returns a vector of dimension nc\n",
        "    β1  = tt.tensor.concatenate([np.zeros((nf,1)),β ],axis=1)\n",
        "    α1  = tt.tensor.concatenate([[0],α ],)\n",
        "    \n",
        "    # Likelihood\n",
        "    mu = pm.math.matrix_dot(X_train,β1) + α1\n",
        "    # It doesn't work if the problem is binary\n",
        "    p = tt.tensor.nnet.nnet.softmax(mu)\n",
        "    observed = pm.Multinomial('likelihood', p=p, n=1, observed=y_2_bin)"
      ],
      "execution_count": 23,
      "outputs": []
    },
    {
      "cell_type": "code",
      "metadata": {
        "colab": {
          "base_uri": "https://localhost:8080/"
        },
        "id": "0bstsjdAYy4v",
        "outputId": "b6c21d1e-408b-4c2c-9de2-54a533131fe2"
      },
      "source": [
        "y_2_bin"
      ],
      "execution_count": 24,
      "outputs": [
        {
          "output_type": "execute_result",
          "data": {
            "text/plain": [
              "array([[0, 1, 0],\n",
              "       [0, 0, 1],\n",
              "       [0, 1, 0],\n",
              "       ...,\n",
              "       [0, 1, 0],\n",
              "       [0, 0, 1],\n",
              "       [1, 0, 0]])"
            ]
          },
          "metadata": {},
          "execution_count": 24
        }
      ]
    },
    {
      "cell_type": "code",
      "metadata": {
        "id": "aj6Uzc05Rhtr",
        "colab": {
          "base_uri": "https://localhost:8080/",
          "height": 91
        },
        "outputId": "411f9875-2e61-4247-fab0-dc5f0cdfdaab"
      },
      "source": [
        "with multi_logistic:\n",
        "   approx = pm.fit(10000, method='advi')"
      ],
      "execution_count": 25,
      "outputs": [
        {
          "output_type": "stream",
          "name": "stderr",
          "text": [
            "WARNING (theano.tensor.blas): We did not find a dynamic library in the library_dir of the library we use for blas. If you use ATLAS, make sure to compile it with dynamics library.\n"
          ]
        },
        {
          "output_type": "display_data",
          "data": {
            "text/html": [
              "\n",
              "    <div>\n",
              "        <style>\n",
              "            /* Turns off some styling */\n",
              "            progress {\n",
              "                /* gets rid of default border in Firefox and Opera. */\n",
              "                border: none;\n",
              "                /* Needs to be in here for Safari polyfill so background images work as expected. */\n",
              "                background-size: auto;\n",
              "            }\n",
              "            .progress-bar-interrupted, .progress-bar-interrupted::-webkit-progress-bar {\n",
              "                background: #F44336;\n",
              "            }\n",
              "        </style>\n",
              "      <progress value='10000' class='' max='10000' style='width:300px; height:20px; vertical-align: middle;'></progress>\n",
              "      100.00% [10000/10000 02:13<00:00 Average Loss = 6,588.2]\n",
              "    </div>\n",
              "    "
            ],
            "text/plain": [
              "<IPython.core.display.HTML object>"
            ]
          },
          "metadata": {}
        },
        {
          "output_type": "stream",
          "name": "stderr",
          "text": [
            "Finished [100%]: Average Loss = 6,587.2\n"
          ]
        }
      ]
    },
    {
      "cell_type": "code",
      "metadata": {
        "id": "WNmJvYc4Rho7",
        "colab": {
          "base_uri": "https://localhost:8080/",
          "height": 638
        },
        "outputId": "db916e94-b60d-4843-f5a4-153b44158892"
      },
      "source": [
        "# Plot the average loss over all iterations\n",
        "plt.rcParams['figure.figsize'] = [15,10]\n",
        "plt.plot(approx.hist)\n",
        "plt.title('Avg. loss over all iterations')\n",
        "plt.ylabel(\"Loss\")\n",
        "plt.xlabel(\"# iterations\")"
      ],
      "execution_count": 26,
      "outputs": [
        {
          "output_type": "execute_result",
          "data": {
            "text/plain": [
              "Text(0.5, 0, '# iterations')"
            ]
          },
          "metadata": {},
          "execution_count": 26
        },
        {
          "output_type": "display_data",
          "data": {
            "image/png": "[encoded data removed]",
            "text/plain": [
              "<Figure size 1080x720 with 1 Axes>"
            ]
          },
          "metadata": {
            "needs_background": "light"
          }
        }
      ]
    },
    {
      "cell_type": "code",
      "metadata": {
        "id": "K40L4-djaVy6"
      },
      "source": [
        "dd = 300\n",
        "posterior = approx.sample(draws=dd)"
      ],
      "execution_count": 27,
      "outputs": []
    },
    {
      "cell_type": "code",
      "metadata": {
        "id": "XXh5GXJsRhmr",
        "colab": {
          "base_uri": "https://localhost:8080/",
          "height": 297
        },
        "outputId": "53de199a-9ee5-4212-c32b-ff4498c47da7"
      },
      "source": [
        "## The softmax function transforms each element of a collection by computing the exponential\n",
        "#  of each element divided by the sum of the exponentials of all the elements.\n",
        "from scipy.special import softmax\n",
        "\n",
        "#select an image in the test set\n",
        "i = 10 \n",
        "#i = random.randint(0, dd)\n",
        "\n",
        "#select a sample in the posterior\n",
        "s = 100 \n",
        "#s = random.randint(0, dd)\n",
        "\n",
        "\n",
        "beta  = np.hstack([np.zeros((nf,1)),  posterior['beta'][s,:] ])\n",
        "alpha = np.hstack([[0],  posterior['alpha'][s,:] ])\n",
        "image = X_val[i,:].reshape(28,28)\n",
        "plt.figure(figsize=(3,3))\n",
        "plt.imshow(image,cmap=\"Greys_r\")\n",
        "np.set_printoptions(suppress=True)\n",
        "\n",
        "print(\"test image #\" + str(i))\n",
        "print(\"posterior sample #\" + str(s))\n",
        "print(\"true class=\", y_val[i])\n",
        "print(\"classes: \" + str(classes))\n",
        "print(\"estimated prob=\",softmax((np.array([X_val[i,:].dot(beta) + alpha])))[0,:])"
      ],
      "execution_count": 47,
      "outputs": [
        {
          "output_type": "stream",
          "name": "stdout",
          "text": [
            "test image #10\n",
            "posterior sample #100\n",
            "true class= 2.0\n",
            "classes: [1, 2, 6]\n",
            "estimated prob= [0.00030177 0.99969823 0.        ]\n"
          ]
        },
        {
          "output_type": "display_data",
          "data": {
            "image/png": "[encoded data removed]",
            "text/plain": [
              "<Figure size 216x216 with 1 Axes>"
            ]
          },
          "metadata": {
            "needs_background": "light"
          }
        }
      ]
    },
    {
      "cell_type": "code",
      "metadata": {
        "colab": {
          "base_uri": "https://localhost:8080/",
          "height": 297
        },
        "id": "ejrNIyk9v0kU",
        "outputId": "7229c281-54bd-4b32-91f9-e36276cb8a2a"
      },
      "source": [
        "#select an image in the test set\n",
        "i = 100\n",
        "#i = random.randint(0, dd)\n",
        "\n",
        "#select a sample in the posterior\n",
        "s = 200 \n",
        "#s = random.randint(0, dd)\n",
        "\n",
        "\n",
        "beta  = np.hstack([np.zeros((nf,1)),  posterior['beta'][s,:] ])\n",
        "alpha = np.hstack([[0],  posterior['alpha'][s,:] ])\n",
        "image = X_val[i,:].reshape(28,28)\n",
        "plt.figure(figsize=(3,3))\n",
        "plt.imshow(image,cmap=\"Greys_r\")\n",
        "np.set_printoptions(suppress=True)\n",
        "\n",
        "print(\"test image #\" + str(i))\n",
        "print(\"posterior sample #\" + str(s))\n",
        "print(\"true class=\", y_val[i])\n",
        "print(\"classes: \" + str(classes))\n",
        "print(\"estimated prob=\",softmax((np.array([X_val[i,:].dot(beta) + alpha])))[0,:])\n"
      ],
      "execution_count": 49,
      "outputs": [
        {
          "output_type": "stream",
          "name": "stdout",
          "text": [
            "test image #100\n",
            "posterior sample #200\n",
            "true class= 6.0\n",
            "classes: [1, 2, 6]\n",
            "estimated prob= [0.00000022 0.00000164 0.99999814]\n"
          ]
        },
        {
          "output_type": "display_data",
          "data": {
            "image/png": "[encoded data removed]",
            "text/plain": [
              "<Figure size 216x216 with 1 Axes>"
            ]
          },
          "metadata": {
            "needs_background": "light"
          }
        }
      ]
    },
    {
      "cell_type": "code",
      "metadata": {
        "id": "_7KGFaCiJel-"
      },
      "source": [
        "# Bayesian prediction\n",
        "# return the class that has the highest posterior probability\n",
        "y_pred_Bayesian=[]\n",
        "\n",
        "for i in range(X_val.shape[0]):\n",
        "    val=np.zeros((1,len(classes)))\n",
        "    \n",
        "    for s in range(posterior['beta'].shape[0]):\n",
        "        beta = np.hstack([np.zeros((nf,1)),  posterior['beta'][s,:] ])\n",
        "        alpha = np.hstack([[0],  posterior['alpha'][s,:] ])     \n",
        "        val = val + softmax((np.array([X_val[i,:].dot(beta) + alpha])))\n",
        "    \n",
        "    mean_probability = val/posterior['beta'].shape[0]\n",
        "    y_pred_Bayesian.append( np.argmax(mean_probability))"
      ],
      "execution_count": 29,
      "outputs": []
    },
    {
      "cell_type": "code",
      "metadata": {
        "colab": {
          "base_uri": "https://localhost:8080/"
        },
        "id": "0ld1oRirc_Yv",
        "outputId": "a415427f-06b6-459b-8c0b-d320f5773cad"
      },
      "source": [
        "print(y_pred_Bayesian)"
      ],
      "execution_count": 30,
      "outputs": [
        {
          "output_type": "stream",
          "name": "stdout",
          "text": [
            "[0, 1, 1, 2, 2, 2, 2, 0, 1, 2, 1, 0, 0, 0, 1, 2, 1, 0, 1, 2, 2, 0, 1, 1, 2, 0, 1, 0, 1, 0, 2, 1, 2, 1, 1, 0, 0, 1, 2, 1, 1, 0, 0, 0, 0, 0, 2, 1, 2, 0, 1, 0, 0, 2, 0, 2, 2, 0, 2, 2, 2, 1, 2, 0, 2, 0, 1, 0, 2, 1, 1, 1, 1, 2, 1, 0, 0, 1, 1, 1, 1, 0, 0, 2, 0, 2, 0, 0, 1, 0, 1, 1, 0, 1, 0, 0, 0, 0, 0, 0, 2, 2, 0, 1, 0, 1, 1, 1, 0, 2, 1, 1, 1, 2, 1, 1, 2, 1, 0, 1, 2, 1, 2, 2, 0, 1, 1, 0, 2, 2, 1, 2, 2, 1, 0, 0, 2, 1, 2, 0, 2, 0, 1, 2, 0, 2, 1, 2, 1, 2, 0, 2, 2, 2, 0, 0, 1, 0, 0, 0, 1, 1, 0, 0, 2, 2, 1, 0, 1, 2, 0, 2, 2, 0, 1, 0, 1, 0, 2, 2, 0, 1, 2, 1, 2, 0, 1, 2, 2, 0, 2, 0, 0, 1, 1, 1, 0, 0, 0, 2, 0, 1, 0, 2, 1, 1, 2, 0, 2, 1, 2, 0, 1, 1, 2, 2, 0, 0, 0, 2, 0, 2, 2, 1, 2, 0, 1, 1, 0, 1, 2, 0, 0, 1, 1, 2, 2, 2, 1, 2, 1, 0, 0, 0, 0, 2, 2, 1, 2, 1, 1, 1, 1, 2, 0, 1, 2, 1, 0, 2, 2, 0, 0, 0, 0, 0, 0, 0, 2, 0, 2, 1, 0, 2, 0, 2, 2, 0, 2, 1, 1, 1, 1, 2, 0, 1, 0, 0, 0, 0, 1, 1, 0, 1, 1, 0, 2, 0, 0, 1, 0, 0, 0, 2, 0, 1, 0, 0, 2, 0, 1, 2, 2, 2, 2, 0, 1, 2, 0, 1, 0, 2, 2, 1, 1, 0, 1, 2, 1, 0, 2, 2, 0, 2, 0, 1, 1, 2, 0, 2, 2, 0, 2, 2, 1, 0, 2, 0, 0, 1, 0, 2, 1, 0, 0, 1, 1, 2, 0, 0, 0, 0, 0, 2, 1, 2, 0, 2, 0, 0, 0, 2, 0, 2, 1, 1, 2, 1, 1, 0, 1, 1, 1, 1, 2, 2, 0, 1, 0, 1, 2, 0, 0, 0, 0, 0, 0, 0, 1, 2, 0, 0, 0, 1, 1, 0, 1, 2, 0, 2, 2, 2, 2, 0, 1, 2, 0, 0, 0, 0, 1, 0, 1, 2, 0, 1, 2, 2, 2, 0, 1, 1, 1, 2, 0, 1, 1, 1, 0, 0, 1, 1, 1, 0, 0, 1, 2, 0, 1, 1, 1, 0, 2, 0, 0, 0, 0, 0, 1, 0, 0, 1, 1, 2, 2, 2, 0, 1, 0, 0, 1, 0, 0, 0, 1, 2, 2, 1, 1, 1, 2, 1, 1, 1, 1, 1, 0, 2, 2, 1, 2, 1, 0, 2, 0, 0, 1, 1, 2, 0, 2, 0, 1, 1, 0, 1, 1, 1, 0, 1, 0, 0, 1, 1, 0, 2, 1, 0, 0, 0, 2, 1, 1, 0, 1, 0, 0, 2, 0, 2, 2, 0, 0, 0, 1, 1, 1, 0, 2, 2, 2, 1, 2, 0, 0, 1, 2, 0, 2, 0, 0, 2, 1, 1, 0, 0, 0, 0, 0, 0, 1, 0, 2, 1, 2, 2, 0, 0, 0, 2, 2, 2, 1, 0, 0, 1, 0, 2, 0, 0, 0, 2, 1, 2, 1, 2, 2, 2, 0, 0, 0, 0, 1, 0, 0, 0, 1, 0, 0, 2]\n"
          ]
        }
      ]
    },
    {
      "cell_type": "code",
      "metadata": {
        "colab": {
          "base_uri": "https://localhost:8080/"
        },
        "id": "mCIlCq_RcUXi",
        "outputId": "27d768ea-e252-439c-e8e8-98234380abab"
      },
      "source": [
        "# recall the classes we are using\n",
        "print(classes)"
      ],
      "execution_count": 31,
      "outputs": [
        {
          "output_type": "stream",
          "name": "stdout",
          "text": [
            "[1, 2, 6]\n"
          ]
        }
      ]
    },
    {
      "cell_type": "code",
      "metadata": {
        "id": "3h2y2aY1Je9B",
        "colab": {
          "base_uri": "https://localhost:8080/"
        },
        "outputId": "5c9738dc-cf83-4dd5-8054-fc3d3f528cf6"
      },
      "source": [
        "# prediction array (using classes)\n",
        "n = 100 # Just an sample\n",
        "np.array(classes)[y_pred_Bayesian[0:n]]"
      ],
      "execution_count": 32,
      "outputs": [
        {
          "output_type": "execute_result",
          "data": {
            "text/plain": [
              "array([1, 2, 2, 6, 6, 6, 6, 1, 2, 6, 2, 1, 1, 1, 2, 6, 2, 1, 2, 6, 6, 1,\n",
              "       2, 2, 6, 1, 2, 1, 2, 1, 6, 2, 6, 2, 2, 1, 1, 2, 6, 2, 2, 1, 1, 1,\n",
              "       1, 1, 6, 2, 6, 1, 2, 1, 1, 6, 1, 6, 6, 1, 6, 6, 6, 2, 6, 1, 6, 1,\n",
              "       2, 1, 6, 2, 2, 2, 2, 6, 2, 1, 1, 2, 2, 2, 2, 1, 1, 6, 1, 6, 1, 1,\n",
              "       2, 1, 2, 2, 1, 2, 1, 1, 1, 1, 1, 1])"
            ]
          },
          "metadata": {},
          "execution_count": 32
        }
      ]
    },
    {
      "cell_type": "code",
      "metadata": {
        "id": "c5yGYG9lJfLF",
        "colab": {
          "base_uri": "https://localhost:8080/"
        },
        "outputId": "d55f7f92-7bbd-4e43-bea5-37392242fe6a"
      },
      "source": [
        "# using validation: y_val\n",
        "print(\"Accuracy=\", accuracy_score(np.array(classes)[y_pred_Bayesian], y_val))"
      ],
      "execution_count": 33,
      "outputs": [
        {
          "output_type": "stream",
          "name": "stdout",
          "text": [
            "Accuracy= 0.96\n"
          ]
        }
      ]
    },
    {
      "cell_type": "markdown",
      "metadata": {
        "id": "nF-DZEujdW4b"
      },
      "source": [
        "## Selecting different instances\n"
      ]
    },
    {
      "cell_type": "code",
      "metadata": {
        "id": "V5Ra6BoXJqy6"
      },
      "source": [
        "y_predB=[]\n",
        "\n",
        "for i in range(X_val.shape[0]):\n",
        "    #print(i)\n",
        "    val=[]\n",
        "\n",
        "    for s in range(posterior['beta'].shape[0]):\n",
        "        beta = np.hstack([np.zeros((nf,1)),  posterior['beta'][s,:] ])\n",
        "        alpha = np.hstack([[0],  posterior['alpha'][s,:] ])\n",
        "        val.append(softmax((np.array([X_val[i,:].dot(beta) + alpha])))[0,:])\n",
        "\n",
        "    #mean probability\n",
        "    valmean = np.mean(val,axis=0)\n",
        "    #class with maximum mean probability\n",
        "    classmax = np.argmax(valmean)\n",
        "    #ranks\n",
        "    ranks = np.array(val.copy())\n",
        "    ranks   = ranks  *0 #init\n",
        "    colmax = np.argmax(np.array(val),axis=1)\n",
        "    ranks[np.arange(0,len(colmax)),colmax]=1\n",
        "     \n",
        "    y_predB.append( [classmax, valmean[classmax], np.std(ranks,axis=0)[classmax]])\n",
        "\n",
        "    \n",
        "y_predB= np.array(y_predB)"
      ],
      "execution_count": 34,
      "outputs": []
    },
    {
      "cell_type": "code",
      "metadata": {
        "colab": {
          "base_uri": "https://localhost:8080/"
        },
        "id": "rLHUOEJrd_eL",
        "outputId": "301f8b15-2d37-4c4f-b3b9-cbe5eaccc945"
      },
      "source": [
        "# prediction array\n",
        "mm = 10\n",
        "y_predB[0:mm,:]"
      ],
      "execution_count": 35,
      "outputs": [
        {
          "output_type": "execute_result",
          "data": {
            "text/plain": [
              "array([[0.        , 0.92916826, 0.21092389],\n",
              "       [1.        , 0.93946404, 0.21092389],\n",
              "       [1.        , 1.        , 0.        ],\n",
              "       [2.        , 0.99177353, 0.08137704],\n",
              "       [2.        , 0.9994231 , 0.        ],\n",
              "       [2.        , 1.        , 0.        ],\n",
              "       [2.        , 0.9965293 , 0.05763872],\n",
              "       [0.        , 0.97462277, 0.15095989],\n",
              "       [1.        , 0.99931742, 0.        ],\n",
              "       [2.        , 0.98453293, 0.11469767]])"
            ]
          },
          "metadata": {},
          "execution_count": 35
        }
      ]
    },
    {
      "cell_type": "code",
      "metadata": {
        "colab": {
          "base_uri": "https://localhost:8080/"
        },
        "id": "jY6LSjpHeEHF",
        "outputId": "abb0c2d9-2749-4be5-b859-1b66d5b70f11"
      },
      "source": [
        "#sorting in descending order\n",
        "difficult = np.argsort(-y_predB[:,2])\n",
        "y_predB[difficult[0:mm],:]"
      ],
      "execution_count": 36,
      "outputs": [
        {
          "output_type": "execute_result",
          "data": {
            "text/plain": [
              "array([[1.        , 0.49389389, 0.5       ],\n",
              "       [0.        , 0.50762508, 0.5       ],\n",
              "       [0.        , 0.49825591, 0.49995555],\n",
              "       [1.        , 0.49440088, 0.49989999],\n",
              "       [2.        , 0.51284349, 0.49989999],\n",
              "       [1.        , 0.51730164, 0.49989999],\n",
              "       [2.        , 0.53197459, 0.49888765],\n",
              "       [2.        , 0.53790847, 0.49865374],\n",
              "       [2.        , 0.53589666, 0.49839743],\n",
              "       [1.        , 0.55454464, 0.49597267]])"
            ]
          },
          "metadata": {},
          "execution_count": 36
        }
      ]
    },
    {
      "cell_type": "code",
      "metadata": {
        "colab": {
          "base_uri": "https://localhost:8080/"
        },
        "id": "6TUoAYD2e3UN",
        "outputId": "3f3f9804-558e-4a78-8958-d8997c0edc3a"
      },
      "source": [
        "#probability of general-recipe logistic regression in wrong instances\n",
        "prob_classmax[y_pred_log != y_val]"
      ],
      "execution_count": 37,
      "outputs": [
        {
          "output_type": "execute_result",
          "data": {
            "text/plain": [
              "array([0.99982106, 0.55429245, 0.87886132, 0.81873308, 0.65694107,\n",
              "       0.5520974 , 0.99905873, 0.99996625, 0.9999155 , 0.53722801,\n",
              "       0.99094378, 0.98004778, 0.99992206, 0.99293792, 0.99835966,\n",
              "       0.55897546, 0.50835167, 0.81944657, 0.99875666, 0.91781443,\n",
              "       0.72119546, 0.78333559])"
            ]
          },
          "metadata": {},
          "execution_count": 37
        }
      ]
    },
    {
      "cell_type": "code",
      "metadata": {
        "colab": {
          "base_uri": "https://localhost:8080/"
        },
        "id": "MhmhqKWTeHTw",
        "outputId": "55a3d14d-023b-440a-bdc2-cc80fc438600"
      },
      "source": [
        "y_predB[y_pred_log != y_val,:]"
      ],
      "execution_count": 38,
      "outputs": [
        {
          "output_type": "execute_result",
          "data": {
            "text/plain": [
              "array([[1.        , 0.96814846, 0.15095989],\n",
              "       [2.        , 0.77427492, 0.40730824],\n",
              "       [1.        , 0.76206678, 0.42295258],\n",
              "       [1.        , 0.99154879, 0.08137704],\n",
              "       [1.        , 0.87374682, 0.31288976],\n",
              "       [1.        , 0.90326782, 0.28134597],\n",
              "       [1.        , 0.97455788, 0.15095989],\n",
              "       [1.        , 0.91709754, 0.2712932 ],\n",
              "       [1.        , 0.64077014, 0.47901519],\n",
              "       [2.        , 0.75051217, 0.43107102],\n",
              "       [1.        , 0.6023333 , 0.48848974],\n",
              "       [0.        , 0.81744689, 0.36030851],\n",
              "       [1.        , 0.97525495, 0.15095989],\n",
              "       [2.        , 0.9875777 , 0.09949874],\n",
              "       [1.        , 0.69644715, 0.45376205],\n",
              "       [2.        , 0.71702992, 0.44221664],\n",
              "       [0.        , 0.73182089, 0.4404417 ],\n",
              "       [1.        , 0.7354232 , 0.4330127 ],\n",
              "       [0.        , 0.87167767, 0.32102267],\n",
              "       [1.        , 0.56825219, 0.49355851],\n",
              "       [2.        , 0.64420265, 0.48189441],\n",
              "       [2.        , 0.87092675, 0.32102267]])"
            ]
          },
          "metadata": {},
          "execution_count": 38
        }
      ]
    },
    {
      "cell_type": "code",
      "metadata": {
        "id": "UA-VMa90rB5h"
      },
      "source": [
        "mean_fpr = np.linspace(start=0, stop=1, num=100)"
      ],
      "execution_count": 44,
      "outputs": []
    },
    {
      "cell_type": "code",
      "metadata": {
        "colab": {
          "base_uri": "https://localhost:8080/"
        },
        "id": "R7Uy8xvJeKrI",
        "outputId": "207be8dd-1368-43cc-9171-871406348add"
      },
      "source": [
        "## Difficult & easy instances\n",
        "\n",
        "easy = np.argsort(y_predB[:,2])\n",
        "print(\"Accuracy in easy instances =\", accuracy_score(y_pred_log[easy[0:100]], y_val[easy[0:100]]))\n",
        "\n",
        "difficult = np.argsort(-y_predB[:,2])\n",
        "print(\"Accuracy in difficult instances =\", accuracy_score(y_pred_log[difficult[0:100]], y_val[difficult[0:100]]))"
      ],
      "execution_count": 54,
      "outputs": [
        {
          "output_type": "stream",
          "name": "stdout",
          "text": [
            "Accuracy in easy instances = 1.0\n",
            "Accuracy in difficult instances = 0.85\n"
          ]
        }
      ]
    },
    {
      "cell_type": "code",
      "metadata": {
        "colab": {
          "base_uri": "https://localhost:8080/",
          "height": 357
        },
        "id": "6GOYYib0eN1_",
        "outputId": "c760b372-f09f-401f-e01a-e929c6dfabb8"
      },
      "source": [
        "# show 10 random 'easy' images\n",
        "fig, axs = plt.subplots(2,5, figsize=(15, 6))\n",
        "fig.subplots_adjust(hspace = .2, wspace=.001)\n",
        "axs = axs.ravel()\n",
        "\n",
        "for i in range(10):\n",
        "    index = easy[i]\n",
        "    image = X_val[index,:].reshape(28,28)\n",
        "    axs[i].axis('off')\n",
        "    axs[i].imshow(image,cmap=\"Greys_r\")"
      ],
      "execution_count": 55,
      "outputs": [
        {
          "output_type": "display_data",
          "data": {
            "image/png": "[encoded data removed]",
            "text/plain": [
              "<Figure size 1080x432 with 10 Axes>"
            ]
          },
          "metadata": {
            "needs_background": "light"
          }
        }
      ]
    },
    {
      "cell_type": "code",
      "metadata": {
        "colab": {
          "base_uri": "https://localhost:8080/",
          "height": 357
        },
        "id": "6c6OCH5NeRA_",
        "outputId": "1e6c14f1-d86c-4e12-fe3a-b80f4884dc13"
      },
      "source": [
        "# show 10 random 'difficult' images\n",
        "fig, axs = plt.subplots(2,5, figsize=(15, 6))\n",
        "fig.subplots_adjust(hspace = .2, wspace=.001)\n",
        "axs = axs.ravel()\n",
        "for i in range(10):\n",
        "    index = difficult[i]\n",
        "    image = X_val[index,:].reshape(28,28)\n",
        "    axs[i].axis('off')\n",
        "    axs[i].imshow(image,cmap=\"Greys_r\")"
      ],
      "execution_count": 62,
      "outputs": [
        {
          "output_type": "display_data",
          "data": {
            "image/png": "[encoded data removed]",
            "text/plain": [
              "<Figure size 1080x432 with 10 Axes>"
            ]
          },
          "metadata": {
            "needs_background": "light"
          }
        }
      ]
    },
    {
      "cell_type": "code",
      "metadata": {
        "colab": {
          "base_uri": "https://localhost:8080/"
        },
        "id": "nEmSQizueUFn",
        "outputId": "c0267dc1-4856-453e-b677-2e8a6344e5ed"
      },
      "source": [
        "# easy_model\n",
        "easy_model_log = LogisticRegression(random_state=0, max_iter=2000, C=100, solver='lbfgs', multi_class='multinomial').fit(X_train, y_train)\n",
        "\n",
        "# Classification:\n",
        "y_pred_log_easy = easy_model_log.predict(X_val)\n",
        "y_pred_logi_prob_easy = easy_model_log.predict_proba(X_val)\n",
        "\n",
        "# Maybe taking the maximum probability \n",
        "# in any of the classes for each observation\n",
        "prob_classmax_easy = np.max(y_pred_logi_prob_easy,axis=1)\n",
        "\n",
        "# Computing the Accuracy:\n",
        "print(\"Original Model Accuracy {}\".format(accuracy_score(y_pred_log, y_val)))\n",
        "print(\"Number of misclassifications {}\".format(len(prob_classmax[y_pred_log!=y_val])))\n",
        "\n",
        "# Retrained\n",
        "print(\"Retrained Model Accuracy: {}\".format(accuracy_score(y_pred_log_easy, y_val)))\n",
        "print(\"Number of misclassifications {}\".format(len(prob_classmax_easy[y_pred_log_easy!=y_val])))"
      ],
      "execution_count": 68,
      "outputs": [
        {
          "output_type": "stream",
          "name": "stdout",
          "text": [
            "Original Model Accuracy 0.9633333333333334\n",
            "Number of misclassifications 22\n",
            "Retrained Model Accuracy: 0.9633333333333334\n",
            "Number of misclassifications 22\n"
          ]
        }
      ]
    },
    {
      "cell_type": "markdown",
      "metadata": {
        "id": "NcshsLOGRPrk"
      },
      "source": [
        "## Summary"
      ]
    },
    {
      "cell_type": "markdown",
      "metadata": {
        "id": "XTc4pYKGRR60"
      },
      "source": [
        "Populate this section with all of your findings and comments fron the discussion with your peers."
      ]
    }
  ]
}