{
  "nbformat": 4,
  "nbformat_minor": 0,
  "metadata": {
    "colab": {
      "name": "Etivity_1_20146744_David_Nolan.ipynb",
      "provenance": [],
      "collapsed_sections": [],
      "include_colab_link": true
    },
    "kernelspec": {
      "name": "python3",
      "display_name": "Python 3"
    },
    "language_info": {
      "name": "python"
    }
  },
  "cells": [
    {
      "cell_type": "markdown",
      "metadata": {
        "id": "view-in-github",
        "colab_type": "text"
      },
      "source": [
        "<a href=\"https://colab.research.google.com/github/davidnol/ET5003_SEM1_2021-2/blob/main/Etivity_1_20146744_David_Nolan.ipynb\" target=\"_parent\"><img src=\"https://colab.research.google.com/assets/colab-badge.svg\" alt=\"Open In Colab\"/></a>"
      ]
    },
    {
      "cell_type": "markdown",
      "metadata": {
        "id": "jxK1_8f1dvrc"
      },
      "source": [
        "<div>\n",
        "<img src=\"https://drive.google.com/uc?export=view&id=1vK33e_EqaHgBHcbRV_m38hx6IkG0blK_\" width=\"350\"/>\n",
        "</div> \n",
        "\n",
        "#**Artificial Intelligence - MSc**\n",
        "ET5003 - MACHINE LEARNING APPLICATIONS \n",
        "\n",
        "###Instructor: Enrique Naredo\n",
        "###ET5003_Etivity-1"
      ]
    },
    {
      "cell_type": "code",
      "metadata": {
        "id": "LqXD_IwUQuBF",
        "cellView": "form"
      },
      "source": [
        "#@title Current Date\n",
        "Today = '2021-09-17' #@param {type:\"date\"}\n"
      ],
      "execution_count": null,
      "outputs": []
    },
    {
      "cell_type": "code",
      "metadata": {
        "id": "uzDKau31OjVO",
        "cellView": "form"
      },
      "source": [
        "#@markdown ---\n",
        "#@markdown ### Enter your details here:\n",
        "Student_ID = \"20146744\" #@param {type:\"string\"}\n",
        "Student_full_name = \"David Nolan\" #@param {type:\"string\"}\n",
        "#@markdown ---"
      ],
      "execution_count": null,
      "outputs": []
    },
    {
      "cell_type": "code",
      "metadata": {
        "id": "r39xGZckTpKx",
        "cellView": "form"
      },
      "source": [
        "#@title Notebook information\n",
        "Notebook_type = 'Lab' #@param [\"Example\", \"Lab\", \"Practice\", \"Etivity\", \"Assignment\", \"Exam\"]\n",
        "Version = Final #@param [\"Draft\", \"Final\"] {type:\"raw\"}\n",
        "Submission = True #@param {type:\"boolean\"}"
      ],
      "execution_count": null,
      "outputs": []
    },
    {
      "cell_type": "markdown",
      "metadata": {
        "id": "80m304lUefG4"
      },
      "source": [
        "## MNIST dataset"
      ]
    },
    {
      "cell_type": "markdown",
      "metadata": {
        "id": "Bs8mHGcidHSa"
      },
      "source": [
        "\n",
        "\n",
        "The MNIST database  is a dataset of handwritten digits that has been and is extensively used in machine learning. There are $10$ classes, each image is $28\\times28$ pixels and, therefore, each input is $x_i\\in\\mathbb{R}^{784}$. "
      ]
    },
    {
      "cell_type": "markdown",
      "metadata": {
        "id": "ailycCq5epj2"
      },
      "source": [
        "## Task"
      ]
    },
    {
      "cell_type": "markdown",
      "metadata": {
        "id": "a-yNAxhUemjM"
      },
      "source": [
        "You have to extend the code to manage any arbitrary number of classes, in other words you have to implement a general-recipe multinomial logistic classifier and Bayesian multinomial logistic classifier.\n",
        "\n",
        "You must then select  3 digits at random and perform  the following task. \n",
        "\n",
        "1. Your goal is to use Bayesian multinomial logistic regression (as in the road-sign notebook) to solve this classification problem. \n",
        "\n",
        "2. You can downsize the training dataset (e.g., 40% training and 60%testing) if the computation of the posterior takes too much time in your computer.\n",
        "\n",
        "3. Use the posterior uncertainty to detect the instances (digits) in the test set that are hard to classify and remove them from the test-set.\n",
        "\n",
        "4. Then you need to compute again the accuracy of the general-recipe logistic regression on the remaining (non-difficult) instances and comment on the result.\n",
        "\n",
        "5. In practice, the task is to use uncertainty estimation to detect the difficult instances in the test-set. This is equivalent to refuse to classify all high-uncertainty instances or, in other words, when we are uncertain we say \"I don't know\" and we do not return any class. In this way, you will learn how uncertainty can be used to make safer decisions, by detecting the instances that are difficult to classify.\n"
      ]
    },
    {
      "cell_type": "markdown",
      "metadata": {
        "id": "nMRKRTQZe5fW"
      },
      "source": [
        "## Libraries"
      ]
    },
    {
      "cell_type": "code",
      "metadata": {
        "id": "IxusAui7AX_f"
      },
      "source": [
        "# Suppressing Warnings:\n",
        "import warnings\n",
        "warnings.filterwarnings(\"ignore\")"
      ],
      "execution_count": 1,
      "outputs": []
    },
    {
      "cell_type": "code",
      "metadata": {
        "id": "MQOfGMQpdHSb"
      },
      "source": [
        "# Import libraries\n",
        "from sklearn.linear_model import LogisticRegression\n",
        "from sklearn.metrics import accuracy_score\n",
        "from sklearn.model_selection import train_test_split\n",
        "import scipy.optimize as optimize\n",
        "from scipy.special import erf\n",
        "import pandas as pd\n",
        "import numpy as np\n",
        "import seaborn as sns\n",
        "from tqdm import tqdm\n",
        "from skimage.io import imread, imshow\n",
        "import matplotlib.image as mpimg\n",
        "import matplotlib.pyplot as plt\n",
        "import matplotlib\n",
        "%matplotlib inline\n",
        "import arviz as az\n",
        "from scipy.io import loadmat\n",
        "import pymc3 as pm\n",
        "import random\n",
        "from IPython.display import HTML\n",
        "import pickle\n",
        "import theano as tt\n",
        "import cv2\n",
        "from sklearn.utils import shuffle\n",
        "from skimage.color import rgb2gray"
      ],
      "execution_count": 2,
      "outputs": []
    },
    {
      "cell_type": "code",
      "metadata": {
        "id": "P5-qMSjpAQ-9"
      },
      "source": [
        "# Setting a seed:\n",
        "np.random.seed(123)"
      ],
      "execution_count": 3,
      "outputs": []
    },
    {
      "cell_type": "markdown",
      "metadata": {
        "id": "r4hSuwkUfVQb"
      },
      "source": [
        "## Dataset"
      ]
    },
    {
      "cell_type": "markdown",
      "metadata": {
        "id": "w99Pc66YdHSd"
      },
      "source": [
        "### Loading the MNIST dataset"
      ]
    },
    {
      "cell_type": "code",
      "metadata": {
        "colab": {
          "base_uri": "https://localhost:8080/"
        },
        "id": "CYFWAbXVzynp",
        "outputId": "b9e43781-6935-4873-98ed-d9e246615d69"
      },
      "source": [
        "from google.colab import drive\n",
        "drive.mount('/content/drive')"
      ],
      "execution_count": 4,
      "outputs": [
        {
          "output_type": "stream",
          "name": "stdout",
          "text": [
            "Mounted at /content/drive\n"
          ]
        }
      ]
    },
    {
      "cell_type": "code",
      "metadata": {
        "colab": {
          "base_uri": "https://localhost:8080/"
        },
        "id": "g4rCnS4vdHSd",
        "outputId": "ac173b35-9d5a-4ed1-b245-3f9b54f6caa7"
      },
      "source": [
        "# Path, copy the path from your Drive\n",
        "Path = '/content/drive/MyDrive/Colab Notebooks/DavidNolan/MNIST dataset/'\n",
        "\n",
        "# MNIST Data\n",
        "train_data = Path + 'mnist_train.csv'\n",
        "test_data = Path + 'mnist_test.csv'\n",
        "\n",
        "# train data\n",
        "df_train = pd.read_csv(train_data)\n",
        "X_train = df_train.drop(\"label\",axis=1).values\n",
        "y_train = df_train.label.values\n",
        "print(X_train.shape)\n",
        "\n",
        "# test data\n",
        "df_test = pd.read_csv(test_data)\n",
        "X_test = df_test.drop(\"label\",axis=1).values\n",
        "y_test = df_test.label.values\n",
        "print(X_test.shape)"
      ],
      "execution_count": 5,
      "outputs": [
        {
          "output_type": "stream",
          "name": "stdout",
          "text": [
            "(60000, 784)\n",
            "(10000, 784)\n"
          ]
        }
      ]
    },
    {
      "cell_type": "code",
      "metadata": {
        "colab": {
          "base_uri": "https://localhost:8080/"
        },
        "id": "O2ubJ_WoAqBh",
        "outputId": "d1d037fe-9607-4e5f-c9dc-9aa56db9b929"
      },
      "source": [
        "# Normalizing the Inputs:\n",
        "X_train = X_train/255\n",
        "X_test = X_test/255\n",
        "\n",
        "# Printing the new input range of values:\n",
        "minv = np.min(X_train)\n",
        "maxv = np.max(X_train)\n",
        "print(minv,maxv)"
      ],
      "execution_count": 6,
      "outputs": [
        {
          "output_type": "stream",
          "name": "stdout",
          "text": [
            "0.0 1.0\n"
          ]
        }
      ]
    },
    {
      "cell_type": "markdown",
      "metadata": {
        "id": "SR6HpkWndHSe"
      },
      "source": [
        "### Description of Data:"
      ]
    },
    {
      "cell_type": "code",
      "metadata": {
        "colab": {
          "base_uri": "https://localhost:8080/"
        },
        "id": "sibN1Vv1dHSf",
        "outputId": "77d79ece-4547-49b0-8d35-4acab140a50c"
      },
      "source": [
        "# Number of examples\n",
        "n_train =  len(X_train)\n",
        "n_test =  len(X_test)\n",
        "\n",
        "# Shape of an traffic sign image\n",
        "image_shape = X_train.shape[1]\n",
        "\n",
        "# unique classes/labels in the training dataset.\n",
        "alltotal = set(y_train)\n",
        "n_classes = len(alltotal)\n",
        "\n",
        "print(\"Number of Training examples =\", n_train)\n",
        "print(\"Number of Test examples =\", n_test)\n",
        "print(\"Image input shape =\", image_shape)\n",
        "print(\"Number of classes =\", n_classes)"
      ],
      "execution_count": 7,
      "outputs": [
        {
          "output_type": "stream",
          "name": "stdout",
          "text": [
            "Number of Training examples = 60000\n",
            "Number of Test examples = 10000\n",
            "Image input shape = 784\n",
            "Number of classes = 10\n"
          ]
        }
      ]
    },
    {
      "cell_type": "markdown",
      "metadata": {
        "id": "6HQDSvrRKZF6"
      },
      "source": [
        "### Class Distribution:"
      ]
    },
    {
      "cell_type": "code",
      "metadata": {
        "id": "XG8GdlpBKdCt",
        "colab": {
          "base_uri": "https://localhost:8080/",
          "height": 295
        },
        "outputId": "22b5d9cb-ea63-410e-dd84-0f067a0bc2f8"
      },
      "source": [
        "fig, ax = plt.subplots()\n",
        "ind = np.arange(n_classes)\n",
        "\n",
        "n, bins, patches = ax.hist(y_train, ec='black', align='mid')\n",
        "ax.set_xlabel('classes')\n",
        "ax.set_ylabel('counts')\n",
        "ax.set_title(r'Histogram of Digit images')\n",
        "plt.show()"
      ],
      "execution_count": 8,
      "outputs": [
        {
          "output_type": "display_data",
          "data": {
            "image/png": "[encoded data removed]",
            "text/plain": [
              "<Figure size 432x288 with 1 Axes>"
            ]
          },
          "metadata": {
            "needs_background": "light"
          }
        }
      ]
    },
    {
      "cell_type": "markdown",
      "metadata": {
        "id": "EyLWw3nsLCtk"
      },
      "source": [
        "## Downsampling"
      ]
    },
    {
      "cell_type": "markdown",
      "metadata": {
        "id": "2U1lFEwhLKBf"
      },
      "source": [
        "### Randomly selecting 3 of the 10 Digit Classes"
      ]
    },
    {
      "cell_type": "code",
      "metadata": {
        "id": "0EeRZZWdLRPT",
        "colab": {
          "base_uri": "https://localhost:8080/"
        },
        "outputId": "6556b4ba-be9b-4e5f-c857-0a7c4f8c1975"
      },
      "source": [
        "# We select the number of Classes we want:\n",
        "n_classes = 3\n",
        "\n",
        "# Empty list to append the random digit classes we select:\n",
        "classes = []\n",
        "\n",
        "# We select 3 digits at random and make sure they are unique:\n",
        "while len(classes) < 3:\n",
        "    \n",
        "    # Randomly drawing a digit from 0-9:\n",
        "    num2choose = np.random.randint(0,10)\n",
        "\n",
        "    # Append the digit if it's not already in our list of classes:\n",
        "    if num2choose not in classes: \n",
        "        classes.append(num2choose)\n",
        "        \n",
        "        \n",
        "# Sorting the Classes smallest to largest    \n",
        "classes.sort()\n",
        "# print classes selected\n",
        "classes"
      ],
      "execution_count": 9,
      "outputs": [
        {
          "output_type": "execute_result",
          "data": {
            "text/plain": [
              "[1, 2, 6]"
            ]
          },
          "metadata": {},
          "execution_count": 9
        }
      ]
    },
    {
      "cell_type": "code",
      "metadata": {
        "id": "2M8R5NqKMB_M"
      },
      "source": [
        "# The number of instances we'll keep for each of our 3 digits:\n",
        "inst_class = 2500\n",
        "\n",
        "inputs=[]\n",
        "labels=[]\n",
        "# Loop to randomly sample the instances for each digit:\n",
        "for r in classes:\n",
        "    imgs = X_train[np.where(y_train==r)[0],:]\n",
        "    inputs.append(imgs[np.random.permutation(imgs.shape[0]),:][0:inst_class,:])\n",
        "    labels.append(np.ones(inst_class)*r)\n",
        "    \n",
        "# Shaping inputs and labels in the right format    \n",
        "X_train = np.vstack(inputs).astype(np.float64)\n",
        "y_train = np.hstack(labels)"
      ],
      "execution_count": 10,
      "outputs": []
    },
    {
      "cell_type": "markdown",
      "metadata": {
        "id": "_6-YHrQQMicy"
      },
      "source": [
        "New Classes Distribution"
      ]
    },
    {
      "cell_type": "code",
      "metadata": {
        "id": "RA300COaMxWm",
        "colab": {
          "base_uri": "https://localhost:8080/",
          "height": 295
        },
        "outputId": "3ed80a69-9dbe-4ebf-c6d9-fd861309fa80"
      },
      "source": [
        "# new histogram\n",
        "fig, ax = plt.subplots()\n",
        "ind = np.arange(n_classes)\n",
        "\n",
        "n, bins, patches = ax.hist(y_train, ec='black', align='mid')\n",
        "ax.set_xlabel('classes')\n",
        "ax.set_ylabel('counts')\n",
        "ax.set_title(r'Histogram of Digit images')\n",
        "plt.show()"
      ],
      "execution_count": 11,
      "outputs": [
        {
          "output_type": "display_data",
          "data": {
            "image/png": "[encoded data removed]",
            "text/plain": [
              "<Figure size 432x288 with 1 Axes>"
            ]
          },
          "metadata": {
            "needs_background": "light"
          }
        }
      ]
    },
    {
      "cell_type": "code",
      "metadata": {
        "id": "eFgP4xugMvJm"
      },
      "source": [
        "# plot digits\n",
        "def plot_digits(instances, images_per_row=5, **options):\n",
        "    size = 28\n",
        "    images_per_row = min(len(instances), images_per_row)\n",
        "    images = [instance.reshape(size,size) for instance in instances]\n",
        "    n_rows = (len(instances) - 1) // images_per_row + 1\n",
        "    row_images = []\n",
        "    n_empty = n_rows * images_per_row - len(instances)\n",
        "    images.append(np.zeros((size, size * n_empty)))\n",
        "    for row in range(n_rows):\n",
        "        rimages = images[row * images_per_row : (row + 1) * images_per_row]\n",
        "        row_images.append(np.concatenate(rimages, axis=1))\n",
        "    image = np.concatenate(row_images, axis=0)\n",
        "    plt.imshow(image,  cmap='gist_yarg', **options)\n",
        "    plt.axis(\"off\")"
      ],
      "execution_count": 12,
      "outputs": []
    },
    {
      "cell_type": "code",
      "metadata": {
        "id": "zeEG-LGOM4fJ",
        "colab": {
          "base_uri": "https://localhost:8080/",
          "height": 361
        },
        "outputId": "5f05f34a-22d3-41b8-a934-fa4d082d6210"
      },
      "source": [
        "# Show a few instances from each Digit:\n",
        "plt.figure(figsize=(8,8))\n",
        "\n",
        "# Selecting a few label indices from each of the 3 classes to show:\n",
        "label_indices = random.sample(range(0, len(X_train)), 54)  # Generate 54 images, 9 per row \n",
        "\n",
        "# Plotting 'original' image\n",
        "plot_digits(X_train[label_indices,:],images_per_row=9)\n",
        "plt.title(\"Original\", fontsize=14)"
      ],
      "execution_count": 13,
      "outputs": [
        {
          "output_type": "execute_result",
          "data": {
            "text/plain": [
              "Text(0.5, 1.0, 'Original')"
            ]
          },
          "metadata": {},
          "execution_count": 13
        },
        {
          "output_type": "display_data",
          "data": {
            "image/png": "[encoded data removed]",
            "text/plain": [
              "<Figure size 576x576 with 1 Axes>"
            ]
          },
          "metadata": {
            "needs_background": "light"
          }
        }
      ]
    },
    {
      "cell_type": "markdown",
      "metadata": {
        "id": "FsAOnOcNNG_V"
      },
      "source": [
        "###  Splitting the Training data into both Training and Validation Sets:\n",
        "\n",
        "- Although this is the Training set, we can still set aside some samples (for instance 20%) of the 1,500 instances we have for Model Validation purposes.\n",
        "\n",
        "\n",
        "- With that Validation Set, we can then select the amount of Uncertainty we are happy with from our Model to use out of sample on other unseen data.\n",
        "\n",
        "\n",
        "- We can then test out how well our decision performs on the Test Set that we put aside earlier."
      ]
    },
    {
      "cell_type": "code",
      "metadata": {
        "id": "YdsmyVAtPXNn"
      },
      "source": [
        "### Split tha dataset in training and validation sets\n",
        "# choose the fraction of your validation data from the training set\n",
        "w = 0.20\n",
        "X_train, X_val, y_train, y_val = train_test_split(X_train, y_train, test_size=w, random_state=0)\n",
        " \n",
        "# Shuffling the training instaces around to randomize the order of inputs to the model:\n",
        "X_train, y_train = shuffle(X_train, y_train)"
      ],
      "execution_count": 14,
      "outputs": []
    },
    {
      "cell_type": "code",
      "metadata": {
        "id": "qXwJwP0iPxhi",
        "colab": {
          "base_uri": "https://localhost:8080/"
        },
        "outputId": "2cb649f9-0ffe-44fe-9f17-17a3ba9830c8"
      },
      "source": [
        "# print shape of your validation and training set\n",
        "print('\\033[1m' + \"Shapes of training and validation sets\\n\")\n",
        "print(\"Shape of X training set: \",X_train.shape)\n",
        "print(\"Shape of X validation set: \",X_val.shape)\n",
        "print(\"Shape of Y training set: \",y_train.shape)\n",
        "print(\"Shape of Y validation set: \",y_val.shape)"
      ],
      "execution_count": 15,
      "outputs": [
        {
          "output_type": "stream",
          "name": "stdout",
          "text": [
            "\u001b[1mShapes of training and validation sets\n",
            "\n",
            "Shape of X training set:  (6000, 784)\n",
            "Shape of X validation set:  (1500, 784)\n",
            "Shape of Y training set:  (6000,)\n",
            "Shape of Y validation set:  (1500,)\n"
          ]
        }
      ]
    },
    {
      "cell_type": "markdown",
      "metadata": {
        "id": "aOroY1QoP8DY"
      },
      "source": [
        "### Encoding the Class labels for the Probabilistic ML Model:\n",
        "\n",
        "This is an example:\n",
        "\n",
        "- **[1,0,0]** for first digit\n",
        "- **[0,1,0]** for second digit\n",
        "- **[0,0,1]** for third digit"
      ]
    },
    {
      "cell_type": "markdown",
      "metadata": {
        "id": "rjUaqWTqQIcp"
      },
      "source": [
        "### General-Recipe ML"
      ]
    },
    {
      "cell_type": "code",
      "metadata": {
        "id": "QzgdivxfQNv5",
        "colab": {
          "base_uri": "https://localhost:8080/"
        },
        "outputId": "a6953cb6-427a-487e-ed26-def15eda59d7"
      },
      "source": [
        "# model\n",
        "model_log = LogisticRegression(random_state=0, max_iter=2000, C=100, solver='lbfgs', multi_class='multinomial').fit(X_train, y_train)\n",
        "\n",
        "# Classification:\n",
        "y_pred_log = model_log.predict(X_val)\n",
        "y_pred_logi_prob = model_log.predict_proba(X_val)\n",
        "\n",
        "# Maybe taking the maximum probability \n",
        "# in any of the classes for each observation\n",
        "prob_classmax = np.max(y_pred_logi_prob,axis=1)\n",
        "\n",
        "# Computing the Accuracy:\n",
        "print(\"Accuracy=\", accuracy_score(y_pred_log,y_val))\n"
      ],
      "execution_count": 16,
      "outputs": [
        {
          "output_type": "stream",
          "name": "stdout",
          "text": [
            "Accuracy= 0.976\n"
          ]
        }
      ]
    },
    {
      "cell_type": "code",
      "metadata": {
        "id": "_HJlgNC2KxCl",
        "colab": {
          "base_uri": "https://localhost:8080/"
        },
        "outputId": "e4ce8729-0db3-45d8-b213-181e0ddb64b9"
      },
      "source": [
        "np.sort(prob_classmax)"
      ],
      "execution_count": 17,
      "outputs": [
        {
          "output_type": "execute_result",
          "data": {
            "text/plain": [
              "array([0.54026208, 0.55142977, 0.55225793, ..., 1.        , 1.        ,\n",
              "       1.        ])"
            ]
          },
          "metadata": {},
          "execution_count": 17
        }
      ]
    },
    {
      "cell_type": "code",
      "metadata": {
        "colab": {
          "base_uri": "https://localhost:8080/"
        },
        "id": "sne8ytZCL6t3",
        "outputId": "b6a44fc5-9724-4973-b0da-740b1decc44f"
      },
      "source": [
        "# probability of general-recipe logistic regression in wrong instances\n",
        "prob_classmax[y_pred_log!=y_val]"
      ],
      "execution_count": 18,
      "outputs": [
        {
          "output_type": "execute_result",
          "data": {
            "text/plain": [
              "array([0.84699489, 0.94822899, 0.68017021, 0.98465209, 0.90471581,\n",
              "       0.99981423, 0.7335469 , 0.9872646 , 0.55225793, 0.95130625,\n",
              "       0.55666505, 1.        , 0.99999948, 0.96023529, 0.99999989,\n",
              "       0.99945707, 0.54026208, 0.99979242, 0.8039955 , 0.99775331,\n",
              "       0.67079097, 0.99951747, 0.99999975, 0.99405742, 0.96079712,\n",
              "       0.95737823, 0.98881139, 0.67807808, 0.99999999, 0.99999675,\n",
              "       0.9481715 , 0.99999732, 0.58580298, 0.96880609, 0.9999983 ,\n",
              "       0.55142977])"
            ]
          },
          "metadata": {},
          "execution_count": 18
        }
      ]
    },
    {
      "cell_type": "code",
      "metadata": {
        "colab": {
          "base_uri": "https://localhost:8080/"
        },
        "id": "aWEhbnx3L6_P",
        "outputId": "8860a422-67b5-47ed-8d91-f9e9f51a13cd"
      },
      "source": [
        "np.array(y_pred_log)"
      ],
      "execution_count": 19,
      "outputs": [
        {
          "output_type": "execute_result",
          "data": {
            "text/plain": [
              "array([1., 6., 6., ..., 1., 1., 2.])"
            ]
          },
          "metadata": {},
          "execution_count": 19
        }
      ]
    },
    {
      "cell_type": "code",
      "metadata": {
        "colab": {
          "base_uri": "https://localhost:8080/"
        },
        "id": "liCCzjrllcdv",
        "outputId": "a69dcf8e-2b93-4989-c8ba-cf6849db0a71"
      },
      "source": [
        "from sklearn.metrics import classification_report\n",
        "from sklearn.metrics import accuracy_score\n",
        "\n",
        "y_true = y_val\n",
        "y_pred = y_pred_log\n",
        "\n",
        "target_names = []\n",
        "for x in classes:\n",
        "  target_names.append(\"digit \"+str(x))\n",
        "\n",
        "print(classification_report(y_true, y_pred, target_names=target_names, digits=4))"
      ],
      "execution_count": 20,
      "outputs": [
        {
          "output_type": "stream",
          "name": "stdout",
          "text": [
            "              precision    recall  f1-score   support\n",
            "\n",
            "     digit 1     0.9812    0.9874    0.9843       476\n",
            "     digit 2     0.9703    0.9589    0.9646       511\n",
            "     digit 6     0.9767    0.9825    0.9796       513\n",
            "\n",
            "    accuracy                         0.9760      1500\n",
            "   macro avg     0.9761    0.9763    0.9762      1500\n",
            "weighted avg     0.9760    0.9760    0.9760      1500\n",
            "\n"
          ]
        }
      ]
    },
    {
      "cell_type": "markdown",
      "metadata": {
        "id": "3uQG6JsOQxH5"
      },
      "source": [
        "### Probabilistic Multinomial Logistic Regression:"
      ]
    },
    {
      "cell_type": "markdown",
      "metadata": {
        "id": "irlmUNw7Q5YL"
      },
      "source": [
        "The Multinomial Logistic Regression has some parameters:\n",
        "\n",
        "- $\\alpha$, which is the intercept term:\n",
        "\n",
        "- $\\beta$, which is a vector of coefficients which give a weighting to the importance of each input feature:\n"
      ]
    },
    {
      "cell_type": "code",
      "metadata": {
        "id": "1o7mbKWmRhz5"
      },
      "source": [
        "import sklearn.preprocessing\n",
        "## We use LabelBinarizer to transfor classes into counts\n",
        "# neg_label=0, pos_label=1 \n",
        "y_2_bin = sklearn.preprocessing.LabelBinarizer().fit_transform(y_train.reshape(-1,1))\n",
        "nf = X_train.shape[1]\n",
        "# number of classes\n",
        "nc = len(classes)\n",
        "# floatX = float32\n",
        "floatX = tt.config.floatX\n",
        "\n",
        "init_b = np.random.randn(nf, nc-1).astype(floatX)\n",
        "init_a = np.random.randn(nc-1).astype(floatX)\n",
        "\n",
        "\n",
        "with pm.Model() as multi_logistic:\n",
        "    # Prior\n",
        "    β = pm.Normal('beta', 0, sigma=100, shape=(nf, nc-1), testval=init_b)\n",
        "    α = pm.Normal('alpha', 0, sigma=100, shape=(nc-1,), testval=init_a)\n",
        "    \n",
        "    # we need to consider nc-1 features because the model is not identifiable\n",
        "    # the softmax turns a vector into a probability that sums up to one\n",
        "    # therefore we add zeros to go back to dimension nc\n",
        "    # so that softmax returns a vector of dimension nc\n",
        "    β1  = tt.tensor.concatenate([np.zeros((nf,1)),β ],axis=1)\n",
        "    α1  = tt.tensor.concatenate([[0],α ],)\n",
        "    \n",
        "    # Likelihood\n",
        "    mu = pm.math.matrix_dot(X_train,β1) + α1\n",
        "    # It doesn't work if the problem is binary\n",
        "    p = tt.tensor.nnet.nnet.softmax(mu)\n",
        "    observed = pm.Multinomial('likelihood', p=p, n=1, observed=y_2_bin)"
      ],
      "execution_count": 21,
      "outputs": []
    },
    {
      "cell_type": "code",
      "metadata": {
        "colab": {
          "base_uri": "https://localhost:8080/"
        },
        "id": "0bstsjdAYy4v",
        "outputId": "8da3ea20-15a0-48ae-ae9c-1dfae4b9b4b8"
      },
      "source": [
        "y_2_bin"
      ],
      "execution_count": 22,
      "outputs": [
        {
          "output_type": "execute_result",
          "data": {
            "text/plain": [
              "array([[0, 0, 1],\n",
              "       [0, 1, 0],\n",
              "       [0, 1, 0],\n",
              "       ...,\n",
              "       [1, 0, 0],\n",
              "       [0, 0, 1],\n",
              "       [1, 0, 0]])"
            ]
          },
          "metadata": {},
          "execution_count": 22
        }
      ]
    },
    {
      "cell_type": "code",
      "metadata": {
        "id": "aj6Uzc05Rhtr",
        "colab": {
          "base_uri": "https://localhost:8080/",
          "height": 70
        },
        "outputId": "ccf0b635-bc37-4e75-f025-2c2f91535d89"
      },
      "source": [
        "with multi_logistic:\n",
        "   approx = pm.fit(10000, method='advi')"
      ],
      "execution_count": 23,
      "outputs": [
        {
          "output_type": "stream",
          "name": "stderr",
          "text": [
            "WARNING (theano.tensor.blas): We did not find a dynamic library in the library_dir of the library we use for blas. If you use ATLAS, make sure to compile it with dynamics library.\n"
          ]
        },
        {
          "output_type": "display_data",
          "data": {
            "text/html": [
              "\n",
              "    <div>\n",
              "        <style>\n",
              "            /* Turns off some styling */\n",
              "            progress {\n",
              "                /* gets rid of default border in Firefox and Opera. */\n",
              "                border: none;\n",
              "                /* Needs to be in here for Safari polyfill so background images work as expected. */\n",
              "                background-size: auto;\n",
              "            }\n",
              "            .progress-bar-interrupted, .progress-bar-interrupted::-webkit-progress-bar {\n",
              "                background: #F44336;\n",
              "            }\n",
              "        </style>\n",
              "      <progress value='10000' class='' max='10000' style='width:300px; height:20px; vertical-align: middle;'></progress>\n",
              "      100.00% [10000/10000 04:55<00:00 Average Loss = 7,787.7]\n",
              "    </div>\n",
              "    "
            ],
            "text/plain": [
              "<IPython.core.display.HTML object>"
            ]
          },
          "metadata": {}
        },
        {
          "output_type": "stream",
          "name": "stderr",
          "text": [
            "Finished [100%]: Average Loss = 7,786.9\n"
          ]
        }
      ]
    },
    {
      "cell_type": "code",
      "metadata": {
        "id": "WNmJvYc4Rho7",
        "colab": {
          "base_uri": "https://localhost:8080/",
          "height": 637
        },
        "outputId": "a2b74888-a091-43ed-df91-e8bb4a2cf865"
      },
      "source": [
        "# Plot the average loss over all iterations\n",
        "plt.rcParams['figure.figsize'] = [15,10]\n",
        "plt.plot(approx.hist)\n",
        "plt.title('Avg. loss over all iterations')\n",
        "plt.ylabel(\"Loss\")\n",
        "plt.xlabel(\"# iterations\")"
      ],
      "execution_count": 27,
      "outputs": [
        {
          "output_type": "execute_result",
          "data": {
            "text/plain": [
              "Text(0.5, 0, '# iterations')"
            ]
          },
          "metadata": {},
          "execution_count": 27
        },
        {
          "output_type": "display_data",
          "data": {
            "image/png": "[encoded data removed]",
            "text/plain": [
              "<Figure size 1080x720 with 1 Axes>"
            ]
          },
          "metadata": {
            "needs_background": "light"
          }
        }
      ]
    },
    {
      "cell_type": "code",
      "metadata": {
        "id": "K40L4-djaVy6"
      },
      "source": [
        "dd = 300\n",
        "posterior = approx.sample(draws=dd)"
      ],
      "execution_count": 30,
      "outputs": []
    },
    {
      "cell_type": "code",
      "metadata": {
        "id": "XXh5GXJsRhmr",
        "colab": {
          "base_uri": "https://localhost:8080/",
          "height": 294
        },
        "outputId": "6778a5f8-5651-434d-f8ac-12b3f0b5ef4c"
      },
      "source": [
        "## The softmax function transforms each element of a collection by computing the exponential\n",
        "#  of each element divided by the sum of the exponentials of all the elements.\n",
        "from scipy.special import softmax\n",
        "\n",
        "#select an image in the test set\n",
        "i = 10 \n",
        "#i = random.randint(0, dd)\n",
        "\n",
        "#select a sample in the posterior\n",
        "s = 100 \n",
        "#s = random.randint(0, dd)\n",
        "\n",
        "\n",
        "beta  = np.hstack([np.zeros((nf,1)),  posterior['beta'][s,:] ])\n",
        "alpha = np.hstack([[0],  posterior['alpha'][s,:] ])\n",
        "image = X_val[i,:].reshape(28,28)\n",
        "plt.figure(figsize=(3,3))\n",
        "plt.imshow(image,cmap=\"Greys_r\")\n",
        "np.set_printoptions(suppress=True)\n",
        "\n",
        "print(\"test image #\" + str(i))\n",
        "print(\"posterior sample #\" + str(s))\n",
        "print(\"true class=\", y_val[i])\n",
        "print(\"classes: \" + str(classes))\n",
        "print(\"estimated prob=\",softmax((np.array([X_val[i,:].dot(beta) + alpha])))[0,:])"
      ],
      "execution_count": 31,
      "outputs": [
        {
          "output_type": "stream",
          "name": "stdout",
          "text": [
            "test image #10\n",
            "posterior sample #100\n",
            "true class= 2.0\n",
            "classes: [1, 2, 6]\n",
            "estimated prob= [0. 1. 0.]\n"
          ]
        },
        {
          "output_type": "display_data",
          "data": {
            "image/png": "[encoded data removed]",
            "text/plain": [
              "<Figure size 216x216 with 1 Axes>"
            ]
          },
          "metadata": {
            "needs_background": "light"
          }
        }
      ]
    },
    {
      "cell_type": "code",
      "metadata": {
        "colab": {
          "base_uri": "https://localhost:8080/",
          "height": 294
        },
        "id": "ejrNIyk9v0kU",
        "outputId": "6aa6638b-501a-4246-f8a2-9fe65ffe07b5"
      },
      "source": [
        "#select an image in the test set\n",
        "i = 100\n",
        "#i = random.randint(0, dd)\n",
        "\n",
        "#select a sample in the posterior\n",
        "s = 200 \n",
        "#s = random.randint(0, dd)\n",
        "\n",
        "\n",
        "beta  = np.hstack([np.zeros((nf,1)),  posterior['beta'][s,:] ])\n",
        "alpha = np.hstack([[0],  posterior['alpha'][s,:] ])\n",
        "image = X_val[i,:].reshape(28,28)\n",
        "plt.figure(figsize=(3,3))\n",
        "plt.imshow(image,cmap=\"Greys_r\")\n",
        "np.set_printoptions(suppress=True)\n",
        "\n",
        "print(\"test image #\" + str(i))\n",
        "print(\"posterior sample #\" + str(s))\n",
        "print(\"true class=\", y_val[i])\n",
        "print(\"classes: \" + str(classes))\n",
        "print(\"estimated prob=\",softmax((np.array([X_val[i,:].dot(beta) + alpha])))[0,:])\n"
      ],
      "execution_count": 32,
      "outputs": [
        {
          "output_type": "stream",
          "name": "stdout",
          "text": [
            "test image #100\n",
            "posterior sample #200\n",
            "true class= 6.0\n",
            "classes: [1, 2, 6]\n",
            "estimated prob= [0.00006219 0.         0.99993781]\n"
          ]
        },
        {
          "output_type": "display_data",
          "data": {
            "image/png": "[encoded data removed]",
            "text/plain": [
              "<Figure size 216x216 with 1 Axes>"
            ]
          },
          "metadata": {
            "needs_background": "light"
          }
        }
      ]
    },
    {
      "cell_type": "code",
      "metadata": {
        "id": "_7KGFaCiJel-"
      },
      "source": [
        "# Bayesian prediction\n",
        "# return the class that has the highest posterior probability\n",
        "y_pred_Bayesian=[]\n",
        "\n",
        "for i in range(X_val.shape[0]):\n",
        "    val=np.zeros((1,len(classes)))\n",
        "    \n",
        "    for s in range(posterior['beta'].shape[0]):\n",
        "        beta = np.hstack([np.zeros((nf,1)),  posterior['beta'][s,:] ])\n",
        "        alpha = np.hstack([[0],  posterior['alpha'][s,:] ])     \n",
        "        val = val + softmax((np.array([X_val[i,:].dot(beta) + alpha])))\n",
        "    \n",
        "    mean_probability = val/posterior['beta'].shape[0]\n",
        "    y_pred_Bayesian.append( np.argmax(mean_probability))"
      ],
      "execution_count": 33,
      "outputs": []
    },
    {
      "cell_type": "code",
      "metadata": {
        "colab": {
          "base_uri": "https://localhost:8080/"
        },
        "id": "0ld1oRirc_Yv",
        "outputId": "f6584814-93e3-47c3-9896-a2811ab5600f"
      },
      "source": [
        "print(y_pred_Bayesian)"
      ],
      "execution_count": 34,
      "outputs": [
        {
          "output_type": "stream",
          "name": "stdout",
          "text": [
            "[0, 2, 2, 2, 1, 2, 1, 2, 1, 0, 1, 0, 1, 1, 1, 1, 1, 2, 0, 1, 0, 1, 1, 0, 1, 0, 1, 1, 2, 0, 0, 2, 1, 0, 1, 0, 2, 0, 1, 1, 0, 1, 2, 2, 1, 2, 1, 0, 2, 0, 2, 2, 1, 0, 1, 1, 2, 2, 2, 2, 2, 0, 1, 2, 2, 0, 1, 2, 0, 1, 2, 1, 1, 1, 1, 2, 1, 0, 1, 0, 2, 2, 2, 2, 1, 0, 0, 0, 0, 2, 1, 1, 2, 0, 1, 1, 1, 2, 1, 1, 2, 1, 1, 0, 1, 0, 2, 0, 2, 0, 0, 1, 0, 1, 1, 1, 0, 2, 2, 0, 0, 0, 2, 1, 1, 2, 1, 2, 0, 1, 1, 0, 1, 1, 0, 0, 1, 1, 1, 2, 0, 2, 2, 0, 1, 0, 0, 2, 2, 0, 0, 1, 0, 2, 0, 2, 1, 0, 2, 2, 1, 2, 1, 1, 2, 2, 0, 2, 1, 2, 1, 1, 2, 1, 0, 0, 0, 0, 2, 1, 1, 0, 0, 1, 2, 1, 1, 1, 1, 1, 1, 1, 0, 1, 0, 0, 0, 1, 0, 0, 2, 0, 0, 1, 1, 2, 1, 1, 1, 0, 2, 2, 0, 0, 1, 0, 1, 0, 0, 1, 1, 1, 1, 0, 1, 1, 1, 2, 1, 2, 1, 2, 0, 0, 2, 1, 2, 2, 1, 1, 1, 2, 2, 0, 0, 2, 1, 2, 2, 0, 2, 2, 0, 2, 0, 0, 1, 1, 1, 0, 2, 1, 0, 1, 1, 1, 0, 1, 2, 2, 0, 0, 0, 0, 1, 0, 0, 2, 2, 2, 2, 1, 0, 0, 1, 0, 1, 1, 0, 0, 2, 2, 2, 1, 2, 1, 1, 0, 1, 1, 1, 2, 0, 1, 0, 2, 0, 1, 0, 2, 0, 1, 0, 2, 2, 0, 2, 0, 1, 0, 0, 2, 1, 2, 0, 2, 0, 2, 0, 0, 0, 0, 0, 2, 2, 1, 2, 0, 2, 2, 0, 0, 0, 0, 2, 1, 1, 1, 0, 0, 1, 0, 2, 2, 2, 1, 2, 2, 1, 2, 1, 1, 0, 2, 2, 1, 1, 0, 1, 1, 1, 0, 1, 2, 2, 1, 1, 0, 2, 1, 1, 0, 2, 2, 1, 2, 0, 1, 0, 2, 2, 0, 0, 2, 2, 2, 0, 1, 1, 1, 2, 1, 2, 0, 2, 0, 0, 2, 2, 1, 2, 0, 1, 1, 2, 1, 1, 0, 2, 0, 1, 2, 2, 2, 2, 1, 2, 1, 2, 2, 0, 0, 2, 2, 2, 2, 0, 1, 2, 2, 1, 1, 2, 0, 1, 1, 2, 2, 2, 1, 2, 0, 2, 0, 0, 2, 1, 2, 0, 2, 0, 0, 2, 0, 2, 1, 2, 0, 0, 1, 0, 2, 0, 0, 0, 2, 1, 2, 0, 0, 1, 0, 2, 0, 0, 1, 2, 2, 1, 1, 1, 1, 0, 0, 1, 1, 2, 1, 1, 1, 0, 1, 0, 1, 2, 2, 1, 2, 1, 1, 0, 0, 1, 2, 1, 2, 2, 2, 2, 0, 0, 2, 2, 2, 2, 0, 2, 0, 2, 0, 2, 1, 1, 1, 2, 2, 1, 2, 0, 1, 0, 2, 1, 0, 1, 2, 1, 0, 1, 2, 2, 1, 1, 0, 0, 1, 2, 2, 2, 0, 1, 1, 2, 2, 1, 2, 1, 2, 0, 1, 1, 0, 1, 0, 2, 0, 2, 2, 0, 1, 2, 1, 2, 0, 2, 0, 2, 0, 1, 0, 2, 2, 2, 1, 2, 1, 2, 2, 2, 2, 2, 0, 1, 1, 0, 1, 1, 1, 0, 0, 0, 2, 2, 2, 2, 2, 2, 2, 0, 1, 2, 0, 2, 1, 2, 2, 0, 2, 0, 2, 2, 2, 0, 2, 0, 0, 0, 0, 0, 0, 1, 0, 1, 0, 2, 0, 1, 1, 0, 2, 1, 2, 1, 2, 2, 1, 2, 2, 0, 1, 2, 1, 0, 0, 0, 1, 1, 0, 1, 0, 1, 0, 2, 1, 2, 1, 1, 0, 2, 2, 2, 2, 0, 1, 1, 2, 1, 0, 2, 0, 2, 2, 1, 2, 2, 1, 1, 1, 0, 1, 2, 0, 1, 1, 1, 2, 2, 0, 1, 1, 0, 2, 0, 1, 1, 2, 0, 2, 2, 0, 0, 0, 1, 0, 0, 2, 2, 1, 0, 2, 0, 1, 1, 1, 1, 1, 0, 0, 1, 2, 0, 0, 2, 2, 2, 1, 0, 1, 0, 1, 1, 2, 0, 0, 2, 0, 2, 0, 2, 2, 1, 1, 2, 2, 2, 2, 1, 1, 1, 0, 2, 0, 1, 0, 0, 1, 1, 0, 1, 2, 0, 2, 1, 2, 0, 0, 2, 2, 1, 0, 2, 1, 0, 2, 2, 1, 1, 0, 2, 2, 1, 0, 1, 2, 1, 2, 2, 2, 2, 2, 1, 0, 2, 0, 0, 1, 0, 2, 1, 0, 0, 1, 2, 1, 2, 1, 0, 0, 2, 0, 2, 2, 2, 1, 1, 0, 0, 0, 1, 1, 2, 0, 1, 1, 0, 2, 1, 1, 1, 2, 0, 2, 2, 2, 2, 0, 0, 2, 0, 1, 0, 1, 1, 0, 0, 1, 0, 1, 0, 2, 0, 2, 2, 0, 1, 1, 0, 0, 0, 1, 2, 2, 2, 2, 0, 1, 1, 0, 2, 1, 0, 2, 0, 1, 2, 1, 0, 0, 0, 1, 0, 1, 2, 0, 0, 0, 0, 0, 2, 2, 0, 1, 0, 2, 2, 0, 2, 0, 2, 0, 2, 0, 2, 1, 0, 1, 2, 2, 2, 2, 0, 1, 2, 1, 0, 2, 0, 0, 0, 2, 2, 2, 2, 2, 2, 1, 1, 0, 1, 1, 1, 2, 0, 2, 1, 1, 1, 0, 0, 1, 2, 0, 2, 2, 2, 2, 0, 0, 1, 2, 2, 0, 0, 0, 1, 0, 1, 1, 0, 0, 0, 0, 1, 2, 0, 0, 1, 2, 2, 2, 2, 1, 0, 1, 1, 0, 0, 2, 2, 2, 0, 0, 2, 2, 0, 0, 0, 1, 2, 0, 0, 0, 2, 0, 1, 2, 0, 2, 0, 0, 0, 0, 2, 1, 0, 1, 2, 1, 2, 2, 1, 0, 0, 1, 0, 2, 1, 1, 1, 2, 2, 0, 1, 0, 0, 2, 1, 0, 2, 0, 0, 2, 0, 2, 1, 2, 0, 2, 2, 1, 2, 2, 2, 2, 2, 1, 1, 2, 1, 0, 1, 0, 1, 1, 2, 0, 0, 0, 0, 0, 2, 1, 0, 2, 1, 0, 2, 1, 0, 2, 1, 1, 1, 2, 2, 2, 1, 1, 0, 1, 1, 0, 2, 0, 1, 2, 1, 2, 2, 1, 2, 2, 1, 0, 1, 0, 1, 1, 0, 2, 0, 2, 0, 0, 1, 0, 1, 1, 2, 2, 1, 0, 1, 0, 2, 2, 2, 2, 2, 2, 2, 1, 1, 1, 1, 2, 2, 2, 2, 1, 0, 1, 0, 1, 1, 1, 2, 0, 1, 2, 2, 2, 2, 2, 1, 1, 2, 1, 2, 1, 0, 1, 2, 1, 1, 0, 1, 1, 1, 0, 0, 2, 0, 1, 1, 2, 0, 0, 1, 0, 1, 1, 0, 0, 0, 0, 0, 2, 1, 0, 2, 2, 0, 1, 2, 2, 2, 2, 0, 2, 1, 0, 1, 2, 1, 1, 0, 0, 0, 0, 1, 1, 0, 1, 2, 1, 1, 0, 2, 1, 0, 2, 1, 0, 2, 0, 1, 1, 0, 2, 1, 2, 2, 2, 0, 0, 0, 0, 2, 0, 1, 1, 2, 2, 1, 2, 0, 0, 0, 2, 2, 1, 2, 2, 0, 2, 2, 1, 0, 1, 2, 1, 1, 1, 2, 1, 0, 2, 2, 0, 1, 0, 2, 2, 2, 1, 1, 1, 1, 1, 1, 1, 2, 2, 2, 2, 1, 0, 2, 2, 2, 1, 0, 1, 2, 0, 2, 1, 0, 0, 0, 0, 1, 2, 0, 0, 0, 1, 1, 0, 1, 1, 2, 0, 1, 0, 1, 2, 0, 2, 1, 2, 1, 1, 1, 1, 2, 0, 2, 0, 0, 2, 2, 1, 2, 2, 2, 2, 2, 0, 2, 1, 0, 1, 2, 2, 2, 0, 0, 2, 1, 0, 2, 0, 2, 1, 1, 2, 0, 0, 1, 0, 2, 0, 2, 2, 1, 0, 0, 1, 1, 2, 0, 1, 2, 1, 0, 2, 1, 0, 0, 1, 0, 0, 2, 2, 0, 2, 2, 2, 2, 1, 0, 2, 0, 1, 2, 1, 0, 1, 1, 2, 2, 0, 2, 1, 1, 0, 2, 2, 0, 0, 2, 2, 1, 2, 1, 1, 0, 1, 0, 2, 1, 0, 2, 2, 0, 1, 2, 2, 1, 1, 1, 2, 1, 2, 2, 1, 0, 2, 0, 1, 1, 2, 0, 1, 1, 0, 2, 1, 0, 0, 0, 0, 2, 0, 0, 1, 1, 2, 2, 2, 2, 0, 1, 1, 0, 0, 0, 2, 1, 1, 1, 1, 2, 2, 2, 0, 1, 2, 0, 0, 2, 2, 0, 1, 2, 0, 0, 1]\n"
          ]
        }
      ]
    },
    {
      "cell_type": "code",
      "metadata": {
        "colab": {
          "base_uri": "https://localhost:8080/"
        },
        "id": "mCIlCq_RcUXi",
        "outputId": "35c072db-2b5d-40e0-ae1a-f70f20bdbe37"
      },
      "source": [
        "# recall the classes we are using\n",
        "print(classes)"
      ],
      "execution_count": 35,
      "outputs": [
        {
          "output_type": "stream",
          "name": "stdout",
          "text": [
            "[1, 2, 6]\n"
          ]
        }
      ]
    },
    {
      "cell_type": "code",
      "metadata": {
        "id": "3h2y2aY1Je9B",
        "colab": {
          "base_uri": "https://localhost:8080/"
        },
        "outputId": "70b200ec-0bfa-462e-dbca-1c53dd8c1d93"
      },
      "source": [
        "# prediction array (using classes)\n",
        "n = 100 # Just a sample\n",
        "np.array(classes)[y_pred_Bayesian[0:n]]"
      ],
      "execution_count": 36,
      "outputs": [
        {
          "output_type": "execute_result",
          "data": {
            "text/plain": [
              "array([1, 6, 6, 6, 2, 6, 2, 6, 2, 1, 2, 1, 2, 2, 2, 2, 2, 6, 1, 2, 1, 2,\n",
              "       2, 1, 2, 1, 2, 2, 6, 1, 1, 6, 2, 1, 2, 1, 6, 1, 2, 2, 1, 2, 6, 6,\n",
              "       2, 6, 2, 1, 6, 1, 6, 6, 2, 1, 2, 2, 6, 6, 6, 6, 6, 1, 2, 6, 6, 1,\n",
              "       2, 6, 1, 2, 6, 2, 2, 2, 2, 6, 2, 1, 2, 1, 6, 6, 6, 6, 2, 1, 1, 1,\n",
              "       1, 6, 2, 2, 6, 1, 2, 2, 2, 6, 2, 2])"
            ]
          },
          "metadata": {},
          "execution_count": 36
        }
      ]
    },
    {
      "cell_type": "code",
      "metadata": {
        "id": "c5yGYG9lJfLF",
        "colab": {
          "base_uri": "https://localhost:8080/"
        },
        "outputId": "d79ddd96-6105-4597-d67e-9d2c1f53d449"
      },
      "source": [
        "# using validation: y_val\n",
        "print(\"Accuracy=\", accuracy_score(np.array(classes)[y_pred_Bayesian], y_val))"
      ],
      "execution_count": 37,
      "outputs": [
        {
          "output_type": "stream",
          "name": "stdout",
          "text": [
            "Accuracy= 0.9773333333333334\n"
          ]
        }
      ]
    },
    {
      "cell_type": "markdown",
      "metadata": {
        "id": "nF-DZEujdW4b"
      },
      "source": [
        "## Selecting different instances\n"
      ]
    },
    {
      "cell_type": "code",
      "metadata": {
        "id": "V5Ra6BoXJqy6"
      },
      "source": [
        "y_predB=[]\n",
        "\n",
        "for i in range(X_val.shape[0]):\n",
        "    #print(i)\n",
        "    val=[]\n",
        "\n",
        "    for s in range(posterior['beta'].shape[0]):\n",
        "        beta = np.hstack([np.zeros((nf,1)),  posterior['beta'][s,:] ])\n",
        "        alpha = np.hstack([[0],  posterior['alpha'][s,:] ])\n",
        "        val.append(softmax((np.array([X_val[i,:].dot(beta) + alpha])))[0,:])\n",
        "\n",
        "    #mean probability\n",
        "    valmean = np.mean(val,axis=0)\n",
        "    #class with maximum mean probability\n",
        "    classmax = np.argmax(valmean)\n",
        "    #ranks\n",
        "    ranks = np.array(val.copy())\n",
        "    ranks   = ranks  *0 #init\n",
        "    colmax = np.argmax(np.array(val),axis=1)\n",
        "    ranks[np.arange(0,len(colmax)),colmax]=1\n",
        "     \n",
        "    y_predB.append( [classmax, valmean[classmax], np.std(ranks,axis=0)[classmax]])\n",
        "\n",
        "    \n",
        "y_predB= np.array(y_predB)"
      ],
      "execution_count": 38,
      "outputs": []
    },
    {
      "cell_type": "code",
      "metadata": {
        "colab": {
          "base_uri": "https://localhost:8080/"
        },
        "id": "rLHUOEJrd_eL",
        "outputId": "e1cc8447-fd7c-425e-98be-1fcf10fb7f68"
      },
      "source": [
        "# prediction array\n",
        "mm = 10\n",
        "y_predB[0:mm,:]"
      ],
      "execution_count": 39,
      "outputs": [
        {
          "output_type": "execute_result",
          "data": {
            "text/plain": [
              "array([[0.        , 0.98200896, 0.11469767],\n",
              "       [2.        , 0.9479673 , 0.20360637],\n",
              "       [2.        , 0.99999634, 0.        ],\n",
              "       [2.        , 0.99997883, 0.        ],\n",
              "       [1.        , 1.        , 0.        ],\n",
              "       [2.        , 0.99999912, 0.        ],\n",
              "       [1.        , 1.        , 0.        ],\n",
              "       [2.        , 0.99982509, 0.        ],\n",
              "       [1.        , 0.96778799, 0.15095989],\n",
              "       [0.        , 0.9355117 , 0.22469733]])"
            ]
          },
          "metadata": {},
          "execution_count": 39
        }
      ]
    },
    {
      "cell_type": "code",
      "metadata": {
        "colab": {
          "base_uri": "https://localhost:8080/"
        },
        "id": "jY6LSjpHeEHF",
        "outputId": "6d6497ce-4cd2-4292-a6de-0aca9ae1e9bd"
      },
      "source": [
        "#sorting in descending order\n",
        "difficult = np.argsort(-y_predB[:,2])\n",
        "y_predB[difficult[0:mm],:]"
      ],
      "execution_count": 40,
      "outputs": [
        {
          "output_type": "execute_result",
          "data": {
            "text/plain": [
              "array([[0.        , 0.5111156 , 0.49998889],\n",
              "       [1.        , 0.49265332, 0.49998889],\n",
              "       [0.        , 0.48348568, 0.49998889],\n",
              "       [0.        , 0.47241152, 0.49995555],\n",
              "       [1.        , 0.502494  , 0.49989999],\n",
              "       [2.        , 0.51730669, 0.49989999],\n",
              "       [1.        , 0.51772164, 0.49982219],\n",
              "       [1.        , 0.51948694, 0.49982219],\n",
              "       [1.        , 0.51324581, 0.49972215],\n",
              "       [2.        , 0.51486667, 0.49959984]])"
            ]
          },
          "metadata": {},
          "execution_count": 40
        }
      ]
    },
    {
      "cell_type": "code",
      "metadata": {
        "colab": {
          "base_uri": "https://localhost:8080/"
        },
        "id": "6TUoAYD2e3UN",
        "outputId": "15f16830-efcf-49af-e45e-b95d10e2d7b5"
      },
      "source": [
        "#probability of general-recipe logistic regression in wrong instances\n",
        "prob_classmax[y_pred_log != y_val]"
      ],
      "execution_count": 41,
      "outputs": [
        {
          "output_type": "execute_result",
          "data": {
            "text/plain": [
              "array([0.84699489, 0.94822899, 0.68017021, 0.98465209, 0.90471581,\n",
              "       0.99981423, 0.7335469 , 0.9872646 , 0.55225793, 0.95130625,\n",
              "       0.55666505, 1.        , 0.99999948, 0.96023529, 0.99999989,\n",
              "       0.99945707, 0.54026208, 0.99979242, 0.8039955 , 0.99775331,\n",
              "       0.67079097, 0.99951747, 0.99999975, 0.99405742, 0.96079712,\n",
              "       0.95737823, 0.98881139, 0.67807808, 0.99999999, 0.99999675,\n",
              "       0.9481715 , 0.99999732, 0.58580298, 0.96880609, 0.9999983 ,\n",
              "       0.55142977])"
            ]
          },
          "metadata": {},
          "execution_count": 41
        }
      ]
    },
    {
      "cell_type": "code",
      "metadata": {
        "colab": {
          "base_uri": "https://localhost:8080/"
        },
        "id": "MhmhqKWTeHTw",
        "outputId": "aaf5187c-80ff-42f9-fb2e-bb7b104de3ea"
      },
      "source": [
        "y_predB[y_pred_log != y_val,:]"
      ],
      "execution_count": 42,
      "outputs": [
        {
          "output_type": "execute_result",
          "data": {
            "text/plain": [
              "array([[1.        , 0.60694317, 0.48920571],\n",
              "       [2.        , 0.62083728, 0.48538644],\n",
              "       [1.        , 0.53549798, 0.49888765],\n",
              "       [1.        , 0.85746163, 0.34698703],\n",
              "       [1.        , 0.51324581, 0.49972215],\n",
              "       [0.        , 0.70076116, 0.4404417 ],\n",
              "       [1.        , 0.88956155, 0.29089899],\n",
              "       [1.        , 0.96648474, 0.16110728],\n",
              "       [2.        , 0.74752117, 0.43107102],\n",
              "       [1.        , 0.54554011, 0.49781746],\n",
              "       [2.        , 0.86999151, 0.33993463],\n",
              "       [2.        , 0.95343427, 0.19595918],\n",
              "       [0.        , 0.72296157, 0.44221664],\n",
              "       [1.        , 0.72044727, 0.45061686],\n",
              "       [1.        , 0.99233009, 0.08137704],\n",
              "       [1.        , 0.59934097, 0.48920571],\n",
              "       [1.        , 0.71972866, 0.4404417 ],\n",
              "       [2.        , 0.68117846, 0.46647615],\n",
              "       [0.        , 0.70498707, 0.44735022],\n",
              "       [2.        , 0.88363104, 0.32102267],\n",
              "       [2.        , 0.66598342, 0.4689942 ],\n",
              "       [0.        , 0.88436049, 0.2712932 ],\n",
              "       [1.        , 0.79815045, 0.38964371],\n",
              "       [0.        , 0.54538044, 0.49408726],\n",
              "       [2.        , 0.52156214, 0.49865374],\n",
              "       [0.        , 0.82872771, 0.36966952],\n",
              "       [1.        , 0.61677407, 0.48280431],\n",
              "       [2.        , 0.9961448 , 0.05763872],\n",
              "       [2.        , 0.66884894, 0.4689942 ],\n",
              "       [1.        , 0.6679296 , 0.47370877],\n",
              "       [2.        , 0.71348144, 0.44735022],\n",
              "       [2.        , 0.99964401, 0.        ],\n",
              "       [2.        , 0.8992283 , 0.29089899],\n",
              "       [2.        , 0.62834007, 0.48368952],\n",
              "       [2.        , 0.99813279, 0.        ],\n",
              "       [1.        , 0.57500434, 0.49408726]])"
            ]
          },
          "metadata": {},
          "execution_count": 42
        }
      ]
    },
    {
      "cell_type": "code",
      "metadata": {
        "id": "UA-VMa90rB5h"
      },
      "source": [
        "mean_fpr = np.linspace(start=0, stop=1, num=100)"
      ],
      "execution_count": 43,
      "outputs": []
    },
    {
      "cell_type": "code",
      "metadata": {
        "colab": {
          "base_uri": "https://localhost:8080/"
        },
        "id": "R7Uy8xvJeKrI",
        "outputId": "651e7485-98fb-42e4-8471-0012434b4672"
      },
      "source": [
        "## Difficult & easy instances\n",
        "\n",
        "easy = np.argsort(y_predB[:,2])\n",
        "print(\"Accuracy in easy instances =\", accuracy_score(y_pred_log[easy[0:100]], y_val[easy[0:100]]))\n",
        "\n",
        "difficult = np.argsort(-y_predB[:,2])\n",
        "print(\"Accuracy in difficult instances =\", accuracy_score(y_pred_log[difficult[0:100]], y_val[difficult[0:100]]))"
      ],
      "execution_count": 44,
      "outputs": [
        {
          "output_type": "stream",
          "name": "stdout",
          "text": [
            "Accuracy in easy instances = 1.0\n",
            "Accuracy in difficult instances = 0.78\n"
          ]
        }
      ]
    },
    {
      "cell_type": "code",
      "metadata": {
        "colab": {
          "base_uri": "https://localhost:8080/",
          "height": 357
        },
        "id": "6GOYYib0eN1_",
        "outputId": "104db8d3-dbf2-4033-c0ab-daf14617f642"
      },
      "source": [
        "# show 10 random 'easy' images\n",
        "fig, axs = plt.subplots(2,5, figsize=(15, 6))\n",
        "fig.subplots_adjust(hspace = .2, wspace=.001)\n",
        "axs = axs.ravel()\n",
        "\n",
        "for i in range(10):\n",
        "    index = easy[i]\n",
        "    image = X_val[index,:].reshape(28,28)\n",
        "    axs[i].axis('off')\n",
        "    axs[i].imshow(image,cmap=\"Greys_r\")"
      ],
      "execution_count": 45,
      "outputs": [
        {
          "output_type": "display_data",
          "data": {
            "image/png": "[encoded data removed]",
            "text/plain": [
              "<Figure size 1080x432 with 10 Axes>"
            ]
          },
          "metadata": {
            "needs_background": "light"
          }
        }
      ]
    },
    {
      "cell_type": "code",
      "metadata": {
        "colab": {
          "base_uri": "https://localhost:8080/",
          "height": 357
        },
        "id": "6c6OCH5NeRA_",
        "outputId": "cb3f33a3-7db9-491e-9c66-c19247defd14"
      },
      "source": [
        "# show 10 random 'difficult' images\n",
        "fig, axs = plt.subplots(2,5, figsize=(15, 6))\n",
        "fig.subplots_adjust(hspace = .2, wspace=.001)\n",
        "axs = axs.ravel()\n",
        "for i in range(10):\n",
        "    index = difficult[i]\n",
        "    image = X_val[index,:].reshape(28,28)\n",
        "    axs[i].axis('off')\n",
        "    axs[i].imshow(image,cmap=\"Greys_r\")"
      ],
      "execution_count": 46,
      "outputs": [
        {
          "output_type": "display_data",
          "data": {
            "image/png": "[encoded data removed]",
            "text/plain": [
              "<Figure size 1080x432 with 10 Axes>"
            ]
          },
          "metadata": {
            "needs_background": "light"
          }
        }
      ]
    },
    {
      "cell_type": "code",
      "metadata": {
        "colab": {
          "base_uri": "https://localhost:8080/"
        },
        "id": "nEmSQizueUFn",
        "outputId": "e6e75ae5-c11f-4e01-dac1-021f988a8095"
      },
      "source": [
        "# model\n",
        "model_logi_retrained = LogisticRegression(random_state=0, max_iter=2000, C=100, solver='lbfgs', multi_class='multinomial').fit(X_train[easy], y_train[easy])\n",
        "\n",
        "# Classification\n",
        "y_pred_logi_retrained = model_logi_retrained.predict(X_val)\n",
        "y_pred_logi_prob_retrained = model_logi_retrained.predict_proba(X_val)\n",
        "\n",
        "prob_classmax_retrained = np.max(y_pred_logi_prob_retrained,axis=1)\n",
        "\n",
        "# Computing the Accuracy\n",
        "# Original\n",
        "print(f\"Original Model Accuracy {accuracy_score(y_pred_log, y_val):.4f}\\nNumber of misclassifications {len(prob_classmax[y_pred_log!=y_val])}\")\n",
        "# Retrained\n",
        "print(f\"Retrained Model Accuracy: {accuracy_score(y_pred_logi_retrained, y_val):.4f}\\nNumber of misclassifications {len(prob_classmax_retrained[y_pred_logi_retrained!=y_val])}\")"
      ],
      "execution_count": 47,
      "outputs": [
        {
          "output_type": "stream",
          "name": "stdout",
          "text": [
            "Original Model Accuracy 0.9760\n",
            "Number of misclassifications 36\n",
            "Retrained Model Accuracy: 0.9767\n",
            "Number of misclassifications 35\n"
          ]
        }
      ]
    },
    {
      "cell_type": "markdown",
      "metadata": {
        "id": "NcshsLOGRPrk"
      },
      "source": [
        "## Summary"
      ]
    },
    {
      "cell_type": "markdown",
      "metadata": {
        "id": "XTc4pYKGRR60"
      },
      "source": [
        "*Populate* this section with all of your findings and comments fron the discussion with your peers."
      ]
    },
    {
      "cell_type": "markdown",
      "metadata": {
        "id": "UmzrySIRkpCn"
      },
      "source": [
        "References:\n",
        "\n",
        "http://mlg.eng.cam.ac.uk/zoubin/talks/lect1bayes.pdf\n",
        "\n",
        "Maximum likelihood estimation\n",
        "https://people.duke.edu/~ccc14/sta-663/OptimizationInOneDimension.html\n",
        "\n",
        "Numerically computing the posterior in probabilistic programming.\n",
        "https://people.duke.edu/~ccc14/sta-663/MCMC.html\n"
      ]
    },
    {
      "cell_type": "markdown",
      "metadata": {
        "id": "8Sf2R_r0jAJM"
      },
      "source": [
        "Observations\n",
        "\n",
        "*   Random selection of digits every time its executed with similiar accuracy.\n",
        "*   Logistic Regression model performs better than the Probabilistic Logistic Model which is expected due to overfitting  \n",
        "* Bayesian: Learning from data occurs through the transformation of the prior probability distributions, into posterior distributions.\n",
        "*   The models do seem to struggle when the digits are skewed or rotated slightly.\n",
        "* One approach as per here was to state the uncertainty as being too high and refusing to classify.\n",
        "*   LR model does not generalise well and have to retrain. Training on easy data actually results in increase in mis-classifications. Bayesian is better equipped to deal with difficult datasets due to its generalistic nature as opposed to fitting. It does however still result in slightly less accuracy but can be better applied to difficult datasets and reduce biases within the model.\n",
        "\n",
        "\n",
        "\n"
      ]
    }
  ]
}