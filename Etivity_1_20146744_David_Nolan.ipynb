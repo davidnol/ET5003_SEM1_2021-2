{
  "nbformat": 4,
  "nbformat_minor": 0,
  "metadata": {
    "colab": {
      "name": "Etivity_1_20146744_David_Nolan.ipynb",
      "provenance": [],
      "collapsed_sections": [],
      "include_colab_link": true
    },
    "kernelspec": {
      "name": "python3",
      "display_name": "Python 3"
    },
    "language_info": {
      "name": "python"
    }
  },
  "cells": [
    {
      "cell_type": "markdown",
      "metadata": {
        "id": "view-in-github",
        "colab_type": "text"
      },
      "source": [
        "<a href=\"https://colab.research.google.com/github/davidnol/ET5003_SEM1_2021-3/blob/main/Etivity_1_20146744_David_Nolan.ipynb\" target=\"_parent\"><img src=\"https://colab.research.google.com/assets/colab-badge.svg\" alt=\"Open In Colab\"/></a>"
      ]
    },
    {
      "cell_type": "markdown",
      "metadata": {
        "id": "jxK1_8f1dvrc"
      },
      "source": [
        "<div>\n",
        "<img src=\"https://drive.google.com/uc?export=view&id=1vK33e_EqaHgBHcbRV_m38hx6IkG0blK_\" width=\"350\"/>\n",
        "</div> \n",
        "\n",
        "#**Artificial Intelligence - MSc**\n",
        "ET5003 - MACHINE LEARNING APPLICATIONS \n",
        "\n",
        "###Instructor: Enrique Naredo\n",
        "###ET5003_Etivity-1"
      ]
    },
    {
      "cell_type": "code",
      "metadata": {
        "id": "LqXD_IwUQuBF",
        "cellView": "form"
      },
      "source": [
        "#@title Current Date\n",
        "Today = '2021-09-13' #@param {type:\"date\"}\n"
      ],
      "execution_count": null,
      "outputs": []
    },
    {
      "cell_type": "code",
      "metadata": {
        "id": "uzDKau31OjVO",
        "cellView": "form"
      },
      "source": [
        "#@markdown ---\n",
        "#@markdown ### Enter your details here:\n",
        "Student_ID = \"20146744\" #@param {type:\"string\"}\n",
        "Student_full_name = \"David Nolan\" #@param {type:\"string\"}\n",
        "#@markdown ---"
      ],
      "execution_count": null,
      "outputs": []
    },
    {
      "cell_type": "code",
      "metadata": {
        "id": "r39xGZckTpKx",
        "cellView": "form"
      },
      "source": [
        "#@title Notebook information\n",
        "Notebook_type = 'Lab' #@param [\"Example\", \"Lab\", \"Practice\", \"Etivity\", \"Assignment\", \"Exam\"]\n",
        "Version = 'Draft' #@param [\"Draft\", \"Final\"] {type:\"raw\"}\n",
        "Submission = False #@param {type:\"boolean\"}"
      ],
      "execution_count": null,
      "outputs": []
    },
    {
      "cell_type": "markdown",
      "metadata": {
        "id": "80m304lUefG4"
      },
      "source": [
        "## MNIST dataset"
      ]
    },
    {
      "cell_type": "markdown",
      "metadata": {
        "id": "Bs8mHGcidHSa"
      },
      "source": [
        "\n",
        "\n",
        "The MNIST database  is a dataset of handwritten digits that has been and is extensively used in machine learning. There are $10$ classes, each image is $28\\times28$ pixels and, therefore, each input is $x_i\\in\\mathbb{R}^{784}$. "
      ]
    },
    {
      "cell_type": "markdown",
      "metadata": {
        "id": "ailycCq5epj2"
      },
      "source": [
        "## Task"
      ]
    },
    {
      "cell_type": "markdown",
      "metadata": {
        "id": "a-yNAxhUemjM"
      },
      "source": [
        "You have to extend the code to manage any arbitrary number of classes, in other words you have to implement a general-recipe multinomial logistic classifier and Bayesian multinomial logistic classifier.\n",
        "\n",
        "You must then select  3 digits at random and perform  the following task. \n",
        "\n",
        "1. Your goal is to use Bayesian multinomial logistic regression (as in the road-sign notebook) to solve this classification problem. \n",
        "\n",
        "2. You can downsize the training dataset (e.g., 40% training and 60%testing) if the computation of the posterior takes too much time in your computer.\n",
        "\n",
        "3. Use the posterior uncertainty to detect the instances (digits) in the test set that are hard to classify and remove them from the test-set.\n",
        "\n",
        "4. Then you need to compute again the accuracy of the general-recipe logistic regression on the remaining (non-difficult) instances and comment on the result.\n",
        "\n",
        "5. In practice, the task is to use uncertainty estimation to detect the difficult instances in the test-set. This is equivalent to refuse to classify all high-uncertainty instances or, in other words, when we are uncertain we say \"I don't know\" and we do not return any class. In this way, you will learn how uncertainty can be used to make safer decisions, by detecting the instances that are difficult to classify.\n"
      ]
    },
    {
      "cell_type": "markdown",
      "metadata": {
        "id": "nMRKRTQZe5fW"
      },
      "source": [
        "## Libraries"
      ]
    },
    {
      "cell_type": "code",
      "metadata": {
        "id": "IxusAui7AX_f"
      },
      "source": [
        "# Suppressing Warnings:\n",
        "import warnings\n",
        "warnings.filterwarnings(\"ignore\")"
      ],
      "execution_count": 3,
      "outputs": []
    },
    {
      "cell_type": "code",
      "metadata": {
        "id": "MQOfGMQpdHSb"
      },
      "source": [
        "# Import libraries\n",
        "from sklearn.linear_model import LogisticRegression\n",
        "from sklearn.metrics import accuracy_score\n",
        "from sklearn.model_selection import train_test_split\n",
        "import scipy.optimize as optimize\n",
        "from scipy.special import erf\n",
        "import pandas as pd\n",
        "import numpy as np\n",
        "import seaborn as sns\n",
        "from tqdm import tqdm\n",
        "from skimage.io import imread, imshow\n",
        "import matplotlib.image as mpimg\n",
        "import matplotlib.pyplot as plt\n",
        "import matplotlib\n",
        "%matplotlib inline\n",
        "import arviz as az\n",
        "from scipy.io import loadmat\n",
        "import pymc3 as pm\n",
        "import random\n",
        "from IPython.display import HTML\n",
        "import pickle\n",
        "import theano as tt\n",
        "import cv2\n",
        "from sklearn.utils import shuffle\n",
        "from skimage.color import rgb2gray"
      ],
      "execution_count": 4,
      "outputs": []
    },
    {
      "cell_type": "code",
      "metadata": {
        "id": "P5-qMSjpAQ-9"
      },
      "source": [
        "# Setting a seed:\n",
        "np.random.seed(123)"
      ],
      "execution_count": 5,
      "outputs": []
    },
    {
      "cell_type": "markdown",
      "metadata": {
        "id": "r4hSuwkUfVQb"
      },
      "source": [
        "## Dataset"
      ]
    },
    {
      "cell_type": "markdown",
      "metadata": {
        "id": "w99Pc66YdHSd"
      },
      "source": [
        "### Loading the MNIST dataset"
      ]
    },
    {
      "cell_type": "code",
      "metadata": {
        "colab": {
          "base_uri": "https://localhost:8080/"
        },
        "id": "CYFWAbXVzynp",
        "outputId": "ffd4acdc-6176-4ea9-c40d-110c66c173c2"
      },
      "source": [
        "from google.colab import drive\n",
        "drive.mount('/content/drive')"
      ],
      "execution_count": 6,
      "outputs": [
        {
          "output_type": "stream",
          "name": "stdout",
          "text": [
            "Mounted at /content/drive\n"
          ]
        }
      ]
    },
    {
      "cell_type": "code",
      "metadata": {
        "colab": {
          "base_uri": "https://localhost:8080/"
        },
        "id": "g4rCnS4vdHSd",
        "outputId": "bd287220-ce4d-4b4f-8b2e-29048723c55a"
      },
      "source": [
        "# Path, copy the path from your Drive\n",
        "Path = '/content/drive/MyDrive/Colab Notebooks/DavidNolan/MNIST dataset/'\n",
        "\n",
        "# MNIST Data\n",
        "train_data = Path + 'mnist_train.csv'\n",
        "test_data = Path + 'mnist_test.csv'\n",
        "\n",
        "# train data\n",
        "df_train = pd.read_csv(train_data)\n",
        "X_train = df_train.drop(\"label\",axis=1).values\n",
        "y_train = df_train.label.values\n",
        "print(X_train.shape)\n",
        "\n",
        "# test data\n",
        "df_test = pd.read_csv(test_data)\n",
        "X_test = df_test.drop(\"label\",axis=1).values\n",
        "y_test = df_test.label.values\n",
        "print(X_test.shape)"
      ],
      "execution_count": 7,
      "outputs": [
        {
          "output_type": "stream",
          "name": "stdout",
          "text": [
            "(60000, 784)\n",
            "(10000, 784)\n"
          ]
        }
      ]
    },
    {
      "cell_type": "code",
      "metadata": {
        "colab": {
          "base_uri": "https://localhost:8080/"
        },
        "id": "O2ubJ_WoAqBh",
        "outputId": "4b1036a7-e8b8-4ff7-9c8e-9556ff65367e"
      },
      "source": [
        "# Normalizing the Inputs:\n",
        "X_train = X_train/255\n",
        "X_test = X_test/255\n",
        "\n",
        "# Printing the new input range of values:\n",
        "minv = np.min(X_train)\n",
        "maxv = np.max(X_train)\n",
        "print(minv,maxv)"
      ],
      "execution_count": 8,
      "outputs": [
        {
          "output_type": "stream",
          "name": "stdout",
          "text": [
            "0.0 1.0\n"
          ]
        }
      ]
    },
    {
      "cell_type": "markdown",
      "metadata": {
        "id": "SR6HpkWndHSe"
      },
      "source": [
        "### Description of Data:"
      ]
    },
    {
      "cell_type": "code",
      "metadata": {
        "colab": {
          "base_uri": "https://localhost:8080/"
        },
        "id": "sibN1Vv1dHSf",
        "outputId": "9846cada-55ea-4c5d-d16c-e8bcc7473bd6"
      },
      "source": [
        "# Number of examples\n",
        "n_train =  len(X_train)\n",
        "n_test =  len(X_test)\n",
        "\n",
        "# Shape of an traffic sign image\n",
        "image_shape = X_train.shape[1]\n",
        "\n",
        "# unique classes/labels in the training dataset.\n",
        "alltotal = set(y_train)\n",
        "n_classes = len(alltotal)\n",
        "\n",
        "print(\"Number of Training examples =\", n_train)\n",
        "print(\"Number of Test examples =\", n_test)\n",
        "print(\"Image input shape =\", image_shape)\n",
        "print(\"Number of classes =\", n_classes)"
      ],
      "execution_count": 9,
      "outputs": [
        {
          "output_type": "stream",
          "name": "stdout",
          "text": [
            "Number of Training examples = 60000\n",
            "Number of Test examples = 10000\n",
            "Image input shape = 784\n",
            "Number of classes = 10\n"
          ]
        }
      ]
    },
    {
      "cell_type": "markdown",
      "metadata": {
        "id": "6HQDSvrRKZF6"
      },
      "source": [
        "### Class Distribution:"
      ]
    },
    {
      "cell_type": "code",
      "metadata": {
        "id": "XG8GdlpBKdCt",
        "colab": {
          "base_uri": "https://localhost:8080/",
          "height": 295
        },
        "outputId": "44619c04-bc3b-464a-d2bc-3b76dae07175"
      },
      "source": [
        "fig, ax = plt.subplots()\n",
        "ind = np.arange(n_classes)\n",
        "\n",
        "n, bins, patches = ax.hist(y_train, ec='black', align='mid')\n",
        "ax.set_xlabel('classes')\n",
        "ax.set_ylabel('counts')\n",
        "ax.set_title(r'Histogram of Digit images')\n",
        "plt.show()"
      ],
      "execution_count": 10,
      "outputs": [
        {
          "output_type": "display_data",
          "data": {
            "image/png": "[encoded data removed]",
            "text/plain": [
              "<Figure size 432x288 with 1 Axes>"
            ]
          },
          "metadata": {
            "needs_background": "light"
          }
        }
      ]
    },
    {
      "cell_type": "markdown",
      "metadata": {
        "id": "EyLWw3nsLCtk"
      },
      "source": [
        "## Downsampling"
      ]
    },
    {
      "cell_type": "markdown",
      "metadata": {
        "id": "2U1lFEwhLKBf"
      },
      "source": [
        "### Randomly selecting 3 of the 10 Digit Classes"
      ]
    },
    {
      "cell_type": "code",
      "metadata": {
        "id": "0EeRZZWdLRPT",
        "colab": {
          "base_uri": "https://localhost:8080/"
        },
        "outputId": "053e5050-5619-4ceb-fcf5-b572505b9315"
      },
      "source": [
        "# We select the number of Classes we want:\n",
        "n_classes = 3\n",
        "\n",
        "# Empty list to append the random digit classes we select:\n",
        "classes = []\n",
        "\n",
        "# We select 3 digits at random and make sure they are unique:\n",
        "while len(classes) < 3:\n",
        "    \n",
        "    # Randomly drawing a digit from 0-9:\n",
        "    num2choose = np.random.randint(0,10)\n",
        "\n",
        "    # Append the digit if it's not already in our list of classes:\n",
        "    if num2choose not in classes: \n",
        "        classes.append(num2choose)\n",
        "        \n",
        "        \n",
        "# Sorting the Classes smallest to largest    \n",
        "classes.sort()\n",
        "# print classes selected\n",
        "classes"
      ],
      "execution_count": 11,
      "outputs": [
        {
          "output_type": "execute_result",
          "data": {
            "text/plain": [
              "[1, 2, 6]"
            ]
          },
          "metadata": {},
          "execution_count": 11
        }
      ]
    },
    {
      "cell_type": "code",
      "metadata": {
        "id": "2M8R5NqKMB_M"
      },
      "source": [
        "# The number of instances we'll keep for each of our 3 digits:\n",
        "inst_class = 1500\n",
        "\n",
        "inputs=[]\n",
        "labels=[]\n",
        "# Loop to randomly sample the instances for each digit:\n",
        "for r in classes:\n",
        "    imgs = X_train[np.where(y_train==r)[0],:]\n",
        "    inputs.append(imgs[np.random.permutation(imgs.shape[0]),:][0:inst_class,:])\n",
        "    labels.append(np.ones(inst_class)*r)\n",
        "    \n",
        "# Shaping inputs and labels in the right format    \n",
        "X_train = np.vstack(inputs).astype(np.float64)\n",
        "y_train = np.hstack(labels)"
      ],
      "execution_count": 12,
      "outputs": []
    },
    {
      "cell_type": "markdown",
      "metadata": {
        "id": "_6-YHrQQMicy"
      },
      "source": [
        "New Classes Distribution"
      ]
    },
    {
      "cell_type": "code",
      "metadata": {
        "id": "RA300COaMxWm",
        "colab": {
          "base_uri": "https://localhost:8080/",
          "height": 295
        },
        "outputId": "ef478003-a21e-4479-d8af-2746886f0648"
      },
      "source": [
        "# new histogram\n",
        "fig, ax = plt.subplots()\n",
        "ind = np.arange(n_classes)\n",
        "\n",
        "n, bins, patches = ax.hist(y_train, ec='black', align='mid')\n",
        "ax.set_xlabel('classes')\n",
        "ax.set_ylabel('counts')\n",
        "ax.set_title(r'Histogram of Digit images')\n",
        "plt.show()"
      ],
      "execution_count": 13,
      "outputs": [
        {
          "output_type": "display_data",
          "data": {
            "image/png": "[encoded data removed]",
            "text/plain": [
              "<Figure size 432x288 with 1 Axes>"
            ]
          },
          "metadata": {
            "needs_background": "light"
          }
        }
      ]
    },
    {
      "cell_type": "code",
      "metadata": {
        "id": "eFgP4xugMvJm"
      },
      "source": [
        "# plot digits\n",
        "def plot_digits(instances, images_per_row=5, **options):\n",
        "    size = 28\n",
        "    images_per_row = min(len(instances), images_per_row)\n",
        "    images = [instance.reshape(size,size) for instance in instances]\n",
        "    n_rows = (len(instances) - 1) // images_per_row + 1\n",
        "    row_images = []\n",
        "    n_empty = n_rows * images_per_row - len(instances)\n",
        "    images.append(np.zeros((size, size * n_empty)))\n",
        "    for row in range(n_rows):\n",
        "        rimages = images[row * images_per_row : (row + 1) * images_per_row]\n",
        "        row_images.append(np.concatenate(rimages, axis=1))\n",
        "    image = np.concatenate(row_images, axis=0)\n",
        "    plt.imshow(image,  cmap='gist_yarg', **options)\n",
        "    plt.axis(\"off\")"
      ],
      "execution_count": 14,
      "outputs": []
    },
    {
      "cell_type": "code",
      "metadata": {
        "id": "zeEG-LGOM4fJ",
        "colab": {
          "base_uri": "https://localhost:8080/",
          "height": 362
        },
        "outputId": "cf632db4-c003-4564-af2e-67a044b3cb95"
      },
      "source": [
        "# Show a few instances from each Digit:\n",
        "plt.figure(figsize=(8,8))\n",
        "\n",
        "# Selecting a few label indices from each of the 3 classes to show:\n",
        "label_indices = random.sample(range(0, len(X_train)), 54)  # Generate 54 images, 9 per row \n",
        "\n",
        "# Plotting 'original' image\n",
        "plot_digits(X_train[label_indices,:],images_per_row=9)\n",
        "plt.title(\"Original\", fontsize=14)"
      ],
      "execution_count": 15,
      "outputs": [
        {
          "output_type": "execute_result",
          "data": {
            "text/plain": [
              "Text(0.5, 1.0, 'Original')"
            ]
          },
          "metadata": {},
          "execution_count": 15
        },
        {
          "output_type": "display_data",
          "data": {
            "image/png": "[encoded data removed]",
            "text/plain": [
              "<Figure size 576x576 with 1 Axes>"
            ]
          },
          "metadata": {
            "needs_background": "light"
          }
        }
      ]
    },
    {
      "cell_type": "markdown",
      "metadata": {
        "id": "FsAOnOcNNG_V"
      },
      "source": [
        "###  Splitting the Training data into both Training and Validation Sets:\n",
        "\n",
        "- Although this is the Training set, we can still set aside some samples (for instance 20%) of the 1,500 instances we have for Model Validation purposes.\n",
        "\n",
        "\n",
        "- With that Validation Set, we can then select the amount of Uncertainty we are happy with from our Model to use out of sample on other unseen data.\n",
        "\n",
        "\n",
        "- We can then test out how well our decision performs on the Test Set that we put aside earlier."
      ]
    },
    {
      "cell_type": "code",
      "metadata": {
        "id": "YdsmyVAtPXNn"
      },
      "source": [
        "### Split tha dataset in training and validation sets\n",
        "# choose the fraction of your validation data from the training set\n",
        "w = 0.20\n",
        "X_train, X_val, y_train, y_val = train_test_split(X_train, y_train, test_size=w, random_state=0)\n",
        " \n",
        "# Shuffling the training instaces around to randomize the order of inputs to the model:\n",
        "X_train, y_train = shuffle(X_train, y_train)"
      ],
      "execution_count": 16,
      "outputs": []
    },
    {
      "cell_type": "code",
      "metadata": {
        "id": "qXwJwP0iPxhi",
        "colab": {
          "base_uri": "https://localhost:8080/"
        },
        "outputId": "aae5bf0c-0b4c-46f2-e08c-86807eea446d"
      },
      "source": [
        "# print shape of your validation and training set\n",
        "print('\\033[1m' + \"Shapes of training and validation sets\\n\")\n",
        "print(\"Shape of X training set: \",X_train.shape)\n",
        "print(\"Shape of X validation set: \",X_val.shape)\n",
        "print(\"Shape of Y training set: \",y_train.shape)\n",
        "print(\"Shape of Y validation set: \",y_val.shape)"
      ],
      "execution_count": 17,
      "outputs": [
        {
          "output_type": "stream",
          "name": "stdout",
          "text": [
            "\u001b[1mShapes of training and validation sets\n",
            "\n",
            "Shape of X training set:  (3600, 784)\n",
            "Shape of X validation set:  (900, 784)\n",
            "Shape of Y training set:  (3600,)\n",
            "Shape of Y validation set:  (900,)\n"
          ]
        }
      ]
    },
    {
      "cell_type": "markdown",
      "metadata": {
        "id": "aOroY1QoP8DY"
      },
      "source": [
        "### Encoding the Class labels for the Probabilistic ML Model:\n",
        "\n",
        "This is an example:\n",
        "\n",
        "- **[1,0,0]** for first digit\n",
        "- **[0,1,0]** for second digit\n",
        "- **[0,0,1]** for third digit"
      ]
    },
    {
      "cell_type": "markdown",
      "metadata": {
        "id": "rjUaqWTqQIcp"
      },
      "source": [
        "### General-Recipe ML"
      ]
    },
    {
      "cell_type": "code",
      "metadata": {
        "id": "QzgdivxfQNv5",
        "colab": {
          "base_uri": "https://localhost:8080/"
        },
        "outputId": "aad5d622-b65d-4e05-b143-e6dfa37c6a3d"
      },
      "source": [
        "# model\n",
        "model_log = LogisticRegression(random_state=0, max_iter=2000, C=100, solver='lbfgs', multi_class='multinomial').fit(X_train, y_train)\n",
        "\n",
        "# Classification:\n",
        "y_pred_log = model_log.predict(X_val)\n",
        "y_pred_logi_prob = model_log.predict_proba(X_val)\n",
        "\n",
        "# Maybe taking the maximum probability \n",
        "# in any of the classes for each observation\n",
        "prob_classmax = np.max(y_pred_logi_prob,axis=1)\n",
        "\n",
        "# Computing the Accuracy:\n",
        "print(\"Accuracy=\", accuracy_score(y_pred_log,y_val))\n"
      ],
      "execution_count": 18,
      "outputs": [
        {
          "output_type": "stream",
          "name": "stdout",
          "text": [
            "Accuracy= 0.9766666666666667\n"
          ]
        }
      ]
    },
    {
      "cell_type": "code",
      "metadata": {
        "id": "_HJlgNC2KxCl",
        "colab": {
          "base_uri": "https://localhost:8080/"
        },
        "outputId": "c4bd857e-2525-47a0-e3f6-0d34da3cc1f2"
      },
      "source": [
        "np.sort(prob_classmax)"
      ],
      "execution_count": 19,
      "outputs": [
        {
          "output_type": "execute_result",
          "data": {
            "text/plain": [
              "array([0.50650559, 0.52209112, 0.53750392, 0.56644262, 0.57048187,\n",
              "       0.5939932 , 0.61216541, 0.78237063, 0.82594381, 0.8666663 ,\n",
              "       0.87104057, 0.88962188, 0.90579398, 0.90920207, 0.91248529,\n",
              "       0.92254181, 0.93418648, 0.94986289, 0.95092441, 0.9646122 ,\n",
              "       0.96853654, 0.96887717, 0.97113328, 0.97359895, 0.97661218,\n",
              "       0.97684871, 0.97870113, 0.98402968, 0.98664454, 0.98669041,\n",
              "       0.98860721, 0.98928508, 0.99038909, 0.99120958, 0.99175153,\n",
              "       0.99234214, 0.99262902, 0.99303732, 0.99309306, 0.99333315,\n",
              "       0.99365569, 0.99390692, 0.99429382, 0.99445872, 0.99473637,\n",
              "       0.99493355, 0.99518786, 0.99576006, 0.99714279, 0.99720796,\n",
              "       0.99744331, 0.99762844, 0.99770273, 0.99782191, 0.99787408,\n",
              "       0.99800317, 0.9982221 , 0.99831017, 0.99837448, 0.9984471 ,\n",
              "       0.9985399 , 0.99861915, 0.99877278, 0.9987999 , 0.99898872,\n",
              "       0.9990089 , 0.99900967, 0.9990476 , 0.99909875, 0.99910636,\n",
              "       0.99915001, 0.99915539, 0.99917187, 0.99918163, 0.99921657,\n",
              "       0.99922392, 0.99922723, 0.99924875, 0.99928042, 0.99931123,\n",
              "       0.99933282, 0.99937656, 0.99937818, 0.99945847, 0.99951872,\n",
              "       0.99952207, 0.99955477, 0.99957696, 0.99959219, 0.99959879,\n",
              "       0.99960601, 0.99960689, 0.99964709, 0.99964888, 0.99965551,\n",
              "       0.999657  , 0.99965725, 0.99966431, 0.99966641, 0.99967546,\n",
              "       0.99968456, 0.99968626, 0.99975321, 0.99975809, 0.99976029,\n",
              "       0.99976336, 0.99976631, 0.99977755, 0.999782  , 0.99978306,\n",
              "       0.99978395, 0.999791  , 0.99980913, 0.99980963, 0.9998149 ,\n",
              "       0.99981825, 0.99982478, 0.99982918, 0.99982996, 0.99983749,\n",
              "       0.99983958, 0.99984011, 0.99984144, 0.9998513 , 0.99985852,\n",
              "       0.99986229, 0.99986396, 0.99987478, 0.99987606, 0.99988473,\n",
              "       0.99988857, 0.99988928, 0.99989427, 0.99989551, 0.99989842,\n",
              "       0.99990388, 0.99990418, 0.99990688, 0.99991068, 0.999913  ,\n",
              "       0.99991324, 0.99991599, 0.9999173 , 0.99992162, 0.99992435,\n",
              "       0.99992523, 0.99992626, 0.99992804, 0.99992853, 0.99993434,\n",
              "       0.99993681, 0.99993726, 0.99994007, 0.99994024, 0.99994089,\n",
              "       0.99994191, 0.99994823, 0.9999495 , 0.99995039, 0.99995101,\n",
              "       0.99995328, 0.99995389, 0.99995466, 0.99995614, 0.99995675,\n",
              "       0.9999571 , 0.99995728, 0.99995862, 0.99996495, 0.99996498,\n",
              "       0.9999655 , 0.99996657, 0.99996709, 0.99996749, 0.99996765,\n",
              "       0.99996862, 0.99996874, 0.99996882, 0.99996942, 0.99996981,\n",
              "       0.99996987, 0.99997107, 0.99997302, 0.99997327, 0.99997336,\n",
              "       0.99997462, 0.99997474, 0.99997546, 0.99997642, 0.99997675,\n",
              "       0.99997681, 0.99997713, 0.99997723, 0.99997756, 0.9999776 ,\n",
              "       0.99997779, 0.99997788, 0.99997823, 0.99997823, 0.99997825,\n",
              "       0.99997869, 0.9999791 , 0.99997932, 0.99997942, 0.99998052,\n",
              "       0.99998053, 0.99998066, 0.99998071, 0.99998173, 0.99998183,\n",
              "       0.9999819 , 0.99998203, 0.99998236, 0.99998293, 0.99998326,\n",
              "       0.99998336, 0.99998342, 0.99998362, 0.99998561, 0.99998585,\n",
              "       0.99998599, 0.99998608, 0.9999872 , 0.99998722, 0.9999878 ,\n",
              "       0.99998786, 0.99998793, 0.9999883 , 0.99998843, 0.99998868,\n",
              "       0.99999028, 0.99999036, 0.99999054, 0.99999068, 0.99999071,\n",
              "       0.99999084, 0.99999103, 0.99999139, 0.99999139, 0.99999163,\n",
              "       0.99999199, 0.99999205, 0.99999218, 0.99999279, 0.99999291,\n",
              "       0.99999293, 0.99999305, 0.99999309, 0.99999316, 0.99999325,\n",
              "       0.99999333, 0.99999345, 0.99999364, 0.99999382, 0.99999395,\n",
              "       0.999994  , 0.99999414, 0.99999425, 0.99999426, 0.99999434,\n",
              "       0.99999452, 0.99999458, 0.99999458, 0.99999461, 0.99999469,\n",
              "       0.99999473, 0.99999475, 0.99999498, 0.99999499, 0.99999499,\n",
              "       0.9999952 , 0.99999559, 0.99999573, 0.99999577, 0.99999577,\n",
              "       0.9999959 , 0.99999605, 0.99999609, 0.99999612, 0.99999616,\n",
              "       0.99999646, 0.9999965 , 0.99999652, 0.99999661, 0.99999674,\n",
              "       0.99999678, 0.99999686, 0.99999688, 0.99999689, 0.9999969 ,\n",
              "       0.99999704, 0.99999705, 0.99999713, 0.99999718, 0.99999726,\n",
              "       0.99999727, 0.99999732, 0.99999735, 0.9999974 , 0.99999743,\n",
              "       0.9999975 , 0.9999975 , 0.99999763, 0.99999766, 0.99999768,\n",
              "       0.99999777, 0.99999781, 0.99999782, 0.9999979 , 0.99999793,\n",
              "       0.99999796, 0.99999799, 0.99999803, 0.99999805, 0.99999806,\n",
              "       0.99999807, 0.99999814, 0.99999816, 0.99999817, 0.9999983 ,\n",
              "       0.99999834, 0.99999837, 0.99999844, 0.99999847, 0.99999852,\n",
              "       0.99999855, 0.99999857, 0.99999858, 0.99999862, 0.99999865,\n",
              "       0.99999866, 0.99999873, 0.99999875, 0.99999877, 0.99999884,\n",
              "       0.99999885, 0.99999886, 0.99999887, 0.99999888, 0.99999892,\n",
              "       0.99999893, 0.99999894, 0.99999896, 0.99999897, 0.99999899,\n",
              "       0.999999  , 0.99999901, 0.99999902, 0.99999903, 0.99999904,\n",
              "       0.99999908, 0.99999908, 0.99999912, 0.99999913, 0.99999913,\n",
              "       0.99999914, 0.99999916, 0.99999916, 0.99999918, 0.99999919,\n",
              "       0.9999992 , 0.9999992 , 0.99999921, 0.99999923, 0.99999924,\n",
              "       0.99999926, 0.99999927, 0.99999927, 0.99999927, 0.99999928,\n",
              "       0.99999929, 0.9999993 , 0.99999931, 0.99999931, 0.99999936,\n",
              "       0.9999994 , 0.99999942, 0.99999942, 0.99999943, 0.99999947,\n",
              "       0.99999948, 0.99999948, 0.99999949, 0.99999949, 0.99999951,\n",
              "       0.99999951, 0.99999953, 0.99999953, 0.99999953, 0.99999956,\n",
              "       0.99999957, 0.99999958, 0.9999996 , 0.9999996 , 0.99999961,\n",
              "       0.99999962, 0.99999964, 0.99999966, 0.99999966, 0.99999967,\n",
              "       0.99999967, 0.99999968, 0.99999968, 0.99999971, 0.99999971,\n",
              "       0.99999972, 0.99999973, 0.99999973, 0.99999974, 0.99999974,\n",
              "       0.99999974, 0.99999974, 0.99999974, 0.99999975, 0.99999976,\n",
              "       0.99999977, 0.99999977, 0.99999978, 0.99999978, 0.99999978,\n",
              "       0.99999978, 0.99999978, 0.99999979, 0.99999979, 0.9999998 ,\n",
              "       0.9999998 , 0.9999998 , 0.9999998 , 0.99999981, 0.99999982,\n",
              "       0.99999982, 0.99999983, 0.99999983, 0.99999983, 0.99999983,\n",
              "       0.99999984, 0.99999984, 0.99999985, 0.99999985, 0.99999985,\n",
              "       0.99999985, 0.99999985, 0.99999985, 0.99999985, 0.99999986,\n",
              "       0.99999986, 0.99999987, 0.99999987, 0.99999987, 0.99999988,\n",
              "       0.99999988, 0.99999989, 0.99999989, 0.99999989, 0.9999999 ,\n",
              "       0.9999999 , 0.9999999 , 0.9999999 , 0.99999991, 0.99999991,\n",
              "       0.99999991, 0.99999991, 0.99999991, 0.99999991, 0.99999992,\n",
              "       0.99999992, 0.99999992, 0.99999992, 0.99999992, 0.99999992,\n",
              "       0.99999992, 0.99999992, 0.99999993, 0.99999993, 0.99999993,\n",
              "       0.99999993, 0.99999993, 0.99999993, 0.99999993, 0.99999994,\n",
              "       0.99999994, 0.99999994, 0.99999994, 0.99999994, 0.99999994,\n",
              "       0.99999995, 0.99999995, 0.99999995, 0.99999995, 0.99999995,\n",
              "       0.99999995, 0.99999995, 0.99999996, 0.99999996, 0.99999996,\n",
              "       0.99999996, 0.99999996, 0.99999996, 0.99999997, 0.99999997,\n",
              "       0.99999997, 0.99999997, 0.99999997, 0.99999997, 0.99999997,\n",
              "       0.99999997, 0.99999997, 0.99999997, 0.99999997, 0.99999997,\n",
              "       0.99999997, 0.99999997, 0.99999997, 0.99999997, 0.99999997,\n",
              "       0.99999997, 0.99999997, 0.99999998, 0.99999998, 0.99999998,\n",
              "       0.99999998, 0.99999998, 0.99999998, 0.99999998, 0.99999998,\n",
              "       0.99999998, 0.99999998, 0.99999998, 0.99999998, 0.99999998,\n",
              "       0.99999998, 0.99999998, 0.99999998, 0.99999998, 0.99999998,\n",
              "       0.99999998, 0.99999998, 0.99999999, 0.99999999, 0.99999999,\n",
              "       0.99999999, 0.99999999, 0.99999999, 0.99999999, 0.99999999,\n",
              "       0.99999999, 0.99999999, 0.99999999, 0.99999999, 0.99999999,\n",
              "       0.99999999, 0.99999999, 0.99999999, 0.99999999, 0.99999999,\n",
              "       0.99999999, 0.99999999, 0.99999999, 0.99999999, 0.99999999,\n",
              "       0.99999999, 0.99999999, 0.99999999, 0.99999999, 0.99999999,\n",
              "       0.99999999, 0.99999999, 0.99999999, 0.99999999, 0.99999999,\n",
              "       0.99999999, 0.99999999, 0.99999999, 0.99999999, 0.99999999,\n",
              "       0.99999999, 0.99999999, 0.99999999, 0.99999999, 0.99999999,\n",
              "       0.99999999, 1.        , 1.        , 1.        , 1.        ,\n",
              "       1.        , 1.        , 1.        , 1.        , 1.        ,\n",
              "       1.        , 1.        , 1.        , 1.        , 1.        ,\n",
              "       1.        , 1.        , 1.        , 1.        , 1.        ,\n",
              "       1.        , 1.        , 1.        , 1.        , 1.        ,\n",
              "       1.        , 1.        , 1.        , 1.        , 1.        ,\n",
              "       1.        , 1.        , 1.        , 1.        , 1.        ,\n",
              "       1.        , 1.        , 1.        , 1.        , 1.        ,\n",
              "       1.        , 1.        , 1.        , 1.        , 1.        ,\n",
              "       1.        , 1.        , 1.        , 1.        , 1.        ,\n",
              "       1.        , 1.        , 1.        , 1.        , 1.        ,\n",
              "       1.        , 1.        , 1.        , 1.        , 1.        ,\n",
              "       1.        , 1.        , 1.        , 1.        , 1.        ,\n",
              "       1.        , 1.        , 1.        , 1.        , 1.        ,\n",
              "       1.        , 1.        , 1.        , 1.        , 1.        ,\n",
              "       1.        , 1.        , 1.        , 1.        , 1.        ,\n",
              "       1.        , 1.        , 1.        , 1.        , 1.        ,\n",
              "       1.        , 1.        , 1.        , 1.        , 1.        ,\n",
              "       1.        , 1.        , 1.        , 1.        , 1.        ,\n",
              "       1.        , 1.        , 1.        , 1.        , 1.        ,\n",
              "       1.        , 1.        , 1.        , 1.        , 1.        ,\n",
              "       1.        , 1.        , 1.        , 1.        , 1.        ,\n",
              "       1.        , 1.        , 1.        , 1.        , 1.        ,\n",
              "       1.        , 1.        , 1.        , 1.        , 1.        ,\n",
              "       1.        , 1.        , 1.        , 1.        , 1.        ,\n",
              "       1.        , 1.        , 1.        , 1.        , 1.        ,\n",
              "       1.        , 1.        , 1.        , 1.        , 1.        ,\n",
              "       1.        , 1.        , 1.        , 1.        , 1.        ,\n",
              "       1.        , 1.        , 1.        , 1.        , 1.        ,\n",
              "       1.        , 1.        , 1.        , 1.        , 1.        ,\n",
              "       1.        , 1.        , 1.        , 1.        , 1.        ,\n",
              "       1.        , 1.        , 1.        , 1.        , 1.        ,\n",
              "       1.        , 1.        , 1.        , 1.        , 1.        ,\n",
              "       1.        , 1.        , 1.        , 1.        , 1.        ,\n",
              "       1.        , 1.        , 1.        , 1.        , 1.        ,\n",
              "       1.        , 1.        , 1.        , 1.        , 1.        ,\n",
              "       1.        , 1.        , 1.        , 1.        , 1.        ,\n",
              "       1.        , 1.        , 1.        , 1.        , 1.        ,\n",
              "       1.        , 1.        , 1.        , 1.        , 1.        ,\n",
              "       1.        , 1.        , 1.        , 1.        , 1.        ,\n",
              "       1.        , 1.        , 1.        , 1.        , 1.        ,\n",
              "       1.        , 1.        , 1.        , 1.        , 1.        ,\n",
              "       1.        , 1.        , 1.        , 1.        , 1.        ,\n",
              "       1.        , 1.        , 1.        , 1.        , 1.        ,\n",
              "       1.        , 1.        , 1.        , 1.        , 1.        ,\n",
              "       1.        , 1.        , 1.        , 1.        , 1.        ,\n",
              "       1.        , 1.        , 1.        , 1.        , 1.        ,\n",
              "       1.        , 1.        , 1.        , 1.        , 1.        ,\n",
              "       1.        , 1.        , 1.        , 1.        , 1.        ,\n",
              "       1.        , 1.        , 1.        , 1.        , 1.        ,\n",
              "       1.        , 1.        , 1.        , 1.        , 1.        ,\n",
              "       1.        , 1.        , 1.        , 1.        , 1.        ,\n",
              "       1.        , 1.        , 1.        , 1.        , 1.        ,\n",
              "       1.        , 1.        , 1.        , 1.        , 1.        ,\n",
              "       1.        , 1.        , 1.        , 1.        , 1.        ,\n",
              "       1.        , 1.        , 1.        , 1.        , 1.        ,\n",
              "       1.        , 1.        , 1.        , 1.        , 1.        ,\n",
              "       1.        , 1.        , 1.        , 1.        , 1.        ,\n",
              "       1.        , 1.        , 1.        , 1.        , 1.        ,\n",
              "       1.        , 1.        , 1.        , 1.        , 1.        ,\n",
              "       1.        , 1.        , 1.        , 1.        , 1.        ,\n",
              "       1.        , 1.        , 1.        , 1.        , 1.        ,\n",
              "       1.        , 1.        , 1.        , 1.        , 1.        ,\n",
              "       1.        , 1.        , 1.        , 1.        , 1.        ])"
            ]
          },
          "metadata": {},
          "execution_count": 19
        }
      ]
    },
    {
      "cell_type": "code",
      "metadata": {
        "colab": {
          "base_uri": "https://localhost:8080/"
        },
        "id": "sne8ytZCL6t3",
        "outputId": "7f97b891-41e8-4d80-b096-eac7828363c5"
      },
      "source": [
        "# probability of general-recipe logistic regression in wrong instances\n",
        "prob_classmax[y_pred_log!=y_val]"
      ],
      "execution_count": 22,
      "outputs": [
        {
          "output_type": "execute_result",
          "data": {
            "text/plain": [
              "array([0.99744331, 0.52209112, 0.99966431, 0.8666663 , 0.97684871,\n",
              "       0.87104057, 0.99787408, 0.50650559, 0.98860721, 0.90920207,\n",
              "       0.99999999, 0.99473637, 0.78237063, 0.99333315, 0.98669041,\n",
              "       0.91248529, 0.88962188, 0.99922392, 1.        , 0.99998342,\n",
              "       0.82594381])"
            ]
          },
          "metadata": {},
          "execution_count": 22
        }
      ]
    },
    {
      "cell_type": "code",
      "metadata": {
        "colab": {
          "base_uri": "https://localhost:8080/"
        },
        "id": "aWEhbnx3L6_P",
        "outputId": "3023573d-1026-44fd-c95f-d36e520ccc14"
      },
      "source": [
        "np.array(y_pred_log)"
      ],
      "execution_count": 23,
      "outputs": [
        {
          "output_type": "execute_result",
          "data": {
            "text/plain": [
              "array([1., 2., 2., 2., 2., 2., 1., 1., 1., 1., 2., 6., 2., 1., 6., 2., 1.,\n",
              "       6., 2., 2., 6., 2., 2., 2., 6., 2., 2., 1., 1., 1., 2., 6., 1., 1.,\n",
              "       1., 1., 6., 1., 1., 1., 6., 1., 1., 6., 2., 1., 6., 2., 2., 2., 6.,\n",
              "       2., 6., 2., 1., 6., 1., 6., 1., 6., 1., 6., 6., 1., 2., 6., 1., 6.,\n",
              "       1., 6., 1., 6., 1., 6., 2., 2., 2., 2., 1., 1., 1., 6., 6., 2., 1.,\n",
              "       6., 1., 1., 2., 2., 6., 6., 2., 6., 6., 1., 2., 1., 1., 6., 2., 2.,\n",
              "       1., 2., 6., 6., 6., 1., 2., 2., 2., 6., 6., 6., 2., 1., 2., 6., 2.,\n",
              "       6., 6., 2., 2., 2., 2., 6., 1., 6., 2., 6., 6., 2., 2., 1., 6., 6.,\n",
              "       1., 6., 1., 1., 6., 6., 2., 2., 1., 1., 2., 6., 6., 6., 6., 2., 1.,\n",
              "       6., 1., 6., 2., 1., 1., 6., 2., 1., 1., 1., 6., 6., 1., 6., 1., 2.,\n",
              "       1., 2., 6., 2., 2., 2., 2., 6., 1., 1., 1., 2., 1., 2., 2., 6., 1.,\n",
              "       1., 2., 2., 1., 6., 1., 2., 1., 6., 1., 1., 2., 1., 6., 2., 1., 1.,\n",
              "       1., 2., 2., 2., 1., 1., 2., 1., 2., 1., 2., 2., 1., 1., 1., 1., 6.,\n",
              "       1., 6., 2., 1., 2., 2., 2., 2., 1., 6., 1., 2., 6., 1., 2., 1., 2.,\n",
              "       2., 2., 1., 2., 2., 6., 1., 1., 2., 2., 1., 6., 1., 1., 1., 1., 1.,\n",
              "       2., 6., 2., 2., 6., 1., 1., 2., 2., 2., 6., 1., 6., 6., 6., 1., 2.,\n",
              "       2., 2., 6., 1., 1., 6., 1., 1., 1., 1., 2., 2., 1., 2., 2., 2., 1.,\n",
              "       6., 1., 6., 6., 6., 2., 2., 6., 6., 2., 1., 1., 2., 6., 2., 2., 6.,\n",
              "       2., 1., 1., 1., 2., 2., 1., 6., 6., 2., 1., 6., 1., 2., 6., 1., 6.,\n",
              "       1., 2., 1., 1., 1., 1., 6., 1., 1., 1., 1., 2., 1., 2., 1., 6., 1.,\n",
              "       6., 1., 2., 2., 6., 6., 2., 1., 2., 2., 1., 2., 6., 2., 1., 6., 2.,\n",
              "       2., 1., 6., 1., 1., 2., 1., 2., 6., 6., 1., 6., 6., 1., 6., 6., 1.,\n",
              "       1., 2., 6., 1., 6., 6., 6., 2., 1., 1., 1., 1., 6., 6., 1., 1., 1.,\n",
              "       6., 1., 6., 2., 6., 1., 6., 2., 2., 6., 2., 1., 6., 1., 2., 6., 6.,\n",
              "       2., 6., 1., 1., 2., 6., 6., 6., 1., 6., 2., 6., 2., 6., 1., 1., 2.,\n",
              "       2., 2., 6., 1., 6., 6., 1., 1., 2., 6., 1., 2., 6., 2., 1., 2., 2.,\n",
              "       2., 2., 6., 1., 2., 6., 1., 2., 6., 6., 6., 6., 6., 6., 2., 6., 2.,\n",
              "       6., 1., 6., 2., 6., 6., 2., 1., 6., 1., 2., 1., 6., 6., 6., 2., 2.,\n",
              "       2., 2., 2., 2., 2., 1., 1., 1., 2., 2., 6., 6., 6., 1., 2., 1., 1.,\n",
              "       6., 6., 2., 1., 6., 6., 2., 2., 6., 2., 1., 2., 6., 2., 2., 6., 1.,\n",
              "       6., 6., 2., 2., 6., 1., 6., 6., 1., 6., 1., 2., 6., 1., 6., 1., 6.,\n",
              "       6., 2., 2., 2., 6., 2., 1., 6., 1., 6., 2., 1., 6., 6., 1., 6., 6.,\n",
              "       2., 2., 1., 6., 1., 2., 1., 6., 1., 2., 2., 6., 6., 2., 6., 1., 1.,\n",
              "       1., 1., 1., 1., 6., 6., 6., 2., 1., 2., 2., 2., 6., 2., 2., 6., 6.,\n",
              "       1., 1., 6., 2., 1., 6., 1., 2., 2., 1., 2., 6., 6., 1., 6., 2., 6.,\n",
              "       6., 2., 1., 1., 6., 2., 1., 2., 6., 2., 6., 1., 1., 2., 1., 2., 2.,\n",
              "       1., 1., 1., 6., 2., 1., 1., 1., 6., 2., 2., 2., 6., 2., 6., 6., 2.,\n",
              "       1., 1., 6., 2., 1., 6., 6., 6., 2., 2., 2., 6., 6., 2., 1., 6., 1.,\n",
              "       1., 6., 2., 6., 2., 6., 2., 6., 1., 6., 1., 2., 6., 6., 2., 6., 2.,\n",
              "       2., 2., 6., 6., 2., 6., 6., 2., 2., 6., 2., 1., 6., 2., 1., 6., 1.,\n",
              "       1., 1., 1., 2., 2., 1., 1., 1., 6., 1., 2., 2., 1., 6., 1., 1., 2.,\n",
              "       1., 1., 2., 6., 1., 1., 2., 2., 1., 6., 2., 1., 1., 1., 2., 1., 2.,\n",
              "       2., 1., 6., 6., 2., 1., 1., 2., 1., 6., 2., 2., 2., 6., 6., 1., 6.,\n",
              "       1., 6., 6., 6., 2., 1., 2., 2., 6., 2., 6., 1., 2., 6., 6., 2., 2.,\n",
              "       6., 2., 1., 1., 1., 6., 1., 1., 1., 1., 6., 2., 1., 6., 1., 2., 2.,\n",
              "       2., 1., 1., 1., 2., 6., 6., 6., 2., 1., 6., 2., 2., 2., 1., 6., 1.,\n",
              "       6., 6., 1., 6., 6., 6., 1., 2., 1., 2., 6., 6., 2., 2., 2., 6., 2.,\n",
              "       6., 2., 1., 1., 2., 6., 2., 2., 2., 6., 6., 1., 1., 1., 6., 6., 1.,\n",
              "       2., 1., 2., 2., 2., 2., 6., 1., 6., 6., 6., 6., 6., 2., 2., 1., 1.,\n",
              "       2., 1., 6., 2., 6., 1., 2., 6., 1., 1., 2., 1., 1., 2., 2., 2., 2.,\n",
              "       6., 1., 6., 1., 2., 6., 6., 6., 1., 6., 2., 6., 1., 6., 6., 2., 6.,\n",
              "       2., 6., 1., 6., 2., 6., 2., 6., 6., 1., 2., 6., 2., 1., 2., 6., 2.,\n",
              "       1., 1., 6., 6., 2., 1., 2., 6., 1., 2., 6., 6., 2., 6., 1., 1.])"
            ]
          },
          "metadata": {},
          "execution_count": 23
        }
      ]
    },
    {
      "cell_type": "markdown",
      "metadata": {
        "id": "3uQG6JsOQxH5"
      },
      "source": [
        "### Probabilistic Multinomial Logistic Regression:"
      ]
    },
    {
      "cell_type": "markdown",
      "metadata": {
        "id": "irlmUNw7Q5YL"
      },
      "source": [
        "The Multinomial Logistic Regression has some parameters:\n",
        "\n",
        "- $\\alpha$, which is the intercept term:\n",
        "\n",
        "- $\\beta$, which is a vector of coefficients which give a weighting to the importance of each input feature:\n"
      ]
    },
    {
      "cell_type": "code",
      "metadata": {
        "id": "1o7mbKWmRhz5"
      },
      "source": [
        "import sklearn.preprocessing\n",
        "## We use LabelBinarizer to transfor classes into counts\n",
        "# neg_label=0, pos_label=1 \n",
        "y_2_bin = sklearn.preprocessing.LabelBinarizer().fit_transform(y_train.reshape(-1,1))\n",
        "nf = X_train.shape[1]\n",
        "# number of classes\n",
        "nc = len(classes)\n",
        "# floatX = float32\n",
        "floatX = tt.config.floatX\n",
        "\n",
        "init_b = np.random.randn(nf, nc-1).astype(floatX)\n",
        "init_a = np.random.randn(nc-1).astype(floatX)\n",
        "\n",
        "\n",
        "with pm.Model() as multi_logistic:\n",
        "    # Prior\n",
        "    β = pm.Normal('beta', 0, sigma=100, shape=(nf, nc-1), testval=init_b)\n",
        "    α = pm.Normal('alpha', 0, sigma=100, shape=(nc-1,), testval=init_a)\n",
        "    \n",
        "    # we need to consider nc-1 features because the model is not identifiable\n",
        "    # the softmax turns a vector into a probability that sums up to one\n",
        "    # therefore we add zeros to go back to dimension nc\n",
        "    # so that softmax returns a vector of dimension nc\n",
        "    β1  = tt.tensor.concatenate([np.zeros((nf,1)),β ],axis=1)\n",
        "    α1  = tt.tensor.concatenate([[0],α ],)\n",
        "    \n",
        "    # Likelihood\n",
        "    mu = pm.math.matrix_dot(X_train,β1) + α1\n",
        "    # It doesn't work if the problem is binary\n",
        "    p = tt.tensor.nnet.nnet.softmax(mu)\n",
        "    observed = pm.Multinomial('likelihood', p=p, n=1, observed=y_2_bin)"
      ],
      "execution_count": 24,
      "outputs": []
    },
    {
      "cell_type": "code",
      "metadata": {
        "colab": {
          "base_uri": "https://localhost:8080/"
        },
        "id": "0bstsjdAYy4v",
        "outputId": "12982e40-ad91-4569-defd-2c450d5d338e"
      },
      "source": [
        "y_2_bin"
      ],
      "execution_count": 25,
      "outputs": [
        {
          "output_type": "execute_result",
          "data": {
            "text/plain": [
              "array([[0, 1, 0],\n",
              "       [0, 1, 0],\n",
              "       [0, 0, 1],\n",
              "       ...,\n",
              "       [1, 0, 0],\n",
              "       [0, 0, 1],\n",
              "       [0, 1, 0]])"
            ]
          },
          "metadata": {},
          "execution_count": 25
        }
      ]
    },
    {
      "cell_type": "code",
      "metadata": {
        "id": "aj6Uzc05Rhtr",
        "colab": {
          "base_uri": "https://localhost:8080/",
          "height": 91
        },
        "outputId": "40d45b16-d2a7-42b2-d840-395306b8c4b7"
      },
      "source": [
        "with multi_logistic:\n",
        "   approx = pm.fit(10000, method='advi')"
      ],
      "execution_count": 26,
      "outputs": [
        {
          "output_type": "stream",
          "name": "stderr",
          "text": [
            "WARNING (theano.tensor.blas): We did not find a dynamic library in the library_dir of the library we use for blas. If you use ATLAS, make sure to compile it with dynamics library.\n"
          ]
        },
        {
          "output_type": "display_data",
          "data": {
            "text/html": [
              "\n",
              "    <div>\n",
              "        <style>\n",
              "            /* Turns off some styling */\n",
              "            progress {\n",
              "                /* gets rid of default border in Firefox and Opera. */\n",
              "                border: none;\n",
              "                /* Needs to be in here for Safari polyfill so background images work as expected. */\n",
              "                background-size: auto;\n",
              "            }\n",
              "            .progress-bar-interrupted, .progress-bar-interrupted::-webkit-progress-bar {\n",
              "                background: #F44336;\n",
              "            }\n",
              "        </style>\n",
              "      <progress value='10000' class='' max='10000' style='width:300px; height:20px; vertical-align: middle;'></progress>\n",
              "      100.00% [10000/10000 03:03<00:00 Average Loss = 6,984.8]\n",
              "    </div>\n",
              "    "
            ],
            "text/plain": [
              "<IPython.core.display.HTML object>"
            ]
          },
          "metadata": {}
        },
        {
          "output_type": "stream",
          "name": "stderr",
          "text": [
            "Finished [100%]: Average Loss = 6,983.6\n"
          ]
        }
      ]
    },
    {
      "cell_type": "code",
      "metadata": {
        "id": "WNmJvYc4Rho7",
        "colab": {
          "base_uri": "https://localhost:8080/",
          "height": 638
        },
        "outputId": "0f1aa8bd-943d-4f31-8ac1-5c74628cde22"
      },
      "source": [
        "# Plot the average loss over all iterations\n",
        "plt.rcParams['figure.figsize'] = [15,10]\n",
        "plt.plot(approx.hist)\n",
        "plt.title('Avg. loss over all iterations')\n",
        "plt.ylabel(\"Loss\")\n",
        "plt.xlabel(\"# iterations\")"
      ],
      "execution_count": 30,
      "outputs": [
        {
          "output_type": "execute_result",
          "data": {
            "text/plain": [
              "Text(0.5, 0, '# iterations')"
            ]
          },
          "metadata": {},
          "execution_count": 30
        },
        {
          "output_type": "display_data",
          "data": {
            "image/png": "[encoded data removed]",
            "text/plain": [
              "<Figure size 1080x720 with 1 Axes>"
            ]
          },
          "metadata": {
            "needs_background": "light"
          }
        }
      ]
    },
    {
      "cell_type": "code",
      "metadata": {
        "id": "K40L4-djaVy6"
      },
      "source": [
        "dd = 300\n",
        "posterior = approx.sample(draws=dd)"
      ],
      "execution_count": 31,
      "outputs": []
    },
    {
      "cell_type": "code",
      "metadata": {
        "id": "XXh5GXJsRhmr",
        "colab": {
          "base_uri": "https://localhost:8080/",
          "height": 297
        },
        "outputId": "25d2e275-0f05-4d2e-8d37-f9fe5ee0fd6a"
      },
      "source": [
        "## The softmax function transforms each element of a collection by computing the exponential\n",
        "#  of each element divided by the sum of the exponentials of all the elements.\n",
        "from scipy.special import softmax\n",
        "\n",
        "#select an image in the test set\n",
        "i = 10 \n",
        "#i = random.randint(0, dd)\n",
        "\n",
        "#select a sample in the posterior\n",
        "s = 100 \n",
        "#s = random.randint(0, dd)\n",
        "\n",
        "\n",
        "beta  = np.hstack([np.zeros((nf,1)),  posterior['beta'][s,:] ])\n",
        "alpha = np.hstack([[0],  posterior['alpha'][s,:] ])\n",
        "image = X_val[i,:].reshape(28,28)\n",
        "plt.figure(figsize=(3,3))\n",
        "plt.imshow(image,cmap=\"Greys_r\")\n",
        "np.set_printoptions(suppress=True)\n",
        "\n",
        "print(\"test image #\" + str(i))\n",
        "print(\"posterior sample #\" + str(s))\n",
        "print(\"true class=\", y_val[i])\n",
        "print(\"classes: \" + str(classes))\n",
        "print(\"estimated prob=\",softmax((np.array([X_val[i,:].dot(beta) + alpha])))[0,:])"
      ],
      "execution_count": 39,
      "outputs": [
        {
          "output_type": "stream",
          "name": "stdout",
          "text": [
            "test image #10\n",
            "posterior sample #100\n",
            "true class= 2.0\n",
            "classes: [1, 2, 6]\n",
            "estimated prob= [0. 1. 0.]\n"
          ]
        },
        {
          "output_type": "display_data",
          "data": {
            "image/png": "[encoded data removed]",
            "text/plain": [
              "<Figure size 216x216 with 1 Axes>"
            ]
          },
          "metadata": {
            "needs_background": "light"
          }
        }
      ]
    },
    {
      "cell_type": "code",
      "metadata": {
        "id": "_7KGFaCiJel-"
      },
      "source": [
        "# Bayesian prediction\n",
        "# return the class that has the highest posterior probability\n",
        "y_pred_Bayesian=[]\n",
        "\n",
        "for i in range(X_val.shape[0]):\n",
        "    val=np.zeros((1,len(classes)))\n",
        "    \n",
        "    for s in range(posterior['beta'].shape[0]):\n",
        "        beta = np.hstack([np.zeros((nf,1)),  posterior['beta'][s,:] ])\n",
        "        alpha = np.hstack([[0],  posterior['alpha'][s,:] ])     \n",
        "        val = val + softmax((np.array([X_val[i,:].dot(beta) + alpha])))\n",
        "    \n",
        "    mean_probability = val/posterior['beta'].shape[0]\n",
        "    y_pred_Bayesian.append( np.argmax(mean_probability))"
      ],
      "execution_count": 42,
      "outputs": []
    },
    {
      "cell_type": "code",
      "metadata": {
        "colab": {
          "base_uri": "https://localhost:8080/"
        },
        "id": "0ld1oRirc_Yv",
        "outputId": "857f4c65-2c50-4005-d9b3-e1f6d6f00919"
      },
      "source": [
        "print(y_pred_Bayesian)"
      ],
      "execution_count": 43,
      "outputs": [
        {
          "output_type": "stream",
          "name": "stdout",
          "text": [
            "[0, 1, 1, 2, 1, 0, 0, 0, 0, 0, 1, 2, 1, 0, 2, 1, 0, 2, 1, 1, 1, 1, 1, 1, 2, 1, 1, 0, 0, 0, 1, 2, 0, 0, 0, 0, 2, 0, 0, 0, 2, 0, 0, 2, 1, 0, 1, 1, 1, 1, 2, 1, 2, 1, 0, 2, 0, 2, 0, 2, 1, 1, 2, 0, 0, 2, 0, 2, 0, 2, 0, 2, 0, 2, 1, 1, 1, 1, 0, 0, 0, 2, 2, 1, 0, 2, 0, 0, 1, 1, 2, 2, 1, 2, 2, 0, 1, 0, 0, 2, 1, 1, 0, 1, 2, 2, 2, 0, 1, 1, 1, 2, 2, 2, 1, 0, 1, 2, 1, 2, 2, 1, 1, 1, 1, 2, 0, 2, 1, 2, 2, 1, 1, 0, 2, 2, 0, 2, 0, 0, 2, 2, 1, 1, 0, 0, 1, 2, 2, 2, 2, 1, 0, 2, 0, 2, 1, 1, 0, 2, 1, 0, 0, 0, 2, 2, 0, 2, 0, 1, 0, 1, 2, 1, 1, 1, 1, 2, 0, 0, 0, 1, 0, 1, 1, 2, 0, 0, 1, 1, 0, 2, 0, 1, 0, 2, 0, 0, 1, 0, 2, 1, 0, 0, 0, 1, 1, 1, 0, 1, 1, 0, 1, 0, 1, 1, 0, 0, 0, 0, 2, 0, 2, 1, 0, 1, 1, 1, 1, 0, 1, 0, 1, 2, 0, 1, 0, 1, 1, 1, 0, 1, 1, 2, 0, 0, 1, 1, 0, 2, 0, 0, 0, 0, 0, 1, 2, 1, 1, 2, 0, 0, 1, 1, 1, 2, 0, 2, 2, 2, 0, 1, 1, 2, 2, 0, 0, 2, 0, 0, 0, 0, 1, 1, 0, 1, 1, 1, 0, 2, 0, 2, 2, 1, 2, 1, 2, 2, 1, 0, 0, 1, 2, 1, 1, 2, 1, 0, 0, 0, 1, 2, 0, 2, 2, 1, 0, 2, 0, 1, 2, 0, 2, 0, 1, 0, 0, 0, 0, 2, 0, 0, 0, 0, 1, 0, 1, 0, 2, 0, 2, 0, 1, 1, 2, 2, 1, 0, 1, 1, 0, 1, 2, 1, 0, 2, 2, 1, 0, 2, 0, 0, 1, 0, 1, 2, 2, 0, 2, 2, 0, 2, 2, 0, 0, 1, 2, 0, 2, 2, 2, 1, 0, 0, 0, 0, 2, 2, 0, 0, 0, 2, 0, 2, 1, 2, 0, 2, 1, 1, 2, 1, 0, 2, 0, 1, 2, 2, 1, 2, 0, 0, 1, 2, 2, 2, 0, 2, 1, 2, 1, 2, 0, 0, 1, 1, 1, 2, 0, 2, 2, 0, 0, 1, 2, 0, 1, 2, 1, 0, 1, 1, 1, 1, 2, 0, 1, 2, 0, 1, 2, 2, 2, 2, 2, 2, 1, 2, 2, 2, 0, 2, 1, 2, 2, 1, 0, 2, 0, 1, 0, 2, 2, 2, 1, 1, 1, 2, 1, 2, 1, 0, 0, 0, 1, 1, 2, 2, 2, 0, 1, 0, 1, 2, 2, 1, 0, 2, 2, 1, 1, 2, 1, 0, 1, 2, 1, 1, 2, 0, 2, 2, 1, 1, 2, 0, 2, 2, 0, 2, 0, 1, 2, 0, 2, 0, 2, 2, 1, 1, 1, 2, 1, 0, 2, 0, 2, 1, 0, 2, 2, 0, 2, 2, 1, 1, 0, 2, 0, 1, 0, 2, 0, 1, 1, 2, 2, 1, 2, 0, 0, 0, 0, 0, 0, 2, 2, 2, 1, 0, 1, 1, 1, 2, 1, 1, 2, 2, 0, 0, 2, 1, 0, 2, 0, 1, 1, 0, 1, 2, 2, 0, 2, 1, 2, 2, 1, 0, 0, 2, 1, 0, 1, 2, 1, 2, 0, 0, 1, 0, 1, 1, 0, 0, 0, 2, 1, 0, 0, 0, 2, 1, 1, 1, 2, 1, 2, 2, 1, 0, 0, 2, 1, 0, 2, 2, 2, 1, 1, 1, 2, 2, 1, 0, 2, 0, 0, 2, 1, 2, 1, 2, 1, 2, 0, 2, 1, 1, 2, 2, 1, 2, 1, 1, 1, 2, 2, 1, 1, 2, 1, 1, 2, 2, 0, 2, 1, 0, 2, 0, 0, 0, 0, 1, 1, 0, 0, 0, 2, 0, 1, 1, 0, 1, 0, 0, 1, 0, 0, 1, 2, 0, 1, 1, 1, 0, 2, 1, 0, 0, 0, 1, 0, 1, 1, 0, 2, 2, 1, 0, 0, 1, 0, 2, 1, 1, 1, 2, 2, 0, 2, 0, 2, 2, 2, 1, 0, 1, 1, 2, 1, 2, 0, 1, 2, 2, 1, 1, 2, 1, 0, 0, 0, 2, 0, 0, 0, 0, 2, 1, 0, 2, 0, 1, 1, 1, 0, 0, 0, 1, 2, 2, 2, 1, 0, 2, 1, 1, 1, 0, 2, 0, 2, 2, 0, 2, 2, 2, 0, 1, 0, 1, 2, 2, 1, 0, 1, 2, 1, 2, 1, 0, 0, 1, 2, 1, 1, 1, 2, 2, 0, 0, 0, 2, 2, 0, 1, 0, 1, 1, 1, 1, 2, 0, 2, 2, 2, 2, 2, 2, 1, 0, 0, 1, 0, 2, 1, 2, 0, 1, 2, 0, 0, 1, 0, 0, 1, 1, 1, 1, 2, 0, 2, 0, 1, 2, 2, 2, 0, 2, 1, 2, 0, 2, 2, 1, 2, 1, 2, 0, 2, 1, 2, 1, 2, 2, 0, 1, 2, 1, 0, 1, 2, 1, 0, 0, 2, 2, 1, 0, 1, 2, 0, 1, 2, 2, 1, 2, 0, 0]\n"
          ]
        }
      ]
    },
    {
      "cell_type": "code",
      "metadata": {
        "colab": {
          "base_uri": "https://localhost:8080/"
        },
        "id": "mCIlCq_RcUXi",
        "outputId": "1f0f2f6c-84d3-4a30-9e13-27f9821dd9b6"
      },
      "source": [
        "# recall the classes we are using\n",
        "print(classes)"
      ],
      "execution_count": 44,
      "outputs": [
        {
          "output_type": "stream",
          "name": "stdout",
          "text": [
            "[1, 2, 6]\n"
          ]
        }
      ]
    },
    {
      "cell_type": "code",
      "metadata": {
        "id": "3h2y2aY1Je9B",
        "colab": {
          "base_uri": "https://localhost:8080/"
        },
        "outputId": "3edc7269-59cb-4337-bed4-8bdcfef3fca8"
      },
      "source": [
        "# prediction array (using classes)\n",
        "n = 100 # Just an sample\n",
        "np.array(classes)[y_pred_Bayesian[0:n]]"
      ],
      "execution_count": 45,
      "outputs": [
        {
          "output_type": "execute_result",
          "data": {
            "text/plain": [
              "array([1, 2, 2, 6, 2, 1, 1, 1, 1, 1, 2, 6, 2, 1, 6, 2, 1, 6, 2, 2, 2, 2,\n",
              "       2, 2, 6, 2, 2, 1, 1, 1, 2, 6, 1, 1, 1, 1, 6, 1, 1, 1, 6, 1, 1, 6,\n",
              "       2, 1, 2, 2, 2, 2, 6, 2, 6, 2, 1, 6, 1, 6, 1, 6, 2, 2, 6, 1, 1, 6,\n",
              "       1, 6, 1, 6, 1, 6, 1, 6, 2, 2, 2, 2, 1, 1, 1, 6, 6, 2, 1, 6, 1, 1,\n",
              "       2, 2, 6, 6, 2, 6, 6, 1, 2, 1, 1, 6])"
            ]
          },
          "metadata": {},
          "execution_count": 45
        }
      ]
    },
    {
      "cell_type": "code",
      "metadata": {
        "id": "c5yGYG9lJfLF",
        "colab": {
          "base_uri": "https://localhost:8080/"
        },
        "outputId": "2b753d98-c42a-4fe3-eef0-a1db3d67b5bd"
      },
      "source": [
        "# using validation: y_val\n",
        "print(\"Accuracy=\", accuracy_score(np.array(classes)[y_pred_Bayesian], y_val))"
      ],
      "execution_count": 46,
      "outputs": [
        {
          "output_type": "stream",
          "name": "stdout",
          "text": [
            "Accuracy= 0.9722222222222222\n"
          ]
        }
      ]
    },
    {
      "cell_type": "markdown",
      "metadata": {
        "id": "nF-DZEujdW4b"
      },
      "source": [
        "## Selecting different instances\n"
      ]
    },
    {
      "cell_type": "code",
      "metadata": {
        "id": "V5Ra6BoXJqy6"
      },
      "source": [
        "y_predB=[]\n",
        "\n",
        "for i in range(X_val.shape[0]):\n",
        "    #print(i)\n",
        "    val=[]\n",
        "\n",
        "    for s in range(posterior['beta'].shape[0]):\n",
        "        beta = np.hstack([np.zeros((nf,1)),  posterior['beta'][s,:] ])\n",
        "        alpha = np.hstack([[0],  posterior['alpha'][s,:] ])\n",
        "        val.append(softmax((np.array([X_val[i,:].dot(beta) + alpha])))[0,:])\n",
        "\n",
        "    #mean probability\n",
        "    valmean = np.mean(val,axis=0)\n",
        "    #class with maximum mean probability\n",
        "    classmax = np.argmax(valmean)\n",
        "    #ranks\n",
        "    ranks = np.array(val.copy())\n",
        "    ranks   = ranks  *0 #init\n",
        "    colmax = np.argmax(np.array(val),axis=1)\n",
        "    ranks[np.arange(0,len(colmax)),colmax]=1\n",
        "     \n",
        "    y_predB.append( [classmax, valmean[classmax], np.std(ranks,axis=0)[classmax]])\n",
        "\n",
        "    \n",
        "y_predB= np.array(y_predB)"
      ],
      "execution_count": 49,
      "outputs": []
    },
    {
      "cell_type": "code",
      "metadata": {
        "colab": {
          "base_uri": "https://localhost:8080/"
        },
        "id": "rLHUOEJrd_eL",
        "outputId": "a56434f9-3346-45cc-c386-e2dd9e19ad56"
      },
      "source": [
        "# prediction array\n",
        "mm = 10\n",
        "y_predB[0:mm,:]"
      ],
      "execution_count": 50,
      "outputs": [
        {
          "output_type": "execute_result",
          "data": {
            "text/plain": [
              "array([[0.        , 0.99996266, 0.        ],\n",
              "       [1.        , 0.99999993, 0.        ],\n",
              "       [1.        , 0.99999999, 0.        ],\n",
              "       [2.        , 0.61157013, 0.48774994],\n",
              "       [1.        , 0.99956058, 0.        ],\n",
              "       [0.        , 0.52698053, 0.49888765],\n",
              "       [0.        , 0.99890727, 0.        ],\n",
              "       [0.        , 0.99232923, 0.05763872],\n",
              "       [0.        , 0.99050595, 0.08137704],\n",
              "       [0.        , 0.98391904, 0.09949874]])"
            ]
          },
          "metadata": {},
          "execution_count": 50
        }
      ]
    },
    {
      "cell_type": "code",
      "metadata": {
        "colab": {
          "base_uri": "https://localhost:8080/"
        },
        "id": "jY6LSjpHeEHF",
        "outputId": "f269e93d-18f6-4ee7-f75a-21f08ab61307"
      },
      "source": [
        "#sorting in descending order\n",
        "difficult = np.argsort(-y_predB[:,2])\n",
        "y_predB[difficult[0:mm],:]"
      ],
      "execution_count": 51,
      "outputs": [
        {
          "output_type": "execute_result",
          "data": {
            "text/plain": [
              "array([[1.        , 0.51235573, 0.5       ],\n",
              "       [2.        , 0.5008416 , 0.49995555],\n",
              "       [0.        , 0.47477286, 0.49959984],\n",
              "       [1.        , 0.50724712, 0.49959984],\n",
              "       [1.        , 0.46367783, 0.49909919],\n",
              "       [1.        , 0.46549615, 0.49888765],\n",
              "       [0.        , 0.52698053, 0.49888765],\n",
              "       [2.        , 0.53433481, 0.49839743],\n",
              "       [1.        , 0.53476492, 0.49839743],\n",
              "       [2.        , 0.45775841, 0.49781746]])"
            ]
          },
          "metadata": {},
          "execution_count": 51
        }
      ]
    },
    {
      "cell_type": "code",
      "metadata": {
        "colab": {
          "base_uri": "https://localhost:8080/"
        },
        "id": "6TUoAYD2e3UN",
        "outputId": "fd696e54-7745-4413-9a34-826ba3544e9d"
      },
      "source": [
        "#probability of general-recipe logistic regression in wrong instances\n",
        "prob_classmax[y_pred_log != y_val]"
      ],
      "execution_count": 52,
      "outputs": [
        {
          "output_type": "execute_result",
          "data": {
            "text/plain": [
              "array([0.99744331, 0.52209112, 0.99966431, 0.8666663 , 0.97684871,\n",
              "       0.87104057, 0.99787408, 0.50650559, 0.98860721, 0.90920207,\n",
              "       0.99999999, 0.99473637, 0.78237063, 0.99333315, 0.98669041,\n",
              "       0.91248529, 0.88962188, 0.99922392, 1.        , 0.99998342,\n",
              "       0.82594381])"
            ]
          },
          "metadata": {},
          "execution_count": 52
        }
      ]
    },
    {
      "cell_type": "code",
      "metadata": {
        "colab": {
          "base_uri": "https://localhost:8080/"
        },
        "id": "MhmhqKWTeHTw",
        "outputId": "fe1e8b86-8243-49a4-b8cd-d87a4bea7861"
      },
      "source": [
        "y_predB[y_pred_log != y_val,:]"
      ],
      "execution_count": 53,
      "outputs": [
        {
          "output_type": "execute_result",
          "data": {
            "text/plain": [
              "array([[0.        , 0.52698053, 0.49888765],\n",
              "       [1.        , 0.85250253, 0.34698703],\n",
              "       [1.        , 0.98534671, 0.11469767],\n",
              "       [1.        , 0.69863482, 0.46249324],\n",
              "       [0.        , 0.78535913, 0.4       ],\n",
              "       [1.        , 0.98969604, 0.08137704],\n",
              "       [0.        , 0.78206896, 0.40247843],\n",
              "       [1.        , 0.84864724, 0.34349511],\n",
              "       [1.        , 0.89782004, 0.3       ],\n",
              "       [2.        , 0.76688035, 0.42083251],\n",
              "       [1.        , 0.94631468, 0.21794495],\n",
              "       [2.        , 0.34031855, 0.47370877],\n",
              "       [2.        , 0.45775841, 0.49781746],\n",
              "       [2.        , 0.9937162 , 0.05763872],\n",
              "       [1.        , 0.74557578, 0.42083251],\n",
              "       [1.        , 0.65534343, 0.47140452],\n",
              "       [1.        , 0.77674737, 0.41647996],\n",
              "       [1.        , 0.51235573, 0.5       ],\n",
              "       [2.        , 0.99999565, 0.        ],\n",
              "       [2.        , 0.5383361 , 0.49749372],\n",
              "       [0.        , 0.79486252, 0.39747816]])"
            ]
          },
          "metadata": {},
          "execution_count": 53
        }
      ]
    },
    {
      "cell_type": "code",
      "metadata": {
        "colab": {
          "base_uri": "https://localhost:8080/"
        },
        "id": "R7Uy8xvJeKrI",
        "outputId": "207be8dd-1368-43cc-9171-871406348add"
      },
      "source": [
        "## Difficult & easy instances\n",
        "\n",
        "easy = np.argsort(y_predB[:,2])\n",
        "print(\"Accuracy in easy instances =\", accuracy_score(y_pred_log[easy[0:100]], y_val[easy[0:100]]))\n",
        "\n",
        "difficult = np.argsort(-y_predB[:,2])\n",
        "print(\"Accuracy in difficult instances =\", accuracy_score(y_pred_log[difficult[0:100]], y_val[difficult[0:100]]))"
      ],
      "execution_count": 54,
      "outputs": [
        {
          "output_type": "stream",
          "name": "stdout",
          "text": [
            "Accuracy in easy instances = 1.0\n",
            "Accuracy in difficult instances = 0.85\n"
          ]
        }
      ]
    },
    {
      "cell_type": "code",
      "metadata": {
        "colab": {
          "base_uri": "https://localhost:8080/",
          "height": 357
        },
        "id": "6GOYYib0eN1_",
        "outputId": "c760b372-f09f-401f-e01a-e929c6dfabb8"
      },
      "source": [
        "# show 10 random 'easy' images\n",
        "fig, axs = plt.subplots(2,5, figsize=(15, 6))\n",
        "fig.subplots_adjust(hspace = .2, wspace=.001)\n",
        "axs = axs.ravel()\n",
        "\n",
        "for i in range(10):\n",
        "    index = easy[i]\n",
        "    image = X_val[index,:].reshape(28,28)\n",
        "    axs[i].axis('off')\n",
        "    axs[i].imshow(image,cmap=\"Greys_r\")"
      ],
      "execution_count": 55,
      "outputs": [
        {
          "output_type": "display_data",
          "data": {
            "image/png": "[encoded data removed]",
            "text/plain": [
              "<Figure size 1080x432 with 10 Axes>"
            ]
          },
          "metadata": {
            "needs_background": "light"
          }
        }
      ]
    },
    {
      "cell_type": "code",
      "metadata": {
        "colab": {
          "base_uri": "https://localhost:8080/",
          "height": 357
        },
        "id": "6c6OCH5NeRA_",
        "outputId": "74024881-ae9d-458d-d3a0-298f67babad2"
      },
      "source": [
        "# show 10 random 'difficult' images\n",
        "fig, axs = plt.subplots(2,5, figsize=(15, 6))\n",
        "fig.subplots_adjust(hspace = .2, wspace=.001)\n",
        "axs = axs.ravel()\n",
        "for i in range(10):\n",
        "    index = difficult[i]\n",
        "    image = X_val[index,:].reshape(28,28)\n",
        "    axs[i].axis('off')\n",
        "    axs[i].imshow(image,cmap=\"Greys_r\")"
      ],
      "execution_count": 56,
      "outputs": [
        {
          "output_type": "display_data",
          "data": {
            "image/png": "[encoded data removed]",
            "text/plain": [
              "<Figure size 1080x432 with 10 Axes>"
            ]
          },
          "metadata": {
            "needs_background": "light"
          }
        }
      ]
    },
    {
      "cell_type": "code",
      "metadata": {
        "id": "nEmSQizueUFn"
      },
      "source": [
        ""
      ],
      "execution_count": null,
      "outputs": []
    },
    {
      "cell_type": "markdown",
      "metadata": {
        "id": "NcshsLOGRPrk"
      },
      "source": [
        "## Summary"
      ]
    },
    {
      "cell_type": "markdown",
      "metadata": {
        "id": "XTc4pYKGRR60"
      },
      "source": [
        "Populate this section with all of your findings and comments fron the discussion with your peers."
      ]
    }
  ]
}